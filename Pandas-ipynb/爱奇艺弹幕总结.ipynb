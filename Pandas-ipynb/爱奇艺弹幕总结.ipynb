{
 "metadata": {
  "language_info": {
   "codemirror_mode": {
    "name": "ipython",
    "version": 3
   },
   "file_extension": ".py",
   "mimetype": "text/x-python",
   "name": "python",
   "nbconvert_exporter": "python",
   "pygments_lexer": "ipython3",
   "version": "3.7.0-final"
  },
  "orig_nbformat": 2,
  "kernelspec": {
   "name": "python3",
   "display_name": "Python 3"
  }
 },
 "nbformat": 4,
 "nbformat_minor": 2,
 "cells": [
  {
   "cell_type": "code",
   "execution_count": 59,
   "metadata": {},
   "outputs": [
    {
     "output_type": "execute_result",
     "data": {
      "text/plain": [
       "  episodes        name            contentId       content  showTime  likeCount\n",
       "0     第一集           普普  1592838562920007156       二刷的朋友有吗         1         12\n",
       "1     第一集   用户4ce9c103  1592308702474009744       良心啊，一小时         1         75\n",
       "2     第一集         未知用户  1592317555873002245          基本都好         1          9\n",
       "3     第一集         张东升   1593139392541001130        带你们去爬山         1          0\n",
       "4     第一集         未知用户  1593076745193007217  一集一小时第一次遇见不错         1          0"
      ],
      "text/html": "<div>\n<style scoped>\n    .dataframe tbody tr th:only-of-type {\n        vertical-align: middle;\n    }\n\n    .dataframe tbody tr th {\n        vertical-align: top;\n    }\n\n    .dataframe thead th {\n        text-align: right;\n    }\n</style>\n<table border=\"1\" class=\"dataframe\">\n  <thead>\n    <tr style=\"text-align: right;\">\n      <th></th>\n      <th>episodes</th>\n      <th>name</th>\n      <th>contentId</th>\n      <th>content</th>\n      <th>showTime</th>\n      <th>likeCount</th>\n    </tr>\n  </thead>\n  <tbody>\n    <tr>\n      <th>0</th>\n      <td>第一集</td>\n      <td>普普</td>\n      <td>1592838562920007156</td>\n      <td>二刷的朋友有吗</td>\n      <td>1</td>\n      <td>12</td>\n    </tr>\n    <tr>\n      <th>1</th>\n      <td>第一集</td>\n      <td>用户4ce9c103</td>\n      <td>1592308702474009744</td>\n      <td>良心啊，一小时</td>\n      <td>1</td>\n      <td>75</td>\n    </tr>\n    <tr>\n      <th>2</th>\n      <td>第一集</td>\n      <td>未知用户</td>\n      <td>1592317555873002245</td>\n      <td>基本都好</td>\n      <td>1</td>\n      <td>9</td>\n    </tr>\n    <tr>\n      <th>3</th>\n      <td>第一集</td>\n      <td>张东升</td>\n      <td>1593139392541001130</td>\n      <td>带你们去爬山</td>\n      <td>1</td>\n      <td>0</td>\n    </tr>\n    <tr>\n      <th>4</th>\n      <td>第一集</td>\n      <td>未知用户</td>\n      <td>1593076745193007217</td>\n      <td>一集一小时第一次遇见不错</td>\n      <td>1</td>\n      <td>0</td>\n    </tr>\n  </tbody>\n</table>\n</div>"
     },
     "metadata": {},
     "execution_count": 59
    }
   ],
   "source": [
    "import pandas as pd\n",
    "df = pd.read_csv('D:/Python/隐秘的角落/数据/df_第一集.csv',engine='python',encoding='utf-8',index_col=0)\n",
    "df.head()"
   ]
  },
  {
   "cell_type": "code",
   "execution_count": 60,
   "metadata": {},
   "outputs": [
    {
     "output_type": "execute_result",
     "data": {
      "text/plain": [
       "张东升     2183\n",
       "朱朝阳      916\n",
       "普普       598\n",
       "严良       287\n",
       "陈冠声      206\n",
       "周春红      102\n",
       "朱永平       75\n",
       "叶军        56\n",
       "Name: name, dtype: int64"
      ]
     },
     "metadata": {},
     "execution_count": 60
    }
   ],
   "source": [
    "df.name.value_counts()[1:9]#弹幕角色提及次数"
   ]
  },
  {
   "cell_type": "code",
   "execution_count": 61,
   "metadata": {},
   "outputs": [
    {
     "output_type": "execute_result",
     "data": {
      "text/plain": [
       "  episodes        name            contentId       content  showTime  \\\n",
       "0     第一集           普普  1592838562920007156       二刷的朋友有吗         1   \n",
       "1     第一集   用户4ce9c103  1592308702474009744       良心啊，一小时         1   \n",
       "2     第一集         未知用户  1592317555873002245          基本都好         1   \n",
       "3     第一集         张东升   1593139392541001130        带你们去爬山         1   \n",
       "4     第一集         未知用户  1593076745193007217  一集一小时第一次遇见不错         1   \n",
       "\n",
       "   likeCount  level  \n",
       "0         12  VIP用户  \n",
       "1         75   普通用户  \n",
       "2          9   未知用户  \n",
       "3          0  VIP用户  \n",
       "4          0   未知用户  "
      ],
      "text/html": "<div>\n<style scoped>\n    .dataframe tbody tr th:only-of-type {\n        vertical-align: middle;\n    }\n\n    .dataframe tbody tr th {\n        vertical-align: top;\n    }\n\n    .dataframe thead th {\n        text-align: right;\n    }\n</style>\n<table border=\"1\" class=\"dataframe\">\n  <thead>\n    <tr style=\"text-align: right;\">\n      <th></th>\n      <th>episodes</th>\n      <th>name</th>\n      <th>contentId</th>\n      <th>content</th>\n      <th>showTime</th>\n      <th>likeCount</th>\n      <th>level</th>\n    </tr>\n  </thead>\n  <tbody>\n    <tr>\n      <th>0</th>\n      <td>第一集</td>\n      <td>普普</td>\n      <td>1592838562920007156</td>\n      <td>二刷的朋友有吗</td>\n      <td>1</td>\n      <td>12</td>\n      <td>VIP用户</td>\n    </tr>\n    <tr>\n      <th>1</th>\n      <td>第一集</td>\n      <td>用户4ce9c103</td>\n      <td>1592308702474009744</td>\n      <td>良心啊，一小时</td>\n      <td>1</td>\n      <td>75</td>\n      <td>普通用户</td>\n    </tr>\n    <tr>\n      <th>2</th>\n      <td>第一集</td>\n      <td>未知用户</td>\n      <td>1592317555873002245</td>\n      <td>基本都好</td>\n      <td>1</td>\n      <td>9</td>\n      <td>未知用户</td>\n    </tr>\n    <tr>\n      <th>3</th>\n      <td>第一集</td>\n      <td>张东升</td>\n      <td>1593139392541001130</td>\n      <td>带你们去爬山</td>\n      <td>1</td>\n      <td>0</td>\n      <td>VIP用户</td>\n    </tr>\n    <tr>\n      <th>4</th>\n      <td>第一集</td>\n      <td>未知用户</td>\n      <td>1593076745193007217</td>\n      <td>一集一小时第一次遇见不错</td>\n      <td>1</td>\n      <td>0</td>\n      <td>未知用户</td>\n    </tr>\n  </tbody>\n</table>\n</div>"
     },
     "metadata": {},
     "execution_count": 61
    }
   ],
   "source": [
    "#用户等级打标\n",
    "def get_db(x):\n",
    "    if x == '普普' or x == '张东升' or x == '朱朝阳' or x == '严良' or x == '陈冠声' or x == '周春红' or x == '朱永平' or x == '叶军':\n",
    "        return 'VIP用户'\n",
    "    elif x == '未知用户':\n",
    "        return '未知用户'\n",
    "    else:\n",
    "        return '普通用户'\n",
    "df['level'] = df.name.str.strip().apply(get_db)#quchikongge\n",
    "df.head()"
   ]
  },
  {
   "cell_type": "code",
   "execution_count": 62,
   "metadata": {},
   "outputs": [
    {
     "output_type": "execute_result",
     "data": {
      "text/plain": [
       "未知用户     22816\n",
       "VIP用户     4423\n",
       "普通用户       268\n",
       "Name: level, dtype: int64"
      ]
     },
     "metadata": {},
     "execution_count": 62
    }
   ],
   "source": [
    "df.level.value_counts()#可以制作饼图"
   ]
  },
  {
   "cell_type": "code",
   "execution_count": 63,
   "metadata": {},
   "outputs": [
    {
     "output_type": "execute_result",
     "data": {
      "text/plain": [
       "7596"
      ]
     },
     "metadata": {},
     "execution_count": 63
    }
   ],
   "source": [
    "df.likeCount.max()"
   ]
  },
  {
   "cell_type": "code",
   "execution_count": 64,
   "metadata": {},
   "outputs": [
    {
     "output_type": "execute_result",
     "data": {
      "text/plain": [
       "0"
      ]
     },
     "metadata": {},
     "execution_count": 64
    }
   ],
   "source": [
    "df.likeCount.min()"
   ]
  },
  {
   "cell_type": "code",
   "execution_count": 65,
   "metadata": {},
   "outputs": [
    {
     "output_type": "execute_result",
     "data": {
      "text/plain": [
       "14.206965499690988"
      ]
     },
     "metadata": {},
     "execution_count": 65
    }
   ],
   "source": [
    "df.likeCount.mean()"
   ]
  },
  {
   "source": [
    "记得有个啥方法的，在哪看到的，现在忘记了，应该就是他写的！"
   ],
   "cell_type": "markdown",
   "metadata": {}
  },
  {
   "cell_type": "code",
   "execution_count": 66,
   "metadata": {},
   "outputs": [
    {
     "output_type": "execute_result",
     "data": {
      "text/plain": [
       "  episodes        name            contentId       content  showTime  \\\n",
       "0     第一集           普普  1592838562920007156       二刷的朋友有吗         1   \n",
       "1     第一集   用户4ce9c103  1592308702474009744       良心啊，一小时         1   \n",
       "2     第一集         未知用户  1592317555873002245          基本都好         1   \n",
       "3     第一集         张东升   1593139392541001130        带你们去爬山         1   \n",
       "4     第一集         未知用户  1593076745193007217  一集一小时第一次遇见不错         1   \n",
       "\n",
       "   likeCount  level  wz_count  \n",
       "0         12  VIP用户         7  \n",
       "1         75   普通用户         7  \n",
       "2          9   未知用户         4  \n",
       "3          0  VIP用户         6  \n",
       "4          0   未知用户        12  "
      ],
      "text/html": "<div>\n<style scoped>\n    .dataframe tbody tr th:only-of-type {\n        vertical-align: middle;\n    }\n\n    .dataframe tbody tr th {\n        vertical-align: top;\n    }\n\n    .dataframe thead th {\n        text-align: right;\n    }\n</style>\n<table border=\"1\" class=\"dataframe\">\n  <thead>\n    <tr style=\"text-align: right;\">\n      <th></th>\n      <th>episodes</th>\n      <th>name</th>\n      <th>contentId</th>\n      <th>content</th>\n      <th>showTime</th>\n      <th>likeCount</th>\n      <th>level</th>\n      <th>wz_count</th>\n    </tr>\n  </thead>\n  <tbody>\n    <tr>\n      <th>0</th>\n      <td>第一集</td>\n      <td>普普</td>\n      <td>1592838562920007156</td>\n      <td>二刷的朋友有吗</td>\n      <td>1</td>\n      <td>12</td>\n      <td>VIP用户</td>\n      <td>7</td>\n    </tr>\n    <tr>\n      <th>1</th>\n      <td>第一集</td>\n      <td>用户4ce9c103</td>\n      <td>1592308702474009744</td>\n      <td>良心啊，一小时</td>\n      <td>1</td>\n      <td>75</td>\n      <td>普通用户</td>\n      <td>7</td>\n    </tr>\n    <tr>\n      <th>2</th>\n      <td>第一集</td>\n      <td>未知用户</td>\n      <td>1592317555873002245</td>\n      <td>基本都好</td>\n      <td>1</td>\n      <td>9</td>\n      <td>未知用户</td>\n      <td>4</td>\n    </tr>\n    <tr>\n      <th>3</th>\n      <td>第一集</td>\n      <td>张东升</td>\n      <td>1593139392541001130</td>\n      <td>带你们去爬山</td>\n      <td>1</td>\n      <td>0</td>\n      <td>VIP用户</td>\n      <td>6</td>\n    </tr>\n    <tr>\n      <th>4</th>\n      <td>第一集</td>\n      <td>未知用户</td>\n      <td>1593076745193007217</td>\n      <td>一集一小时第一次遇见不错</td>\n      <td>1</td>\n      <td>0</td>\n      <td>未知用户</td>\n      <td>12</td>\n    </tr>\n  </tbody>\n</table>\n</div>"
     },
     "metadata": {},
     "execution_count": 66
    }
   ],
   "source": [
    "df['wz_count'] = [len(x) for x in df.content]#原谅是我想多了！\n",
    "df.head()"
   ]
  },
  {
   "cell_type": "code",
   "execution_count": 67,
   "metadata": {},
   "outputs": [
    {
     "output_type": "execute_result",
     "data": {
      "text/plain": [
       "80"
      ]
     },
     "metadata": {},
     "execution_count": 67
    }
   ],
   "source": [
    "df.wz_count.max()"
   ]
  },
  {
   "cell_type": "code",
   "execution_count": 68,
   "metadata": {},
   "outputs": [
    {
     "output_type": "execute_result",
     "data": {
      "text/plain": [
       "8    3406\n",
       "7    3387\n",
       "9    3225\n",
       "Name: wz_count, dtype: int64"
      ]
     },
     "metadata": {},
     "execution_count": 68
    }
   ],
   "source": [
    "df.wz_count.value_counts()[:3]"
   ]
  },
  {
   "cell_type": "code",
   "execution_count": 69,
   "metadata": {},
   "outputs": [
    {
     "output_type": "execute_result",
     "data": {
      "text/plain": [
       "(5, 10]      15923\n",
       "(10, 15]      6621\n",
       "(0, 5]        3290\n",
       "(15, 20]      1241\n",
       "(20, 30]       378\n",
       "(30, 50]        52\n",
       "(50, 100]        2\n",
       "Name: wz_count, dtype: int64"
      ]
     },
     "metadata": {},
     "execution_count": 69
    }
   ],
   "source": [
    "word = pd.cut(df.wz_count,bins=[0,5,10,15,20,30,50,100],include_lowest = False).value_counts()\n",
    "word"
   ]
  },
  {
   "cell_type": "code",
   "execution_count": 70,
   "metadata": {},
   "outputs": [],
   "source": [
    "# dict_e = {\n",
    "#     '第一集': '第一集_暑假'\n",
    "# }\n",
    "# df['episodes'] = df.episodes.str.strip().map(dict_e)\n",
    "# df.head()"
   ]
  },
  {
   "source": [
    "# 第二站"
   ],
   "cell_type": "markdown",
   "metadata": {}
  },
  {
   "cell_type": "code",
   "execution_count": 83,
   "metadata": {},
   "outputs": [
    {
     "output_type": "execute_result",
     "data": {
      "text/plain": [
       "   index_label tv_name         uid           contentsId   contents  likeCount\n",
       "0            0    第01集  1354611638  1592838562920007156    二刷的朋友有吗         19\n",
       "1            1    第01集  1290387715  1592308702474009744    良心啊，一小时         78\n",
       "2            2    第01集  1304178541  1592317555873002245       基本都好          9\n",
       "3            3    第01集  1791773843  1593139392541001130     带你们去爬山          2\n",
       "4            4    第01集  1581452867  1593150522156003497  这孩子演技很不错啊          0"
      ],
      "text/html": "<div>\n<style scoped>\n    .dataframe tbody tr th:only-of-type {\n        vertical-align: middle;\n    }\n\n    .dataframe tbody tr th {\n        vertical-align: top;\n    }\n\n    .dataframe thead th {\n        text-align: right;\n    }\n</style>\n<table border=\"1\" class=\"dataframe\">\n  <thead>\n    <tr style=\"text-align: right;\">\n      <th></th>\n      <th>index_label</th>\n      <th>tv_name</th>\n      <th>uid</th>\n      <th>contentsId</th>\n      <th>contents</th>\n      <th>likeCount</th>\n    </tr>\n  </thead>\n  <tbody>\n    <tr>\n      <th>0</th>\n      <td>0</td>\n      <td>第01集</td>\n      <td>1354611638</td>\n      <td>1592838562920007156</td>\n      <td>二刷的朋友有吗</td>\n      <td>19</td>\n    </tr>\n    <tr>\n      <th>1</th>\n      <td>1</td>\n      <td>第01集</td>\n      <td>1290387715</td>\n      <td>1592308702474009744</td>\n      <td>良心啊，一小时</td>\n      <td>78</td>\n    </tr>\n    <tr>\n      <th>2</th>\n      <td>2</td>\n      <td>第01集</td>\n      <td>1304178541</td>\n      <td>1592317555873002245</td>\n      <td>基本都好</td>\n      <td>9</td>\n    </tr>\n    <tr>\n      <th>3</th>\n      <td>3</td>\n      <td>第01集</td>\n      <td>1791773843</td>\n      <td>1593139392541001130</td>\n      <td>带你们去爬山</td>\n      <td>2</td>\n    </tr>\n    <tr>\n      <th>4</th>\n      <td>4</td>\n      <td>第01集</td>\n      <td>1581452867</td>\n      <td>1593150522156003497</td>\n      <td>这孩子演技很不错啊</td>\n      <td>0</td>\n    </tr>\n  </tbody>\n</table>\n</div>"
     },
     "metadata": {},
     "execution_count": 83
    }
   ],
   "source": [
    "df = pd.read_csv('D:/Python/Mypython/Python数据分析/隐秘的角落弹幕分析/danmu2.csv',header= 0,engine='python',encoding='utf-8-sig',sep=',')#这个格式就离谱\n",
    "df.head()"
   ]
  },
  {
   "cell_type": "code",
   "execution_count": 87,
   "metadata": {},
   "outputs": [
    {
     "output_type": "execute_result",
     "data": {
      "text/plain": [
       "1810351987    2561\n",
       "1319063154     146\n",
       "2244033948     131\n",
       "2407948956     106\n",
       "1488898523     104\n",
       "2743128464     101\n",
       "1399417612      97\n",
       "2336432131      95\n",
       "1310433370      85\n",
       "1358218626      85\n",
       "Name: uid, dtype: int64"
      ]
     },
     "metadata": {},
     "execution_count": 87
    }
   ],
   "source": [
    "#看看哪些用户弹幕发的最多\n",
    "df.uid.value_counts()[:10]#.shape"
   ]
  },
  {
   "cell_type": "code",
   "execution_count": 91,
   "metadata": {},
   "outputs": [
    {
     "output_type": "execute_result",
     "data": {
      "text/plain": [
       "dtype('int64')"
      ]
     },
     "metadata": {},
     "execution_count": 91
    }
   ],
   "source": [
    "df.uid.dtype"
   ]
  },
  {
   "cell_type": "code",
   "execution_count": 98,
   "metadata": {},
   "outputs": [
    {
     "output_type": "execute_result",
     "data": {
      "text/plain": [
       "       index_label tv_name         uid           contentsId      contents  \\\n",
       "48926        48926    第03集  1810351987  1592396281667005291    感觉晶晶有点自作自受   \n",
       "18370        18370    第01集  1810351987  1592310435456006922  真的不能忽视了，心理健康   \n",
       "48276        48276    第03集  1810351987  1592401371493007155    这样的晶晶真的太坏了   \n",
       "52807        52807    第03集  1810351987  1592398904483005951    善恶永远都在一瞬间的   \n",
       "97350        97350    第06集  1810351987  1592483605611004816    哈哈，姜还是老的辣呀   \n",
       "\n",
       "       likeCount  \n",
       "48926        125  \n",
       "18370         96  \n",
       "48276         94  \n",
       "52807         81  \n",
       "97350         81  "
      ],
      "text/html": "<div>\n<style scoped>\n    .dataframe tbody tr th:only-of-type {\n        vertical-align: middle;\n    }\n\n    .dataframe tbody tr th {\n        vertical-align: top;\n    }\n\n    .dataframe thead th {\n        text-align: right;\n    }\n</style>\n<table border=\"1\" class=\"dataframe\">\n  <thead>\n    <tr style=\"text-align: right;\">\n      <th></th>\n      <th>index_label</th>\n      <th>tv_name</th>\n      <th>uid</th>\n      <th>contentsId</th>\n      <th>contents</th>\n      <th>likeCount</th>\n    </tr>\n  </thead>\n  <tbody>\n    <tr>\n      <th>48926</th>\n      <td>48926</td>\n      <td>第03集</td>\n      <td>1810351987</td>\n      <td>1592396281667005291</td>\n      <td>感觉晶晶有点自作自受</td>\n      <td>125</td>\n    </tr>\n    <tr>\n      <th>18370</th>\n      <td>18370</td>\n      <td>第01集</td>\n      <td>1810351987</td>\n      <td>1592310435456006922</td>\n      <td>真的不能忽视了，心理健康</td>\n      <td>96</td>\n    </tr>\n    <tr>\n      <th>48276</th>\n      <td>48276</td>\n      <td>第03集</td>\n      <td>1810351987</td>\n      <td>1592401371493007155</td>\n      <td>这样的晶晶真的太坏了</td>\n      <td>94</td>\n    </tr>\n    <tr>\n      <th>52807</th>\n      <td>52807</td>\n      <td>第03集</td>\n      <td>1810351987</td>\n      <td>1592398904483005951</td>\n      <td>善恶永远都在一瞬间的</td>\n      <td>81</td>\n    </tr>\n    <tr>\n      <th>97350</th>\n      <td>97350</td>\n      <td>第06集</td>\n      <td>1810351987</td>\n      <td>1592483605611004816</td>\n      <td>哈哈，姜还是老的辣呀</td>\n      <td>81</td>\n    </tr>\n  </tbody>\n</table>\n</div>"
     },
     "metadata": {},
     "execution_count": 98
    }
   ],
   "source": [
    "#单独把这个b拿出来进行分析 统计它每一集发送弹幕的总次数\n",
    "df_p  = df[df.uid== 1810351987].sort_values('likeCount',ascending=False)\n",
    "df_p.head()"
   ]
  },
  {
   "cell_type": "code",
   "execution_count": 99,
   "metadata": {},
   "outputs": [
    {
     "output_type": "execute_result",
     "data": {
      "text/plain": [
       "1     365\n",
       "0     363\n",
       "2     307\n",
       "3     242\n",
       "4     210\n",
       "5     149\n",
       "6     121\n",
       "7     120\n",
       "8      92\n",
       "10     69\n",
       "Name: likeCount, dtype: int64"
      ]
     },
     "metadata": {},
     "execution_count": 99
    }
   ],
   "source": [
    "df_p.likeCount.value_counts()[:10]"
   ]
  },
  {
   "cell_type": "code",
   "execution_count": 100,
   "metadata": {},
   "outputs": [
    {
     "output_type": "execute_result",
     "data": {
      "text/plain": [
       "2561"
      ]
     },
     "metadata": {},
     "execution_count": 100
    }
   ],
   "source": [
    "df_p.shape[0]#发送弹幕总条数"
   ]
  },
  {
   "cell_type": "code",
   "execution_count": 107,
   "metadata": {},
   "outputs": [
    {
     "output_type": "execute_result",
     "data": {
      "text/plain": [
       "   tv_name  dm_count\n",
       "1     第01集       355\n",
       "0     第02集       359\n",
       "4     第03集       249\n",
       "3     第04集       273\n",
       "9     第05集       160\n",
       "7     第06集       176\n",
       "2     第07集       274\n",
       "6     第08集       194\n",
       "8     第09集       170\n",
       "5     第10集       233\n",
       "10    第11集        72\n",
       "11    第12集        46"
      ],
      "text/html": "<div>\n<style scoped>\n    .dataframe tbody tr th:only-of-type {\n        vertical-align: middle;\n    }\n\n    .dataframe tbody tr th {\n        vertical-align: top;\n    }\n\n    .dataframe thead th {\n        text-align: right;\n    }\n</style>\n<table border=\"1\" class=\"dataframe\">\n  <thead>\n    <tr style=\"text-align: right;\">\n      <th></th>\n      <th>tv_name</th>\n      <th>dm_count</th>\n    </tr>\n  </thead>\n  <tbody>\n    <tr>\n      <th>1</th>\n      <td>第01集</td>\n      <td>355</td>\n    </tr>\n    <tr>\n      <th>0</th>\n      <td>第02集</td>\n      <td>359</td>\n    </tr>\n    <tr>\n      <th>4</th>\n      <td>第03集</td>\n      <td>249</td>\n    </tr>\n    <tr>\n      <th>3</th>\n      <td>第04集</td>\n      <td>273</td>\n    </tr>\n    <tr>\n      <th>9</th>\n      <td>第05集</td>\n      <td>160</td>\n    </tr>\n    <tr>\n      <th>7</th>\n      <td>第06集</td>\n      <td>176</td>\n    </tr>\n    <tr>\n      <th>2</th>\n      <td>第07集</td>\n      <td>274</td>\n    </tr>\n    <tr>\n      <th>6</th>\n      <td>第08集</td>\n      <td>194</td>\n    </tr>\n    <tr>\n      <th>8</th>\n      <td>第09集</td>\n      <td>170</td>\n    </tr>\n    <tr>\n      <th>5</th>\n      <td>第10集</td>\n      <td>233</td>\n    </tr>\n    <tr>\n      <th>10</th>\n      <td>第11集</td>\n      <td>72</td>\n    </tr>\n    <tr>\n      <th>11</th>\n      <td>第12集</td>\n      <td>46</td>\n    </tr>\n  </tbody>\n</table>\n</div>"
     },
     "metadata": {},
     "execution_count": 107
    }
   ],
   "source": [
    "df_dm = df_p.tv_name.value_counts().reset_index()\n",
    "df_dm.columns = ['tv_name','dm_count']\n",
    "df_dm.sort_values('tv_name')"
   ]
  },
  {
   "cell_type": "code",
   "execution_count": 121,
   "metadata": {},
   "outputs": [
    {
     "output_type": "execute_result",
     "data": {
      "text/plain": [
       "tv_name\n",
       "第01集    355\n",
       "第02集    359\n",
       "第03集    249\n",
       "第04集    273\n",
       "第05集    160\n",
       "第06集    176\n",
       "第07集    274\n",
       "第08集    194\n",
       "第09集    170\n",
       "第10集    233\n",
       "第11集     72\n",
       "第12集     46\n",
       "Name: contents, dtype: int64"
      ]
     },
     "metadata": {},
     "execution_count": 121
    }
   ],
   "source": [
    "df_p.groupby('tv_name')['contents'].count()#分组自动按照tv_name进行排序了，这里这一种更优"
   ]
  },
  {
   "source": [
    "这些弹幕大家都认同？也就是点赞数最高的评论，即每一集中点赞数最高的！"
   ],
   "cell_type": "code",
   "metadata": {},
   "execution_count": null,
   "outputs": []
  },
  {
   "cell_type": "code",
   "execution_count": 130,
   "metadata": {},
   "outputs": [],
   "source": [
    "#df.groupby('tv_name')['likeCount'].rank(method='first',ascending=False)==True  最终就是一个bool值的判断，如果True，则返回对应的结果；False返回相反的结果"
   ]
  },
  {
   "cell_type": "code",
   "execution_count": 126,
   "metadata": {},
   "outputs": [
    {
     "output_type": "execute_result",
     "data": {
      "text/plain": [
       "   tv_name                          contents  likeCount\n",
       "0     第01集                    秦昊：爬山吗？一秒下山的那种       8305\n",
       "1     第02集                         喊一句你大爷的试试       8889\n",
       "2     第03集                       快吗？我待会还要收尸耶       8526\n",
       "3     第04集                              好秃然啊       8451\n",
       "4     第05集                          她才6岁就这么坏       8472\n",
       "5     第06集                      我还有机会嘛＝你还想活嘛       7452\n",
       "6     第07集                        爸爸觉得老师有问题？       3387\n",
       "7     第08集  哈哈哈哈哈哈，气势汹汹，回首掏，板砖一收，走位走位，看不见看不见       5601\n",
       "8     第09集                     升哥你也敢打，分分钟干死你       4533\n",
       "9     第10集                       妈，我怕实话实说吓死你       4521\n",
       "10    第11集                          女人的直觉太准了       3097\n",
       "11    第12集                 我东哥：我假发一拿你们会更不习惯😏       6174"
      ],
      "text/html": "<div>\n<style scoped>\n    .dataframe tbody tr th:only-of-type {\n        vertical-align: middle;\n    }\n\n    .dataframe tbody tr th {\n        vertical-align: top;\n    }\n\n    .dataframe thead th {\n        text-align: right;\n    }\n</style>\n<table border=\"1\" class=\"dataframe\">\n  <thead>\n    <tr style=\"text-align: right;\">\n      <th></th>\n      <th>tv_name</th>\n      <th>contents</th>\n      <th>likeCount</th>\n    </tr>\n  </thead>\n  <tbody>\n    <tr>\n      <th>0</th>\n      <td>第01集</td>\n      <td>秦昊：爬山吗？一秒下山的那种</td>\n      <td>8305</td>\n    </tr>\n    <tr>\n      <th>1</th>\n      <td>第02集</td>\n      <td>喊一句你大爷的试试</td>\n      <td>8889</td>\n    </tr>\n    <tr>\n      <th>2</th>\n      <td>第03集</td>\n      <td>快吗？我待会还要收尸耶</td>\n      <td>8526</td>\n    </tr>\n    <tr>\n      <th>3</th>\n      <td>第04集</td>\n      <td>好秃然啊</td>\n      <td>8451</td>\n    </tr>\n    <tr>\n      <th>4</th>\n      <td>第05集</td>\n      <td>她才6岁就这么坏</td>\n      <td>8472</td>\n    </tr>\n    <tr>\n      <th>5</th>\n      <td>第06集</td>\n      <td>我还有机会嘛＝你还想活嘛</td>\n      <td>7452</td>\n    </tr>\n    <tr>\n      <th>6</th>\n      <td>第07集</td>\n      <td>爸爸觉得老师有问题？</td>\n      <td>3387</td>\n    </tr>\n    <tr>\n      <th>7</th>\n      <td>第08集</td>\n      <td>哈哈哈哈哈哈，气势汹汹，回首掏，板砖一收，走位走位，看不见看不见</td>\n      <td>5601</td>\n    </tr>\n    <tr>\n      <th>8</th>\n      <td>第09集</td>\n      <td>升哥你也敢打，分分钟干死你</td>\n      <td>4533</td>\n    </tr>\n    <tr>\n      <th>9</th>\n      <td>第10集</td>\n      <td>妈，我怕实话实说吓死你</td>\n      <td>4521</td>\n    </tr>\n    <tr>\n      <th>10</th>\n      <td>第11集</td>\n      <td>女人的直觉太准了</td>\n      <td>3097</td>\n    </tr>\n    <tr>\n      <th>11</th>\n      <td>第12集</td>\n      <td>我东哥：我假发一拿你们会更不习惯😏</td>\n      <td>6174</td>\n    </tr>\n  </tbody>\n</table>\n</div>"
     },
     "metadata": {},
     "execution_count": 126
    }
   ],
   "source": [
    "df[df.groupby('tv_name')['likeCount'].rank(method='first',ascending=False)==1].reset_index()[['tv_name','contents','likeCount']]"
   ]
  },
  {
   "cell_type": "code",
   "execution_count": 131,
   "metadata": {},
   "outputs": [
    {
     "output_type": "execute_result",
     "data": {
      "text/plain": [
       "tv_name\n",
       "第01集    8305\n",
       "第02集    8889\n",
       "第03集    8526\n",
       "第04集    8451\n",
       "第05集    8472\n",
       "第06集    7452\n",
       "第07集    3387\n",
       "第08集    5601\n",
       "第09集    4533\n",
       "第10集    4521\n",
       "第11集    3097\n",
       "第12集    6174\n",
       "Name: likeCount, dtype: int64"
      ]
     },
     "metadata": {},
     "execution_count": 131
    }
   ],
   "source": [
    "df.groupby('tv_name')['likeCount'].max()#这上面写了一大堆还不如用我这个max直接解决！"
   ]
  },
  {
   "cell_type": "code",
   "execution_count": null,
   "metadata": {},
   "outputs": [],
   "source": []
  },
  {
   "cell_type": "code",
   "execution_count": 190,
   "metadata": {
    "tags": []
   },
   "outputs": [
    {
     "output_type": "stream",
     "name": "stdout",
     "text": [
      "马主任       2\n朱朝阳      22\n叶军       47\n徐静       99\n叶驰敏     125\n朱永平     153\n周春红     583\n朱晶晶     818\n王瑶     1462\n陈冠声    1942\n严良     5075\n普普     5188\n张东升    5734\ndtype: int64\n"
     ]
    }
   ],
   "source": [
    "#制作弹幕评论关键词，进行弹幕主角提及次数\n",
    "a = {'张东升':'东升|秦昊|张老师', \n",
    "     '朱朝阳':'朝阳', \n",
    "     '严良':'严良', \n",
    "     '普普':'普普', \n",
    "     '朱永平':'朱永平', \n",
    "     '周春红':'春红|大娘子', \n",
    "     '王瑶':'王瑶', \n",
    "     '徐静':'徐静|黄米依', \n",
    "     '陈冠声':'王景春|老陈|陈冠声', \n",
    "     '叶军':'叶军|皮卡皮卡', \n",
    "     '马主任':'主任|老马', \n",
    "     '朱晶晶':'晶晶',\n",
    "     '叶驰敏':'叶驰敏'}\n",
    "# count = 0\n",
    "# for i in df.contents:\n",
    "#     if '东升' or '秦昊' or '张老师' in i:#这一句写法就没达到效果，应该用正则匹配\n",
    "#         count += 1\n",
    "# print(count)#结果并未达到预期，说明有问题\n",
    "#b = []\n",
    "for key,value in a.items():\n",
    "    df[key] = df.contents.str.contains(value)\n",
    "#     c = {key:df.loc[df[key]==True, 'contentsId'].count() for key in a.keys()}\n",
    "#     b = pd.Series({key:df.loc[df[key]==True, 'contentsId'].count() for key in a.keys()})\n",
    "#     # Can only append a Series if ignore_index=True or if the Series has a name\n",
    "# c\n",
    "    staff_count = pd.Series({key: df.loc[df[key]==True, 'contentsId'].count() for key in a.keys()}).sort_values()#标记一下！先在里面内循环将所有键值对全部输出然后再以Series数组形式进行打印 要学会这种写法！以后都使用\n",
    "print(staff_count)\n",
    "# df.head(100)"
   ]
  },
  {
   "cell_type": "code",
   "execution_count": 193,
   "metadata": {},
   "outputs": [
    {
     "output_type": "execute_result",
     "data": {
      "text/plain": [
       "45                    为了秦昊二刷\n",
       "124                  为秦昊老师来的\n",
       "131                   来啦来啦秦昊\n",
       "141                我丢，我贼喜欢秦昊\n",
       "150               秦昊的作品不容错过呀\n",
       "162                 秦昊喊你去爬山了\n",
       "169               为了秦昊来的演技牛叉\n",
       "185                  喜欢秦昊实力派\n",
       "187                   我就叫张东升\n",
       "197                 其实秦昊演技很好\n",
       "204                有秦昊的都是好片子\n",
       "238                    秦昊太棒了\n",
       "254                  我来看秦昊的啦\n",
       "266               没想到秦昊演技如此强\n",
       "268               近几年秦昊的剧不错呢\n",
       "301                 我爱秦昊！！！！\n",
       "329          秦昊在《无证之罪》里面就叫严良\n",
       "382                 秦昊演技真的好哎\n",
       "384              秦昊这形象太斯文败类了\n",
       "389                   秦昊棒棒哒！\n",
       "393                 秦昊，你被逮捕了\n",
       "396              秦昊的吴邪真的演得很好\n",
       "408                秦昊果然适合演坏人\n",
       "422               秦昊这个形象太符合了\n",
       "424                 秦昊的白衬衣好帅\n",
       "447               秦昊现在专拍这种戏啊\n",
       "450               秦昊的剧，必须要支持\n",
       "451                 秦昊的演技赞赞赞\n",
       "481                    为秦昊而来\n",
       "484                    秦昊真的帅\n",
       "                 ...        \n",
       "200827              这歌是秦昊唱的吗\n",
       "200830               张老师唱得好听\n",
       "200834              突然超喜欢张老师\n",
       "200841       建议加入张东升的童年经历会更好\n",
       "200871              第一次看秦昊的剧\n",
       "200883           张东升说朱可以相信童话\n",
       "200903      最后这首片尾曲是张老师和普普唱的\n",
       "200960            想让张东升过他的生活\n",
       "201031              还是活成了张东升\n",
       "201039               秦昊演技太棒了\n",
       "201046             张老师是相信童话的\n",
       "201085               秦昊演技太好了\n",
       "201086          不可多得的好作品支持秦昊\n",
       "201111               忽然很喜欢秦昊\n",
       "201149                 喜欢张老师\n",
       "201171       秦昊演反派人都恨不起来，他太好\n",
       "201204           秦昊的表情控制太到位了\n",
       "201231               彻底粉上秦昊了\n",
       "201272              秦昊演的加分作品\n",
       "201275                  秦昊很棒\n",
       "201358            这部剧就好喜欢张老师\n",
       "201364            秦昊圈粉一波演技炸了\n",
       "201424           秦昊演的好，小朱也不错\n",
       "201448                  秦昊厉害\n",
       "201577            张东升确实是个狠人！\n",
       "201585           张东升居然还没有被抓呢\n",
       "201586            张老师已经被击毙了啊\n",
       "201623            张老师已经被击毙了啊\n",
       "201717            对秦昊有了全新的认识\n",
       "201853    这样看起来张东升就像个普通的老师一样\n",
       "Name: contents, Length: 5734, dtype: object"
      ]
     },
     "metadata": {},
     "execution_count": 193
    }
   ],
   "source": [
    "# value = '东升' or '秦昊' or '张老师'\n",
    "dm = df[df.contents.str.contains(value)]['contents']\n",
    "dm"
   ]
  },
  {
   "cell_type": "code",
   "execution_count": 166,
   "metadata": {},
   "outputs": [
    {
     "output_type": "execute_result",
     "data": {
      "text/plain": [
       "1    2\n",
       "2    2\n",
       "dtype: int64"
      ]
     },
     "metadata": {},
     "execution_count": 166
    }
   ],
   "source": [
    "pd.Series({'1':2,'2':2})#在这里我们把1叫做key key: "
   ]
  },
  {
   "cell_type": "code",
   "execution_count": 165,
   "metadata": {},
   "outputs": [
    {
     "output_type": "execute_result",
     "data": {
      "text/plain": [
       "dict_keys(['张东升', '朱朝阳', '严良', '普普', '朱永平', '周春红', '王瑶', '徐静', '陈冠声', '叶军', '马主任', '朱晶晶', '叶驰敏'])"
      ]
     },
     "metadata": {},
     "execution_count": 165
    }
   ],
   "source": [
    "a.keys()"
   ]
  },
  {
   "cell_type": "code",
   "execution_count": 150,
   "metadata": {},
   "outputs": [
    {
     "output_type": "execute_result",
     "data": {
      "text/plain": [
       "(201865, 6)"
      ]
     },
     "metadata": {},
     "execution_count": 150
    }
   ],
   "source": [
    "df.shape"
   ]
  },
  {
   "cell_type": "code",
   "execution_count": null,
   "metadata": {},
   "outputs": [],
   "source": []
  }
 ]
}