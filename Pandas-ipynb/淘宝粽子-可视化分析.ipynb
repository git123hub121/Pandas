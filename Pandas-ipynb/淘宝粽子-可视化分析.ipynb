{
 "metadata": {
  "language_info": {
   "codemirror_mode": {
    "name": "ipython",
    "version": 3
   },
   "file_extension": ".py",
   "mimetype": "text/x-python",
   "name": "python",
   "nbconvert_exporter": "python",
   "pygments_lexer": "ipython3",
   "version": "3.7.0-final"
  },
  "orig_nbformat": 2,
  "kernelspec": {
   "name": "python3",
   "display_name": "Python 3",
   "language": "python"
  }
 },
 "nbformat": 4,
 "nbformat_minor": 2,
 "cells": [
  {
   "source": [
    "# 淘宝粽子——可视化分析"
   ],
   "cell_type": "markdown",
   "metadata": {}
  },
  {
   "source": [
    "## 1.导入模块，读取数据，分析数据，观察数据基本信息，处理缺省值"
   ],
   "cell_type": "markdown",
   "metadata": {}
  },
  {
   "cell_type": "code",
   "execution_count": 1,
   "metadata": {},
   "outputs": [
    {
     "output_type": "display_data",
     "data": {
      "text/html": "        <script type=\"text/javascript\">\n        window.PlotlyConfig = {MathJaxConfig: 'local'};\n        if (window.MathJax) {MathJax.Hub.Config({SVG: {font: \"STIX-Web\"}});}\n        if (typeof require !== 'undefined') {\n        require.undef(\"plotly\");\n        requirejs.config({\n            paths: {\n                'plotly': ['https://cdn.plot.ly/plotly-latest.min']\n            }\n        });\n        require(['plotly'], function(Plotly) {\n            window._Plotly = Plotly;\n        });\n        }\n        </script>\n        "
     },
     "metadata": {}
    }
   ],
   "source": [
    "import pandas as pd\n",
    "import numpy as np\n",
    "import cufflinks as cf\n",
    "import re\n",
    "import os\n",
    "from pyecharts.charts import *\n",
    "from pyecharts import options as opts\n",
    "from pyecharts.globals import ThemeType\n",
    "from pyecharts.globals import SymbolType"
   ]
  },
  {
   "cell_type": "code",
   "execution_count": 2,
   "metadata": {},
   "outputs": [
    {
     "output_type": "execute_result",
     "data": {
      "text/plain": [
       "                                name  price      ppay             shop  \\\n",
       "0  北京稻香村端午粽子手工豆沙粽220g*2袋散装豆沙粽香甜软糯豆沙粽   44.0      8人付款             天猫超市   \n",
       "1     五芳斋粽子礼盒装鲜肉咸蛋黄大肉粽嘉兴豆沙甜粽端午团购散装礼品   89.9  100万+人付款         五芳斋官方旗舰店   \n",
       "2     稻香私房鲜肉粽蛋黄肉粽嘉兴粽子咸鸭蛋礼盒装端午节送礼特产团购  138.0   1936人付款         稻香村食品旗舰店   \n",
       "3     嘉兴粽子 蛋黄鲜肉粽新鲜大肉粽早餐散装团购浙江特产蜜枣多口味    3.8  9500+人付款            城城喂食猫   \n",
       "4       嘉兴特产粽子礼盒装甜咸粽8粽4味真空手工农家粽端午节团购   58.8     17人付款  chenyan30151467   \n",
       "\n",
       "  province-city  \n",
       "0            上海  \n",
       "1         浙江 嘉兴  \n",
       "2            北京  \n",
       "3         浙江 嘉兴  \n",
       "4         浙江 嘉兴  "
      ],
      "text/html": "<div>\n<style scoped>\n    .dataframe tbody tr th:only-of-type {\n        vertical-align: middle;\n    }\n\n    .dataframe tbody tr th {\n        vertical-align: top;\n    }\n\n    .dataframe thead th {\n        text-align: right;\n    }\n</style>\n<table border=\"1\" class=\"dataframe\">\n  <thead>\n    <tr style=\"text-align: right;\">\n      <th></th>\n      <th>name</th>\n      <th>price</th>\n      <th>ppay</th>\n      <th>shop</th>\n      <th>province-city</th>\n    </tr>\n  </thead>\n  <tbody>\n    <tr>\n      <th>0</th>\n      <td>北京稻香村端午粽子手工豆沙粽220g*2袋散装豆沙粽香甜软糯豆沙粽</td>\n      <td>44.0</td>\n      <td>8人付款</td>\n      <td>天猫超市</td>\n      <td>上海</td>\n    </tr>\n    <tr>\n      <th>1</th>\n      <td>五芳斋粽子礼盒装鲜肉咸蛋黄大肉粽嘉兴豆沙甜粽端午团购散装礼品</td>\n      <td>89.9</td>\n      <td>100万+人付款</td>\n      <td>五芳斋官方旗舰店</td>\n      <td>浙江 嘉兴</td>\n    </tr>\n    <tr>\n      <th>2</th>\n      <td>稻香私房鲜肉粽蛋黄肉粽嘉兴粽子咸鸭蛋礼盒装端午节送礼特产团购</td>\n      <td>138.0</td>\n      <td>1936人付款</td>\n      <td>稻香村食品旗舰店</td>\n      <td>北京</td>\n    </tr>\n    <tr>\n      <th>3</th>\n      <td>嘉兴粽子 蛋黄鲜肉粽新鲜大肉粽早餐散装团购浙江特产蜜枣多口味</td>\n      <td>3.8</td>\n      <td>9500+人付款</td>\n      <td>城城喂食猫</td>\n      <td>浙江 嘉兴</td>\n    </tr>\n    <tr>\n      <th>4</th>\n      <td>嘉兴特产粽子礼盒装甜咸粽8粽4味真空手工农家粽端午节团购</td>\n      <td>58.8</td>\n      <td>17人付款</td>\n      <td>chenyan30151467</td>\n      <td>浙江 嘉兴</td>\n    </tr>\n  </tbody>\n</table>\n</div>"
     },
     "metadata": {},
     "execution_count": 2
    }
   ],
   "source": [
    "df = pd.read_csv('zongzi.csv',header=0,names=['name','price','ppay','shop','province-city'])\n",
    "df.head()"
   ]
  },
  {
   "cell_type": "code",
   "execution_count": 3,
   "metadata": {},
   "outputs": [
    {
     "output_type": "stream",
     "name": "stdout",
     "text": [
      "<class 'pandas.core.frame.DataFrame'>\nRangeIndex: 4402 entries, 0 to 4401\nData columns (total 5 columns):\n #   Column         Non-Null Count  Dtype  \n---  ------         --------------  -----  \n 0   name           4402 non-null   object \n 1   price          4402 non-null   float64\n 2   ppay           4331 non-null   object \n 3   shop           4402 non-null   object \n 4   province-city  4399 non-null   object \ndtypes: float64(1), object(4)\nmemory usage: 172.1+ KB\n"
     ]
    }
   ],
   "source": [
    "df.info()"
   ]
  },
  {
   "source": [
    "观察发现，付款人数、省份城市有数据缺失，原因是没有数据，其中省份城市还需要对其进行省份和城市的分离，方便TGI指数维度,并且也可以删除；付款人数缺省原因应该是0人付款或者没有，故可以删除"
   ],
   "cell_type": "markdown",
   "metadata": {}
  },
  {
   "source": [
    "删除缺省值"
   ],
   "cell_type": "markdown",
   "metadata": {}
  },
  {
   "cell_type": "code",
   "execution_count": 4,
   "metadata": {},
   "outputs": [
    {
     "output_type": "execute_result",
     "data": {
      "text/plain": [
       "                                  name  price ppay   shop province-city\n",
       "182  五芳斋 140g*8只大粽子 福韵端午豆沙蜜枣蛋黄粽新包装送礼礼盒   50.9  NaN  天猫会员店            上海\n",
       "242          五芳斋福雅五芳粽子礼盒端午咸甜粽子绿豆糕咸鸭蛋送礼   79.9  NaN  天猫会员店            上海\n",
       "346        【百草味】龙腾粽1090g 早餐大肉粽子湖州特产嘉兴粽   39.9  NaN  天猫会员店            上海\n",
       "385       五芳斋华礼竹篮礼盒1360g蛋粽组合端午礼品嘉兴粽子礼盒  129.0  NaN  天猫会员店            上海\n",
       "388    百草味 龙腾粽礼盒1460g 10只装早餐大肉粽子湖州特产嘉兴   49.9  NaN  天猫会员店            上海"
      ],
      "text/html": "<div>\n<style scoped>\n    .dataframe tbody tr th:only-of-type {\n        vertical-align: middle;\n    }\n\n    .dataframe tbody tr th {\n        vertical-align: top;\n    }\n\n    .dataframe thead th {\n        text-align: right;\n    }\n</style>\n<table border=\"1\" class=\"dataframe\">\n  <thead>\n    <tr style=\"text-align: right;\">\n      <th></th>\n      <th>name</th>\n      <th>price</th>\n      <th>ppay</th>\n      <th>shop</th>\n      <th>province-city</th>\n    </tr>\n  </thead>\n  <tbody>\n    <tr>\n      <th>182</th>\n      <td>五芳斋 140g*8只大粽子 福韵端午豆沙蜜枣蛋黄粽新包装送礼礼盒</td>\n      <td>50.9</td>\n      <td>NaN</td>\n      <td>天猫会员店</td>\n      <td>上海</td>\n    </tr>\n    <tr>\n      <th>242</th>\n      <td>五芳斋福雅五芳粽子礼盒端午咸甜粽子绿豆糕咸鸭蛋送礼</td>\n      <td>79.9</td>\n      <td>NaN</td>\n      <td>天猫会员店</td>\n      <td>上海</td>\n    </tr>\n    <tr>\n      <th>346</th>\n      <td>【百草味】龙腾粽1090g 早餐大肉粽子湖州特产嘉兴粽</td>\n      <td>39.9</td>\n      <td>NaN</td>\n      <td>天猫会员店</td>\n      <td>上海</td>\n    </tr>\n    <tr>\n      <th>385</th>\n      <td>五芳斋华礼竹篮礼盒1360g蛋粽组合端午礼品嘉兴粽子礼盒</td>\n      <td>129.0</td>\n      <td>NaN</td>\n      <td>天猫会员店</td>\n      <td>上海</td>\n    </tr>\n    <tr>\n      <th>388</th>\n      <td>百草味 龙腾粽礼盒1460g 10只装早餐大肉粽子湖州特产嘉兴</td>\n      <td>49.9</td>\n      <td>NaN</td>\n      <td>天猫会员店</td>\n      <td>上海</td>\n    </tr>\n  </tbody>\n</table>\n</div>"
     },
     "metadata": {},
     "execution_count": 4
    }
   ],
   "source": [
    "df[df.ppay.isnull()].head()#.shape (71, 5) 一共有71行缺省 "
   ]
  },
  {
   "cell_type": "code",
   "execution_count": 5,
   "metadata": {},
   "outputs": [],
   "source": [
    "#删除NaN值\n",
    "df.dropna(inplace=True)#.info()"
   ]
  },
  {
   "cell_type": "code",
   "execution_count": 6,
   "metadata": {},
   "outputs": [],
   "source": [
    "#进一步删除0人付款\n",
    "df = df[~df.ppay.isin(['0人付款'])]"
   ]
  },
  {
   "cell_type": "code",
   "execution_count": 7,
   "metadata": {},
   "outputs": [
    {
     "output_type": "stream",
     "name": "stdout",
     "text": [
      "<class 'pandas.core.frame.DataFrame'>\nInt64Index: 4322 entries, 0 to 4401\nData columns (total 5 columns):\n #   Column         Non-Null Count  Dtype  \n---  ------         --------------  -----  \n 0   name           4322 non-null   object \n 1   price          4322 non-null   float64\n 2   ppay           4322 non-null   object \n 3   shop           4322 non-null   object \n 4   province-city  4322 non-null   object \ndtypes: float64(1), object(4)\nmemory usage: 202.6+ KB\n"
     ]
    }
   ],
   "source": [
    "df.info()"
   ]
  },
  {
   "source": [
    "## 2.对初始数据进行进一步整理"
   ],
   "cell_type": "markdown",
   "metadata": {}
  },
  {
   "cell_type": "code",
   "execution_count": 8,
   "metadata": {},
   "outputs": [
    {
     "output_type": "execute_result",
     "data": {
      "text/plain": [
       "                                name  price      ppay             shop  \\\n",
       "0  北京稻香村端午粽子手工豆沙粽220g*2袋散装豆沙粽香甜软糯豆沙粽   44.0      8人付款             天猫超市   \n",
       "1     五芳斋粽子礼盒装鲜肉咸蛋黄大肉粽嘉兴豆沙甜粽端午团购散装礼品   89.9  100万+人付款         五芳斋官方旗舰店   \n",
       "2     稻香私房鲜肉粽蛋黄肉粽嘉兴粽子咸鸭蛋礼盒装端午节送礼特产团购  138.0   1936人付款         稻香村食品旗舰店   \n",
       "3     嘉兴粽子 蛋黄鲜肉粽新鲜大肉粽早餐散装团购浙江特产蜜枣多口味    3.8  9500+人付款            城城喂食猫   \n",
       "4       嘉兴特产粽子礼盒装甜咸粽8粽4味真空手工农家粽端午节团购   58.8     17人付款  chenyan30151467   \n",
       "\n",
       "  province-city  \n",
       "0            上海  \n",
       "1         浙江 嘉兴  \n",
       "2            北京  \n",
       "3         浙江 嘉兴  \n",
       "4         浙江 嘉兴  "
      ],
      "text/html": "<div>\n<style scoped>\n    .dataframe tbody tr th:only-of-type {\n        vertical-align: middle;\n    }\n\n    .dataframe tbody tr th {\n        vertical-align: top;\n    }\n\n    .dataframe thead th {\n        text-align: right;\n    }\n</style>\n<table border=\"1\" class=\"dataframe\">\n  <thead>\n    <tr style=\"text-align: right;\">\n      <th></th>\n      <th>name</th>\n      <th>price</th>\n      <th>ppay</th>\n      <th>shop</th>\n      <th>province-city</th>\n    </tr>\n  </thead>\n  <tbody>\n    <tr>\n      <th>0</th>\n      <td>北京稻香村端午粽子手工豆沙粽220g*2袋散装豆沙粽香甜软糯豆沙粽</td>\n      <td>44.0</td>\n      <td>8人付款</td>\n      <td>天猫超市</td>\n      <td>上海</td>\n    </tr>\n    <tr>\n      <th>1</th>\n      <td>五芳斋粽子礼盒装鲜肉咸蛋黄大肉粽嘉兴豆沙甜粽端午团购散装礼品</td>\n      <td>89.9</td>\n      <td>100万+人付款</td>\n      <td>五芳斋官方旗舰店</td>\n      <td>浙江 嘉兴</td>\n    </tr>\n    <tr>\n      <th>2</th>\n      <td>稻香私房鲜肉粽蛋黄肉粽嘉兴粽子咸鸭蛋礼盒装端午节送礼特产团购</td>\n      <td>138.0</td>\n      <td>1936人付款</td>\n      <td>稻香村食品旗舰店</td>\n      <td>北京</td>\n    </tr>\n    <tr>\n      <th>3</th>\n      <td>嘉兴粽子 蛋黄鲜肉粽新鲜大肉粽早餐散装团购浙江特产蜜枣多口味</td>\n      <td>3.8</td>\n      <td>9500+人付款</td>\n      <td>城城喂食猫</td>\n      <td>浙江 嘉兴</td>\n    </tr>\n    <tr>\n      <th>4</th>\n      <td>嘉兴特产粽子礼盒装甜咸粽8粽4味真空手工农家粽端午节团购</td>\n      <td>58.8</td>\n      <td>17人付款</td>\n      <td>chenyan30151467</td>\n      <td>浙江 嘉兴</td>\n    </tr>\n  </tbody>\n</table>\n</div>"
     },
     "metadata": {},
     "execution_count": 8
    }
   ],
   "source": [
    "df.head()"
   ]
  },
  {
   "cell_type": "code",
   "execution_count": 9,
   "metadata": {},
   "outputs": [
    {
     "output_type": "execute_result",
     "data": {
      "text/plain": [
       "dtype('O')"
      ]
     },
     "metadata": {},
     "execution_count": 9
    }
   ],
   "source": [
    "df.ppay.dtype#字符串类型"
   ]
  },
  {
   "cell_type": "code",
   "execution_count": 10,
   "metadata": {},
   "outputs": [],
   "source": [
    "#对ppay进行str处理 突然忘记re表达式了\n",
    "df.ppay = df.ppay.str.replace('人付款','')#\n",
    "df.ppay = df.ppay.str.replace('+','')\n",
    "#df.ppay = df.ppay.replace({'人付款':'','+':''})不行？\n",
    "#df.ppay = df.ppay.str.replace(['人付款','+'],'')不行"
   ]
  },
  {
   "cell_type": "code",
   "execution_count": 11,
   "metadata": {},
   "outputs": [
    {
     "output_type": "execute_result",
     "data": {
      "text/plain": [
       "                                name  price       ppay             shop  \\\n",
       "0  北京稻香村端午粽子手工豆沙粽220g*2袋散装豆沙粽香甜软糯豆沙粽   44.0        8.0             天猫超市   \n",
       "1     五芳斋粽子礼盒装鲜肉咸蛋黄大肉粽嘉兴豆沙甜粽端午团购散装礼品   89.9  1000000.0         五芳斋官方旗舰店   \n",
       "2     稻香私房鲜肉粽蛋黄肉粽嘉兴粽子咸鸭蛋礼盒装端午节送礼特产团购  138.0     1936.0         稻香村食品旗舰店   \n",
       "3     嘉兴粽子 蛋黄鲜肉粽新鲜大肉粽早餐散装团购浙江特产蜜枣多口味    3.8     9500.0            城城喂食猫   \n",
       "4       嘉兴特产粽子礼盒装甜咸粽8粽4味真空手工农家粽端午节团购   58.8       17.0  chenyan30151467   \n",
       "\n",
       "  province-city  \n",
       "0            上海  \n",
       "1         浙江 嘉兴  \n",
       "2            北京  \n",
       "3         浙江 嘉兴  \n",
       "4         浙江 嘉兴  "
      ],
      "text/html": "<div>\n<style scoped>\n    .dataframe tbody tr th:only-of-type {\n        vertical-align: middle;\n    }\n\n    .dataframe tbody tr th {\n        vertical-align: top;\n    }\n\n    .dataframe thead th {\n        text-align: right;\n    }\n</style>\n<table border=\"1\" class=\"dataframe\">\n  <thead>\n    <tr style=\"text-align: right;\">\n      <th></th>\n      <th>name</th>\n      <th>price</th>\n      <th>ppay</th>\n      <th>shop</th>\n      <th>province-city</th>\n    </tr>\n  </thead>\n  <tbody>\n    <tr>\n      <th>0</th>\n      <td>北京稻香村端午粽子手工豆沙粽220g*2袋散装豆沙粽香甜软糯豆沙粽</td>\n      <td>44.0</td>\n      <td>8.0</td>\n      <td>天猫超市</td>\n      <td>上海</td>\n    </tr>\n    <tr>\n      <th>1</th>\n      <td>五芳斋粽子礼盒装鲜肉咸蛋黄大肉粽嘉兴豆沙甜粽端午团购散装礼品</td>\n      <td>89.9</td>\n      <td>1000000.0</td>\n      <td>五芳斋官方旗舰店</td>\n      <td>浙江 嘉兴</td>\n    </tr>\n    <tr>\n      <th>2</th>\n      <td>稻香私房鲜肉粽蛋黄肉粽嘉兴粽子咸鸭蛋礼盒装端午节送礼特产团购</td>\n      <td>138.0</td>\n      <td>1936.0</td>\n      <td>稻香村食品旗舰店</td>\n      <td>北京</td>\n    </tr>\n    <tr>\n      <th>3</th>\n      <td>嘉兴粽子 蛋黄鲜肉粽新鲜大肉粽早餐散装团购浙江特产蜜枣多口味</td>\n      <td>3.8</td>\n      <td>9500.0</td>\n      <td>城城喂食猫</td>\n      <td>浙江 嘉兴</td>\n    </tr>\n    <tr>\n      <th>4</th>\n      <td>嘉兴特产粽子礼盒装甜咸粽8粽4味真空手工农家粽端午节团购</td>\n      <td>58.8</td>\n      <td>17.0</td>\n      <td>chenyan30151467</td>\n      <td>浙江 嘉兴</td>\n    </tr>\n  </tbody>\n</table>\n</div>"
     },
     "metadata": {},
     "execution_count": 11
    }
   ],
   "source": [
    "def get_w(x):\n",
    "    if '万' in str(x):#这里注意，x要写成str(x),因为x里面含有float类型的数据\n",
    "        return (float(x[:-1])*10000)\n",
    "    else:\n",
    "        return float(x)\n",
    "df['ppay'] = df.ppay.apply(get_w)\n",
    "df.head()\n",
    "\n",
    "#2\n",
    "# get_w = []\n",
    "# for x in list(df.ppay):\n",
    "#     if '万' in str(x):\n",
    "#         x = float(x.replace('万',''))\n",
    "#         get_w.append(x*10000)\n",
    "#     else:\n",
    "#         get_w.append(float(x))\n",
    "# df.ppay = get_w\n",
    "# df.head()\n",
    "\n",
    "#3\n",
    "# df.ppay = [(float(x.replace('万',''))*10000) if '万' in str(x) else float(x) for x in list(df.ppay)]\n",
    "# df.head()"
   ]
  },
  {
   "cell_type": "code",
   "execution_count": 12,
   "metadata": {},
   "outputs": [
    {
     "output_type": "stream",
     "name": "stdout",
     "text": [
      "<class 'pandas.core.frame.DataFrame'>\nInt64Index: 4322 entries, 0 to 4401\nData columns (total 5 columns):\n #   Column         Non-Null Count  Dtype  \n---  ------         --------------  -----  \n 0   name           4322 non-null   object \n 1   price          4322 non-null   float64\n 2   ppay           4322 non-null   float64\n 3   shop           4322 non-null   object \n 4   province-city  4322 non-null   object \ndtypes: float64(2), object(3)\nmemory usage: 202.6+ KB\n"
     ]
    }
   ],
   "source": [
    "df.info()"
   ]
  },
  {
   "cell_type": "code",
   "execution_count": 13,
   "metadata": {},
   "outputs": [
    {
     "output_type": "stream",
     "name": "stdout",
     "text": [
      "<class 'pandas.core.frame.DataFrame'>\nInt64Index: 4322 entries, 0 to 4401\nData columns (total 5 columns):\n #   Column         Non-Null Count  Dtype  \n---  ------         --------------  -----  \n 0   name           4322 non-null   object \n 1   price          4322 non-null   float64\n 2   ppay           4322 non-null   int32  \n 3   shop           4322 non-null   object \n 4   province-city  4322 non-null   object \ndtypes: float64(1), int32(1), object(3)\nmemory usage: 185.7+ KB\n"
     ]
    }
   ],
   "source": [
    "df['ppay'] = df['ppay'].astype(int)\n",
    "df.info()"
   ]
  },
  {
   "cell_type": "code",
   "execution_count": 14,
   "metadata": {},
   "outputs": [
    {
     "output_type": "execute_result",
     "data": {
      "text/plain": [
       "                                name  price     ppay             shop  \\\n",
       "0  北京稻香村端午粽子手工豆沙粽220g*2袋散装豆沙粽香甜软糯豆沙粽   44.0        8             天猫超市   \n",
       "1     五芳斋粽子礼盒装鲜肉咸蛋黄大肉粽嘉兴豆沙甜粽端午团购散装礼品   89.9  1000000         五芳斋官方旗舰店   \n",
       "2     稻香私房鲜肉粽蛋黄肉粽嘉兴粽子咸鸭蛋礼盒装端午节送礼特产团购  138.0     1936         稻香村食品旗舰店   \n",
       "3     嘉兴粽子 蛋黄鲜肉粽新鲜大肉粽早餐散装团购浙江特产蜜枣多口味    3.8     9500            城城喂食猫   \n",
       "4       嘉兴特产粽子礼盒装甜咸粽8粽4味真空手工农家粽端午节团购   58.8       17  chenyan30151467   \n",
       "\n",
       "  province-city  \n",
       "0            上海  \n",
       "1         浙江 嘉兴  \n",
       "2            北京  \n",
       "3         浙江 嘉兴  \n",
       "4         浙江 嘉兴  "
      ],
      "text/html": "<div>\n<style scoped>\n    .dataframe tbody tr th:only-of-type {\n        vertical-align: middle;\n    }\n\n    .dataframe tbody tr th {\n        vertical-align: top;\n    }\n\n    .dataframe thead th {\n        text-align: right;\n    }\n</style>\n<table border=\"1\" class=\"dataframe\">\n  <thead>\n    <tr style=\"text-align: right;\">\n      <th></th>\n      <th>name</th>\n      <th>price</th>\n      <th>ppay</th>\n      <th>shop</th>\n      <th>province-city</th>\n    </tr>\n  </thead>\n  <tbody>\n    <tr>\n      <th>0</th>\n      <td>北京稻香村端午粽子手工豆沙粽220g*2袋散装豆沙粽香甜软糯豆沙粽</td>\n      <td>44.0</td>\n      <td>8</td>\n      <td>天猫超市</td>\n      <td>上海</td>\n    </tr>\n    <tr>\n      <th>1</th>\n      <td>五芳斋粽子礼盒装鲜肉咸蛋黄大肉粽嘉兴豆沙甜粽端午团购散装礼品</td>\n      <td>89.9</td>\n      <td>1000000</td>\n      <td>五芳斋官方旗舰店</td>\n      <td>浙江 嘉兴</td>\n    </tr>\n    <tr>\n      <th>2</th>\n      <td>稻香私房鲜肉粽蛋黄肉粽嘉兴粽子咸鸭蛋礼盒装端午节送礼特产团购</td>\n      <td>138.0</td>\n      <td>1936</td>\n      <td>稻香村食品旗舰店</td>\n      <td>北京</td>\n    </tr>\n    <tr>\n      <th>3</th>\n      <td>嘉兴粽子 蛋黄鲜肉粽新鲜大肉粽早餐散装团购浙江特产蜜枣多口味</td>\n      <td>3.8</td>\n      <td>9500</td>\n      <td>城城喂食猫</td>\n      <td>浙江 嘉兴</td>\n    </tr>\n    <tr>\n      <th>4</th>\n      <td>嘉兴特产粽子礼盒装甜咸粽8粽4味真空手工农家粽端午节团购</td>\n      <td>58.8</td>\n      <td>17</td>\n      <td>chenyan30151467</td>\n      <td>浙江 嘉兴</td>\n    </tr>\n  </tbody>\n</table>\n</div>"
     },
     "metadata": {},
     "execution_count": 14
    }
   ],
   "source": [
    "df.head()"
   ]
  },
  {
   "cell_type": "code",
   "execution_count": 15,
   "metadata": {},
   "outputs": [
    {
     "output_type": "execute_result",
     "data": {
      "text/plain": [
       "                                name  price     ppay             shop  \\\n",
       "0  北京稻香村端午粽子手工豆沙粽220g*2袋散装豆沙粽香甜软糯豆沙粽   44.0        8             天猫超市   \n",
       "1     五芳斋粽子礼盒装鲜肉咸蛋黄大肉粽嘉兴豆沙甜粽端午团购散装礼品   89.9  1000000         五芳斋官方旗舰店   \n",
       "2     稻香私房鲜肉粽蛋黄肉粽嘉兴粽子咸鸭蛋礼盒装端午节送礼特产团购  138.0     1936         稻香村食品旗舰店   \n",
       "3     嘉兴粽子 蛋黄鲜肉粽新鲜大肉粽早餐散装团购浙江特产蜜枣多口味    3.8     9500            城城喂食猫   \n",
       "4       嘉兴特产粽子礼盒装甜咸粽8粽4味真空手工农家粽端午节团购   58.8       17  chenyan30151467   \n",
       "\n",
       "  province-city  \n",
       "0         上海 上海  \n",
       "1         浙江 嘉兴  \n",
       "2         北京 北京  \n",
       "3         浙江 嘉兴  \n",
       "4         浙江 嘉兴  "
      ],
      "text/html": "<div>\n<style scoped>\n    .dataframe tbody tr th:only-of-type {\n        vertical-align: middle;\n    }\n\n    .dataframe tbody tr th {\n        vertical-align: top;\n    }\n\n    .dataframe thead th {\n        text-align: right;\n    }\n</style>\n<table border=\"1\" class=\"dataframe\">\n  <thead>\n    <tr style=\"text-align: right;\">\n      <th></th>\n      <th>name</th>\n      <th>price</th>\n      <th>ppay</th>\n      <th>shop</th>\n      <th>province-city</th>\n    </tr>\n  </thead>\n  <tbody>\n    <tr>\n      <th>0</th>\n      <td>北京稻香村端午粽子手工豆沙粽220g*2袋散装豆沙粽香甜软糯豆沙粽</td>\n      <td>44.0</td>\n      <td>8</td>\n      <td>天猫超市</td>\n      <td>上海 上海</td>\n    </tr>\n    <tr>\n      <th>1</th>\n      <td>五芳斋粽子礼盒装鲜肉咸蛋黄大肉粽嘉兴豆沙甜粽端午团购散装礼品</td>\n      <td>89.9</td>\n      <td>1000000</td>\n      <td>五芳斋官方旗舰店</td>\n      <td>浙江 嘉兴</td>\n    </tr>\n    <tr>\n      <th>2</th>\n      <td>稻香私房鲜肉粽蛋黄肉粽嘉兴粽子咸鸭蛋礼盒装端午节送礼特产团购</td>\n      <td>138.0</td>\n      <td>1936</td>\n      <td>稻香村食品旗舰店</td>\n      <td>北京 北京</td>\n    </tr>\n    <tr>\n      <th>3</th>\n      <td>嘉兴粽子 蛋黄鲜肉粽新鲜大肉粽早餐散装团购浙江特产蜜枣多口味</td>\n      <td>3.8</td>\n      <td>9500</td>\n      <td>城城喂食猫</td>\n      <td>浙江 嘉兴</td>\n    </tr>\n    <tr>\n      <th>4</th>\n      <td>嘉兴特产粽子礼盒装甜咸粽8粽4味真空手工农家粽端午节团购</td>\n      <td>58.8</td>\n      <td>17</td>\n      <td>chenyan30151467</td>\n      <td>浙江 嘉兴</td>\n    </tr>\n  </tbody>\n</table>\n</div>"
     },
     "metadata": {},
     "execution_count": 15
    }
   ],
   "source": [
    "#构建字典，分离省份和城市\n",
    "# re_pc = {\n",
    "#     '上海':'上海 上海',\n",
    "#     '北京':'北京 北京',\n",
    "#     '天津':'天津 天津',\n",
    "#     '重庆':'重庆 重庆'\n",
    "# }\n",
    "# df['province-city'] = df['province-city'].str.strip().map(re_pc)\n",
    "# df.head()#发现，我们需要的数据却变成了NaN，所以这种方法不行\n",
    "def get_s(x):\n",
    "    if x == '上海':\n",
    "        return '上海 上海'\n",
    "    elif x == '北京':\n",
    "        return '北京 北京'\n",
    "    elif x == '天津':\n",
    "        return '天津 天津'\n",
    "    elif x == '重庆':\n",
    "        return '重庆 重庆'\n",
    "    else:\n",
    "        return x\n",
    "\n",
    "df['province-city'] = df['province-city'].str.strip().apply(get_s)\n",
    "df.head()"
   ]
  },
  {
   "cell_type": "code",
   "execution_count": 16,
   "metadata": {},
   "outputs": [
    {
     "output_type": "execute_result",
     "data": {
      "text/plain": [
       "                                name  price     ppay             shop  \\\n",
       "0  北京稻香村端午粽子手工豆沙粽220g*2袋散装豆沙粽香甜软糯豆沙粽   44.0        8             天猫超市   \n",
       "1     五芳斋粽子礼盒装鲜肉咸蛋黄大肉粽嘉兴豆沙甜粽端午团购散装礼品   89.9  1000000         五芳斋官方旗舰店   \n",
       "2     稻香私房鲜肉粽蛋黄肉粽嘉兴粽子咸鸭蛋礼盒装端午节送礼特产团购  138.0     1936         稻香村食品旗舰店   \n",
       "3     嘉兴粽子 蛋黄鲜肉粽新鲜大肉粽早餐散装团购浙江特产蜜枣多口味    3.8     9500            城城喂食猫   \n",
       "4       嘉兴特产粽子礼盒装甜咸粽8粽4味真空手工农家粽端午节团购   58.8       17  chenyan30151467   \n",
       "\n",
       "  province city  \n",
       "0       上海   上海  \n",
       "1       浙江   嘉兴  \n",
       "2       北京   北京  \n",
       "3       浙江   嘉兴  \n",
       "4       浙江   嘉兴  "
      ],
      "text/html": "<div>\n<style scoped>\n    .dataframe tbody tr th:only-of-type {\n        vertical-align: middle;\n    }\n\n    .dataframe tbody tr th {\n        vertical-align: top;\n    }\n\n    .dataframe thead th {\n        text-align: right;\n    }\n</style>\n<table border=\"1\" class=\"dataframe\">\n  <thead>\n    <tr style=\"text-align: right;\">\n      <th></th>\n      <th>name</th>\n      <th>price</th>\n      <th>ppay</th>\n      <th>shop</th>\n      <th>province</th>\n      <th>city</th>\n    </tr>\n  </thead>\n  <tbody>\n    <tr>\n      <th>0</th>\n      <td>北京稻香村端午粽子手工豆沙粽220g*2袋散装豆沙粽香甜软糯豆沙粽</td>\n      <td>44.0</td>\n      <td>8</td>\n      <td>天猫超市</td>\n      <td>上海</td>\n      <td>上海</td>\n    </tr>\n    <tr>\n      <th>1</th>\n      <td>五芳斋粽子礼盒装鲜肉咸蛋黄大肉粽嘉兴豆沙甜粽端午团购散装礼品</td>\n      <td>89.9</td>\n      <td>1000000</td>\n      <td>五芳斋官方旗舰店</td>\n      <td>浙江</td>\n      <td>嘉兴</td>\n    </tr>\n    <tr>\n      <th>2</th>\n      <td>稻香私房鲜肉粽蛋黄肉粽嘉兴粽子咸鸭蛋礼盒装端午节送礼特产团购</td>\n      <td>138.0</td>\n      <td>1936</td>\n      <td>稻香村食品旗舰店</td>\n      <td>北京</td>\n      <td>北京</td>\n    </tr>\n    <tr>\n      <th>3</th>\n      <td>嘉兴粽子 蛋黄鲜肉粽新鲜大肉粽早餐散装团购浙江特产蜜枣多口味</td>\n      <td>3.8</td>\n      <td>9500</td>\n      <td>城城喂食猫</td>\n      <td>浙江</td>\n      <td>嘉兴</td>\n    </tr>\n    <tr>\n      <th>4</th>\n      <td>嘉兴特产粽子礼盒装甜咸粽8粽4味真空手工农家粽端午节团购</td>\n      <td>58.8</td>\n      <td>17</td>\n      <td>chenyan30151467</td>\n      <td>浙江</td>\n      <td>嘉兴</td>\n    </tr>\n  </tbody>\n</table>\n</div>"
     },
     "metadata": {},
     "execution_count": 16
    }
   ],
   "source": [
    "df['province'] = [i[:2] for i in df['province-city']]\n",
    "df['city'] = [i[3:5] for i in df['province-city']]\n",
    "del df['province-city']\n",
    "df.head()"
   ]
  },
  {
   "cell_type": "code",
   "execution_count": 17,
   "metadata": {},
   "outputs": [
    {
     "output_type": "stream",
     "name": "stdout",
     "text": [
      "<class 'pandas.core.frame.DataFrame'>\nInt64Index: 4322 entries, 0 to 4401\nData columns (total 6 columns):\n #   Column    Non-Null Count  Dtype  \n---  ------    --------------  -----  \n 0   name      4322 non-null   object \n 1   price     4322 non-null   float64\n 2   ppay      4322 non-null   int32  \n 3   shop      4322 non-null   object \n 4   province  4322 non-null   object \n 5   city      4322 non-null   object \ndtypes: float64(1), int32(1), object(4)\nmemory usage: 219.5+ KB\n"
     ]
    }
   ],
   "source": [
    "df.info()"
   ]
  },
  {
   "source": [
    "## 3.明确需求目的"
   ],
   "cell_type": "markdown",
   "metadata": {}
  },
  {
   "source": [
    "1.需要计算出实付金额    实付金额  actpay = price x ppay\n",
    "2.对店铺shop，产品名称name进行分组\n",
    "3.TGI指数：假设 actpay > 某标准值 可分为维度 高客单、低客单；同时需要对客单总数kdtotal进行筛选 假设<mean(kdtotal)的行需要删除\n",
    "4.初步观察，可以发现ppay是数据的核心，即销量\n",
    "5.对ppay销量进行分析：可以与name进行分析，分析哪个品牌的产品更受欢迎；可以与price，分析消费者能够接受的价格，并对比平均价格；可以与shop，分析哪家店铺最受欢迎；\n",
    "6.统计省份的实付金额actpay，可以分析省份消费top10；统计店铺的actpay，可以分析店铺top，并得出top10这些是那个省份和城市的，进而进一步分析；统计城市，可以分析城市消费top10；以及将三者有机结合\n",
    "7.name词云图关键词，看看产品名称如何定义最能吸引消费者，产品热词\n",
    "8.分析shop和城市的关系，看看每个城市店铺数量排名第一的shop是？同时每个省份店铺数量排名第一的shop是？\n",
    "9.对shop进行打标，分析旗舰店、会员店、专卖店/专营店、其他店铺，公司，超市这五类 进行actpay维度分析以及店铺数量分析\n",
    "10.先写这些吧！"
   ],
   "cell_type": "markdown",
   "metadata": {}
  },
  {
   "source": [
    "### 分析关键词：品牌、竞争度、销量、销售额、客单价、店铺数量、店铺类型"
   ],
   "cell_type": "markdown",
   "metadata": {}
  },
  {
   "source": [
    "### 3.1 计算出实付金额，并根据actpay进行维度打标"
   ],
   "cell_type": "markdown",
   "metadata": {}
  },
  {
   "cell_type": "code",
   "execution_count": 18,
   "metadata": {},
   "outputs": [
    {
     "output_type": "execute_result",
     "data": {
      "text/plain": [
       "                                name  price     ppay             shop  \\\n",
       "0  北京稻香村端午粽子手工豆沙粽220g*2袋散装豆沙粽香甜软糯豆沙粽   44.0        8             天猫超市   \n",
       "1     五芳斋粽子礼盒装鲜肉咸蛋黄大肉粽嘉兴豆沙甜粽端午团购散装礼品   89.9  1000000         五芳斋官方旗舰店   \n",
       "2     稻香私房鲜肉粽蛋黄肉粽嘉兴粽子咸鸭蛋礼盒装端午节送礼特产团购  138.0     1936         稻香村食品旗舰店   \n",
       "3     嘉兴粽子 蛋黄鲜肉粽新鲜大肉粽早餐散装团购浙江特产蜜枣多口味    3.8     9500            城城喂食猫   \n",
       "4       嘉兴特产粽子礼盒装甜咸粽8粽4味真空手工农家粽端午节团购   58.8       17  chenyan30151467   \n",
       "\n",
       "  province city      actpay  \n",
       "0       上海   上海       352.0  \n",
       "1       浙江   嘉兴  89900000.0  \n",
       "2       北京   北京    267168.0  \n",
       "3       浙江   嘉兴     36100.0  \n",
       "4       浙江   嘉兴       999.6  "
      ],
      "text/html": "<div>\n<style scoped>\n    .dataframe tbody tr th:only-of-type {\n        vertical-align: middle;\n    }\n\n    .dataframe tbody tr th {\n        vertical-align: top;\n    }\n\n    .dataframe thead th {\n        text-align: right;\n    }\n</style>\n<table border=\"1\" class=\"dataframe\">\n  <thead>\n    <tr style=\"text-align: right;\">\n      <th></th>\n      <th>name</th>\n      <th>price</th>\n      <th>ppay</th>\n      <th>shop</th>\n      <th>province</th>\n      <th>city</th>\n      <th>actpay</th>\n    </tr>\n  </thead>\n  <tbody>\n    <tr>\n      <th>0</th>\n      <td>北京稻香村端午粽子手工豆沙粽220g*2袋散装豆沙粽香甜软糯豆沙粽</td>\n      <td>44.0</td>\n      <td>8</td>\n      <td>天猫超市</td>\n      <td>上海</td>\n      <td>上海</td>\n      <td>352.0</td>\n    </tr>\n    <tr>\n      <th>1</th>\n      <td>五芳斋粽子礼盒装鲜肉咸蛋黄大肉粽嘉兴豆沙甜粽端午团购散装礼品</td>\n      <td>89.9</td>\n      <td>1000000</td>\n      <td>五芳斋官方旗舰店</td>\n      <td>浙江</td>\n      <td>嘉兴</td>\n      <td>89900000.0</td>\n    </tr>\n    <tr>\n      <th>2</th>\n      <td>稻香私房鲜肉粽蛋黄肉粽嘉兴粽子咸鸭蛋礼盒装端午节送礼特产团购</td>\n      <td>138.0</td>\n      <td>1936</td>\n      <td>稻香村食品旗舰店</td>\n      <td>北京</td>\n      <td>北京</td>\n      <td>267168.0</td>\n    </tr>\n    <tr>\n      <th>3</th>\n      <td>嘉兴粽子 蛋黄鲜肉粽新鲜大肉粽早餐散装团购浙江特产蜜枣多口味</td>\n      <td>3.8</td>\n      <td>9500</td>\n      <td>城城喂食猫</td>\n      <td>浙江</td>\n      <td>嘉兴</td>\n      <td>36100.0</td>\n    </tr>\n    <tr>\n      <th>4</th>\n      <td>嘉兴特产粽子礼盒装甜咸粽8粽4味真空手工农家粽端午节团购</td>\n      <td>58.8</td>\n      <td>17</td>\n      <td>chenyan30151467</td>\n      <td>浙江</td>\n      <td>嘉兴</td>\n      <td>999.6</td>\n    </tr>\n  </tbody>\n</table>\n</div>"
     },
     "metadata": {},
     "execution_count": 18
    }
   ],
   "source": [
    "df['actpay'] = df.price * df.ppay\n",
    "df.head()"
   ]
  },
  {
   "cell_type": "code",
   "execution_count": 19,
   "metadata": {},
   "outputs": [
    {
     "output_type": "execute_result",
     "data": {
      "text/plain": [
       "count    4.322000e+03\n",
       "mean     7.121761e+04\n",
       "std      1.549755e+06\n",
       "min      1.290000e+01\n",
       "25%      1.593325e+03\n",
       "50%      4.307000e+03\n",
       "75%      1.491945e+04\n",
       "max      8.990000e+07\n",
       "Name: actpay, dtype: float64"
      ]
     },
     "metadata": {},
     "execution_count": 19
    }
   ],
   "source": [
    "df.actpay.describe()"
   ]
  },
  {
   "cell_type": "code",
   "execution_count": 20,
   "metadata": {},
   "outputs": [
    {
     "output_type": "stream",
     "name": "stdout",
     "text": [
      "<class 'pandas.core.frame.DataFrame'>\nInt64Index: 4322 entries, 0 to 4401\nData columns (total 7 columns):\n #   Column    Non-Null Count  Dtype  \n---  ------    --------------  -----  \n 0   name      4322 non-null   object \n 1   price     4322 non-null   float64\n 2   ppay      4322 non-null   int32  \n 3   shop      4322 non-null   object \n 4   province  4322 non-null   object \n 5   city      4322 non-null   object \n 6   actpay    4322 non-null   float64\ndtypes: float64(2), int32(1), object(4)\nmemory usage: 253.2+ KB\n"
     ]
    }
   ],
   "source": [
    "df.info()"
   ]
  },
  {
   "cell_type": "code",
   "execution_count": 21,
   "metadata": {},
   "outputs": [
    {
     "output_type": "execute_result",
     "data": {
      "text/plain": [
       "20800.552313743636"
      ]
     },
     "metadata": {},
     "execution_count": 21
    }
   ],
   "source": [
    "p_d = (df.actpay.max()-df.actpay.min())/df.shape[0]\n",
    "p_d#假设p_d是我们需要的客单类别的标准值"
   ]
  },
  {
   "cell_type": "code",
   "execution_count": 22,
   "metadata": {},
   "outputs": [
    {
     "output_type": "execute_result",
     "data": {
      "text/plain": [
       "1674"
      ]
     },
     "metadata": {},
     "execution_count": 22
    }
   ],
   "source": [
    "df[df.actpay>7000].shape[0]"
   ]
  },
  {
   "cell_type": "code",
   "execution_count": 23,
   "metadata": {},
   "outputs": [
    {
     "output_type": "execute_result",
     "data": {
      "text/plain": [
       "1000000"
      ]
     },
     "metadata": {},
     "execution_count": 23
    }
   ],
   "source": [
    "df.ppay.max()"
   ]
  },
  {
   "cell_type": "code",
   "execution_count": 24,
   "metadata": {},
   "outputs": [
    {
     "output_type": "execute_result",
     "data": {
      "text/plain": [
       "1"
      ]
     },
     "metadata": {},
     "execution_count": 24
    }
   ],
   "source": [
    "df.ppay.min()"
   ]
  },
  {
   "source": [
    "现在有个问题，我们不知道我们这是一天的actpay，还是一个月。因为没有时间date,而且最高付款人数达到100万，最低付款人数1，如果是一天，那就太流弊了。那我们假设算作一周的销售额"
   ],
   "cell_type": "markdown",
   "metadata": {}
  },
  {
   "source": [
    "并且我们假设在这里将标准值设为7000"
   ],
   "cell_type": "markdown",
   "metadata": {}
  },
  {
   "cell_type": "code",
   "execution_count": 25,
   "metadata": {},
   "outputs": [],
   "source": [
    "#对客单类别进行添加\n",
    "# df['kdkind'] = ['高客单' if i>7000 else '低客单' for i in df.actpay]\n",
    "# df.head()"
   ]
  },
  {
   "source": [
    "### 3.2 对shop-店铺打标"
   ],
   "cell_type": "markdown",
   "metadata": {}
  },
  {
   "cell_type": "code",
   "execution_count": 26,
   "metadata": {},
   "outputs": [
    {
     "output_type": "execute_result",
     "data": {
      "text/plain": [
       "                                name  price     ppay             shop  \\\n",
       "0  北京稻香村端午粽子手工豆沙粽220g*2袋散装豆沙粽香甜软糯豆沙粽   44.0        8             天猫超市   \n",
       "1     五芳斋粽子礼盒装鲜肉咸蛋黄大肉粽嘉兴豆沙甜粽端午团购散装礼品   89.9  1000000         五芳斋官方旗舰店   \n",
       "2     稻香私房鲜肉粽蛋黄肉粽嘉兴粽子咸鸭蛋礼盒装端午节送礼特产团购  138.0     1936         稻香村食品旗舰店   \n",
       "3     嘉兴粽子 蛋黄鲜肉粽新鲜大肉粽早餐散装团购浙江特产蜜枣多口味    3.8     9500            城城喂食猫   \n",
       "4       嘉兴特产粽子礼盒装甜咸粽8粽4味真空手工农家粽端午节团购   58.8       17  chenyan30151467   \n",
       "\n",
       "  province city      actpay shopkind  \n",
       "0       上海   上海       352.0  专卖店/专营店  \n",
       "1       浙江   嘉兴  89900000.0      旗舰店  \n",
       "2       北京   北京    267168.0      旗舰店  \n",
       "3       浙江   嘉兴     36100.0  专卖店/专营店  \n",
       "4       浙江   嘉兴       999.6  专卖店/专营店  "
      ],
      "text/html": "<div>\n<style scoped>\n    .dataframe tbody tr th:only-of-type {\n        vertical-align: middle;\n    }\n\n    .dataframe tbody tr th {\n        vertical-align: top;\n    }\n\n    .dataframe thead th {\n        text-align: right;\n    }\n</style>\n<table border=\"1\" class=\"dataframe\">\n  <thead>\n    <tr style=\"text-align: right;\">\n      <th></th>\n      <th>name</th>\n      <th>price</th>\n      <th>ppay</th>\n      <th>shop</th>\n      <th>province</th>\n      <th>city</th>\n      <th>actpay</th>\n      <th>shopkind</th>\n    </tr>\n  </thead>\n  <tbody>\n    <tr>\n      <th>0</th>\n      <td>北京稻香村端午粽子手工豆沙粽220g*2袋散装豆沙粽香甜软糯豆沙粽</td>\n      <td>44.0</td>\n      <td>8</td>\n      <td>天猫超市</td>\n      <td>上海</td>\n      <td>上海</td>\n      <td>352.0</td>\n      <td>专卖店/专营店</td>\n    </tr>\n    <tr>\n      <th>1</th>\n      <td>五芳斋粽子礼盒装鲜肉咸蛋黄大肉粽嘉兴豆沙甜粽端午团购散装礼品</td>\n      <td>89.9</td>\n      <td>1000000</td>\n      <td>五芳斋官方旗舰店</td>\n      <td>浙江</td>\n      <td>嘉兴</td>\n      <td>89900000.0</td>\n      <td>旗舰店</td>\n    </tr>\n    <tr>\n      <th>2</th>\n      <td>稻香私房鲜肉粽蛋黄肉粽嘉兴粽子咸鸭蛋礼盒装端午节送礼特产团购</td>\n      <td>138.0</td>\n      <td>1936</td>\n      <td>稻香村食品旗舰店</td>\n      <td>北京</td>\n      <td>北京</td>\n      <td>267168.0</td>\n      <td>旗舰店</td>\n    </tr>\n    <tr>\n      <th>3</th>\n      <td>嘉兴粽子 蛋黄鲜肉粽新鲜大肉粽早餐散装团购浙江特产蜜枣多口味</td>\n      <td>3.8</td>\n      <td>9500</td>\n      <td>城城喂食猫</td>\n      <td>浙江</td>\n      <td>嘉兴</td>\n      <td>36100.0</td>\n      <td>专卖店/专营店</td>\n    </tr>\n    <tr>\n      <th>4</th>\n      <td>嘉兴特产粽子礼盒装甜咸粽8粽4味真空手工农家粽端午节团购</td>\n      <td>58.8</td>\n      <td>17</td>\n      <td>chenyan30151467</td>\n      <td>浙江</td>\n      <td>嘉兴</td>\n      <td>999.6</td>\n      <td>专卖店/专营店</td>\n    </tr>\n  </tbody>\n</table>\n</div>"
     },
     "metadata": {},
     "execution_count": 26
    }
   ],
   "source": [
    "def get_db(x):\n",
    "    if '旗舰店' in str(x):\n",
    "        return '旗舰店'\n",
    "    elif '会员店' in str(x):\n",
    "        return '会员店'\n",
    "    elif '专卖店' or '专营店' in str(x):\n",
    "        return '专卖店/专营店'\n",
    "    elif '公司' or '超市' in str(x):\n",
    "        return '公司/超市'  \n",
    "    else:\n",
    "        return '普通店铺'\n",
    "df['shopkind'] = df.shop.apply(get_db)\n",
    "df.head()"
   ]
  },
  {
   "source": [
    "## 4.开始维度分析"
   ],
   "cell_type": "markdown",
   "metadata": {}
  },
  {
   "source": [
    "### 4.1 分析单个店铺销售额最高的top10"
   ],
   "cell_type": "markdown",
   "metadata": {}
  },
  {
   "cell_type": "code",
   "execution_count": 27,
   "metadata": {},
   "outputs": [
    {
     "output_type": "execute_result",
     "data": {
      "text/plain": [
       "   index                            name  price     ppay      shop province  \\\n",
       "0      1  五芳斋粽子礼盒装鲜肉咸蛋黄大肉粽嘉兴豆沙甜粽端午团购散装礼品   89.9  1000000  五芳斋官方旗舰店       浙江   \n",
       "1     13  真真老老嘉兴粽子礼盒装肉粽糯米鲜肉蛋黄肉大粽子甜粽端午节礼品   59.9   700000   真真老老旗舰店       浙江   \n",
       "2     61  五芳斋粽子礼盒蛋黄肉粽豆沙粽大肉棕子浙江特产新鲜嘉兴粽子肉粽   89.9   200000  五芳斋官方旗舰店       浙江   \n",
       "3    115  稻香私房嘉兴大蛋黄鲜肉粽甜味蜜枣散装粽子礼盒装端午节特产送礼   59.9   100000  稻香村食品旗舰店       北京   \n",
       "4    195  真真老老嘉兴粽子蛋黄肉粽端午粽子礼盒装鲜肉粽子甜粽大粽子团购   29.9   200000   真真老老旗舰店       浙江   \n",
       "5    803  五芳斋粽子礼盒蛋黄肉粽端午节送礼团购肉粽豆沙棕子嘉兴特产粽子   89.9    65000  五芳斋官方旗舰店       浙江   \n",
       "6     25  知味观端午节粽子甜粽咸蛋黄大肉粽礼盒装嘉兴味鲜肉粽子散装团购   64.9    85000  知味观官方旗舰店       浙江   \n",
       "7     35  五芳斋粽子礼盒装新鲜大肉粽蛋黄猪肉粽豆沙端午食品团购嘉兴特产   39.9   100000  五芳斋浙江专卖店       浙江   \n",
       "8     84  荃盛粽子鲜肉粽蛋黄鲜肉粽豆沙粽子甜粽端午节礼品嘉兴粽子礼盒装   59.9    65000     荃盛旗舰店       浙江   \n",
       "9     10  五芳斋粽子竹篮礼盒华礼嘉兴特产蛋黄鲜肉粽豆沙咸蛋端午送礼团购  159.0    20000  五芳斋官方旗舰店       浙江   \n",
       "\n",
       "  city      actpay shopkind  \n",
       "0   嘉兴  89900000.0      旗舰店  \n",
       "1   嘉兴  41930000.0      旗舰店  \n",
       "2   嘉兴  17980000.0      旗舰店  \n",
       "3   北京   5990000.0      旗舰店  \n",
       "4   嘉兴   5980000.0      旗舰店  \n",
       "5   嘉兴   5843500.0      旗舰店  \n",
       "6   杭州   5516500.0      旗舰店  \n",
       "7   嘉兴   3990000.0  专卖店/专营店  \n",
       "8   宁波   3893500.0      旗舰店  \n",
       "9   嘉兴   3180000.0      旗舰店  "
      ],
      "text/html": "<div>\n<style scoped>\n    .dataframe tbody tr th:only-of-type {\n        vertical-align: middle;\n    }\n\n    .dataframe tbody tr th {\n        vertical-align: top;\n    }\n\n    .dataframe thead th {\n        text-align: right;\n    }\n</style>\n<table border=\"1\" class=\"dataframe\">\n  <thead>\n    <tr style=\"text-align: right;\">\n      <th></th>\n      <th>index</th>\n      <th>name</th>\n      <th>price</th>\n      <th>ppay</th>\n      <th>shop</th>\n      <th>province</th>\n      <th>city</th>\n      <th>actpay</th>\n      <th>shopkind</th>\n    </tr>\n  </thead>\n  <tbody>\n    <tr>\n      <th>0</th>\n      <td>1</td>\n      <td>五芳斋粽子礼盒装鲜肉咸蛋黄大肉粽嘉兴豆沙甜粽端午团购散装礼品</td>\n      <td>89.9</td>\n      <td>1000000</td>\n      <td>五芳斋官方旗舰店</td>\n      <td>浙江</td>\n      <td>嘉兴</td>\n      <td>89900000.0</td>\n      <td>旗舰店</td>\n    </tr>\n    <tr>\n      <th>1</th>\n      <td>13</td>\n      <td>真真老老嘉兴粽子礼盒装肉粽糯米鲜肉蛋黄肉大粽子甜粽端午节礼品</td>\n      <td>59.9</td>\n      <td>700000</td>\n      <td>真真老老旗舰店</td>\n      <td>浙江</td>\n      <td>嘉兴</td>\n      <td>41930000.0</td>\n      <td>旗舰店</td>\n    </tr>\n    <tr>\n      <th>2</th>\n      <td>61</td>\n      <td>五芳斋粽子礼盒蛋黄肉粽豆沙粽大肉棕子浙江特产新鲜嘉兴粽子肉粽</td>\n      <td>89.9</td>\n      <td>200000</td>\n      <td>五芳斋官方旗舰店</td>\n      <td>浙江</td>\n      <td>嘉兴</td>\n      <td>17980000.0</td>\n      <td>旗舰店</td>\n    </tr>\n    <tr>\n      <th>3</th>\n      <td>115</td>\n      <td>稻香私房嘉兴大蛋黄鲜肉粽甜味蜜枣散装粽子礼盒装端午节特产送礼</td>\n      <td>59.9</td>\n      <td>100000</td>\n      <td>稻香村食品旗舰店</td>\n      <td>北京</td>\n      <td>北京</td>\n      <td>5990000.0</td>\n      <td>旗舰店</td>\n    </tr>\n    <tr>\n      <th>4</th>\n      <td>195</td>\n      <td>真真老老嘉兴粽子蛋黄肉粽端午粽子礼盒装鲜肉粽子甜粽大粽子团购</td>\n      <td>29.9</td>\n      <td>200000</td>\n      <td>真真老老旗舰店</td>\n      <td>浙江</td>\n      <td>嘉兴</td>\n      <td>5980000.0</td>\n      <td>旗舰店</td>\n    </tr>\n    <tr>\n      <th>5</th>\n      <td>803</td>\n      <td>五芳斋粽子礼盒蛋黄肉粽端午节送礼团购肉粽豆沙棕子嘉兴特产粽子</td>\n      <td>89.9</td>\n      <td>65000</td>\n      <td>五芳斋官方旗舰店</td>\n      <td>浙江</td>\n      <td>嘉兴</td>\n      <td>5843500.0</td>\n      <td>旗舰店</td>\n    </tr>\n    <tr>\n      <th>6</th>\n      <td>25</td>\n      <td>知味观端午节粽子甜粽咸蛋黄大肉粽礼盒装嘉兴味鲜肉粽子散装团购</td>\n      <td>64.9</td>\n      <td>85000</td>\n      <td>知味观官方旗舰店</td>\n      <td>浙江</td>\n      <td>杭州</td>\n      <td>5516500.0</td>\n      <td>旗舰店</td>\n    </tr>\n    <tr>\n      <th>7</th>\n      <td>35</td>\n      <td>五芳斋粽子礼盒装新鲜大肉粽蛋黄猪肉粽豆沙端午食品团购嘉兴特产</td>\n      <td>39.9</td>\n      <td>100000</td>\n      <td>五芳斋浙江专卖店</td>\n      <td>浙江</td>\n      <td>嘉兴</td>\n      <td>3990000.0</td>\n      <td>专卖店/专营店</td>\n    </tr>\n    <tr>\n      <th>8</th>\n      <td>84</td>\n      <td>荃盛粽子鲜肉粽蛋黄鲜肉粽豆沙粽子甜粽端午节礼品嘉兴粽子礼盒装</td>\n      <td>59.9</td>\n      <td>65000</td>\n      <td>荃盛旗舰店</td>\n      <td>浙江</td>\n      <td>宁波</td>\n      <td>3893500.0</td>\n      <td>旗舰店</td>\n    </tr>\n    <tr>\n      <th>9</th>\n      <td>10</td>\n      <td>五芳斋粽子竹篮礼盒华礼嘉兴特产蛋黄鲜肉粽豆沙咸蛋端午送礼团购</td>\n      <td>159.0</td>\n      <td>20000</td>\n      <td>五芳斋官方旗舰店</td>\n      <td>浙江</td>\n      <td>嘉兴</td>\n      <td>3180000.0</td>\n      <td>旗舰店</td>\n    </tr>\n  </tbody>\n</table>\n</div>"
     },
     "metadata": {},
     "execution_count": 27
    }
   ],
   "source": [
    "df_actpay_top10 = df.sort_values('actpay',ascending=False).head(10).reset_index()\n",
    "df_actpay_top10"
   ]
  },
  {
   "cell_type": "code",
   "execution_count": 28,
   "metadata": {},
   "outputs": [
    {
     "output_type": "execute_result",
     "data": {
      "text/plain": [
       "74.28209625173452"
      ]
     },
     "metadata": {},
     "execution_count": 28
    }
   ],
   "source": [
    "df.price.mean()"
   ]
  },
  {
   "cell_type": "code",
   "execution_count": 29,
   "metadata": {},
   "outputs": [
    {
     "output_type": "execute_result",
     "data": {
      "text/plain": [
       "1780.0"
      ]
     },
     "metadata": {},
     "execution_count": 29
    }
   ],
   "source": [
    "df.price.max()"
   ]
  },
  {
   "source": [
    "通过上述数据，我们可以得出单个店铺最高销售额TOP1是1000000元，所属店铺是五芳斋官方旗舰店，省份是浙江，城市是嘉兴，是旗舰店，产品是五芳斋粽子礼盒装鲜肉咸蛋黄大肉粽嘉兴豆沙甜粽端午团购散装礼品；并且top10里面有9家浙江、8家嘉兴、9个旗舰店，5家是属于同一个品牌：五芳斋官方旗舰店。因此我们可以初步得出:\n",
    "1.旗舰店的竞争优势在粽子行业中是很大的，并且五芳斋官方旗舰店销量可观，价格分布在中、低端，价格，品牌优势明显，可以猜测这是一家综合性的主打中端价格市场的、公司在浙江嘉兴的企业\n",
    "2.提出疑问：为何浙江、嘉兴能够这么流弊？"
   ],
   "cell_type": "markdown",
   "metadata": {}
  },
  {
   "source": [
    "但是细细一看，top10同一家店铺有5个，这在海量的数据中并不能很科学的表明什么，因此我们需要对shop进行分组来进一步分析"
   ],
   "cell_type": "markdown",
   "metadata": {}
  },
  {
   "source": [
    "### 4.2 店铺数量Top10的总销售额"
   ],
   "cell_type": "markdown",
   "metadata": {}
  },
  {
   "cell_type": "code",
   "execution_count": 30,
   "metadata": {},
   "outputs": [
    {
     "output_type": "execute_result",
     "data": {
      "text/plain": [
       "          shop  counts\n",
       "599       天猫超市     270\n",
       "363   五芳斋官方旗舰店     105\n",
       "1066  稻香村食品旗舰店      51\n",
       "1031  知味观官方旗舰店      47\n",
       "1225    诸老大旗舰店      41\n",
       "364   五芳斋浙江专卖店      38\n",
       "1025   真真老老旗舰店      37\n",
       "1103     红船旗舰店      30\n",
       "927     润之禧旗舰店      28\n",
       "1198   蓝氏钟楼旗舰店      25"
      ],
      "text/html": "<div>\n<style scoped>\n    .dataframe tbody tr th:only-of-type {\n        vertical-align: middle;\n    }\n\n    .dataframe tbody tr th {\n        vertical-align: top;\n    }\n\n    .dataframe thead th {\n        text-align: right;\n    }\n</style>\n<table border=\"1\" class=\"dataframe\">\n  <thead>\n    <tr style=\"text-align: right;\">\n      <th></th>\n      <th>shop</th>\n      <th>counts</th>\n    </tr>\n  </thead>\n  <tbody>\n    <tr>\n      <th>599</th>\n      <td>天猫超市</td>\n      <td>270</td>\n    </tr>\n    <tr>\n      <th>363</th>\n      <td>五芳斋官方旗舰店</td>\n      <td>105</td>\n    </tr>\n    <tr>\n      <th>1066</th>\n      <td>稻香村食品旗舰店</td>\n      <td>51</td>\n    </tr>\n    <tr>\n      <th>1031</th>\n      <td>知味观官方旗舰店</td>\n      <td>47</td>\n    </tr>\n    <tr>\n      <th>1225</th>\n      <td>诸老大旗舰店</td>\n      <td>41</td>\n    </tr>\n    <tr>\n      <th>364</th>\n      <td>五芳斋浙江专卖店</td>\n      <td>38</td>\n    </tr>\n    <tr>\n      <th>1025</th>\n      <td>真真老老旗舰店</td>\n      <td>37</td>\n    </tr>\n    <tr>\n      <th>1103</th>\n      <td>红船旗舰店</td>\n      <td>30</td>\n    </tr>\n    <tr>\n      <th>927</th>\n      <td>润之禧旗舰店</td>\n      <td>28</td>\n    </tr>\n    <tr>\n      <th>1198</th>\n      <td>蓝氏钟楼旗舰店</td>\n      <td>25</td>\n    </tr>\n  </tbody>\n</table>\n</div>"
     },
     "metadata": {},
     "execution_count": 30
    }
   ],
   "source": [
    "#对店铺进行分组，得出店铺数量top10\n",
    "df_shop = df.groupby('shop')['ppay'].count().reset_index()#\n",
    "df_shop.columns = ['shop','counts']\n",
    "df_shop.sort_values('counts',ascending=False).head(10)"
   ]
  },
  {
   "cell_type": "code",
   "execution_count": 31,
   "metadata": {},
   "outputs": [
    {
     "output_type": "execute_result",
     "data": {
      "text/plain": [
       "67.2"
      ]
     },
     "metadata": {},
     "execution_count": 31
    }
   ],
   "source": [
    "df_shop_top = df_shop.sort_values('counts',ascending=False).head(10)\n",
    "df_shop_top['counts'].head(10).mean()"
   ]
  },
  {
   "source": [
    "从上面可以分析出：天猫超市的店铺数量为270，是top2五芳斋官方旗舰店的2倍多，这表明还是平台老板家的店铺更流弊；其次总体旗舰店>50的只有前top3,并且高于平均值的只有前top2；同时发现了一个问题：五芳斋既有旗舰店，还有专卖店，但是特殊问题特殊分析，我们只需要对五芳斋进行单独分析即可，或者最多前top5"
   ],
   "cell_type": "markdown",
   "metadata": {}
  },
  {
   "cell_type": "code",
   "execution_count": 32,
   "metadata": {},
   "outputs": [],
   "source": [
    "#现在我们还想要把actpay列给添加上去 得到top10数量店铺的总销售额     有些店铺并不都是在一个省份、城市，所以省份、城市暂时不添加：\n",
    "shop_pay_sum = df.groupby('shop')['actpay'].sum().reset_index()#\n",
    "shop_pay_sum.columns = ['shop','shop_pay_sum']\n",
    "shop_pay_sum = shop_pay_sum.sort_values('shop_pay_sum',ascending=False)#这里并没有对shop进行count，所以无法对shop进行排序"
   ]
  },
  {
   "cell_type": "code",
   "execution_count": 33,
   "metadata": {},
   "outputs": [
    {
     "output_type": "execute_result",
     "data": {
      "text/plain": [
       "       shop  counts  shop_pay_sum\n",
       "1  五芳斋官方旗舰店     105  132389350.80\n",
       "6   真真老老旗舰店      37   49396443.40\n",
       "3  知味观官方旗舰店      47    9383796.92\n",
       "0      天猫超市     270    8032811.77\n",
       "2  稻香村食品旗舰店      51    7756471.90\n",
       "5  五芳斋浙江专卖店      38    7139386.50\n",
       "7     红船旗舰店      30    3154040.60\n",
       "4    诸老大旗舰店      41    2757103.90\n",
       "8    润之禧旗舰店      28    1783302.40\n",
       "9   蓝氏钟楼旗舰店      25     274088.70"
      ],
      "text/html": "<div>\n<style scoped>\n    .dataframe tbody tr th:only-of-type {\n        vertical-align: middle;\n    }\n\n    .dataframe tbody tr th {\n        vertical-align: top;\n    }\n\n    .dataframe thead th {\n        text-align: right;\n    }\n</style>\n<table border=\"1\" class=\"dataframe\">\n  <thead>\n    <tr style=\"text-align: right;\">\n      <th></th>\n      <th>shop</th>\n      <th>counts</th>\n      <th>shop_pay_sum</th>\n    </tr>\n  </thead>\n  <tbody>\n    <tr>\n      <th>1</th>\n      <td>五芳斋官方旗舰店</td>\n      <td>105</td>\n      <td>132389350.80</td>\n    </tr>\n    <tr>\n      <th>6</th>\n      <td>真真老老旗舰店</td>\n      <td>37</td>\n      <td>49396443.40</td>\n    </tr>\n    <tr>\n      <th>3</th>\n      <td>知味观官方旗舰店</td>\n      <td>47</td>\n      <td>9383796.92</td>\n    </tr>\n    <tr>\n      <th>0</th>\n      <td>天猫超市</td>\n      <td>270</td>\n      <td>8032811.77</td>\n    </tr>\n    <tr>\n      <th>2</th>\n      <td>稻香村食品旗舰店</td>\n      <td>51</td>\n      <td>7756471.90</td>\n    </tr>\n    <tr>\n      <th>5</th>\n      <td>五芳斋浙江专卖店</td>\n      <td>38</td>\n      <td>7139386.50</td>\n    </tr>\n    <tr>\n      <th>7</th>\n      <td>红船旗舰店</td>\n      <td>30</td>\n      <td>3154040.60</td>\n    </tr>\n    <tr>\n      <th>4</th>\n      <td>诸老大旗舰店</td>\n      <td>41</td>\n      <td>2757103.90</td>\n    </tr>\n    <tr>\n      <th>8</th>\n      <td>润之禧旗舰店</td>\n      <td>28</td>\n      <td>1783302.40</td>\n    </tr>\n    <tr>\n      <th>9</th>\n      <td>蓝氏钟楼旗舰店</td>\n      <td>25</td>\n      <td>274088.70</td>\n    </tr>\n  </tbody>\n</table>\n</div>"
     },
     "metadata": {},
     "execution_count": 33
    }
   ],
   "source": [
    "#进行横向合并\n",
    "df_shop_sp = df_shop_top.merge(shop_pay_sum,on='shop',how='left')\n",
    "#如何取消float值的科学计数法呢？\n",
    "pd.set_option('display.float_format', lambda x: '%.2f' % x)\n",
    "df_shop_sp.sort_values('shop_pay_sum',ascending=False).head(10)"
   ]
  },
  {
   "cell_type": "code",
   "execution_count": 34,
   "metadata": {},
   "outputs": [
    {
     "output_type": "execute_result",
     "data": {
      "text/plain": [
       "       shop  counts  shop_pay_sum  shop_money_avg\n",
       "1  五芳斋官方旗舰店     105  132389350.80      1260850.96\n",
       "6   真真老老旗舰店      37   49396443.40      1335039.01\n",
       "3  知味观官方旗舰店      47    9383796.92       199655.25\n",
       "0      天猫超市     270    8032811.77        29751.15\n",
       "2  稻香村食品旗舰店      51    7756471.90       152087.68\n",
       "5  五芳斋浙江专卖店      38    7139386.50       187878.59\n",
       "7     红船旗舰店      30    3154040.60       105134.69\n",
       "4    诸老大旗舰店      41    2757103.90        67246.44\n",
       "8    润之禧旗舰店      28    1783302.40        63689.37\n",
       "9   蓝氏钟楼旗舰店      25     274088.70        10963.55"
      ],
      "text/html": "<div>\n<style scoped>\n    .dataframe tbody tr th:only-of-type {\n        vertical-align: middle;\n    }\n\n    .dataframe tbody tr th {\n        vertical-align: top;\n    }\n\n    .dataframe thead th {\n        text-align: right;\n    }\n</style>\n<table border=\"1\" class=\"dataframe\">\n  <thead>\n    <tr style=\"text-align: right;\">\n      <th></th>\n      <th>shop</th>\n      <th>counts</th>\n      <th>shop_pay_sum</th>\n      <th>shop_money_avg</th>\n    </tr>\n  </thead>\n  <tbody>\n    <tr>\n      <th>1</th>\n      <td>五芳斋官方旗舰店</td>\n      <td>105</td>\n      <td>132389350.80</td>\n      <td>1260850.96</td>\n    </tr>\n    <tr>\n      <th>6</th>\n      <td>真真老老旗舰店</td>\n      <td>37</td>\n      <td>49396443.40</td>\n      <td>1335039.01</td>\n    </tr>\n    <tr>\n      <th>3</th>\n      <td>知味观官方旗舰店</td>\n      <td>47</td>\n      <td>9383796.92</td>\n      <td>199655.25</td>\n    </tr>\n    <tr>\n      <th>0</th>\n      <td>天猫超市</td>\n      <td>270</td>\n      <td>8032811.77</td>\n      <td>29751.15</td>\n    </tr>\n    <tr>\n      <th>2</th>\n      <td>稻香村食品旗舰店</td>\n      <td>51</td>\n      <td>7756471.90</td>\n      <td>152087.68</td>\n    </tr>\n    <tr>\n      <th>5</th>\n      <td>五芳斋浙江专卖店</td>\n      <td>38</td>\n      <td>7139386.50</td>\n      <td>187878.59</td>\n    </tr>\n    <tr>\n      <th>7</th>\n      <td>红船旗舰店</td>\n      <td>30</td>\n      <td>3154040.60</td>\n      <td>105134.69</td>\n    </tr>\n    <tr>\n      <th>4</th>\n      <td>诸老大旗舰店</td>\n      <td>41</td>\n      <td>2757103.90</td>\n      <td>67246.44</td>\n    </tr>\n    <tr>\n      <th>8</th>\n      <td>润之禧旗舰店</td>\n      <td>28</td>\n      <td>1783302.40</td>\n      <td>63689.37</td>\n    </tr>\n    <tr>\n      <th>9</th>\n      <td>蓝氏钟楼旗舰店</td>\n      <td>25</td>\n      <td>274088.70</td>\n      <td>10963.55</td>\n    </tr>\n  </tbody>\n</table>\n</div>"
     },
     "metadata": {},
     "execution_count": 34
    }
   ],
   "source": [
    "df_shop_sp['shop_money_avg'] = df_shop_sp['shop_pay_sum']/df_shop_sp['counts']\n",
    "df_shop_sp.sort_values('shop_pay_sum',ascending=False).head(10)"
   ]
  },
  {
   "source": [
    "综合数据表明：五芳斋官方旗舰店还是最流弊的，总销售额是考量一个企业的核心，同时top2的平均单位店铺销售额超过了top1，说明top2的竞争能力不容小觑；天猫shop_pay_num排在了top4，但平均单位店铺销售额倒数第二，表现出在粽子行业还是专业性企业更具优势，看来天猫的店铺战效果虽可以，但是成本也很高；同时还应该继续优化shop关键词，可重点突出top5的品牌"
   ],
   "cell_type": "markdown",
   "metadata": {}
  },
  {
   "source": [
    "### 4.3 销量Top10 并假设大于平均销量的name来作为热门产品的最低指标"
   ],
   "cell_type": "markdown",
   "metadata": {}
  },
  {
   "cell_type": "code",
   "execution_count": 35,
   "metadata": {},
   "outputs": [
    {
     "output_type": "execute_result",
     "data": {
      "text/plain": [
       "1298.209393799167"
      ]
     },
     "metadata": {},
     "execution_count": 35
    }
   ],
   "source": [
    "df.ppay.mean()"
   ]
  },
  {
   "cell_type": "code",
   "execution_count": 36,
   "metadata": {},
   "outputs": [
    {
     "output_type": "execute_result",
     "data": {
      "text/plain": [
       "                                 name  price     ppay      shop province city  \\\n",
       "1      五芳斋粽子礼盒装鲜肉咸蛋黄大肉粽嘉兴豆沙甜粽端午团购散装礼品  89.90  1000000  五芳斋官方旗舰店       浙江   嘉兴   \n",
       "13     真真老老嘉兴粽子礼盒装肉粽糯米鲜肉蛋黄肉大粽子甜粽端午节礼品  59.90   700000   真真老老旗舰店       浙江   嘉兴   \n",
       "195    真真老老嘉兴粽子蛋黄肉粽端午粽子礼盒装鲜肉粽子甜粽大粽子团购  29.90   200000   真真老老旗舰店       浙江   嘉兴   \n",
       "61     五芳斋粽子礼盒蛋黄肉粽豆沙粽大肉棕子浙江特产新鲜嘉兴粽子肉粽  89.90   200000  五芳斋官方旗舰店       浙江   嘉兴   \n",
       "35     五芳斋粽子礼盒装新鲜大肉粽蛋黄猪肉粽豆沙端午食品团购嘉兴特产  39.90   100000  五芳斋浙江专卖店       浙江   嘉兴   \n",
       "115    稻香私房嘉兴大蛋黄鲜肉粽甜味蜜枣散装粽子礼盒装端午节特产送礼  59.90   100000  稻香村食品旗舰店       北京   北京   \n",
       "25     知味观端午节粽子甜粽咸蛋黄大肉粽礼盒装嘉兴味鲜肉粽子散装团购  64.90    85000  知味观官方旗舰店       浙江   杭州   \n",
       "281    粽叶粽子叶粽粑叶免邮新鲜干大号竹叶包粽子的叶子棕叶竹子芦苇叶   3.80    70000   ws10110       山东   枣庄   \n",
       "1755  真真老老 130g*1真空肉粽 嘉兴粽子 端午特产特色美食食品   4.80    70000      天猫超市       上海   上海   \n",
       "803    五芳斋粽子礼盒蛋黄肉粽端午节送礼团购肉粽豆沙棕子嘉兴特产粽子  89.90    65000  五芳斋官方旗舰店       浙江   嘉兴   \n",
       "\n",
       "          actpay shopkind  \n",
       "1    89900000.00      旗舰店  \n",
       "13   41930000.00      旗舰店  \n",
       "195   5980000.00      旗舰店  \n",
       "61   17980000.00      旗舰店  \n",
       "35    3990000.00  专卖店/专营店  \n",
       "115   5990000.00      旗舰店  \n",
       "25    5516500.00      旗舰店  \n",
       "281    266000.00  专卖店/专营店  \n",
       "1755   336000.00  专卖店/专营店  \n",
       "803   5843500.00      旗舰店  "
      ],
      "text/html": "<div>\n<style scoped>\n    .dataframe tbody tr th:only-of-type {\n        vertical-align: middle;\n    }\n\n    .dataframe tbody tr th {\n        vertical-align: top;\n    }\n\n    .dataframe thead th {\n        text-align: right;\n    }\n</style>\n<table border=\"1\" class=\"dataframe\">\n  <thead>\n    <tr style=\"text-align: right;\">\n      <th></th>\n      <th>name</th>\n      <th>price</th>\n      <th>ppay</th>\n      <th>shop</th>\n      <th>province</th>\n      <th>city</th>\n      <th>actpay</th>\n      <th>shopkind</th>\n    </tr>\n  </thead>\n  <tbody>\n    <tr>\n      <th>1</th>\n      <td>五芳斋粽子礼盒装鲜肉咸蛋黄大肉粽嘉兴豆沙甜粽端午团购散装礼品</td>\n      <td>89.90</td>\n      <td>1000000</td>\n      <td>五芳斋官方旗舰店</td>\n      <td>浙江</td>\n      <td>嘉兴</td>\n      <td>89900000.00</td>\n      <td>旗舰店</td>\n    </tr>\n    <tr>\n      <th>13</th>\n      <td>真真老老嘉兴粽子礼盒装肉粽糯米鲜肉蛋黄肉大粽子甜粽端午节礼品</td>\n      <td>59.90</td>\n      <td>700000</td>\n      <td>真真老老旗舰店</td>\n      <td>浙江</td>\n      <td>嘉兴</td>\n      <td>41930000.00</td>\n      <td>旗舰店</td>\n    </tr>\n    <tr>\n      <th>195</th>\n      <td>真真老老嘉兴粽子蛋黄肉粽端午粽子礼盒装鲜肉粽子甜粽大粽子团购</td>\n      <td>29.90</td>\n      <td>200000</td>\n      <td>真真老老旗舰店</td>\n      <td>浙江</td>\n      <td>嘉兴</td>\n      <td>5980000.00</td>\n      <td>旗舰店</td>\n    </tr>\n    <tr>\n      <th>61</th>\n      <td>五芳斋粽子礼盒蛋黄肉粽豆沙粽大肉棕子浙江特产新鲜嘉兴粽子肉粽</td>\n      <td>89.90</td>\n      <td>200000</td>\n      <td>五芳斋官方旗舰店</td>\n      <td>浙江</td>\n      <td>嘉兴</td>\n      <td>17980000.00</td>\n      <td>旗舰店</td>\n    </tr>\n    <tr>\n      <th>35</th>\n      <td>五芳斋粽子礼盒装新鲜大肉粽蛋黄猪肉粽豆沙端午食品团购嘉兴特产</td>\n      <td>39.90</td>\n      <td>100000</td>\n      <td>五芳斋浙江专卖店</td>\n      <td>浙江</td>\n      <td>嘉兴</td>\n      <td>3990000.00</td>\n      <td>专卖店/专营店</td>\n    </tr>\n    <tr>\n      <th>115</th>\n      <td>稻香私房嘉兴大蛋黄鲜肉粽甜味蜜枣散装粽子礼盒装端午节特产送礼</td>\n      <td>59.90</td>\n      <td>100000</td>\n      <td>稻香村食品旗舰店</td>\n      <td>北京</td>\n      <td>北京</td>\n      <td>5990000.00</td>\n      <td>旗舰店</td>\n    </tr>\n    <tr>\n      <th>25</th>\n      <td>知味观端午节粽子甜粽咸蛋黄大肉粽礼盒装嘉兴味鲜肉粽子散装团购</td>\n      <td>64.90</td>\n      <td>85000</td>\n      <td>知味观官方旗舰店</td>\n      <td>浙江</td>\n      <td>杭州</td>\n      <td>5516500.00</td>\n      <td>旗舰店</td>\n    </tr>\n    <tr>\n      <th>281</th>\n      <td>粽叶粽子叶粽粑叶免邮新鲜干大号竹叶包粽子的叶子棕叶竹子芦苇叶</td>\n      <td>3.80</td>\n      <td>70000</td>\n      <td>ws10110</td>\n      <td>山东</td>\n      <td>枣庄</td>\n      <td>266000.00</td>\n      <td>专卖店/专营店</td>\n    </tr>\n    <tr>\n      <th>1755</th>\n      <td>真真老老 130g*1真空肉粽 嘉兴粽子 端午特产特色美食食品</td>\n      <td>4.80</td>\n      <td>70000</td>\n      <td>天猫超市</td>\n      <td>上海</td>\n      <td>上海</td>\n      <td>336000.00</td>\n      <td>专卖店/专营店</td>\n    </tr>\n    <tr>\n      <th>803</th>\n      <td>五芳斋粽子礼盒蛋黄肉粽端午节送礼团购肉粽豆沙棕子嘉兴特产粽子</td>\n      <td>89.90</td>\n      <td>65000</td>\n      <td>五芳斋官方旗舰店</td>\n      <td>浙江</td>\n      <td>嘉兴</td>\n      <td>5843500.00</td>\n      <td>旗舰店</td>\n    </tr>\n  </tbody>\n</table>\n</div>"
     },
     "metadata": {},
     "execution_count": 36
    }
   ],
   "source": [
    "df_xl = df.sort_values('ppay',ascending=False)\n",
    "df_xl.head(10)"
   ]
  },
  {
   "source": [
    "可以发现，top5的产品在整个粽子行业有着很大的竞争优势，top5的产品最受欢迎，并且品牌效应很明显，top5都在浙江嘉兴，这说明在浙江嘉兴就是粽子行业的风口。联系地理知识，地方产业的专业化和集中化在浙江嘉兴展露的淋漓尽致；提出一个猜测：天猫超市销售的产品大都数都是这些专业企业所提供的？并且五芳斋的产品热度、品牌知名度非其他产业所能企及，所以我们可以对天猫超市和五芳斋进行进一步的分析；"
   ],
   "cell_type": "markdown",
   "metadata": {}
  },
  {
   "source": [
    "### 4.4 天猫超市分析    根据天猫超市进行关键词提取 略"
   ],
   "cell_type": "markdown",
   "metadata": {}
  },
  {
   "source": [
    "### 4.5 五芳斋系统分析  针对shop里面的关键词提取 略"
   ],
   "cell_type": "markdown",
   "metadata": {}
  },
  {
   "source": [
    "### 4.6 TGI指数分析 name、actpay、province、city"
   ],
   "cell_type": "markdown",
   "metadata": {}
  },
  {
   "cell_type": "code",
   "execution_count": 37,
   "metadata": {},
   "outputs": [
    {
     "output_type": "execute_result",
     "data": {
      "text/plain": [
       "4322"
      ]
     },
     "metadata": {},
     "execution_count": 37
    }
   ],
   "source": [
    "df.shape[0]"
   ]
  },
  {
   "cell_type": "code",
   "execution_count": 38,
   "metadata": {},
   "outputs": [
    {
     "output_type": "execute_result",
     "data": {
      "text/plain": [
       "4126"
      ]
     },
     "metadata": {},
     "execution_count": 38
    }
   ],
   "source": [
    "df.groupby('name')['actpay'].mean().shape[0]"
   ]
  },
  {
   "source": [
    "实际上需要的是买家昵称，但是我们只有产品昵称\n",
    "上面表明还是有重复的产品昵称，我们将某一产品的平均销售额与客单标准值进行比较，这说明上面我们没有考虑重复的name，所以需要进一步的优化"
   ],
   "cell_type": "markdown",
   "metadata": {}
  },
  {
   "cell_type": "code",
   "execution_count": 39,
   "metadata": {},
   "outputs": [
    {
     "output_type": "execute_result",
     "data": {
      "text/plain": [
       "                                name  price     ppay             shop  \\\n",
       "0  北京稻香村端午粽子手工豆沙粽220g*2袋散装豆沙粽香甜软糯豆沙粽  44.00        8             天猫超市   \n",
       "1     五芳斋粽子礼盒装鲜肉咸蛋黄大肉粽嘉兴豆沙甜粽端午团购散装礼品  89.90  1000000         五芳斋官方旗舰店   \n",
       "2     稻香私房鲜肉粽蛋黄肉粽嘉兴粽子咸鸭蛋礼盒装端午节送礼特产团购 138.00     1936         稻香村食品旗舰店   \n",
       "3     嘉兴粽子 蛋黄鲜肉粽新鲜大肉粽早餐散装团购浙江特产蜜枣多口味   3.80     9500            城城喂食猫   \n",
       "4       嘉兴特产粽子礼盒装甜咸粽8粽4味真空手工农家粽端午节团购  58.80       17  chenyan30151467   \n",
       "\n",
       "  province city      actpay shopkind  actpay_sum  \n",
       "0       上海   上海      352.00  专卖店/专营店      352.00  \n",
       "1       浙江   嘉兴 89900000.00      旗舰店 89900000.00  \n",
       "2       北京   北京   267168.00      旗舰店   267168.00  \n",
       "3       浙江   嘉兴    36100.00  专卖店/专营店    18799.70  \n",
       "4       浙江   嘉兴      999.60  专卖店/专营店      999.60  "
      ],
      "text/html": "<div>\n<style scoped>\n    .dataframe tbody tr th:only-of-type {\n        vertical-align: middle;\n    }\n\n    .dataframe tbody tr th {\n        vertical-align: top;\n    }\n\n    .dataframe thead th {\n        text-align: right;\n    }\n</style>\n<table border=\"1\" class=\"dataframe\">\n  <thead>\n    <tr style=\"text-align: right;\">\n      <th></th>\n      <th>name</th>\n      <th>price</th>\n      <th>ppay</th>\n      <th>shop</th>\n      <th>province</th>\n      <th>city</th>\n      <th>actpay</th>\n      <th>shopkind</th>\n      <th>actpay_sum</th>\n    </tr>\n  </thead>\n  <tbody>\n    <tr>\n      <th>0</th>\n      <td>北京稻香村端午粽子手工豆沙粽220g*2袋散装豆沙粽香甜软糯豆沙粽</td>\n      <td>44.00</td>\n      <td>8</td>\n      <td>天猫超市</td>\n      <td>上海</td>\n      <td>上海</td>\n      <td>352.00</td>\n      <td>专卖店/专营店</td>\n      <td>352.00</td>\n    </tr>\n    <tr>\n      <th>1</th>\n      <td>五芳斋粽子礼盒装鲜肉咸蛋黄大肉粽嘉兴豆沙甜粽端午团购散装礼品</td>\n      <td>89.90</td>\n      <td>1000000</td>\n      <td>五芳斋官方旗舰店</td>\n      <td>浙江</td>\n      <td>嘉兴</td>\n      <td>89900000.00</td>\n      <td>旗舰店</td>\n      <td>89900000.00</td>\n    </tr>\n    <tr>\n      <th>2</th>\n      <td>稻香私房鲜肉粽蛋黄肉粽嘉兴粽子咸鸭蛋礼盒装端午节送礼特产团购</td>\n      <td>138.00</td>\n      <td>1936</td>\n      <td>稻香村食品旗舰店</td>\n      <td>北京</td>\n      <td>北京</td>\n      <td>267168.00</td>\n      <td>旗舰店</td>\n      <td>267168.00</td>\n    </tr>\n    <tr>\n      <th>3</th>\n      <td>嘉兴粽子 蛋黄鲜肉粽新鲜大肉粽早餐散装团购浙江特产蜜枣多口味</td>\n      <td>3.80</td>\n      <td>9500</td>\n      <td>城城喂食猫</td>\n      <td>浙江</td>\n      <td>嘉兴</td>\n      <td>36100.00</td>\n      <td>专卖店/专营店</td>\n      <td>18799.70</td>\n    </tr>\n    <tr>\n      <th>4</th>\n      <td>嘉兴特产粽子礼盒装甜咸粽8粽4味真空手工农家粽端午节团购</td>\n      <td>58.80</td>\n      <td>17</td>\n      <td>chenyan30151467</td>\n      <td>浙江</td>\n      <td>嘉兴</td>\n      <td>999.60</td>\n      <td>专卖店/专营店</td>\n      <td>999.60</td>\n    </tr>\n  </tbody>\n</table>\n</div>"
     },
     "metadata": {},
     "execution_count": 39
    }
   ],
   "source": [
    "df['actpay_sum'] = df.groupby('name')['actpay'].transform('mean')#将求平均销售额的分组重复展开，将name作为判断条件\n",
    "# df.shape[0]3依旧是4322行,实际我们需要的还是4126行\n",
    "df.head(5)"
   ]
  },
  {
   "cell_type": "code",
   "execution_count": 40,
   "metadata": {},
   "outputs": [
    {
     "output_type": "execute_result",
     "data": {
      "text/plain": [
       "                                name  price  ppay   shop province city  \\\n",
       "3     嘉兴粽子 蛋黄鲜肉粽新鲜大肉粽早餐散装团购浙江特产蜜枣多口味   3.80  9500  城城喂食猫       浙江   嘉兴   \n",
       "3850  嘉兴粽子 蛋黄鲜肉粽新鲜大肉粽早餐散装团购浙江特产蜜枣多口味  23.80    63  城城喂食猫       浙江   嘉兴   \n",
       "\n",
       "       actpay shopkind  actpay_sum  \n",
       "3    36100.00  专卖店/专营店    18799.70  \n",
       "3850  1499.40  专卖店/专营店    18799.70  "
      ],
      "text/html": "<div>\n<style scoped>\n    .dataframe tbody tr th:only-of-type {\n        vertical-align: middle;\n    }\n\n    .dataframe tbody tr th {\n        vertical-align: top;\n    }\n\n    .dataframe thead th {\n        text-align: right;\n    }\n</style>\n<table border=\"1\" class=\"dataframe\">\n  <thead>\n    <tr style=\"text-align: right;\">\n      <th></th>\n      <th>name</th>\n      <th>price</th>\n      <th>ppay</th>\n      <th>shop</th>\n      <th>province</th>\n      <th>city</th>\n      <th>actpay</th>\n      <th>shopkind</th>\n      <th>actpay_sum</th>\n    </tr>\n  </thead>\n  <tbody>\n    <tr>\n      <th>3</th>\n      <td>嘉兴粽子 蛋黄鲜肉粽新鲜大肉粽早餐散装团购浙江特产蜜枣多口味</td>\n      <td>3.80</td>\n      <td>9500</td>\n      <td>城城喂食猫</td>\n      <td>浙江</td>\n      <td>嘉兴</td>\n      <td>36100.00</td>\n      <td>专卖店/专营店</td>\n      <td>18799.70</td>\n    </tr>\n    <tr>\n      <th>3850</th>\n      <td>嘉兴粽子 蛋黄鲜肉粽新鲜大肉粽早餐散装团购浙江特产蜜枣多口味</td>\n      <td>23.80</td>\n      <td>63</td>\n      <td>城城喂食猫</td>\n      <td>浙江</td>\n      <td>嘉兴</td>\n      <td>1499.40</td>\n      <td>专卖店/专营店</td>\n      <td>18799.70</td>\n    </tr>\n  </tbody>\n</table>\n</div>"
     },
     "metadata": {},
     "execution_count": 40
    }
   ],
   "source": [
    "#删去重复name，但先判断provinde，city是否一致,\n",
    "df[df.name=='嘉兴粽子 蛋黄鲜肉粽新鲜大肉粽早餐散装团购浙江特产蜜枣多口味']"
   ]
  },
  {
   "cell_type": "code",
   "execution_count": 41,
   "metadata": {},
   "outputs": [
    {
     "output_type": "execute_result",
     "data": {
      "text/plain": [
       "4146"
      ]
     },
     "metadata": {},
     "execution_count": 41
    }
   ],
   "source": [
    "df1 = df.drop_duplicates(subset=['name','province','city'])\n",
    "df1.shape[0]#4146-4126=20，还存在20个重复值，但可以忽略不计，以这三个条件来作为标准，但是会与平均销售额所不匹配"
   ]
  },
  {
   "source": [
    "基本可以忽略不计，所以可以直接按照name删除"
   ],
   "cell_type": "markdown",
   "metadata": {}
  },
  {
   "cell_type": "code",
   "execution_count": 42,
   "metadata": {},
   "outputs": [
    {
     "output_type": "execute_result",
     "data": {
      "text/plain": [
       "(4126, 3)"
      ]
     },
     "metadata": {},
     "execution_count": 42
    }
   ],
   "source": [
    "df_kd = df.drop_duplicates(subset=['name'])\n",
    "# df_kd.shape[0]\n",
    "df_kd= df_kd[['name','province','city']]\n",
    "df_kd.shape"
   ]
  },
  {
   "cell_type": "code",
   "execution_count": 43,
   "metadata": {},
   "outputs": [
    {
     "output_type": "execute_result",
     "data": {
      "text/plain": [
       "(4126, 2)"
      ]
     },
     "metadata": {},
     "execution_count": 43
    }
   ],
   "source": [
    "df_act = df.groupby('name',as_index=False)['actpay'].mean()\n",
    "df_act.columns = ['name','act_num']\n",
    "df_act.shape"
   ]
  },
  {
   "cell_type": "code",
   "execution_count": 44,
   "metadata": {},
   "outputs": [
    {
     "output_type": "execute_result",
     "data": {
      "text/plain": [
       "                                  name  act_num\n",
       "0   100g*10只棕子嘉兴特产五芳斋端午节新鲜肉粽子 量贩装美味鲜猪肉  2227.50\n",
       "1    100g*16个嘉禾斋匠心手造粽子豆沙梅干菜肉紫米肉粽蛋黄粽原味蜜   299.50\n",
       "2  10个X250g熊家粽子礼盒装 贵州特产 贞丰粽子 熊家鲜肉板栗灰粽粑  3754.40\n",
       "3          10个伍荣昌粽子海南定安黑猪肉蛋黄粽子新旧包装随机发货  8272.00\n",
       "4      10个贵州特产兴义贞丰余家粽粑板栗鲜肉粽农家手工大灰粽子礼盒装  5846.40"
      ],
      "text/html": "<div>\n<style scoped>\n    .dataframe tbody tr th:only-of-type {\n        vertical-align: middle;\n    }\n\n    .dataframe tbody tr th {\n        vertical-align: top;\n    }\n\n    .dataframe thead th {\n        text-align: right;\n    }\n</style>\n<table border=\"1\" class=\"dataframe\">\n  <thead>\n    <tr style=\"text-align: right;\">\n      <th></th>\n      <th>name</th>\n      <th>act_num</th>\n    </tr>\n  </thead>\n  <tbody>\n    <tr>\n      <th>0</th>\n      <td>100g*10只棕子嘉兴特产五芳斋端午节新鲜肉粽子 量贩装美味鲜猪肉</td>\n      <td>2227.50</td>\n    </tr>\n    <tr>\n      <th>1</th>\n      <td>100g*16个嘉禾斋匠心手造粽子豆沙梅干菜肉紫米肉粽蛋黄粽原味蜜</td>\n      <td>299.50</td>\n    </tr>\n    <tr>\n      <th>2</th>\n      <td>10个X250g熊家粽子礼盒装 贵州特产 贞丰粽子 熊家鲜肉板栗灰粽粑</td>\n      <td>3754.40</td>\n    </tr>\n    <tr>\n      <th>3</th>\n      <td>10个伍荣昌粽子海南定安黑猪肉蛋黄粽子新旧包装随机发货</td>\n      <td>8272.00</td>\n    </tr>\n    <tr>\n      <th>4</th>\n      <td>10个贵州特产兴义贞丰余家粽粑板栗鲜肉粽农家手工大灰粽子礼盒装</td>\n      <td>5846.40</td>\n    </tr>\n  </tbody>\n</table>\n</div>"
     },
     "metadata": {},
     "execution_count": 44
    }
   ],
   "source": [
    "df_act.head()"
   ]
  },
  {
   "cell_type": "code",
   "execution_count": 45,
   "metadata": {},
   "outputs": [],
   "source": [
    "#添加客单类别\n",
    "# df_act['kdkind'] = ['高客单' if i>7000 else '低客单' for i in df_act.act_num]#过高，修改一波\n",
    "# df_act['kdkind'] = ['高客单' if i>5000 else '低客单' for i in df_act.act_num]#不够优化\n",
    "df_act['kdkind'] = ['高客单' if i>4000 else '低客单' for i in df_act.act_num]"
   ]
  },
  {
   "cell_type": "code",
   "execution_count": 46,
   "metadata": {},
   "outputs": [],
   "source": [
    "df_act = df_act[['name','kdkind']]"
   ]
  },
  {
   "cell_type": "code",
   "execution_count": 47,
   "metadata": {},
   "outputs": [
    {
     "output_type": "execute_result",
     "data": {
      "text/plain": [
       "                                name province city kdkind\n",
       "0  北京稻香村端午粽子手工豆沙粽220g*2袋散装豆沙粽香甜软糯豆沙粽       上海   上海    低客单\n",
       "1     五芳斋粽子礼盒装鲜肉咸蛋黄大肉粽嘉兴豆沙甜粽端午团购散装礼品       浙江   嘉兴    高客单\n",
       "2     稻香私房鲜肉粽蛋黄肉粽嘉兴粽子咸鸭蛋礼盒装端午节送礼特产团购       北京   北京    高客单\n",
       "3     嘉兴粽子 蛋黄鲜肉粽新鲜大肉粽早餐散装团购浙江特产蜜枣多口味       浙江   嘉兴    高客单\n",
       "4       嘉兴特产粽子礼盒装甜咸粽8粽4味真空手工农家粽端午节团购       浙江   嘉兴    低客单"
      ],
      "text/html": "<div>\n<style scoped>\n    .dataframe tbody tr th:only-of-type {\n        vertical-align: middle;\n    }\n\n    .dataframe tbody tr th {\n        vertical-align: top;\n    }\n\n    .dataframe thead th {\n        text-align: right;\n    }\n</style>\n<table border=\"1\" class=\"dataframe\">\n  <thead>\n    <tr style=\"text-align: right;\">\n      <th></th>\n      <th>name</th>\n      <th>province</th>\n      <th>city</th>\n      <th>kdkind</th>\n    </tr>\n  </thead>\n  <tbody>\n    <tr>\n      <th>0</th>\n      <td>北京稻香村端午粽子手工豆沙粽220g*2袋散装豆沙粽香甜软糯豆沙粽</td>\n      <td>上海</td>\n      <td>上海</td>\n      <td>低客单</td>\n    </tr>\n    <tr>\n      <th>1</th>\n      <td>五芳斋粽子礼盒装鲜肉咸蛋黄大肉粽嘉兴豆沙甜粽端午团购散装礼品</td>\n      <td>浙江</td>\n      <td>嘉兴</td>\n      <td>高客单</td>\n    </tr>\n    <tr>\n      <th>2</th>\n      <td>稻香私房鲜肉粽蛋黄肉粽嘉兴粽子咸鸭蛋礼盒装端午节送礼特产团购</td>\n      <td>北京</td>\n      <td>北京</td>\n      <td>高客单</td>\n    </tr>\n    <tr>\n      <th>3</th>\n      <td>嘉兴粽子 蛋黄鲜肉粽新鲜大肉粽早餐散装团购浙江特产蜜枣多口味</td>\n      <td>浙江</td>\n      <td>嘉兴</td>\n      <td>高客单</td>\n    </tr>\n    <tr>\n      <th>4</th>\n      <td>嘉兴特产粽子礼盒装甜咸粽8粽4味真空手工农家粽端午节团购</td>\n      <td>浙江</td>\n      <td>嘉兴</td>\n      <td>低客单</td>\n    </tr>\n  </tbody>\n</table>\n</div>"
     },
     "metadata": {},
     "execution_count": 47
    }
   ],
   "source": [
    "df_kd = df_kd.merge(df_act,on='name',how='inner')\n",
    "df_kd.head()"
   ]
  },
  {
   "cell_type": "code",
   "execution_count": 48,
   "metadata": {},
   "outputs": [
    {
     "output_type": "stream",
     "name": "stdout",
     "text": [
      "<class 'pandas.core.frame.DataFrame'>\nInt64Index: 4126 entries, 0 to 4125\nData columns (total 4 columns):\n #   Column    Non-Null Count  Dtype \n---  ------    --------------  ----- \n 0   name      4126 non-null   object\n 1   province  4126 non-null   object\n 2   city      4126 non-null   object\n 3   kdkind    4126 non-null   object\ndtypes: object(4)\nmemory usage: 161.2+ KB\n"
     ]
    }
   ],
   "source": [
    "df_kd.info()"
   ]
  },
  {
   "cell_type": "code",
   "execution_count": 49,
   "metadata": {},
   "outputs": [],
   "source": [
    "# df_result = pd.pivot_table(df_kd,index=['province','city'],columns=['kdkind'],aggfunc='count')\n",
    "# df_result"
   ]
  },
  {
   "source": [
    "df_result = df_kd.groupby(['province','city'])['kdkind'].value_counts().unstack()\n",
    "df_result.info()"
   ],
   "cell_type": "code",
   "metadata": {},
   "execution_count": 50,
   "outputs": [
    {
     "output_type": "stream",
     "name": "stdout",
     "text": [
      "<class 'pandas.core.frame.DataFrame'>\nMultiIndex: 164 entries, ('上海', '上海') to ('黑龙', ' 大')\nData columns (total 2 columns):\n #   Column  Non-Null Count  Dtype  \n---  ------  --------------  -----  \n 0   低客单     147 non-null    float64\n 1   高客单     132 non-null    float64\ndtypes: float64(2)\nmemory usage: 4.7+ KB\n"
     ]
    }
   ]
  },
  {
   "cell_type": "code",
   "execution_count": 51,
   "metadata": {},
   "outputs": [],
   "source": [
    "#删除NaN值\n",
    "df_result.dropna(inplace=True)"
   ]
  },
  {
   "cell_type": "code",
   "execution_count": 52,
   "metadata": {},
   "outputs": [
    {
     "output_type": "execute_result",
     "data": {
      "text/plain": [
       "kdkind           低客单    高客单\n",
       "province city              \n",
       "浙江       嘉兴   475.00 584.00\n",
       "上海       上海   240.00 284.00\n",
       "北京       北京   133.00 188.00\n",
       "浙江       杭州    71.00 103.00\n",
       "四川       成都    69.00  91.00\n",
       "广东       广州    44.00  50.00\n",
       "         肇庆    48.00  47.00\n",
       "河南       郑州    32.00  45.00\n",
       "浙江       湖州    26.00  38.00\n",
       "广东       东莞    32.00  34.00"
      ],
      "text/html": "<div>\n<style scoped>\n    .dataframe tbody tr th:only-of-type {\n        vertical-align: middle;\n    }\n\n    .dataframe tbody tr th {\n        vertical-align: top;\n    }\n\n    .dataframe thead th {\n        text-align: right;\n    }\n</style>\n<table border=\"1\" class=\"dataframe\">\n  <thead>\n    <tr style=\"text-align: right;\">\n      <th></th>\n      <th>kdkind</th>\n      <th>低客单</th>\n      <th>高客单</th>\n    </tr>\n    <tr>\n      <th>province</th>\n      <th>city</th>\n      <th></th>\n      <th></th>\n    </tr>\n  </thead>\n  <tbody>\n    <tr>\n      <th>浙江</th>\n      <th>嘉兴</th>\n      <td>475.00</td>\n      <td>584.00</td>\n    </tr>\n    <tr>\n      <th>上海</th>\n      <th>上海</th>\n      <td>240.00</td>\n      <td>284.00</td>\n    </tr>\n    <tr>\n      <th>北京</th>\n      <th>北京</th>\n      <td>133.00</td>\n      <td>188.00</td>\n    </tr>\n    <tr>\n      <th>浙江</th>\n      <th>杭州</th>\n      <td>71.00</td>\n      <td>103.00</td>\n    </tr>\n    <tr>\n      <th>四川</th>\n      <th>成都</th>\n      <td>69.00</td>\n      <td>91.00</td>\n    </tr>\n    <tr>\n      <th rowspan=\"2\" valign=\"top\">广东</th>\n      <th>广州</th>\n      <td>44.00</td>\n      <td>50.00</td>\n    </tr>\n    <tr>\n      <th>肇庆</th>\n      <td>48.00</td>\n      <td>47.00</td>\n    </tr>\n    <tr>\n      <th>河南</th>\n      <th>郑州</th>\n      <td>32.00</td>\n      <td>45.00</td>\n    </tr>\n    <tr>\n      <th>浙江</th>\n      <th>湖州</th>\n      <td>26.00</td>\n      <td>38.00</td>\n    </tr>\n    <tr>\n      <th>广东</th>\n      <th>东莞</th>\n      <td>32.00</td>\n      <td>34.00</td>\n    </tr>\n  </tbody>\n</table>\n</div>"
     },
     "metadata": {},
     "execution_count": 52
    }
   ],
   "source": [
    "df_result.sort_values('高客单',ascending=False).head(10)"
   ]
  },
  {
   "source": [
    "这里初步估计：我们给定的标准值7000过高，浙江的高客单都低于低客单。故修改成5000，"
   ],
   "cell_type": "markdown",
   "metadata": {}
  },
  {
   "cell_type": "code",
   "execution_count": 53,
   "metadata": {},
   "outputs": [
    {
     "output_type": "execute_result",
     "data": {
      "text/plain": [
       "kdkind          低客单   高客单  kd_total  unit_mix  total_mix  final_mix\n",
       "province city                                                      \n",
       "江西       宜春    1.00  6.00      7.00      0.86       0.53     162.33\n",
       "山东       枣庄    3.00 15.00     18.00      0.83       0.53     157.82\n",
       "湖北       荆州    1.00  4.00      5.00      0.80       0.53     151.51\n",
       "广东       梅州    1.00  3.00      4.00      0.75       0.53     142.04\n",
       "山西       晋中    1.00  3.00      4.00      0.75       0.53     142.04\n",
       "         大同    1.00  3.00      4.00      0.75       0.53     142.04\n",
       "四川       乐山    1.00  3.00      4.00      0.75       0.53     142.04\n",
       "河南       漯河    1.00  3.00      4.00      0.75       0.53     142.04\n",
       "浙江       温州   10.00 28.00     38.00      0.74       0.53     139.55\n",
       "河南       新乡    2.00  5.00      7.00      0.71       0.53     135.27"
      ],
      "text/html": "<div>\n<style scoped>\n    .dataframe tbody tr th:only-of-type {\n        vertical-align: middle;\n    }\n\n    .dataframe tbody tr th {\n        vertical-align: top;\n    }\n\n    .dataframe thead th {\n        text-align: right;\n    }\n</style>\n<table border=\"1\" class=\"dataframe\">\n  <thead>\n    <tr style=\"text-align: right;\">\n      <th></th>\n      <th>kdkind</th>\n      <th>低客单</th>\n      <th>高客单</th>\n      <th>kd_total</th>\n      <th>unit_mix</th>\n      <th>total_mix</th>\n      <th>final_mix</th>\n    </tr>\n    <tr>\n      <th>province</th>\n      <th>city</th>\n      <th></th>\n      <th></th>\n      <th></th>\n      <th></th>\n      <th></th>\n      <th></th>\n    </tr>\n  </thead>\n  <tbody>\n    <tr>\n      <th>江西</th>\n      <th>宜春</th>\n      <td>1.00</td>\n      <td>6.00</td>\n      <td>7.00</td>\n      <td>0.86</td>\n      <td>0.53</td>\n      <td>162.33</td>\n    </tr>\n    <tr>\n      <th>山东</th>\n      <th>枣庄</th>\n      <td>3.00</td>\n      <td>15.00</td>\n      <td>18.00</td>\n      <td>0.83</td>\n      <td>0.53</td>\n      <td>157.82</td>\n    </tr>\n    <tr>\n      <th>湖北</th>\n      <th>荆州</th>\n      <td>1.00</td>\n      <td>4.00</td>\n      <td>5.00</td>\n      <td>0.80</td>\n      <td>0.53</td>\n      <td>151.51</td>\n    </tr>\n    <tr>\n      <th>广东</th>\n      <th>梅州</th>\n      <td>1.00</td>\n      <td>3.00</td>\n      <td>4.00</td>\n      <td>0.75</td>\n      <td>0.53</td>\n      <td>142.04</td>\n    </tr>\n    <tr>\n      <th rowspan=\"2\" valign=\"top\">山西</th>\n      <th>晋中</th>\n      <td>1.00</td>\n      <td>3.00</td>\n      <td>4.00</td>\n      <td>0.75</td>\n      <td>0.53</td>\n      <td>142.04</td>\n    </tr>\n    <tr>\n      <th>大同</th>\n      <td>1.00</td>\n      <td>3.00</td>\n      <td>4.00</td>\n      <td>0.75</td>\n      <td>0.53</td>\n      <td>142.04</td>\n    </tr>\n    <tr>\n      <th>四川</th>\n      <th>乐山</th>\n      <td>1.00</td>\n      <td>3.00</td>\n      <td>4.00</td>\n      <td>0.75</td>\n      <td>0.53</td>\n      <td>142.04</td>\n    </tr>\n    <tr>\n      <th>河南</th>\n      <th>漯河</th>\n      <td>1.00</td>\n      <td>3.00</td>\n      <td>4.00</td>\n      <td>0.75</td>\n      <td>0.53</td>\n      <td>142.04</td>\n    </tr>\n    <tr>\n      <th>浙江</th>\n      <th>温州</th>\n      <td>10.00</td>\n      <td>28.00</td>\n      <td>38.00</td>\n      <td>0.74</td>\n      <td>0.53</td>\n      <td>139.55</td>\n    </tr>\n    <tr>\n      <th>河南</th>\n      <th>新乡</th>\n      <td>2.00</td>\n      <td>5.00</td>\n      <td>7.00</td>\n      <td>0.71</td>\n      <td>0.53</td>\n      <td>135.27</td>\n    </tr>\n  </tbody>\n</table>\n</div>"
     },
     "metadata": {},
     "execution_count": 53
    }
   ],
   "source": [
    "tgi = df_result\n",
    "tgi['kd_total'] = (df_result.高客单+df_result.低客单)\n",
    "tgi['unit_mix'] = df_result.高客单/tgi['kd_total']#每个城市的单位占比\n",
    "tgi['total_mix'] = df_result.高客单.sum()/(df_result.高客单.sum()+df_result.低客单.sum())\n",
    "tgi['final_mix'] = tgi['unit_mix']/tgi['total_mix']*100\n",
    "tgi.sort_values('final_mix',ascending=False).head(10)"
   ]
  },
  {
   "source": [
    "发现我们一直期待的浙江呢？所以我们还需要将客单总数<平均值的行进行作为无效数据处理"
   ],
   "cell_type": "markdown",
   "metadata": {}
  },
  {
   "cell_type": "code",
   "execution_count": 54,
   "metadata": {},
   "outputs": [
    {
     "output_type": "execute_result",
     "data": {
      "text/plain": [
       "kdkind           低客单    高客单  kd_total  unit_mix  total_mix  final_mix\n",
       "province city                                                        \n",
       "浙江       温州    10.00  28.00     38.00      0.74       0.53     139.55\n",
       "         金华    15.00  28.00     43.00      0.65       0.53     123.32\n",
       "福建       泉州    14.00  25.00     39.00      0.64       0.53     121.40\n",
       "浙江       宁波    18.00  32.00     50.00      0.64       0.53     121.21\n",
       "福建       厦门    19.00  29.00     48.00      0.60       0.53     114.42\n",
       "浙江       湖州    26.00  38.00     64.00      0.59       0.53     112.45\n",
       "         杭州    71.00 103.00    174.00      0.59       0.53     112.11\n",
       "北京       北京   133.00 188.00    321.00      0.59       0.53     110.92\n",
       "河南       郑州    32.00  45.00     77.00      0.58       0.53     110.68\n",
       "四川       成都    69.00  91.00    160.00      0.57       0.53     107.71"
      ],
      "text/html": "<div>\n<style scoped>\n    .dataframe tbody tr th:only-of-type {\n        vertical-align: middle;\n    }\n\n    .dataframe tbody tr th {\n        vertical-align: top;\n    }\n\n    .dataframe thead th {\n        text-align: right;\n    }\n</style>\n<table border=\"1\" class=\"dataframe\">\n  <thead>\n    <tr style=\"text-align: right;\">\n      <th></th>\n      <th>kdkind</th>\n      <th>低客单</th>\n      <th>高客单</th>\n      <th>kd_total</th>\n      <th>unit_mix</th>\n      <th>total_mix</th>\n      <th>final_mix</th>\n    </tr>\n    <tr>\n      <th>province</th>\n      <th>city</th>\n      <th></th>\n      <th></th>\n      <th></th>\n      <th></th>\n      <th></th>\n      <th></th>\n    </tr>\n  </thead>\n  <tbody>\n    <tr>\n      <th rowspan=\"2\" valign=\"top\">浙江</th>\n      <th>温州</th>\n      <td>10.00</td>\n      <td>28.00</td>\n      <td>38.00</td>\n      <td>0.74</td>\n      <td>0.53</td>\n      <td>139.55</td>\n    </tr>\n    <tr>\n      <th>金华</th>\n      <td>15.00</td>\n      <td>28.00</td>\n      <td>43.00</td>\n      <td>0.65</td>\n      <td>0.53</td>\n      <td>123.32</td>\n    </tr>\n    <tr>\n      <th>福建</th>\n      <th>泉州</th>\n      <td>14.00</td>\n      <td>25.00</td>\n      <td>39.00</td>\n      <td>0.64</td>\n      <td>0.53</td>\n      <td>121.40</td>\n    </tr>\n    <tr>\n      <th>浙江</th>\n      <th>宁波</th>\n      <td>18.00</td>\n      <td>32.00</td>\n      <td>50.00</td>\n      <td>0.64</td>\n      <td>0.53</td>\n      <td>121.21</td>\n    </tr>\n    <tr>\n      <th>福建</th>\n      <th>厦门</th>\n      <td>19.00</td>\n      <td>29.00</td>\n      <td>48.00</td>\n      <td>0.60</td>\n      <td>0.53</td>\n      <td>114.42</td>\n    </tr>\n    <tr>\n      <th rowspan=\"2\" valign=\"top\">浙江</th>\n      <th>湖州</th>\n      <td>26.00</td>\n      <td>38.00</td>\n      <td>64.00</td>\n      <td>0.59</td>\n      <td>0.53</td>\n      <td>112.45</td>\n    </tr>\n    <tr>\n      <th>杭州</th>\n      <td>71.00</td>\n      <td>103.00</td>\n      <td>174.00</td>\n      <td>0.59</td>\n      <td>0.53</td>\n      <td>112.11</td>\n    </tr>\n    <tr>\n      <th>北京</th>\n      <th>北京</th>\n      <td>133.00</td>\n      <td>188.00</td>\n      <td>321.00</td>\n      <td>0.59</td>\n      <td>0.53</td>\n      <td>110.92</td>\n    </tr>\n    <tr>\n      <th>河南</th>\n      <th>郑州</th>\n      <td>32.00</td>\n      <td>45.00</td>\n      <td>77.00</td>\n      <td>0.58</td>\n      <td>0.53</td>\n      <td>110.68</td>\n    </tr>\n    <tr>\n      <th>四川</th>\n      <th>成都</th>\n      <td>69.00</td>\n      <td>91.00</td>\n      <td>160.00</td>\n      <td>0.57</td>\n      <td>0.53</td>\n      <td>107.71</td>\n    </tr>\n  </tbody>\n</table>\n</div>"
     },
     "metadata": {},
     "execution_count": 54
    }
   ],
   "source": [
    "tgi = tgi.loc[tgi['kd_total']>tgi['kd_total'].mean()]\n",
    "tgi.sort_values('final_mix',ascending=False).head(10)"
   ]
  },
  {
   "source": [
    "以为结束了，但是猛的发现我的浙江嘉兴呢？上海呢？所以感觉还不够优化  这里我们直接定义高客单要大于mean才行，或者继续优化标准值"
   ],
   "cell_type": "markdown",
   "metadata": {}
  },
  {
   "cell_type": "code",
   "execution_count": 55,
   "metadata": {},
   "outputs": [
    {
     "output_type": "execute_result",
     "data": {
      "text/plain": [
       "kdkind         lower_kd  hight_kd  kd_total  unit_mix  total_mix  final_mix\n",
       "province city                                                              \n",
       "浙江       杭州       71.00    103.00    174.00      0.59       0.53     112.11\n",
       "北京       北京      133.00    188.00    321.00      0.59       0.53     110.92\n",
       "四川       成都       69.00     91.00    160.00      0.57       0.53     107.71\n",
       "浙江       嘉兴      475.00    584.00   1059.00      0.55       0.53     104.44\n",
       "上海       上海      240.00    284.00    524.00      0.54       0.53     102.64"
      ],
      "text/html": "<div>\n<style scoped>\n    .dataframe tbody tr th:only-of-type {\n        vertical-align: middle;\n    }\n\n    .dataframe tbody tr th {\n        vertical-align: top;\n    }\n\n    .dataframe thead th {\n        text-align: right;\n    }\n</style>\n<table border=\"1\" class=\"dataframe\">\n  <thead>\n    <tr style=\"text-align: right;\">\n      <th></th>\n      <th>kdkind</th>\n      <th>lower_kd</th>\n      <th>hight_kd</th>\n      <th>kd_total</th>\n      <th>unit_mix</th>\n      <th>total_mix</th>\n      <th>final_mix</th>\n    </tr>\n    <tr>\n      <th>province</th>\n      <th>city</th>\n      <th></th>\n      <th></th>\n      <th></th>\n      <th></th>\n      <th></th>\n      <th></th>\n    </tr>\n  </thead>\n  <tbody>\n    <tr>\n      <th>浙江</th>\n      <th>杭州</th>\n      <td>71.00</td>\n      <td>103.00</td>\n      <td>174.00</td>\n      <td>0.59</td>\n      <td>0.53</td>\n      <td>112.11</td>\n    </tr>\n    <tr>\n      <th>北京</th>\n      <th>北京</th>\n      <td>133.00</td>\n      <td>188.00</td>\n      <td>321.00</td>\n      <td>0.59</td>\n      <td>0.53</td>\n      <td>110.92</td>\n    </tr>\n    <tr>\n      <th>四川</th>\n      <th>成都</th>\n      <td>69.00</td>\n      <td>91.00</td>\n      <td>160.00</td>\n      <td>0.57</td>\n      <td>0.53</td>\n      <td>107.71</td>\n    </tr>\n    <tr>\n      <th>浙江</th>\n      <th>嘉兴</th>\n      <td>475.00</td>\n      <td>584.00</td>\n      <td>1059.00</td>\n      <td>0.55</td>\n      <td>0.53</td>\n      <td>104.44</td>\n    </tr>\n    <tr>\n      <th>上海</th>\n      <th>上海</th>\n      <td>240.00</td>\n      <td>284.00</td>\n      <td>524.00</td>\n      <td>0.54</td>\n      <td>0.53</td>\n      <td>102.64</td>\n    </tr>\n  </tbody>\n</table>\n</div>"
     },
     "metadata": {},
     "execution_count": 55
    }
   ],
   "source": [
    "#先重命名一下：\n",
    "tgi.rename(columns={'高客单':'hight_kd', '低客单':'lower_kd'}, inplace=True)\n",
    "tgi = tgi.loc[tgi['hight_kd']>tgi['hight_kd'].mean()]\n",
    "tgi.sort_values('final_mix',ascending=False)#.head(10)"
   ]
  },
  {
   "source": [
    "当我们把标准客单类别值定义为5000时，浙江嘉兴的高客单虽然很多，但是低客单十分接近高客单，所以我们应该还是不够优化！这里我们计算一下平均ppay x 平均price\n",
    "当我们把标准客单类别值定义为4000时，感觉还比较可以接受，能够客观反映一些事实。因此，高客单的城市主要是杭州、北京、成都、嘉兴、上海；综合比较嘉兴、北京、上海的消费潜力最大，竞争能力也最强劲"
   ],
   "cell_type": "markdown",
   "metadata": {}
  },
  {
   "cell_type": "code",
   "execution_count": 56,
   "metadata": {},
   "outputs": [
    {
     "output_type": "execute_result",
     "data": {
      "text/plain": [
       "931.3711582889754"
      ]
     },
     "metadata": {},
     "execution_count": 56
    }
   ],
   "source": [
    "(df.actpay.max()-df.ppay.mean()*df.price.mean())/(df.ppay.mean()*df.price.mean()-df.actpay.min())"
   ]
  },
  {
   "cell_type": "code",
   "execution_count": 57,
   "metadata": {},
   "outputs": [
    {
     "output_type": "execute_result",
     "data": {
      "text/plain": [
       "1261.5567232220394"
      ]
     },
     "metadata": {},
     "execution_count": 57
    }
   ],
   "source": [
    "(df.actpay.max()-df.actpay.mean())/(df.actpay.mean()-df.actpay.min())"
   ]
  },
  {
   "source": [
    "因此估计理论客单类别标准值为1300~2000最为合适，但是实际上一周2000得到一天300，感觉过低；一天500差不多了，3500~4000比较合适"
   ],
   "cell_type": "markdown",
   "metadata": {}
  },
  {
   "source": [
    "### 4.7 根据销量分析消费者最能接受的价格，为商家定义最合适的价格"
   ],
   "cell_type": "markdown",
   "metadata": {}
  },
  {
   "cell_type": "code",
   "execution_count": 58,
   "metadata": {},
   "outputs": [
    {
     "output_type": "execute_result",
     "data": {
      "text/plain": [
       "     price  counts\n",
       "248  39.90     150\n",
       "328  59.90     126\n",
       "293  49.90     111\n",
       "182  29.90     104\n",
       "362  69.90      89"
      ],
      "text/html": "<div>\n<style scoped>\n    .dataframe tbody tr th:only-of-type {\n        vertical-align: middle;\n    }\n\n    .dataframe tbody tr th {\n        vertical-align: top;\n    }\n\n    .dataframe thead th {\n        text-align: right;\n    }\n</style>\n<table border=\"1\" class=\"dataframe\">\n  <thead>\n    <tr style=\"text-align: right;\">\n      <th></th>\n      <th>price</th>\n      <th>counts</th>\n    </tr>\n  </thead>\n  <tbody>\n    <tr>\n      <th>248</th>\n      <td>39.90</td>\n      <td>150</td>\n    </tr>\n    <tr>\n      <th>328</th>\n      <td>59.90</td>\n      <td>126</td>\n    </tr>\n    <tr>\n      <th>293</th>\n      <td>49.90</td>\n      <td>111</td>\n    </tr>\n    <tr>\n      <th>182</th>\n      <td>29.90</td>\n      <td>104</td>\n    </tr>\n    <tr>\n      <th>362</th>\n      <td>69.90</td>\n      <td>89</td>\n    </tr>\n  </tbody>\n</table>\n</div>"
     },
     "metadata": {},
     "execution_count": 58
    }
   ],
   "source": [
    "#先统计价格\n",
    "df_p = df.groupby('price',as_index=False)['ppay'].count()\n",
    "df_p.columns = ['price','counts']\n",
    "df_p.sort_values('counts',ascending=False).head()"
   ]
  },
  {
   "source": [
    "df_p1 = df.groupby('price',as_index=False)['ppay'].mean()\n",
    "#得到统计top5的价格对应的平均销量，以此来作为最优价格的依据\n",
    "df_p = df_p.merge(df_p1,on='price',how='left')\n",
    "df_p['ppay'] = df_p['ppay'].astype(int)\n",
    "df_p.sort_values('counts',ascending=False).head()"
   ],
   "cell_type": "code",
   "metadata": {},
   "execution_count": 59,
   "outputs": [
    {
     "output_type": "execute_result",
     "data": {
      "text/plain": [
       "     price  counts  ppay\n",
       "248  39.90     150  2511\n",
       "328  59.90     126  7399\n",
       "293  49.90     111   879\n",
       "182  29.90     104  2860\n",
       "362  69.90      89   776"
      ],
      "text/html": "<div>\n<style scoped>\n    .dataframe tbody tr th:only-of-type {\n        vertical-align: middle;\n    }\n\n    .dataframe tbody tr th {\n        vertical-align: top;\n    }\n\n    .dataframe thead th {\n        text-align: right;\n    }\n</style>\n<table border=\"1\" class=\"dataframe\">\n  <thead>\n    <tr style=\"text-align: right;\">\n      <th></th>\n      <th>price</th>\n      <th>counts</th>\n      <th>ppay</th>\n    </tr>\n  </thead>\n  <tbody>\n    <tr>\n      <th>248</th>\n      <td>39.90</td>\n      <td>150</td>\n      <td>2511</td>\n    </tr>\n    <tr>\n      <th>328</th>\n      <td>59.90</td>\n      <td>126</td>\n      <td>7399</td>\n    </tr>\n    <tr>\n      <th>293</th>\n      <td>49.90</td>\n      <td>111</td>\n      <td>879</td>\n    </tr>\n    <tr>\n      <th>182</th>\n      <td>29.90</td>\n      <td>104</td>\n      <td>2860</td>\n    </tr>\n    <tr>\n      <th>362</th>\n      <td>69.90</td>\n      <td>89</td>\n      <td>776</td>\n    </tr>\n  </tbody>\n</table>\n</div>"
     },
     "metadata": {},
     "execution_count": 59
    }
   ]
  },
  {
   "cell_type": "code",
   "execution_count": 60,
   "metadata": {},
   "outputs": [
    {
     "output_type": "execute_result",
     "data": {
      "text/plain": [
       "74.28209625173452"
      ]
     },
     "metadata": {},
     "execution_count": 60
    }
   ],
   "source": [
    "df.price.mean()"
   ]
  },
  {
   "cell_type": "code",
   "execution_count": 61,
   "metadata": {},
   "outputs": [
    {
     "output_type": "execute_result",
     "data": {
      "text/plain": [
       "1780.0"
      ]
     },
     "metadata": {},
     "execution_count": 61
    }
   ],
   "source": [
    "df.price.max()"
   ]
  },
  {
   "cell_type": "code",
   "execution_count": 62,
   "metadata": {},
   "outputs": [
    {
     "output_type": "execute_result",
     "data": {
      "text/plain": [
       "     index   price  ppay   actpay\n",
       "866   2797 1780.00    12 21360.00"
      ],
      "text/html": "<div>\n<style scoped>\n    .dataframe tbody tr th:only-of-type {\n        vertical-align: middle;\n    }\n\n    .dataframe tbody tr th {\n        vertical-align: top;\n    }\n\n    .dataframe thead th {\n        text-align: right;\n    }\n</style>\n<table border=\"1\" class=\"dataframe\">\n  <thead>\n    <tr style=\"text-align: right;\">\n      <th></th>\n      <th>index</th>\n      <th>price</th>\n      <th>ppay</th>\n      <th>actpay</th>\n    </tr>\n  </thead>\n  <tbody>\n    <tr>\n      <th>866</th>\n      <td>2797</td>\n      <td>1780.00</td>\n      <td>12</td>\n      <td>21360.00</td>\n    </tr>\n  </tbody>\n</table>\n</div>"
     },
     "metadata": {},
     "execution_count": 62
    }
   ],
   "source": [
    "df_p_max = df[['price','ppay','actpay']].sort_values('actpay',ascending=False).reset_index()\n",
    "df_p_max[df_p_max.price==1780]"
   ]
  },
  {
   "cell_type": "code",
   "execution_count": 63,
   "metadata": {},
   "outputs": [
    {
     "output_type": "execute_result",
     "data": {
      "text/plain": [
       "     index  price  ppay    actpay\n",
       "253   2038  11.80  8500 100300.00"
      ],
      "text/html": "<div>\n<style scoped>\n    .dataframe tbody tr th:only-of-type {\n        vertical-align: middle;\n    }\n\n    .dataframe tbody tr th {\n        vertical-align: top;\n    }\n\n    .dataframe thead th {\n        text-align: right;\n    }\n</style>\n<table border=\"1\" class=\"dataframe\">\n  <thead>\n    <tr style=\"text-align: right;\">\n      <th></th>\n      <th>index</th>\n      <th>price</th>\n      <th>ppay</th>\n      <th>actpay</th>\n    </tr>\n  </thead>\n  <tbody>\n    <tr>\n      <th>253</th>\n      <td>2038</td>\n      <td>11.80</td>\n      <td>8500</td>\n      <td>100300.00</td>\n    </tr>\n  </tbody>\n</table>\n</div>"
     },
     "metadata": {},
     "execution_count": 63
    }
   ],
   "source": [
    "df_p_max[df_p_max.actpay>100000].tail(1)"
   ]
  },
  {
   "source": [
    "price.max()为1780,ppay为12，actpay排行在866，算是比较靠前，但该actpay与10万的排名相差600多，销售额并不是很华丽。初步估计这家店铺以品牌策略为核心，吸引高端消费者，但是间接反映粽子行业的高端化还不足以让大部分消费者为之接受买单；商家的价格分布主要是在中低端，对top5价格进行mean(),初步估计商家预估市场最优价格为50/49.9；进一步分析得知：price为59.9的时候，平均销量远多于top2的2860(当然这里我们还需要对ppay进行int处理，因为付款人数不能是浮点数，这不符合常理)；综合比较，最优price为59.9元，也是消费者最能接受并反馈效果nice的价格，对于商家而言也有利可图"
   ],
   "cell_type": "markdown",
   "metadata": {}
  },
  {
   "source": [
    "### 4.8 根据销量分析最受欢迎的店铺"
   ],
   "cell_type": "markdown",
   "metadata": {}
  },
  {
   "cell_type": "code",
   "execution_count": 64,
   "metadata": {},
   "outputs": [
    {
     "output_type": "execute_result",
     "data": {
      "text/plain": [
       "1000000"
      ]
     },
     "metadata": {},
     "execution_count": 64
    }
   ],
   "source": [
    "df.ppay.max()"
   ]
  },
  {
   "cell_type": "code",
   "execution_count": 65,
   "metadata": {},
   "outputs": [
    {
     "output_type": "execute_result",
     "data": {
      "text/plain": [
       "                               name     ppay      shop  price\n",
       "1    五芳斋粽子礼盒装鲜肉咸蛋黄大肉粽嘉兴豆沙甜粽端午团购散装礼品  1000000  五芳斋官方旗舰店  89.90\n",
       "13   真真老老嘉兴粽子礼盒装肉粽糯米鲜肉蛋黄肉大粽子甜粽端午节礼品   700000   真真老老旗舰店  59.90\n",
       "195  真真老老嘉兴粽子蛋黄肉粽端午粽子礼盒装鲜肉粽子甜粽大粽子团购   200000   真真老老旗舰店  29.90\n",
       "61   五芳斋粽子礼盒蛋黄肉粽豆沙粽大肉棕子浙江特产新鲜嘉兴粽子肉粽   200000  五芳斋官方旗舰店  89.90\n",
       "35   五芳斋粽子礼盒装新鲜大肉粽蛋黄猪肉粽豆沙端午食品团购嘉兴特产   100000  五芳斋浙江专卖店  39.90"
      ],
      "text/html": "<div>\n<style scoped>\n    .dataframe tbody tr th:only-of-type {\n        vertical-align: middle;\n    }\n\n    .dataframe tbody tr th {\n        vertical-align: top;\n    }\n\n    .dataframe thead th {\n        text-align: right;\n    }\n</style>\n<table border=\"1\" class=\"dataframe\">\n  <thead>\n    <tr style=\"text-align: right;\">\n      <th></th>\n      <th>name</th>\n      <th>ppay</th>\n      <th>shop</th>\n      <th>price</th>\n    </tr>\n  </thead>\n  <tbody>\n    <tr>\n      <th>1</th>\n      <td>五芳斋粽子礼盒装鲜肉咸蛋黄大肉粽嘉兴豆沙甜粽端午团购散装礼品</td>\n      <td>1000000</td>\n      <td>五芳斋官方旗舰店</td>\n      <td>89.90</td>\n    </tr>\n    <tr>\n      <th>13</th>\n      <td>真真老老嘉兴粽子礼盒装肉粽糯米鲜肉蛋黄肉大粽子甜粽端午节礼品</td>\n      <td>700000</td>\n      <td>真真老老旗舰店</td>\n      <td>59.90</td>\n    </tr>\n    <tr>\n      <th>195</th>\n      <td>真真老老嘉兴粽子蛋黄肉粽端午粽子礼盒装鲜肉粽子甜粽大粽子团购</td>\n      <td>200000</td>\n      <td>真真老老旗舰店</td>\n      <td>29.90</td>\n    </tr>\n    <tr>\n      <th>61</th>\n      <td>五芳斋粽子礼盒蛋黄肉粽豆沙粽大肉棕子浙江特产新鲜嘉兴粽子肉粽</td>\n      <td>200000</td>\n      <td>五芳斋官方旗舰店</td>\n      <td>89.90</td>\n    </tr>\n    <tr>\n      <th>35</th>\n      <td>五芳斋粽子礼盒装新鲜大肉粽蛋黄猪肉粽豆沙端午食品团购嘉兴特产</td>\n      <td>100000</td>\n      <td>五芳斋浙江专卖店</td>\n      <td>39.90</td>\n    </tr>\n  </tbody>\n</table>\n</div>"
     },
     "metadata": {},
     "execution_count": 65
    }
   ],
   "source": [
    "df[['name','ppay','shop','price']].sort_values('ppay',ascending=False).head()"
   ]
  },
  {
   "source": [
    "这个前面写过了，ppay.max()是100万,据此最受欢迎、热度最高的单个店铺是销售五芳斋粽子礼盒装鲜肉咸蛋黄大肉粽嘉兴豆沙甜粽端午团购散装礼品的五芳斋官方旗舰店，隶属于品牌五芳斋；试想一下：为什么top1店铺五芳斋的的销量可以远超top2店铺真真老老，这个可以自行百度了解其两家企业的背景的销售策略；并且在众多同品牌的旗舰店里，为何这两家可以脱颖而出，也值得思考；再添加价格发现，两家店铺的策略核心并非是价格战，据此推测，品牌知名度和口碑、质量才是关键"
   ],
   "cell_type": "markdown",
   "metadata": {}
  },
  {
   "source": [
    "### 4.9 Top5销售额的品牌-店铺(进行分组)"
   ],
   "cell_type": "markdown",
   "metadata": {}
  },
  {
   "cell_type": "code",
   "execution_count": 66,
   "metadata": {},
   "outputs": [
    {
     "output_type": "execute_result",
     "data": {
      "text/plain": [
       "          shop   actpay_sum\n",
       "363   五芳斋官方旗舰店 132389350.80\n",
       "1025   真真老老旗舰店  49396443.40\n",
       "1031  知味观官方旗舰店   9383796.92\n",
       "599       天猫超市   8032811.77\n",
       "1066  稻香村食品旗舰店   7756471.90\n",
       "364   五芳斋浙江专卖店   7139386.50"
      ],
      "text/html": "<div>\n<style scoped>\n    .dataframe tbody tr th:only-of-type {\n        vertical-align: middle;\n    }\n\n    .dataframe tbody tr th {\n        vertical-align: top;\n    }\n\n    .dataframe thead th {\n        text-align: right;\n    }\n</style>\n<table border=\"1\" class=\"dataframe\">\n  <thead>\n    <tr style=\"text-align: right;\">\n      <th></th>\n      <th>shop</th>\n      <th>actpay_sum</th>\n    </tr>\n  </thead>\n  <tbody>\n    <tr>\n      <th>363</th>\n      <td>五芳斋官方旗舰店</td>\n      <td>132389350.80</td>\n    </tr>\n    <tr>\n      <th>1025</th>\n      <td>真真老老旗舰店</td>\n      <td>49396443.40</td>\n    </tr>\n    <tr>\n      <th>1031</th>\n      <td>知味观官方旗舰店</td>\n      <td>9383796.92</td>\n    </tr>\n    <tr>\n      <th>599</th>\n      <td>天猫超市</td>\n      <td>8032811.77</td>\n    </tr>\n    <tr>\n      <th>1066</th>\n      <td>稻香村食品旗舰店</td>\n      <td>7756471.90</td>\n    </tr>\n    <tr>\n      <th>364</th>\n      <td>五芳斋浙江专卖店</td>\n      <td>7139386.50</td>\n    </tr>\n  </tbody>\n</table>\n</div>"
     },
     "metadata": {},
     "execution_count": 66
    }
   ],
   "source": [
    "#df.shop.size == df.shop.count()\n",
    "#前面我们已经分析了单个店铺销售额的TOP10，但是存在同一家品牌有多家店铺的情况，所以我们需要对其进行关键词打标,但是品牌基本有1000多家，所以我们只取销售额前5的品牌，并且就等价于df_shop_sp\n",
    "df_b = df.groupby('shop')['actpay'].sum().reset_index()\n",
    "df_b.columns = ['shop','actpay_sum']\n",
    "df_b = df_b.sort_values('actpay_sum',ascending=False)\n",
    "df_b.head(6)\n",
    "# df_shop_sp.sort_values('shop_pay_sum',ascending=False).head(6)"
   ]
  },
  {
   "cell_type": "code",
   "execution_count": 67,
   "metadata": {},
   "outputs": [],
   "source": [
    "#对shop关键词打标\n",
    "def get_brand(x):\n",
    "    if '五芳斋' in str(x):\n",
    "        return '五芳斋'\n",
    "    elif '真真老老' in str(x):\n",
    "        return '真真老老'\n",
    "    elif '知味观' in str(x):\n",
    "        return '知味观'\n",
    "    elif '天猫' in str(x):\n",
    "        return '天猫'\n",
    "    elif '稻香村' in str(x):\n",
    "        return '稻香村'\n",
    "    else:\n",
    "        return '其他品牌'\n",
    "df_b['brand'] = df_b.shop.apply(get_brand)"
   ]
  },
  {
   "cell_type": "code",
   "execution_count": 68,
   "metadata": {},
   "outputs": [
    {
     "output_type": "execute_result",
     "data": {
      "text/plain": [
       "1396"
      ]
     },
     "metadata": {},
     "execution_count": 68
    }
   ],
   "source": [
    "df_b.shape[0]"
   ]
  },
  {
   "cell_type": "code",
   "execution_count": 69,
   "metadata": {},
   "outputs": [
    {
     "output_type": "execute_result",
     "data": {
      "text/plain": [
       "  brand   actpay_sum\n",
       "0   五芳斋 142594195.10\n",
       "1  其他品牌  89070190.17\n",
       "3  真真老老  49520183.20\n",
       "4   知味观   9527274.62\n",
       "5   稻香村   9057861.60\n",
       "2    天猫   8032811.77"
      ],
      "text/html": "<div>\n<style scoped>\n    .dataframe tbody tr th:only-of-type {\n        vertical-align: middle;\n    }\n\n    .dataframe tbody tr th {\n        vertical-align: top;\n    }\n\n    .dataframe thead th {\n        text-align: right;\n    }\n</style>\n<table border=\"1\" class=\"dataframe\">\n  <thead>\n    <tr style=\"text-align: right;\">\n      <th></th>\n      <th>brand</th>\n      <th>actpay_sum</th>\n    </tr>\n  </thead>\n  <tbody>\n    <tr>\n      <th>0</th>\n      <td>五芳斋</td>\n      <td>142594195.10</td>\n    </tr>\n    <tr>\n      <th>1</th>\n      <td>其他品牌</td>\n      <td>89070190.17</td>\n    </tr>\n    <tr>\n      <th>3</th>\n      <td>真真老老</td>\n      <td>49520183.20</td>\n    </tr>\n    <tr>\n      <th>4</th>\n      <td>知味观</td>\n      <td>9527274.62</td>\n    </tr>\n    <tr>\n      <th>5</th>\n      <td>稻香村</td>\n      <td>9057861.60</td>\n    </tr>\n    <tr>\n      <th>2</th>\n      <td>天猫</td>\n      <td>8032811.77</td>\n    </tr>\n  </tbody>\n</table>\n</div>"
     },
     "metadata": {},
     "execution_count": 69
    }
   ],
   "source": [
    "df_b.groupby('brand')['actpay_sum'].sum().reset_index().sort_values('actpay_sum',ascending=False)"
   ]
  },
  {
   "source": [
    "这里我们可以知晓五芳斋这个品牌的总销售额，以及top5品牌的总销售额"
   ],
   "cell_type": "markdown",
   "metadata": {}
  },
  {
   "source": [
    "### 4.10 根据actpay分析省份销售top10 可以绘制销售额省份地图分布"
   ],
   "cell_type": "markdown",
   "metadata": {}
  },
  {
   "cell_type": "code",
   "execution_count": 70,
   "metadata": {},
   "outputs": [
    {
     "output_type": "execute_result",
     "data": {
      "text/plain": [
       "   province   actpay_sum\n",
       "18       浙江 247933130.02\n",
       "3        北京  13535824.88\n",
       "0        上海  13265888.79\n",
       "11       广东   5600816.91\n",
       "14       江苏   3328178.93\n",
       "17       河南   2898866.22\n",
       "5        四川   2661052.99\n",
       "9        山东   2593401.82\n",
       "16       河北   2360518.78\n",
       "12       广西   2345014.19"
      ],
      "text/html": "<div>\n<style scoped>\n    .dataframe tbody tr th:only-of-type {\n        vertical-align: middle;\n    }\n\n    .dataframe tbody tr th {\n        vertical-align: top;\n    }\n\n    .dataframe thead th {\n        text-align: right;\n    }\n</style>\n<table border=\"1\" class=\"dataframe\">\n  <thead>\n    <tr style=\"text-align: right;\">\n      <th></th>\n      <th>province</th>\n      <th>actpay_sum</th>\n    </tr>\n  </thead>\n  <tbody>\n    <tr>\n      <th>18</th>\n      <td>浙江</td>\n      <td>247933130.02</td>\n    </tr>\n    <tr>\n      <th>3</th>\n      <td>北京</td>\n      <td>13535824.88</td>\n    </tr>\n    <tr>\n      <th>0</th>\n      <td>上海</td>\n      <td>13265888.79</td>\n    </tr>\n    <tr>\n      <th>11</th>\n      <td>广东</td>\n      <td>5600816.91</td>\n    </tr>\n    <tr>\n      <th>14</th>\n      <td>江苏</td>\n      <td>3328178.93</td>\n    </tr>\n    <tr>\n      <th>17</th>\n      <td>河南</td>\n      <td>2898866.22</td>\n    </tr>\n    <tr>\n      <th>5</th>\n      <td>四川</td>\n      <td>2661052.99</td>\n    </tr>\n    <tr>\n      <th>9</th>\n      <td>山东</td>\n      <td>2593401.82</td>\n    </tr>\n    <tr>\n      <th>16</th>\n      <td>河北</td>\n      <td>2360518.78</td>\n    </tr>\n    <tr>\n      <th>12</th>\n      <td>广西</td>\n      <td>2345014.19</td>\n    </tr>\n  </tbody>\n</table>\n</div>"
     },
     "metadata": {},
     "execution_count": 70
    }
   ],
   "source": [
    "df_province = df.groupby('province')['actpay'].sum().reset_index()\n",
    "df_province.columns = ['province','actpay_sum']\n",
    "df_province.sort_values('actpay_sum',ascending=False).head(10)"
   ]
  },
  {
   "source": [
    "浙江消费总和约是北京的18倍，这足以证明浙江省是粽子行业的龙头，而北京、上海依据自身城市优势，粽子行业有了一定的集群化规模。这里有个疑问：北京、上海的粽子行业中，对应的销售额top5品牌占有多少的比重？"
   ],
   "cell_type": "markdown",
   "metadata": {}
  },
  {
   "cell_type": "code",
   "execution_count": 71,
   "metadata": {},
   "outputs": [
    {
     "output_type": "execute_result",
     "data": {
      "text/plain": [
       "Empty DataFrame\n",
       "Columns: [name, price, ppay, shop, province, city, actpay, shopkind, actpay_sum]\n",
       "Index: []"
      ],
      "text/html": "<div>\n<style scoped>\n    .dataframe tbody tr th:only-of-type {\n        vertical-align: middle;\n    }\n\n    .dataframe tbody tr th {\n        vertical-align: top;\n    }\n\n    .dataframe thead th {\n        text-align: right;\n    }\n</style>\n<table border=\"1\" class=\"dataframe\">\n  <thead>\n    <tr style=\"text-align: right;\">\n      <th></th>\n      <th>name</th>\n      <th>price</th>\n      <th>ppay</th>\n      <th>shop</th>\n      <th>province</th>\n      <th>city</th>\n      <th>actpay</th>\n      <th>shopkind</th>\n      <th>actpay_sum</th>\n    </tr>\n  </thead>\n  <tbody>\n  </tbody>\n</table>\n</div>"
     },
     "metadata": {},
     "execution_count": 71
    }
   ],
   "source": [
    "df[(df.province=='北京') & (df['shop'].str.contains('五芳斋'))]"
   ]
  },
  {
   "source": [
    "？？？，没有？有点不可思议，继续试试"
   ],
   "cell_type": "markdown",
   "metadata": {}
  },
  {
   "cell_type": "code",
   "execution_count": 72,
   "metadata": {},
   "outputs": [
    {
     "output_type": "execute_result",
     "data": {
      "text/plain": [
       "[1567, 327, 541]"
      ]
     },
     "metadata": {},
     "execution_count": 72
    }
   ],
   "source": [
    "s_top3 = ['浙江','北京','上海']\n",
    "[df[(df.province== i)].shape[0] for i in s_top3]#df[(df.province== '浙江') & (df['shop'].str.contains('五芳斋'))]"
   ]
  },
  {
   "cell_type": "code",
   "execution_count": 73,
   "metadata": {},
   "outputs": [
    {
     "output_type": "execute_result",
     "data": {
      "text/plain": [
       "[0, 0, 0, 0, 79]"
      ]
     },
     "metadata": {},
     "execution_count": 73
    }
   ],
   "source": [
    "#五芳斋   真真老老  知味观    稻香村  天猫\n",
    "ps_top5 = ['五芳斋','真真老老','知味观','天猫超市','稻香村']#这里将销售额top5品牌进行关键词处理\n",
    "df_pstop_count = [df[(df.province=='北京') & (df['shop'].str.contains(i))].shape[0] for i in ps_top5]#在北京的销售额top5品牌店铺数量分布\n",
    "df_pstop_count"
   ]
  },
  {
   "cell_type": "code",
   "execution_count": 74,
   "metadata": {},
   "outputs": [
    {
     "output_type": "execute_result",
     "data": {
      "text/plain": [
       "[0, 0, 0, 269, 0]"
      ]
     },
     "metadata": {},
     "execution_count": 74
    }
   ],
   "source": [
    "[df[(df.province=='上海') & (df['shop'].str.contains(i))].shape[0] for i in ps_top5]"
   ]
  },
  {
   "cell_type": "code",
   "execution_count": 75,
   "metadata": {},
   "outputs": [
    {
     "output_type": "execute_result",
     "data": {
      "text/plain": [
       "[187, 49, 60, 0, 0]"
      ]
     },
     "metadata": {},
     "execution_count": 75
    }
   ],
   "source": [
    "[df[(df.province=='浙江') & (df['shop'].str.contains(i))].shape[0] for i in ps_top5]"
   ]
  },
  {
   "cell_type": "code",
   "execution_count": 76,
   "metadata": {},
   "outputs": [
    {
     "output_type": "execute_result",
     "data": {
      "text/plain": [
       "0.7710530299221361"
      ]
     },
     "metadata": {},
     "execution_count": 76
    }
   ],
   "source": [
    "shop_mix = df_b.iloc[:3,1].sum()/(df_province['actpay_sum'].max())\n",
    "shop_mix"
   ]
  },
  {
   "source": [
    "Top5店铺    五芳斋   真真老老  知味观    稻香村  天猫\n",
    "这里可以得知：top3省份或直辖市中，北京以稻香村这一品牌店铺为主导,占北京所有店铺327家的24%；天猫超市几乎全部坐落在上海，占比接近50%；浙江突出top3品牌店铺，累计接近300家，占浙江总店铺数1567的19%，但三家品牌的全国总销售额占整个浙江的77%，再结合前面的店铺数量以及省份分布，可以得出这三家都是浙江本土品牌，并占据主导地位"
   ],
   "cell_type": "markdown",
   "metadata": {}
  },
  {
   "source": [
    "### 4.11 分析城市销售top10  推导城市粽子销售指数"
   ],
   "cell_type": "markdown",
   "metadata": {}
  },
  {
   "source": [
    "#我们先进行城市店铺分布数量统计\n",
    "df_city_c = df.groupby('city')['actpay'].count().reset_index().sort_values('actpay',ascending=False)\n",
    "df_city_c.columns = ['city','counts']\n",
    "df_city_c.head(10)"
   ],
   "cell_type": "code",
   "metadata": {},
   "execution_count": 77,
   "outputs": [
    {
     "output_type": "execute_result",
     "data": {
      "text/plain": [
       "    city  counts\n",
       "37    嘉兴    1144\n",
       "6     上海     541\n",
       "23    北京     327\n",
       "77    杭州     180\n",
       "64    成都     175\n",
       "55    广州      99\n",
       "126   肇庆      96\n",
       "144   郑州      77\n",
       "71    无锡      76\n",
       "8     东莞      68"
      ],
      "text/html": "<div>\n<style scoped>\n    .dataframe tbody tr th:only-of-type {\n        vertical-align: middle;\n    }\n\n    .dataframe tbody tr th {\n        vertical-align: top;\n    }\n\n    .dataframe thead th {\n        text-align: right;\n    }\n</style>\n<table border=\"1\" class=\"dataframe\">\n  <thead>\n    <tr style=\"text-align: right;\">\n      <th></th>\n      <th>city</th>\n      <th>counts</th>\n    </tr>\n  </thead>\n  <tbody>\n    <tr>\n      <th>37</th>\n      <td>嘉兴</td>\n      <td>1144</td>\n    </tr>\n    <tr>\n      <th>6</th>\n      <td>上海</td>\n      <td>541</td>\n    </tr>\n    <tr>\n      <th>23</th>\n      <td>北京</td>\n      <td>327</td>\n    </tr>\n    <tr>\n      <th>77</th>\n      <td>杭州</td>\n      <td>180</td>\n    </tr>\n    <tr>\n      <th>64</th>\n      <td>成都</td>\n      <td>175</td>\n    </tr>\n    <tr>\n      <th>55</th>\n      <td>广州</td>\n      <td>99</td>\n    </tr>\n    <tr>\n      <th>126</th>\n      <td>肇庆</td>\n      <td>96</td>\n    </tr>\n    <tr>\n      <th>144</th>\n      <td>郑州</td>\n      <td>77</td>\n    </tr>\n    <tr>\n      <th>71</th>\n      <td>无锡</td>\n      <td>76</td>\n    </tr>\n    <tr>\n      <th>8</th>\n      <td>东莞</td>\n      <td>68</td>\n    </tr>\n  </tbody>\n</table>\n</div>"
     },
     "metadata": {},
     "execution_count": 77
    }
   ]
  },
  {
   "source": [
    "结合上面的浙江1567，浙江嘉兴就占了1144家，这更加证实了嘉兴不愧是粽子之乡，以及嘉兴粽子行业的专业化、集群化"
   ],
   "cell_type": "markdown",
   "metadata": {}
  },
  {
   "cell_type": "code",
   "execution_count": 78,
   "metadata": {},
   "outputs": [
    {
     "output_type": "execute_result",
     "data": {
      "text/plain": [
       "  city  counts   actpay_sum\n",
       "0   嘉兴    1144 225036692.48\n",
       "1   上海     541  13265888.79\n",
       "2   北京     327  13535824.88\n",
       "3   杭州     180  12041022.94\n",
       "4   成都     175   2418058.71\n",
       "5   广州      99   2441452.28\n",
       "6   肇庆      96   1146536.80\n",
       "7   郑州      77   2462143.10\n",
       "8   无锡      76    714951.07\n",
       "9   东莞      68    756769.05"
      ],
      "text/html": "<div>\n<style scoped>\n    .dataframe tbody tr th:only-of-type {\n        vertical-align: middle;\n    }\n\n    .dataframe tbody tr th {\n        vertical-align: top;\n    }\n\n    .dataframe thead th {\n        text-align: right;\n    }\n</style>\n<table border=\"1\" class=\"dataframe\">\n  <thead>\n    <tr style=\"text-align: right;\">\n      <th></th>\n      <th>city</th>\n      <th>counts</th>\n      <th>actpay_sum</th>\n    </tr>\n  </thead>\n  <tbody>\n    <tr>\n      <th>0</th>\n      <td>嘉兴</td>\n      <td>1144</td>\n      <td>225036692.48</td>\n    </tr>\n    <tr>\n      <th>1</th>\n      <td>上海</td>\n      <td>541</td>\n      <td>13265888.79</td>\n    </tr>\n    <tr>\n      <th>2</th>\n      <td>北京</td>\n      <td>327</td>\n      <td>13535824.88</td>\n    </tr>\n    <tr>\n      <th>3</th>\n      <td>杭州</td>\n      <td>180</td>\n      <td>12041022.94</td>\n    </tr>\n    <tr>\n      <th>4</th>\n      <td>成都</td>\n      <td>175</td>\n      <td>2418058.71</td>\n    </tr>\n    <tr>\n      <th>5</th>\n      <td>广州</td>\n      <td>99</td>\n      <td>2441452.28</td>\n    </tr>\n    <tr>\n      <th>6</th>\n      <td>肇庆</td>\n      <td>96</td>\n      <td>1146536.80</td>\n    </tr>\n    <tr>\n      <th>7</th>\n      <td>郑州</td>\n      <td>77</td>\n      <td>2462143.10</td>\n    </tr>\n    <tr>\n      <th>8</th>\n      <td>无锡</td>\n      <td>76</td>\n      <td>714951.07</td>\n    </tr>\n    <tr>\n      <th>9</th>\n      <td>东莞</td>\n      <td>68</td>\n      <td>756769.05</td>\n    </tr>\n  </tbody>\n</table>\n</div>"
     },
     "metadata": {},
     "execution_count": 78
    }
   ],
   "source": [
    "df_c_act = df.groupby('city')['actpay'].sum().reset_index().sort_values('actpay',ascending=False)\n",
    "df_c_act.columns = ['city','actpay_sum']\n",
    "#合并\n",
    "df_city_top = df_city_c.merge(df_c_act,on='city',how='left')\n",
    "df_city_top.head(10)"
   ]
  },
  {
   "cell_type": "code",
   "execution_count": 79,
   "metadata": {},
   "outputs": [
    {
     "output_type": "execute_result",
     "data": {
      "text/plain": [
       "0.9076507543055946"
      ]
     },
     "metadata": {},
     "execution_count": 79
    }
   ],
   "source": [
    "df_city_top.actpay_sum.max()/df_province.actpay_sum.max()"
   ]
  },
  {
   "source": [
    "嘉兴的总销售额占浙江总销售额的90%，这就很离谱哦！，北京、上海也没有让我们失望，其他城市大都是省份的省府，但综合比较还是杭州最强。个人推测：粽子行业的销售额呈现从浙江嘉兴为中心的向四周辐射、从高到低的局面"
   ],
   "cell_type": "markdown",
   "metadata": {}
  },
  {
   "source": [
    "### 4.12 每个城市店铺数量排名第一的shop"
   ],
   "cell_type": "markdown",
   "metadata": {}
  },
  {
   "cell_type": "code",
   "execution_count": 80,
   "metadata": {},
   "outputs": [],
   "source": [
    "#利用groupby来实现第一步 方法2\n",
    "# df_c_max = df.groupby(['city','shop'],as_index=False)['actpay'].count().sort_values('actpay',ascending=False).drop_duplicates(subset='city')\n",
    "# df_c_max.rename(columns={'actpay':'c_s_counts'}, inplace=True)\n",
    "# df_c_max.head()"
   ]
  },
  {
   "cell_type": "code",
   "execution_count": 81,
   "metadata": {},
   "outputs": [],
   "source": [
    "# 获取每个城市店铺数量排名第一的店铺 方法3\n",
    "# df.groupby(['city','shop'],as_index=False)['actpay'].count().sort_values('actpay',ascending=False).groupby('city')['shop','actpay'].apply(lambda x: x.iloc[0,:]).sort_values('actpay',ascending=False).head()"
   ]
  },
  {
   "cell_type": "code",
   "execution_count": 103,
   "metadata": {},
   "outputs": [],
   "source": [
    "# 获取每个城市店铺数量排名第二的店铺\n",
    "# df.groupby(['city','shop'],as_index=False)['actpay'].count().sort_values('actpay',ascending=False).groupby('city')['shop','actpay'].apply(lambda x: x.iloc[1,:] if len(x)>=2 else x.iloc[0,:]).sort_values('actpay',ascending=False).head()"
   ]
  },
  {
   "cell_type": "code",
   "execution_count": 83,
   "metadata": {},
   "outputs": [],
   "source": [
    "# #方法4\n",
    "# dfc = df.groupby(['city','shop'],as_index=False)['actpay'].count()\n",
    "# dfc[dfc.groupby('city')['actpay'].rank(method='first',ascending=False)==1].sort_values('actpay',ascending=False).head()"
   ]
  },
  {
   "cell_type": "code",
   "execution_count": 84,
   "metadata": {},
   "outputs": [],
   "source": [
    "#这一种就是有缺陷\n",
    "# dfc = df.groupby(['city','shop'],as_index=False)['actpay'].count()\n",
    "# dfc.groupby('city',as_index=False)['actpay'].max().sort_values('actpay',ascending=False).head()"
   ]
  },
  {
   "cell_type": "code",
   "execution_count": 85,
   "metadata": {},
   "outputs": [
    {
     "output_type": "execute_result",
     "data": {
      "text/plain": [
       "   city       shop  c_s_counts\n",
       "0    上海       天猫超市         269\n",
       "1    嘉兴   五芳斋官方旗舰店         105\n",
       "2    北京   稻香村食品旗舰店          51\n",
       "3    杭州   知味观官方旗舰店          47\n",
       "9    泉州    蓝氏钟楼旗舰店          25\n",
       "11   广州    广州酒家旗舰店          23\n",
       "12   廊坊  三全京之良品专卖店          23\n",
       "13   肇庆     裹香皇旗舰店          22\n",
       "14   温州  yotime旗舰店          21\n",
       "15   无锡  忆品味贸易有限公司          21"
      ],
      "text/html": "<div>\n<style scoped>\n    .dataframe tbody tr th:only-of-type {\n        vertical-align: middle;\n    }\n\n    .dataframe tbody tr th {\n        vertical-align: top;\n    }\n\n    .dataframe thead th {\n        text-align: right;\n    }\n</style>\n<table border=\"1\" class=\"dataframe\">\n  <thead>\n    <tr style=\"text-align: right;\">\n      <th></th>\n      <th>city</th>\n      <th>shop</th>\n      <th>c_s_counts</th>\n    </tr>\n  </thead>\n  <tbody>\n    <tr>\n      <th>0</th>\n      <td>上海</td>\n      <td>天猫超市</td>\n      <td>269</td>\n    </tr>\n    <tr>\n      <th>1</th>\n      <td>嘉兴</td>\n      <td>五芳斋官方旗舰店</td>\n      <td>105</td>\n    </tr>\n    <tr>\n      <th>2</th>\n      <td>北京</td>\n      <td>稻香村食品旗舰店</td>\n      <td>51</td>\n    </tr>\n    <tr>\n      <th>3</th>\n      <td>杭州</td>\n      <td>知味观官方旗舰店</td>\n      <td>47</td>\n    </tr>\n    <tr>\n      <th>9</th>\n      <td>泉州</td>\n      <td>蓝氏钟楼旗舰店</td>\n      <td>25</td>\n    </tr>\n    <tr>\n      <th>11</th>\n      <td>广州</td>\n      <td>广州酒家旗舰店</td>\n      <td>23</td>\n    </tr>\n    <tr>\n      <th>12</th>\n      <td>廊坊</td>\n      <td>三全京之良品专卖店</td>\n      <td>23</td>\n    </tr>\n    <tr>\n      <th>13</th>\n      <td>肇庆</td>\n      <td>裹香皇旗舰店</td>\n      <td>22</td>\n    </tr>\n    <tr>\n      <th>14</th>\n      <td>温州</td>\n      <td>yotime旗舰店</td>\n      <td>21</td>\n    </tr>\n    <tr>\n      <th>15</th>\n      <td>无锡</td>\n      <td>忆品味贸易有限公司</td>\n      <td>21</td>\n    </tr>\n  </tbody>\n</table>\n</div>"
     },
     "metadata": {},
     "execution_count": 85
    }
   ],
   "source": [
    "# 方法1\n",
    "df_c_max = pd.pivot_table(df,index=['city','shop'],aggfunc='count')\n",
    "df_c_max = df_c_max[['actpay']]\n",
    "df_c_max = df_c_max.sort_values('actpay',ascending=False).reset_index()\n",
    "df_c_max = df_c_max.drop_duplicates(subset='city')#利用去重保存first\n",
    "# df_c_max.shape[0]\n",
    "df_c_max.rename(columns={'actpay':'c_s_counts'}, inplace=True)\n",
    "df_c_max.head(10)"
   ]
  },
  {
   "source": [
    "### 得到每个城市相同店铺的总销售额并排序"
   ],
   "cell_type": "markdown",
   "metadata": {}
  },
  {
   "cell_type": "code",
   "execution_count": 86,
   "metadata": {},
   "outputs": [
    {
     "output_type": "execute_result",
     "data": {
      "text/plain": [
       "    city      shop       actpay\n",
       "491   嘉兴  五芳斋官方旗舰店 132389350.80\n",
       "581   嘉兴   真真老老旗舰店  49396443.40\n",
       "951   杭州  知味观官方旗舰店   9383796.92\n",
       "51    上海      天猫超市   8032742.77\n",
       "277   北京  稻香村食品旗舰店   7756471.90"
      ],
      "text/html": "<div>\n<style scoped>\n    .dataframe tbody tr th:only-of-type {\n        vertical-align: middle;\n    }\n\n    .dataframe tbody tr th {\n        vertical-align: top;\n    }\n\n    .dataframe thead th {\n        text-align: right;\n    }\n</style>\n<table border=\"1\" class=\"dataframe\">\n  <thead>\n    <tr style=\"text-align: right;\">\n      <th></th>\n      <th>city</th>\n      <th>shop</th>\n      <th>actpay</th>\n    </tr>\n  </thead>\n  <tbody>\n    <tr>\n      <th>491</th>\n      <td>嘉兴</td>\n      <td>五芳斋官方旗舰店</td>\n      <td>132389350.80</td>\n    </tr>\n    <tr>\n      <th>581</th>\n      <td>嘉兴</td>\n      <td>真真老老旗舰店</td>\n      <td>49396443.40</td>\n    </tr>\n    <tr>\n      <th>951</th>\n      <td>杭州</td>\n      <td>知味观官方旗舰店</td>\n      <td>9383796.92</td>\n    </tr>\n    <tr>\n      <th>51</th>\n      <td>上海</td>\n      <td>天猫超市</td>\n      <td>8032742.77</td>\n    </tr>\n    <tr>\n      <th>277</th>\n      <td>北京</td>\n      <td>稻香村食品旗舰店</td>\n      <td>7756471.90</td>\n    </tr>\n  </tbody>\n</table>\n</div>"
     },
     "metadata": {},
     "execution_count": 86
    }
   ],
   "source": [
    "df_c_pay_max = df.groupby(['city','shop'],as_index=False)['actpay'].sum().sort_values('actpay',ascending=False)\n",
    "df_c_pay_max.head()"
   ]
  },
  {
   "source": [
    "### 得到每个城市店铺数量排名第一的shop中的对应销售额"
   ],
   "cell_type": "markdown",
   "metadata": {}
  },
  {
   "cell_type": "code",
   "execution_count": 87,
   "metadata": {},
   "outputs": [
    {
     "output_type": "execute_result",
     "data": {
      "text/plain": [
       "  city      shop       actpay  c_s_counts\n",
       "0   上海      天猫超市   8032742.77         269\n",
       "1   嘉兴  五芳斋官方旗舰店 132389350.80         105\n",
       "2   北京  稻香村食品旗舰店   7756471.90          51\n",
       "3   杭州  知味观官方旗舰店   9383796.92          47\n",
       "4   泉州   蓝氏钟楼旗舰店    274088.70          25"
      ],
      "text/html": "<div>\n<style scoped>\n    .dataframe tbody tr th:only-of-type {\n        vertical-align: middle;\n    }\n\n    .dataframe tbody tr th {\n        vertical-align: top;\n    }\n\n    .dataframe thead th {\n        text-align: right;\n    }\n</style>\n<table border=\"1\" class=\"dataframe\">\n  <thead>\n    <tr style=\"text-align: right;\">\n      <th></th>\n      <th>city</th>\n      <th>shop</th>\n      <th>actpay</th>\n      <th>c_s_counts</th>\n    </tr>\n  </thead>\n  <tbody>\n    <tr>\n      <th>0</th>\n      <td>上海</td>\n      <td>天猫超市</td>\n      <td>8032742.77</td>\n      <td>269</td>\n    </tr>\n    <tr>\n      <th>1</th>\n      <td>嘉兴</td>\n      <td>五芳斋官方旗舰店</td>\n      <td>132389350.80</td>\n      <td>105</td>\n    </tr>\n    <tr>\n      <th>2</th>\n      <td>北京</td>\n      <td>稻香村食品旗舰店</td>\n      <td>7756471.90</td>\n      <td>51</td>\n    </tr>\n    <tr>\n      <th>3</th>\n      <td>杭州</td>\n      <td>知味观官方旗舰店</td>\n      <td>9383796.92</td>\n      <td>47</td>\n    </tr>\n    <tr>\n      <th>4</th>\n      <td>泉州</td>\n      <td>蓝氏钟楼旗舰店</td>\n      <td>274088.70</td>\n      <td>25</td>\n    </tr>\n  </tbody>\n</table>\n</div>"
     },
     "metadata": {},
     "execution_count": 87
    }
   ],
   "source": [
    "\n",
    "df_c_pay_max = df.groupby(['city','shop'],as_index=False)['actpay'].sum().sort_values('actpay',ascending=False)#得到每个城市相同店铺的总销售额并排序\n",
    "#这里不需要删除去重，因为我们只需要得到每个城市的相同店铺销售额即可\n",
    "df_c_pay_max = df_c_pay_max.merge(df_c_max,on=['city','shop'],how='right')#以df_c_max表为主进行连接，得到其对应的销售额\n",
    "df_c_pay_max.head()"
   ]
  },
  {
   "source": [
    "从中可以分析出，在每个城市中的主导店铺、品牌"
   ],
   "cell_type": "markdown",
   "metadata": {}
  },
  {
   "source": [
    "### 4.13 每个省份店铺数量排名第一的shop"
   ],
   "cell_type": "markdown",
   "metadata": {}
  },
  {
   "cell_type": "code",
   "execution_count": 88,
   "metadata": {},
   "outputs": [
    {
     "output_type": "execute_result",
     "data": {
      "text/plain": [
       "   province       shop  c_s_counts\n",
       "0        上海       天猫超市         269\n",
       "1        浙江   五芳斋官方旗舰店         105\n",
       "2        北京   稻香村食品旗舰店          51\n",
       "9        福建    蓝氏钟楼旗舰店          25\n",
       "10       河北  三全京之良品专卖店          23"
      ],
      "text/html": "<div>\n<style scoped>\n    .dataframe tbody tr th:only-of-type {\n        vertical-align: middle;\n    }\n\n    .dataframe tbody tr th {\n        vertical-align: top;\n    }\n\n    .dataframe thead th {\n        text-align: right;\n    }\n</style>\n<table border=\"1\" class=\"dataframe\">\n  <thead>\n    <tr style=\"text-align: right;\">\n      <th></th>\n      <th>province</th>\n      <th>shop</th>\n      <th>c_s_counts</th>\n    </tr>\n  </thead>\n  <tbody>\n    <tr>\n      <th>0</th>\n      <td>上海</td>\n      <td>天猫超市</td>\n      <td>269</td>\n    </tr>\n    <tr>\n      <th>1</th>\n      <td>浙江</td>\n      <td>五芳斋官方旗舰店</td>\n      <td>105</td>\n    </tr>\n    <tr>\n      <th>2</th>\n      <td>北京</td>\n      <td>稻香村食品旗舰店</td>\n      <td>51</td>\n    </tr>\n    <tr>\n      <th>9</th>\n      <td>福建</td>\n      <td>蓝氏钟楼旗舰店</td>\n      <td>25</td>\n    </tr>\n    <tr>\n      <th>10</th>\n      <td>河北</td>\n      <td>三全京之良品专卖店</td>\n      <td>23</td>\n    </tr>\n  </tbody>\n</table>\n</div>"
     },
     "metadata": {},
     "execution_count": 88
    }
   ],
   "source": [
    "df_p_max = pd.pivot_table(df,index=['province','shop'],aggfunc='count')\n",
    "df_p_max = df_p_max[['actpay']]\n",
    "df_p_max = df_p_max.sort_values('actpay',ascending=False).reset_index()\n",
    "df_p_max = df_p_max.drop_duplicates(subset='province')#利用去重保存first\n",
    "# df_p_max.shape[0]\n",
    "df_p_max.rename(columns={'actpay':'c_s_counts'}, inplace=True)\n",
    "df_p_max.head()"
   ]
  },
  {
   "source": [
    "从中可以分析出，在每个省份中的主导店铺、品牌"
   ],
   "cell_type": "markdown",
   "metadata": {}
  },
  {
   "source": [
    "### 同理我们还可以得出每个省份/城市中销售额top1的店铺/品牌,留给大家探索，上面有一个了"
   ],
   "cell_type": "markdown",
   "metadata": {}
  },
  {
   "source": [
    "### 每个城市销售额top1的店铺"
   ],
   "cell_type": "code",
   "metadata": {},
   "execution_count": 89,
   "outputs": []
  },
  {
   "cell_type": "code",
   "execution_count": 90,
   "metadata": {},
   "outputs": [
    {
     "output_type": "execute_result",
     "data": {
      "text/plain": [
       "132389350.79999998"
      ]
     },
     "metadata": {},
     "execution_count": 90
    }
   ],
   "source": [
    "df[(df.city=='嘉兴') & (df.shop=='五芳斋官方旗舰店')]['actpay'].sum()"
   ]
  },
  {
   "cell_type": "code",
   "execution_count": 91,
   "metadata": {},
   "outputs": [],
   "source": [
    "# df_c_pay = df.groupby(['city','shop'],as_index=False)['actpay'].sum().sort_values('actpay',ascending=False)\n",
    "# df_c_pay = df_c_pay.drop_duplicates(subset='city')#删除相同城市中店铺销售额不是第一的行\n",
    "# df_c_pay.rename(columns={'actpay':'actpay_sum'}, inplace=True)\n",
    "# df_c_pay.head()"
   ]
  },
  {
   "cell_type": "code",
   "execution_count": null,
   "metadata": {},
   "outputs": [],
   "source": []
  },
  {
   "cell_type": "code",
   "execution_count": 92,
   "metadata": {},
   "outputs": [
    {
     "output_type": "execute_result",
     "data": {
      "text/plain": [
       "                                 name  price     ppay       shop province  \\\n",
       "1      五芳斋粽子礼盒装鲜肉咸蛋黄大肉粽嘉兴豆沙甜粽端午团购散装礼品  89.90  1000000   五芳斋官方旗舰店       浙江   \n",
       "13     真真老老嘉兴粽子礼盒装肉粽糯米鲜肉蛋黄肉大粽子甜粽端午节礼品  59.90   700000    真真老老旗舰店       浙江   \n",
       "61     五芳斋粽子礼盒蛋黄肉粽豆沙粽大肉棕子浙江特产新鲜嘉兴粽子肉粽  89.90   200000   五芳斋官方旗舰店       浙江   \n",
       "115    稻香私房嘉兴大蛋黄鲜肉粽甜味蜜枣散装粽子礼盒装端午节特产送礼  59.90   100000   稻香村食品旗舰店       北京   \n",
       "195    真真老老嘉兴粽子蛋黄肉粽端午粽子礼盒装鲜肉粽子甜粽大粽子团购  29.90   200000    真真老老旗舰店       浙江   \n",
       "803    五芳斋粽子礼盒蛋黄肉粽端午节送礼团购肉粽豆沙棕子嘉兴特产粽子  89.90    65000   五芳斋官方旗舰店       浙江   \n",
       "25     知味观端午节粽子甜粽咸蛋黄大肉粽礼盒装嘉兴味鲜肉粽子散装团购  64.90    85000   知味观官方旗舰店       浙江   \n",
       "35     五芳斋粽子礼盒装新鲜大肉粽蛋黄猪肉粽豆沙端午食品团购嘉兴特产  39.90   100000   五芳斋浙江专卖店       浙江   \n",
       "84     荃盛粽子鲜肉粽蛋黄鲜肉粽豆沙粽子甜粽端午节礼品嘉兴粽子礼盒装  59.90    65000      荃盛旗舰店       浙江   \n",
       "10     五芳斋粽子竹篮礼盒华礼嘉兴特产蛋黄鲜肉粽豆沙咸蛋端午送礼团购 159.00    20000   五芳斋官方旗舰店       浙江   \n",
       "40     鲜肉粽嘉兴粽子蛋黄肉粽咸散装端午节大甜粽送礼品团购批发礼盒装  39.90    55000    集采食品专营店       浙江   \n",
       "793    嘉兴粽子新鲜大肉粽蛋黄肉粽甜粽竹篮粽子礼盒装组合端午送礼团购 857.90     2491      千味食代i       浙江   \n",
       "130    【百亿补贴】五芳斋新鲜粽子礼盒装大肉粽豆沙嘉兴端午送礼咸鸭蛋  99.90    20000   五芳斋浙江专卖店       浙江   \n",
       "113    五芳斋蛋黄肉粽量贩装 嘉兴特产大粽子肉粽子团购礼品早餐鲜肉粽  95.00    20000   五芳斋官方旗舰店       浙江   \n",
       "1174   五芳斋粽子蛋黄肉粽豆沙棕子多口味组合 端午节浙江特产嘉兴粽子  34.90    50000   五芳斋官方旗舰店       浙江   \n",
       "175   怀裕泰 粽子礼盒装 嘉兴棕子蛋黄鲜肉粽端午节送礼礼品大团购定制  39.90    40000     怀裕泰旗舰店       浙江   \n",
       "75     三全粽子礼盒装肉粽嘉兴粽子豆沙蜜枣粽端午甜粽散装特产鲜肉粽叶  49.90    30000  三全京之良品专卖店       河北   \n",
       "1332  五芳斋x太极禅苑粽子礼盒 嘉兴特产粽子蛋黄肉粽蜜枣粽端午节礼品 149.00    10000   五芳斋官方旗舰店       浙江   \n",
       "114    五芳斋福享五芳粽子礼盒端午节大蛋黄肉粽豆沙甜棕子特产嘉兴粽子  89.90    15000   五芳斋官方旗舰店       浙江   \n",
       "76     德荣恒竹篮粽子礼盒装蛋黄鲜肉粽散装大甜粽端午节嘉兴特产送礼品  27.80    45000     德荣恒旗舰店       浙江   \n",
       "\n",
       "     city      actpay shopkind  actpay_sum brand  \n",
       "1      嘉兴 89900000.00      旗舰店 89900000.00   五芳斋  \n",
       "13     嘉兴 41930000.00      旗舰店 20967174.55  真真老老  \n",
       "61     嘉兴 17980000.00      旗舰店 17980000.00   五芳斋  \n",
       "115    北京  5990000.00      旗舰店  5990000.00   稻香村  \n",
       "195    嘉兴  5980000.00      旗舰店  5980000.00  真真老老  \n",
       "803    嘉兴  5843500.00      旗舰店  5843500.00   五芳斋  \n",
       "25     杭州  5516500.00      旗舰店  5516500.00   知味观  \n",
       "35     嘉兴  3990000.00  专卖店/专营店  3990000.00   五芳斋  \n",
       "84     宁波  3893500.00      旗舰店  3893500.00  其他品牌  \n",
       "10     嘉兴  3180000.00      旗舰店  3180000.00   五芳斋  \n",
       "40     嘉兴  2194500.00  专卖店/专营店  2194500.00  其他品牌  \n",
       "793    嘉兴  2137028.90  专卖店/专营店  2137028.90  其他品牌  \n",
       "130    嘉兴  1998000.00  专卖店/专营店  1998000.00   五芳斋  \n",
       "113    嘉兴  1900000.00      旗舰店   333003.33   五芳斋  \n",
       "1174   嘉兴  1745000.00      旗舰店  1745000.00   五芳斋  \n",
       "175    嘉兴  1596000.00      旗舰店  1596000.00  其他品牌  \n",
       "75     廊坊  1497000.00  专卖店/专营店  1497000.00  其他品牌  \n",
       "1332   嘉兴  1490000.00      旗舰店  1490000.00   五芳斋  \n",
       "114    嘉兴  1348500.00      旗舰店   675674.00   五芳斋  \n",
       "76     嘉兴  1251000.00      旗舰店  1251000.00  其他品牌  "
      ],
      "text/html": "<div>\n<style scoped>\n    .dataframe tbody tr th:only-of-type {\n        vertical-align: middle;\n    }\n\n    .dataframe tbody tr th {\n        vertical-align: top;\n    }\n\n    .dataframe thead th {\n        text-align: right;\n    }\n</style>\n<table border=\"1\" class=\"dataframe\">\n  <thead>\n    <tr style=\"text-align: right;\">\n      <th></th>\n      <th>name</th>\n      <th>price</th>\n      <th>ppay</th>\n      <th>shop</th>\n      <th>province</th>\n      <th>city</th>\n      <th>actpay</th>\n      <th>shopkind</th>\n      <th>actpay_sum</th>\n      <th>brand</th>\n    </tr>\n  </thead>\n  <tbody>\n    <tr>\n      <th>1</th>\n      <td>五芳斋粽子礼盒装鲜肉咸蛋黄大肉粽嘉兴豆沙甜粽端午团购散装礼品</td>\n      <td>89.90</td>\n      <td>1000000</td>\n      <td>五芳斋官方旗舰店</td>\n      <td>浙江</td>\n      <td>嘉兴</td>\n      <td>89900000.00</td>\n      <td>旗舰店</td>\n      <td>89900000.00</td>\n      <td>五芳斋</td>\n    </tr>\n    <tr>\n      <th>13</th>\n      <td>真真老老嘉兴粽子礼盒装肉粽糯米鲜肉蛋黄肉大粽子甜粽端午节礼品</td>\n      <td>59.90</td>\n      <td>700000</td>\n      <td>真真老老旗舰店</td>\n      <td>浙江</td>\n      <td>嘉兴</td>\n      <td>41930000.00</td>\n      <td>旗舰店</td>\n      <td>20967174.55</td>\n      <td>真真老老</td>\n    </tr>\n    <tr>\n      <th>61</th>\n      <td>五芳斋粽子礼盒蛋黄肉粽豆沙粽大肉棕子浙江特产新鲜嘉兴粽子肉粽</td>\n      <td>89.90</td>\n      <td>200000</td>\n      <td>五芳斋官方旗舰店</td>\n      <td>浙江</td>\n      <td>嘉兴</td>\n      <td>17980000.00</td>\n      <td>旗舰店</td>\n      <td>17980000.00</td>\n      <td>五芳斋</td>\n    </tr>\n    <tr>\n      <th>115</th>\n      <td>稻香私房嘉兴大蛋黄鲜肉粽甜味蜜枣散装粽子礼盒装端午节特产送礼</td>\n      <td>59.90</td>\n      <td>100000</td>\n      <td>稻香村食品旗舰店</td>\n      <td>北京</td>\n      <td>北京</td>\n      <td>5990000.00</td>\n      <td>旗舰店</td>\n      <td>5990000.00</td>\n      <td>稻香村</td>\n    </tr>\n    <tr>\n      <th>195</th>\n      <td>真真老老嘉兴粽子蛋黄肉粽端午粽子礼盒装鲜肉粽子甜粽大粽子团购</td>\n      <td>29.90</td>\n      <td>200000</td>\n      <td>真真老老旗舰店</td>\n      <td>浙江</td>\n      <td>嘉兴</td>\n      <td>5980000.00</td>\n      <td>旗舰店</td>\n      <td>5980000.00</td>\n      <td>真真老老</td>\n    </tr>\n    <tr>\n      <th>803</th>\n      <td>五芳斋粽子礼盒蛋黄肉粽端午节送礼团购肉粽豆沙棕子嘉兴特产粽子</td>\n      <td>89.90</td>\n      <td>65000</td>\n      <td>五芳斋官方旗舰店</td>\n      <td>浙江</td>\n      <td>嘉兴</td>\n      <td>5843500.00</td>\n      <td>旗舰店</td>\n      <td>5843500.00</td>\n      <td>五芳斋</td>\n    </tr>\n    <tr>\n      <th>25</th>\n      <td>知味观端午节粽子甜粽咸蛋黄大肉粽礼盒装嘉兴味鲜肉粽子散装团购</td>\n      <td>64.90</td>\n      <td>85000</td>\n      <td>知味观官方旗舰店</td>\n      <td>浙江</td>\n      <td>杭州</td>\n      <td>5516500.00</td>\n      <td>旗舰店</td>\n      <td>5516500.00</td>\n      <td>知味观</td>\n    </tr>\n    <tr>\n      <th>35</th>\n      <td>五芳斋粽子礼盒装新鲜大肉粽蛋黄猪肉粽豆沙端午食品团购嘉兴特产</td>\n      <td>39.90</td>\n      <td>100000</td>\n      <td>五芳斋浙江专卖店</td>\n      <td>浙江</td>\n      <td>嘉兴</td>\n      <td>3990000.00</td>\n      <td>专卖店/专营店</td>\n      <td>3990000.00</td>\n      <td>五芳斋</td>\n    </tr>\n    <tr>\n      <th>84</th>\n      <td>荃盛粽子鲜肉粽蛋黄鲜肉粽豆沙粽子甜粽端午节礼品嘉兴粽子礼盒装</td>\n      <td>59.90</td>\n      <td>65000</td>\n      <td>荃盛旗舰店</td>\n      <td>浙江</td>\n      <td>宁波</td>\n      <td>3893500.00</td>\n      <td>旗舰店</td>\n      <td>3893500.00</td>\n      <td>其他品牌</td>\n    </tr>\n    <tr>\n      <th>10</th>\n      <td>五芳斋粽子竹篮礼盒华礼嘉兴特产蛋黄鲜肉粽豆沙咸蛋端午送礼团购</td>\n      <td>159.00</td>\n      <td>20000</td>\n      <td>五芳斋官方旗舰店</td>\n      <td>浙江</td>\n      <td>嘉兴</td>\n      <td>3180000.00</td>\n      <td>旗舰店</td>\n      <td>3180000.00</td>\n      <td>五芳斋</td>\n    </tr>\n    <tr>\n      <th>40</th>\n      <td>鲜肉粽嘉兴粽子蛋黄肉粽咸散装端午节大甜粽送礼品团购批发礼盒装</td>\n      <td>39.90</td>\n      <td>55000</td>\n      <td>集采食品专营店</td>\n      <td>浙江</td>\n      <td>嘉兴</td>\n      <td>2194500.00</td>\n      <td>专卖店/专营店</td>\n      <td>2194500.00</td>\n      <td>其他品牌</td>\n    </tr>\n    <tr>\n      <th>793</th>\n      <td>嘉兴粽子新鲜大肉粽蛋黄肉粽甜粽竹篮粽子礼盒装组合端午送礼团购</td>\n      <td>857.90</td>\n      <td>2491</td>\n      <td>千味食代i</td>\n      <td>浙江</td>\n      <td>嘉兴</td>\n      <td>2137028.90</td>\n      <td>专卖店/专营店</td>\n      <td>2137028.90</td>\n      <td>其他品牌</td>\n    </tr>\n    <tr>\n      <th>130</th>\n      <td>【百亿补贴】五芳斋新鲜粽子礼盒装大肉粽豆沙嘉兴端午送礼咸鸭蛋</td>\n      <td>99.90</td>\n      <td>20000</td>\n      <td>五芳斋浙江专卖店</td>\n      <td>浙江</td>\n      <td>嘉兴</td>\n      <td>1998000.00</td>\n      <td>专卖店/专营店</td>\n      <td>1998000.00</td>\n      <td>五芳斋</td>\n    </tr>\n    <tr>\n      <th>113</th>\n      <td>五芳斋蛋黄肉粽量贩装 嘉兴特产大粽子肉粽子团购礼品早餐鲜肉粽</td>\n      <td>95.00</td>\n      <td>20000</td>\n      <td>五芳斋官方旗舰店</td>\n      <td>浙江</td>\n      <td>嘉兴</td>\n      <td>1900000.00</td>\n      <td>旗舰店</td>\n      <td>333003.33</td>\n      <td>五芳斋</td>\n    </tr>\n    <tr>\n      <th>1174</th>\n      <td>五芳斋粽子蛋黄肉粽豆沙棕子多口味组合 端午节浙江特产嘉兴粽子</td>\n      <td>34.90</td>\n      <td>50000</td>\n      <td>五芳斋官方旗舰店</td>\n      <td>浙江</td>\n      <td>嘉兴</td>\n      <td>1745000.00</td>\n      <td>旗舰店</td>\n      <td>1745000.00</td>\n      <td>五芳斋</td>\n    </tr>\n    <tr>\n      <th>175</th>\n      <td>怀裕泰 粽子礼盒装 嘉兴棕子蛋黄鲜肉粽端午节送礼礼品大团购定制</td>\n      <td>39.90</td>\n      <td>40000</td>\n      <td>怀裕泰旗舰店</td>\n      <td>浙江</td>\n      <td>嘉兴</td>\n      <td>1596000.00</td>\n      <td>旗舰店</td>\n      <td>1596000.00</td>\n      <td>其他品牌</td>\n    </tr>\n    <tr>\n      <th>75</th>\n      <td>三全粽子礼盒装肉粽嘉兴粽子豆沙蜜枣粽端午甜粽散装特产鲜肉粽叶</td>\n      <td>49.90</td>\n      <td>30000</td>\n      <td>三全京之良品专卖店</td>\n      <td>河北</td>\n      <td>廊坊</td>\n      <td>1497000.00</td>\n      <td>专卖店/专营店</td>\n      <td>1497000.00</td>\n      <td>其他品牌</td>\n    </tr>\n    <tr>\n      <th>1332</th>\n      <td>五芳斋x太极禅苑粽子礼盒 嘉兴特产粽子蛋黄肉粽蜜枣粽端午节礼品</td>\n      <td>149.00</td>\n      <td>10000</td>\n      <td>五芳斋官方旗舰店</td>\n      <td>浙江</td>\n      <td>嘉兴</td>\n      <td>1490000.00</td>\n      <td>旗舰店</td>\n      <td>1490000.00</td>\n      <td>五芳斋</td>\n    </tr>\n    <tr>\n      <th>114</th>\n      <td>五芳斋福享五芳粽子礼盒端午节大蛋黄肉粽豆沙甜棕子特产嘉兴粽子</td>\n      <td>89.90</td>\n      <td>15000</td>\n      <td>五芳斋官方旗舰店</td>\n      <td>浙江</td>\n      <td>嘉兴</td>\n      <td>1348500.00</td>\n      <td>旗舰店</td>\n      <td>675674.00</td>\n      <td>五芳斋</td>\n    </tr>\n    <tr>\n      <th>76</th>\n      <td>德荣恒竹篮粽子礼盒装蛋黄鲜肉粽散装大甜粽端午节嘉兴特产送礼品</td>\n      <td>27.80</td>\n      <td>45000</td>\n      <td>德荣恒旗舰店</td>\n      <td>浙江</td>\n      <td>嘉兴</td>\n      <td>1251000.00</td>\n      <td>旗舰店</td>\n      <td>1251000.00</td>\n      <td>其他品牌</td>\n    </tr>\n  </tbody>\n</table>\n</div>"
     },
     "metadata": {},
     "execution_count": 92
    }
   ],
   "source": [
    "#为df添加brand列\n",
    "df['brand'] = df.shop.apply(get_brand)\n",
    "df.sort_values('actpay',ascending=False).head(20)"
   ]
  },
  {
   "cell_type": "code",
   "execution_count": 93,
   "metadata": {},
   "outputs": [],
   "source": [
    "# df.info()"
   ]
  },
  {
   "source": [
    "## 5.可视化分析实现"
   ],
   "cell_type": "markdown",
   "metadata": {}
  },
  {
   "source": [
    "### 5.1 绘制name产品名称词云图"
   ],
   "cell_type": "markdown",
   "metadata": {}
  },
  {
   "source": [
    "### 需求："
   ],
   "cell_type": "markdown",
   "metadata": {}
  }
 ]
}