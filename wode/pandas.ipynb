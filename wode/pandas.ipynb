{
 "metadata": {
  "language_info": {
   "codemirror_mode": {
    "name": "ipython",
    "version": 3
   },
   "file_extension": ".py",
   "mimetype": "text/x-python",
   "name": "python",
   "nbconvert_exporter": "python",
   "pygments_lexer": "ipython3",
   "version": "3.7.0-final"
  },
  "orig_nbformat": 2,
  "kernelspec": {
   "name": "python3",
   "display_name": "Python 3",
   "language": "python"
  }
 },
 "nbformat": 4,
 "nbformat_minor": 2,
 "cells": [
  {
   "cell_type": "code",
   "execution_count": 6,
   "metadata": {},
   "outputs": [
    {
     "output_type": "error",
     "ename": "FileNotFoundError",
     "evalue": "[Errno 2] No such file or directory: 'D:/Python/Pandas/wode/大学排名new2019.csv'",
     "traceback": [
      "\u001b[1;31m---------------------------------------------------------------------------\u001b[0m",
      "\u001b[1;31mFileNotFoundError\u001b[0m                         Traceback (most recent call last)",
      "\u001b[1;32m<ipython-input-6-30fd432c8642>\u001b[0m in \u001b[0;36m<module>\u001b[1;34m()\u001b[0m\n\u001b[0;32m      1\u001b[0m \u001b[1;32mimport\u001b[0m \u001b[0mpandas\u001b[0m \u001b[1;32mas\u001b[0m \u001b[0mpd\u001b[0m\u001b[1;33m\u001b[0m\u001b[0m\n\u001b[1;32m----> 2\u001b[1;33m \u001b[0mdf\u001b[0m \u001b[1;33m=\u001b[0m \u001b[0mpd\u001b[0m\u001b[1;33m.\u001b[0m\u001b[0mread_csv\u001b[0m\u001b[1;33m(\u001b[0m\u001b[1;34m'D:/Python/Pandas/wode/大学排名new2019.csv'\u001b[0m\u001b[1;33m,\u001b[0m\u001b[0mengine\u001b[0m\u001b[1;33m=\u001b[0m\u001b[1;34m'python'\u001b[0m\u001b[1;33m,\u001b[0m\u001b[0mindex_col\u001b[0m \u001b[1;33m=\u001b[0m \u001b[1;32mFalse\u001b[0m\u001b[1;33m)\u001b[0m\u001b[1;33m\u001b[0m\u001b[0m\n\u001b[0m\u001b[0;32m      3\u001b[0m \u001b[0mdf\u001b[0m\u001b[1;33m\u001b[0m\u001b[0m\n",
      "\u001b[1;32m~\\AppData\\Roaming\\Python\\Python37\\site-packages\\pandas\\io\\parsers.py\u001b[0m in \u001b[0;36mread_csv\u001b[1;34m(filepath_or_buffer, sep, delimiter, header, names, index_col, usecols, squeeze, prefix, mangle_dupe_cols, dtype, engine, converters, true_values, false_values, skipinitialspace, skiprows, skipfooter, nrows, na_values, keep_default_na, na_filter, verbose, skip_blank_lines, parse_dates, infer_datetime_format, keep_date_col, date_parser, dayfirst, cache_dates, iterator, chunksize, compression, thousands, decimal, lineterminator, quotechar, quoting, doublequote, escapechar, comment, encoding, dialect, error_bad_lines, warn_bad_lines, delim_whitespace, low_memory, memory_map, float_precision)\u001b[0m\n\u001b[0;32m    686\u001b[0m     )\n\u001b[0;32m    687\u001b[0m \u001b[1;33m\u001b[0m\u001b[0m\n\u001b[1;32m--> 688\u001b[1;33m     \u001b[1;32mreturn\u001b[0m \u001b[0m_read\u001b[0m\u001b[1;33m(\u001b[0m\u001b[0mfilepath_or_buffer\u001b[0m\u001b[1;33m,\u001b[0m \u001b[0mkwds\u001b[0m\u001b[1;33m)\u001b[0m\u001b[1;33m\u001b[0m\u001b[0m\n\u001b[0m\u001b[0;32m    689\u001b[0m \u001b[1;33m\u001b[0m\u001b[0m\n\u001b[0;32m    690\u001b[0m \u001b[1;33m\u001b[0m\u001b[0m\n",
      "\u001b[1;32m~\\AppData\\Roaming\\Python\\Python37\\site-packages\\pandas\\io\\parsers.py\u001b[0m in \u001b[0;36m_read\u001b[1;34m(filepath_or_buffer, kwds)\u001b[0m\n\u001b[0;32m    452\u001b[0m \u001b[1;33m\u001b[0m\u001b[0m\n\u001b[0;32m    453\u001b[0m     \u001b[1;31m# Create the parser.\u001b[0m\u001b[1;33m\u001b[0m\u001b[1;33m\u001b[0m\u001b[0m\n\u001b[1;32m--> 454\u001b[1;33m     \u001b[0mparser\u001b[0m \u001b[1;33m=\u001b[0m \u001b[0mTextFileReader\u001b[0m\u001b[1;33m(\u001b[0m\u001b[0mfp_or_buf\u001b[0m\u001b[1;33m,\u001b[0m \u001b[1;33m**\u001b[0m\u001b[0mkwds\u001b[0m\u001b[1;33m)\u001b[0m\u001b[1;33m\u001b[0m\u001b[0m\n\u001b[0m\u001b[0;32m    455\u001b[0m \u001b[1;33m\u001b[0m\u001b[0m\n\u001b[0;32m    456\u001b[0m     \u001b[1;32mif\u001b[0m \u001b[0mchunksize\u001b[0m \u001b[1;32mor\u001b[0m \u001b[0miterator\u001b[0m\u001b[1;33m:\u001b[0m\u001b[1;33m\u001b[0m\u001b[0m\n",
      "\u001b[1;32m~\\AppData\\Roaming\\Python\\Python37\\site-packages\\pandas\\io\\parsers.py\u001b[0m in \u001b[0;36m__init__\u001b[1;34m(self, f, engine, **kwds)\u001b[0m\n\u001b[0;32m    946\u001b[0m             \u001b[0mself\u001b[0m\u001b[1;33m.\u001b[0m\u001b[0moptions\u001b[0m\u001b[1;33m[\u001b[0m\u001b[1;34m\"has_index_names\"\u001b[0m\u001b[1;33m]\u001b[0m \u001b[1;33m=\u001b[0m \u001b[0mkwds\u001b[0m\u001b[1;33m[\u001b[0m\u001b[1;34m\"has_index_names\"\u001b[0m\u001b[1;33m]\u001b[0m\u001b[1;33m\u001b[0m\u001b[0m\n\u001b[0;32m    947\u001b[0m \u001b[1;33m\u001b[0m\u001b[0m\n\u001b[1;32m--> 948\u001b[1;33m         \u001b[0mself\u001b[0m\u001b[1;33m.\u001b[0m\u001b[0m_make_engine\u001b[0m\u001b[1;33m(\u001b[0m\u001b[0mself\u001b[0m\u001b[1;33m.\u001b[0m\u001b[0mengine\u001b[0m\u001b[1;33m)\u001b[0m\u001b[1;33m\u001b[0m\u001b[0m\n\u001b[0m\u001b[0;32m    949\u001b[0m \u001b[1;33m\u001b[0m\u001b[0m\n\u001b[0;32m    950\u001b[0m     \u001b[1;32mdef\u001b[0m \u001b[0mclose\u001b[0m\u001b[1;33m(\u001b[0m\u001b[0mself\u001b[0m\u001b[1;33m)\u001b[0m\u001b[1;33m:\u001b[0m\u001b[1;33m\u001b[0m\u001b[0m\n",
      "\u001b[1;32m~\\AppData\\Roaming\\Python\\Python37\\site-packages\\pandas\\io\\parsers.py\u001b[0m in \u001b[0;36m_make_engine\u001b[1;34m(self, engine)\u001b[0m\n\u001b[0;32m   1189\u001b[0m                     \u001b[1;34m'are \"c\", \"python\", or \"python-fwf\")'\u001b[0m\u001b[1;33m\u001b[0m\u001b[0m\n\u001b[0;32m   1190\u001b[0m                 )\n\u001b[1;32m-> 1191\u001b[1;33m             \u001b[0mself\u001b[0m\u001b[1;33m.\u001b[0m\u001b[0m_engine\u001b[0m \u001b[1;33m=\u001b[0m \u001b[0mklass\u001b[0m\u001b[1;33m(\u001b[0m\u001b[0mself\u001b[0m\u001b[1;33m.\u001b[0m\u001b[0mf\u001b[0m\u001b[1;33m,\u001b[0m \u001b[1;33m**\u001b[0m\u001b[0mself\u001b[0m\u001b[1;33m.\u001b[0m\u001b[0moptions\u001b[0m\u001b[1;33m)\u001b[0m\u001b[1;33m\u001b[0m\u001b[0m\n\u001b[0m\u001b[0;32m   1192\u001b[0m \u001b[1;33m\u001b[0m\u001b[0m\n\u001b[0;32m   1193\u001b[0m     \u001b[1;32mdef\u001b[0m \u001b[0m_failover_to_python\u001b[0m\u001b[1;33m(\u001b[0m\u001b[0mself\u001b[0m\u001b[1;33m)\u001b[0m\u001b[1;33m:\u001b[0m\u001b[1;33m\u001b[0m\u001b[0m\n",
      "\u001b[1;32m~\\AppData\\Roaming\\Python\\Python37\\site-packages\\pandas\\io\\parsers.py\u001b[0m in \u001b[0;36m__init__\u001b[1;34m(self, f, **kwds)\u001b[0m\n\u001b[0;32m   2387\u001b[0m             \u001b[0mencoding\u001b[0m\u001b[1;33m=\u001b[0m\u001b[0mself\u001b[0m\u001b[1;33m.\u001b[0m\u001b[0mencoding\u001b[0m\u001b[1;33m,\u001b[0m\u001b[1;33m\u001b[0m\u001b[0m\n\u001b[0;32m   2388\u001b[0m             \u001b[0mcompression\u001b[0m\u001b[1;33m=\u001b[0m\u001b[0mself\u001b[0m\u001b[1;33m.\u001b[0m\u001b[0mcompression\u001b[0m\u001b[1;33m,\u001b[0m\u001b[1;33m\u001b[0m\u001b[0m\n\u001b[1;32m-> 2389\u001b[1;33m             \u001b[0mmemory_map\u001b[0m\u001b[1;33m=\u001b[0m\u001b[0mself\u001b[0m\u001b[1;33m.\u001b[0m\u001b[0mmemory_map\u001b[0m\u001b[1;33m,\u001b[0m\u001b[1;33m\u001b[0m\u001b[0m\n\u001b[0m\u001b[0;32m   2390\u001b[0m         )\n\u001b[0;32m   2391\u001b[0m         \u001b[0mself\u001b[0m\u001b[1;33m.\u001b[0m\u001b[0mhandles\u001b[0m\u001b[1;33m.\u001b[0m\u001b[0mextend\u001b[0m\u001b[1;33m(\u001b[0m\u001b[0mhandles\u001b[0m\u001b[1;33m)\u001b[0m\u001b[1;33m\u001b[0m\u001b[0m\n",
      "\u001b[1;32m~\\AppData\\Roaming\\Python\\Python37\\site-packages\\pandas\\io\\common.py\u001b[0m in \u001b[0;36mget_handle\u001b[1;34m(path_or_buf, mode, encoding, compression, memory_map, is_text, errors)\u001b[0m\n\u001b[0;32m    494\u001b[0m         \u001b[1;32melif\u001b[0m \u001b[0mis_text\u001b[0m\u001b[1;33m:\u001b[0m\u001b[1;33m\u001b[0m\u001b[0m\n\u001b[0;32m    495\u001b[0m             \u001b[1;31m# No explicit encoding\u001b[0m\u001b[1;33m\u001b[0m\u001b[1;33m\u001b[0m\u001b[0m\n\u001b[1;32m--> 496\u001b[1;33m             \u001b[0mf\u001b[0m \u001b[1;33m=\u001b[0m \u001b[0mopen\u001b[0m\u001b[1;33m(\u001b[0m\u001b[0mpath_or_buf\u001b[0m\u001b[1;33m,\u001b[0m \u001b[0mmode\u001b[0m\u001b[1;33m,\u001b[0m \u001b[0merrors\u001b[0m\u001b[1;33m=\u001b[0m\u001b[1;34m\"replace\"\u001b[0m\u001b[1;33m,\u001b[0m \u001b[0mnewline\u001b[0m\u001b[1;33m=\u001b[0m\u001b[1;34m\"\"\u001b[0m\u001b[1;33m)\u001b[0m\u001b[1;33m\u001b[0m\u001b[0m\n\u001b[0m\u001b[0;32m    497\u001b[0m         \u001b[1;32melse\u001b[0m\u001b[1;33m:\u001b[0m\u001b[1;33m\u001b[0m\u001b[0m\n\u001b[0;32m    498\u001b[0m             \u001b[1;31m# Binary mode\u001b[0m\u001b[1;33m\u001b[0m\u001b[1;33m\u001b[0m\u001b[0m\n",
      "\u001b[1;31mFileNotFoundError\u001b[0m: [Errno 2] No such file or directory: 'D:/Python/Pandas/wode/大学排名new2019.csv'"
     ]
    }
   ],
   "source": [
    "import pandas as pd\n",
    "df = pd.read_csv('D:/Python/Pandas/wode/大学排名new2019.csv',engine='python',index_col = False)\n",
    "df"
   ]
  },
  {
   "cell_type": "code",
   "execution_count": 759,
   "metadata": {},
   "outputs": [
    {
     "output_type": "execute_result",
     "data": {
      "text/plain": [
       "               排名        指标得分\n",
       "count  100.000000  100.000000\n",
       "mean    50.230000   44.905000\n",
       "std     28.882505    9.949482\n",
       "min      1.000000   35.700000\n",
       "25%     25.750000   38.175000\n",
       "50%     50.500000   41.600000\n",
       "75%     73.750000   48.675000\n",
       "max    100.000000   94.600000"
      ],
      "text/html": "<div>\n<style scoped>\n    .dataframe tbody tr th:only-of-type {\n        vertical-align: middle;\n    }\n\n    .dataframe tbody tr th {\n        vertical-align: top;\n    }\n\n    .dataframe thead th {\n        text-align: right;\n    }\n</style>\n<table border=\"1\" class=\"dataframe\">\n  <thead>\n    <tr style=\"text-align: right;\">\n      <th></th>\n      <th>排名</th>\n      <th>指标得分</th>\n    </tr>\n  </thead>\n  <tbody>\n    <tr>\n      <th>count</th>\n      <td>100.000000</td>\n      <td>100.000000</td>\n    </tr>\n    <tr>\n      <th>mean</th>\n      <td>50.230000</td>\n      <td>44.905000</td>\n    </tr>\n    <tr>\n      <th>std</th>\n      <td>28.882505</td>\n      <td>9.949482</td>\n    </tr>\n    <tr>\n      <th>min</th>\n      <td>1.000000</td>\n      <td>35.700000</td>\n    </tr>\n    <tr>\n      <th>25%</th>\n      <td>25.750000</td>\n      <td>38.175000</td>\n    </tr>\n    <tr>\n      <th>50%</th>\n      <td>50.500000</td>\n      <td>41.600000</td>\n    </tr>\n    <tr>\n      <th>75%</th>\n      <td>73.750000</td>\n      <td>48.675000</td>\n    </tr>\n    <tr>\n      <th>max</th>\n      <td>100.000000</td>\n      <td>94.600000</td>\n    </tr>\n  </tbody>\n</table>\n</div>"
     },
     "metadata": {},
     "execution_count": 759
    }
   ],
   "source": [
    "df.describe()"
   ]
  },
  {
   "cell_type": "code",
   "execution_count": 760,
   "metadata": {},
   "outputs": [
    {
     "output_type": "execute_result",
     "data": {
      "text/plain": [
       "     排名        学校名称   省市  总分  指标得分  xlm\n",
       "0     1        清华大学   北京  综合  94.6    0\n",
       "1     2        北京大学   北京  综合  76.5    1\n",
       "2     3        浙江大学   浙江  综合  72.9    2\n",
       "3     4      上海交通大学   上海  综合  72.1    3\n",
       "4     5        复旦大学   上海  综合  65.6    4\n",
       "5     6    中国科学技术大学   安徽  理工  60.9    5\n",
       "6     7      华中科技大学   湖北  综合  58.9    6\n",
       "7     7        南京大学   江苏  综合  58.9    7\n",
       "8     9        中山大学   广东  综合  58.2    8\n",
       "9    10     哈尔滨工业大学  黑龙江  理工  56.7    9\n",
       "10   11    北京航空航天大学   北京  理工  56.3   10\n",
       "11   12        武汉大学   湖北  综合  56.2   11\n",
       "12   13        同济大学   上海  理工  55.7   12\n",
       "13   14      西安交通大学   陕西  综合  55.0   13\n",
       "14   15        四川大学   四川  综合  54.4   14\n",
       "15   16      北京理工大学   北京  理工  54.0   15\n",
       "16   17        东南大学   江苏  综合  53.6   16\n",
       "17   18        南开大学   天津  综合  52.8   17\n",
       "18   19        天津大学   天津  理工  52.3   18\n",
       "19   20      华南理工大学   广东  理工  52.0   19\n",
       "20   21        中南大学   湖南  综合  50.3   20\n",
       "21   22      北京师范大学   北京  师范  49.7   21\n",
       "22   23        山东大学   山东  综合  49.1   22\n",
       "23   23        厦门大学   福建  综合  49.1   23\n",
       "24   25        吉林大学   吉林  综合  48.9   24\n",
       "25   26      大连理工大学   辽宁  理工  48.6   25\n",
       "26   27      电子科技大学   四川  理工  48.4   26\n",
       "27   28        湖南大学   湖南  综合  48.1   27\n",
       "28   29        苏州大学   江苏  综合  47.3   28\n",
       "29   30      西北工业大学   陕西  理工  46.7   29\n",
       "..  ...         ...  ...  ..   ...  ...\n",
       "70   71      中国矿业大学   江苏  理工  38.6   70\n",
       "71   72  中国地质大学（北京）   北京  理工  38.5   71\n",
       "72   73      东北财经大学   辽宁  财经  38.2   72\n",
       "73   73      西南财经大学   四川  财经  38.2   73\n",
       "74   73        西南大学   重庆  综合  38.2   74\n",
       "75   76      东北师范大学   吉林  师范  38.1   75\n",
       "76   76      南京邮电大学   江苏  综合  38.1   76\n",
       "77   76      中国政法大学   北京  政法  38.1   77\n",
       "78   79        河海大学   江苏  理工  38.0   78\n",
       "79   80    南京信息工程大学   江苏  理工  37.9   79\n",
       "80   81    西北农林科技大学   陕西  农业  37.8   80\n",
       "81   82  中国石油大学（华东）   山东  理工  37.4   81\n",
       "82   83      合肥工业大学   安徽  理工  37.3   82\n",
       "83   84      陕西师范大学   陕西  师范  37.2   83\n",
       "84   85      华南师范大学   广东  师范  37.1   84\n",
       "85   85        江苏大学   江苏  综合  37.1   85\n",
       "86   87      南京工业大学   江苏  理工  37.0   86\n",
       "87   87  中国石油大学（北京）   北京  理工  37.0   87\n",
       "88   89        西北大学   陕西  综合  36.9   88\n",
       "89   89      浙江工业大学   浙江  理工  36.9   89\n",
       "90   91      北京林业大学   北京  林业  36.8   90\n",
       "91   91      湖南师范大学   湖南  师范  36.8   91\n",
       "92   91      浙江师范大学   浙江  师范  36.8   92\n",
       "93   94      首都师范大学   北京  师范  36.4   93\n",
       "94   95        汕头大学   广东  综合  36.3   94\n",
       "95   96      中国传媒大学   北京  语言  36.2   95\n",
       "96   97    杭州电子科技大学   浙江  理工  36.1   96\n",
       "97   98        扬州大学   江苏  综合  36.0   97\n",
       "98   99        安徽大学   安徽  综合  35.9   98\n",
       "99  100        华侨大学   福建  综合  35.7   99\n",
       "\n",
       "[100 rows x 6 columns]"
      ],
      "text/html": "<div>\n<style scoped>\n    .dataframe tbody tr th:only-of-type {\n        vertical-align: middle;\n    }\n\n    .dataframe tbody tr th {\n        vertical-align: top;\n    }\n\n    .dataframe thead th {\n        text-align: right;\n    }\n</style>\n<table border=\"1\" class=\"dataframe\">\n  <thead>\n    <tr style=\"text-align: right;\">\n      <th></th>\n      <th>排名</th>\n      <th>学校名称</th>\n      <th>省市</th>\n      <th>总分</th>\n      <th>指标得分</th>\n      <th>xlm</th>\n    </tr>\n  </thead>\n  <tbody>\n    <tr>\n      <th>0</th>\n      <td>1</td>\n      <td>清华大学</td>\n      <td>北京</td>\n      <td>综合</td>\n      <td>94.6</td>\n      <td>0</td>\n    </tr>\n    <tr>\n      <th>1</th>\n      <td>2</td>\n      <td>北京大学</td>\n      <td>北京</td>\n      <td>综合</td>\n      <td>76.5</td>\n      <td>1</td>\n    </tr>\n    <tr>\n      <th>2</th>\n      <td>3</td>\n      <td>浙江大学</td>\n      <td>浙江</td>\n      <td>综合</td>\n      <td>72.9</td>\n      <td>2</td>\n    </tr>\n    <tr>\n      <th>3</th>\n      <td>4</td>\n      <td>上海交通大学</td>\n      <td>上海</td>\n      <td>综合</td>\n      <td>72.1</td>\n      <td>3</td>\n    </tr>\n    <tr>\n      <th>4</th>\n      <td>5</td>\n      <td>复旦大学</td>\n      <td>上海</td>\n      <td>综合</td>\n      <td>65.6</td>\n      <td>4</td>\n    </tr>\n    <tr>\n      <th>5</th>\n      <td>6</td>\n      <td>中国科学技术大学</td>\n      <td>安徽</td>\n      <td>理工</td>\n      <td>60.9</td>\n      <td>5</td>\n    </tr>\n    <tr>\n      <th>6</th>\n      <td>7</td>\n      <td>华中科技大学</td>\n      <td>湖北</td>\n      <td>综合</td>\n      <td>58.9</td>\n      <td>6</td>\n    </tr>\n    <tr>\n      <th>7</th>\n      <td>7</td>\n      <td>南京大学</td>\n      <td>江苏</td>\n      <td>综合</td>\n      <td>58.9</td>\n      <td>7</td>\n    </tr>\n    <tr>\n      <th>8</th>\n      <td>9</td>\n      <td>中山大学</td>\n      <td>广东</td>\n      <td>综合</td>\n      <td>58.2</td>\n      <td>8</td>\n    </tr>\n    <tr>\n      <th>9</th>\n      <td>10</td>\n      <td>哈尔滨工业大学</td>\n      <td>黑龙江</td>\n      <td>理工</td>\n      <td>56.7</td>\n      <td>9</td>\n    </tr>\n    <tr>\n      <th>10</th>\n      <td>11</td>\n      <td>北京航空航天大学</td>\n      <td>北京</td>\n      <td>理工</td>\n      <td>56.3</td>\n      <td>10</td>\n    </tr>\n    <tr>\n      <th>11</th>\n      <td>12</td>\n      <td>武汉大学</td>\n      <td>湖北</td>\n      <td>综合</td>\n      <td>56.2</td>\n      <td>11</td>\n    </tr>\n    <tr>\n      <th>12</th>\n      <td>13</td>\n      <td>同济大学</td>\n      <td>上海</td>\n      <td>理工</td>\n      <td>55.7</td>\n      <td>12</td>\n    </tr>\n    <tr>\n      <th>13</th>\n      <td>14</td>\n      <td>西安交通大学</td>\n      <td>陕西</td>\n      <td>综合</td>\n      <td>55.0</td>\n      <td>13</td>\n    </tr>\n    <tr>\n      <th>14</th>\n      <td>15</td>\n      <td>四川大学</td>\n      <td>四川</td>\n      <td>综合</td>\n      <td>54.4</td>\n      <td>14</td>\n    </tr>\n    <tr>\n      <th>15</th>\n      <td>16</td>\n      <td>北京理工大学</td>\n      <td>北京</td>\n      <td>理工</td>\n      <td>54.0</td>\n      <td>15</td>\n    </tr>\n    <tr>\n      <th>16</th>\n      <td>17</td>\n      <td>东南大学</td>\n      <td>江苏</td>\n      <td>综合</td>\n      <td>53.6</td>\n      <td>16</td>\n    </tr>\n    <tr>\n      <th>17</th>\n      <td>18</td>\n      <td>南开大学</td>\n      <td>天津</td>\n      <td>综合</td>\n      <td>52.8</td>\n      <td>17</td>\n    </tr>\n    <tr>\n      <th>18</th>\n      <td>19</td>\n      <td>天津大学</td>\n      <td>天津</td>\n      <td>理工</td>\n      <td>52.3</td>\n      <td>18</td>\n    </tr>\n    <tr>\n      <th>19</th>\n      <td>20</td>\n      <td>华南理工大学</td>\n      <td>广东</td>\n      <td>理工</td>\n      <td>52.0</td>\n      <td>19</td>\n    </tr>\n    <tr>\n      <th>20</th>\n      <td>21</td>\n      <td>中南大学</td>\n      <td>湖南</td>\n      <td>综合</td>\n      <td>50.3</td>\n      <td>20</td>\n    </tr>\n    <tr>\n      <th>21</th>\n      <td>22</td>\n      <td>北京师范大学</td>\n      <td>北京</td>\n      <td>师范</td>\n      <td>49.7</td>\n      <td>21</td>\n    </tr>\n    <tr>\n      <th>22</th>\n      <td>23</td>\n      <td>山东大学</td>\n      <td>山东</td>\n      <td>综合</td>\n      <td>49.1</td>\n      <td>22</td>\n    </tr>\n    <tr>\n      <th>23</th>\n      <td>23</td>\n      <td>厦门大学</td>\n      <td>福建</td>\n      <td>综合</td>\n      <td>49.1</td>\n      <td>23</td>\n    </tr>\n    <tr>\n      <th>24</th>\n      <td>25</td>\n      <td>吉林大学</td>\n      <td>吉林</td>\n      <td>综合</td>\n      <td>48.9</td>\n      <td>24</td>\n    </tr>\n    <tr>\n      <th>25</th>\n      <td>26</td>\n      <td>大连理工大学</td>\n      <td>辽宁</td>\n      <td>理工</td>\n      <td>48.6</td>\n      <td>25</td>\n    </tr>\n    <tr>\n      <th>26</th>\n      <td>27</td>\n      <td>电子科技大学</td>\n      <td>四川</td>\n      <td>理工</td>\n      <td>48.4</td>\n      <td>26</td>\n    </tr>\n    <tr>\n      <th>27</th>\n      <td>28</td>\n      <td>湖南大学</td>\n      <td>湖南</td>\n      <td>综合</td>\n      <td>48.1</td>\n      <td>27</td>\n    </tr>\n    <tr>\n      <th>28</th>\n      <td>29</td>\n      <td>苏州大学</td>\n      <td>江苏</td>\n      <td>综合</td>\n      <td>47.3</td>\n      <td>28</td>\n    </tr>\n    <tr>\n      <th>29</th>\n      <td>30</td>\n      <td>西北工业大学</td>\n      <td>陕西</td>\n      <td>理工</td>\n      <td>46.7</td>\n      <td>29</td>\n    </tr>\n    <tr>\n      <th>...</th>\n      <td>...</td>\n      <td>...</td>\n      <td>...</td>\n      <td>...</td>\n      <td>...</td>\n      <td>...</td>\n    </tr>\n    <tr>\n      <th>70</th>\n      <td>71</td>\n      <td>中国矿业大学</td>\n      <td>江苏</td>\n      <td>理工</td>\n      <td>38.6</td>\n      <td>70</td>\n    </tr>\n    <tr>\n      <th>71</th>\n      <td>72</td>\n      <td>中国地质大学（北京）</td>\n      <td>北京</td>\n      <td>理工</td>\n      <td>38.5</td>\n      <td>71</td>\n    </tr>\n    <tr>\n      <th>72</th>\n      <td>73</td>\n      <td>东北财经大学</td>\n      <td>辽宁</td>\n      <td>财经</td>\n      <td>38.2</td>\n      <td>72</td>\n    </tr>\n    <tr>\n      <th>73</th>\n      <td>73</td>\n      <td>西南财经大学</td>\n      <td>四川</td>\n      <td>财经</td>\n      <td>38.2</td>\n      <td>73</td>\n    </tr>\n    <tr>\n      <th>74</th>\n      <td>73</td>\n      <td>西南大学</td>\n      <td>重庆</td>\n      <td>综合</td>\n      <td>38.2</td>\n      <td>74</td>\n    </tr>\n    <tr>\n      <th>75</th>\n      <td>76</td>\n      <td>东北师范大学</td>\n      <td>吉林</td>\n      <td>师范</td>\n      <td>38.1</td>\n      <td>75</td>\n    </tr>\n    <tr>\n      <th>76</th>\n      <td>76</td>\n      <td>南京邮电大学</td>\n      <td>江苏</td>\n      <td>综合</td>\n      <td>38.1</td>\n      <td>76</td>\n    </tr>\n    <tr>\n      <th>77</th>\n      <td>76</td>\n      <td>中国政法大学</td>\n      <td>北京</td>\n      <td>政法</td>\n      <td>38.1</td>\n      <td>77</td>\n    </tr>\n    <tr>\n      <th>78</th>\n      <td>79</td>\n      <td>河海大学</td>\n      <td>江苏</td>\n      <td>理工</td>\n      <td>38.0</td>\n      <td>78</td>\n    </tr>\n    <tr>\n      <th>79</th>\n      <td>80</td>\n      <td>南京信息工程大学</td>\n      <td>江苏</td>\n      <td>理工</td>\n      <td>37.9</td>\n      <td>79</td>\n    </tr>\n    <tr>\n      <th>80</th>\n      <td>81</td>\n      <td>西北农林科技大学</td>\n      <td>陕西</td>\n      <td>农业</td>\n      <td>37.8</td>\n      <td>80</td>\n    </tr>\n    <tr>\n      <th>81</th>\n      <td>82</td>\n      <td>中国石油大学（华东）</td>\n      <td>山东</td>\n      <td>理工</td>\n      <td>37.4</td>\n      <td>81</td>\n    </tr>\n    <tr>\n      <th>82</th>\n      <td>83</td>\n      <td>合肥工业大学</td>\n      <td>安徽</td>\n      <td>理工</td>\n      <td>37.3</td>\n      <td>82</td>\n    </tr>\n    <tr>\n      <th>83</th>\n      <td>84</td>\n      <td>陕西师范大学</td>\n      <td>陕西</td>\n      <td>师范</td>\n      <td>37.2</td>\n      <td>83</td>\n    </tr>\n    <tr>\n      <th>84</th>\n      <td>85</td>\n      <td>华南师范大学</td>\n      <td>广东</td>\n      <td>师范</td>\n      <td>37.1</td>\n      <td>84</td>\n    </tr>\n    <tr>\n      <th>85</th>\n      <td>85</td>\n      <td>江苏大学</td>\n      <td>江苏</td>\n      <td>综合</td>\n      <td>37.1</td>\n      <td>85</td>\n    </tr>\n    <tr>\n      <th>86</th>\n      <td>87</td>\n      <td>南京工业大学</td>\n      <td>江苏</td>\n      <td>理工</td>\n      <td>37.0</td>\n      <td>86</td>\n    </tr>\n    <tr>\n      <th>87</th>\n      <td>87</td>\n      <td>中国石油大学（北京）</td>\n      <td>北京</td>\n      <td>理工</td>\n      <td>37.0</td>\n      <td>87</td>\n    </tr>\n    <tr>\n      <th>88</th>\n      <td>89</td>\n      <td>西北大学</td>\n      <td>陕西</td>\n      <td>综合</td>\n      <td>36.9</td>\n      <td>88</td>\n    </tr>\n    <tr>\n      <th>89</th>\n      <td>89</td>\n      <td>浙江工业大学</td>\n      <td>浙江</td>\n      <td>理工</td>\n      <td>36.9</td>\n      <td>89</td>\n    </tr>\n    <tr>\n      <th>90</th>\n      <td>91</td>\n      <td>北京林业大学</td>\n      <td>北京</td>\n      <td>林业</td>\n      <td>36.8</td>\n      <td>90</td>\n    </tr>\n    <tr>\n      <th>91</th>\n      <td>91</td>\n      <td>湖南师范大学</td>\n      <td>湖南</td>\n      <td>师范</td>\n      <td>36.8</td>\n      <td>91</td>\n    </tr>\n    <tr>\n      <th>92</th>\n      <td>91</td>\n      <td>浙江师范大学</td>\n      <td>浙江</td>\n      <td>师范</td>\n      <td>36.8</td>\n      <td>92</td>\n    </tr>\n    <tr>\n      <th>93</th>\n      <td>94</td>\n      <td>首都师范大学</td>\n      <td>北京</td>\n      <td>师范</td>\n      <td>36.4</td>\n      <td>93</td>\n    </tr>\n    <tr>\n      <th>94</th>\n      <td>95</td>\n      <td>汕头大学</td>\n      <td>广东</td>\n      <td>综合</td>\n      <td>36.3</td>\n      <td>94</td>\n    </tr>\n    <tr>\n      <th>95</th>\n      <td>96</td>\n      <td>中国传媒大学</td>\n      <td>北京</td>\n      <td>语言</td>\n      <td>36.2</td>\n      <td>95</td>\n    </tr>\n    <tr>\n      <th>96</th>\n      <td>97</td>\n      <td>杭州电子科技大学</td>\n      <td>浙江</td>\n      <td>理工</td>\n      <td>36.1</td>\n      <td>96</td>\n    </tr>\n    <tr>\n      <th>97</th>\n      <td>98</td>\n      <td>扬州大学</td>\n      <td>江苏</td>\n      <td>综合</td>\n      <td>36.0</td>\n      <td>97</td>\n    </tr>\n    <tr>\n      <th>98</th>\n      <td>99</td>\n      <td>安徽大学</td>\n      <td>安徽</td>\n      <td>综合</td>\n      <td>35.9</td>\n      <td>98</td>\n    </tr>\n    <tr>\n      <th>99</th>\n      <td>100</td>\n      <td>华侨大学</td>\n      <td>福建</td>\n      <td>综合</td>\n      <td>35.7</td>\n      <td>99</td>\n    </tr>\n  </tbody>\n</table>\n<p>100 rows × 6 columns</p>\n</div>"
     },
     "metadata": {},
     "execution_count": 760
    }
   ],
   "source": [
    "df['xlm'] = range(0,100)\n",
    "df"
   ]
  },
  {
   "cell_type": "code",
   "execution_count": 761,
   "metadata": {},
   "outputs": [
    {
     "output_type": "execute_result",
     "data": {
      "text/plain": [
       "     排名        学校名称   省市  总分  指标得分\n",
       "0     1        清华大学   北京  综合  94.6\n",
       "1     2        北京大学   北京  综合  76.5\n",
       "2     3        浙江大学   浙江  综合  72.9\n",
       "3     4      上海交通大学   上海  综合  72.1\n",
       "4     5        复旦大学   上海  综合  65.6\n",
       "5     6    中国科学技术大学   安徽  理工  60.9\n",
       "6     7      华中科技大学   湖北  综合  58.9\n",
       "7     7        南京大学   江苏  综合  58.9\n",
       "8     9        中山大学   广东  综合  58.2\n",
       "9    10     哈尔滨工业大学  黑龙江  理工  56.7\n",
       "10   11    北京航空航天大学   北京  理工  56.3\n",
       "11   12        武汉大学   湖北  综合  56.2\n",
       "12   13        同济大学   上海  理工  55.7\n",
       "13   14      西安交通大学   陕西  综合  55.0\n",
       "14   15        四川大学   四川  综合  54.4\n",
       "15   16      北京理工大学   北京  理工  54.0\n",
       "16   17        东南大学   江苏  综合  53.6\n",
       "17   18        南开大学   天津  综合  52.8\n",
       "18   19        天津大学   天津  理工  52.3\n",
       "19   20      华南理工大学   广东  理工  52.0\n",
       "20   21        中南大学   湖南  综合  50.3\n",
       "21   22      北京师范大学   北京  师范  49.7\n",
       "22   23        山东大学   山东  综合  49.1\n",
       "23   23        厦门大学   福建  综合  49.1\n",
       "24   25        吉林大学   吉林  综合  48.9\n",
       "25   26      大连理工大学   辽宁  理工  48.6\n",
       "26   27      电子科技大学   四川  理工  48.4\n",
       "27   28        湖南大学   湖南  综合  48.1\n",
       "28   29        苏州大学   江苏  综合  47.3\n",
       "29   30      西北工业大学   陕西  理工  46.7\n",
       "..  ...         ...  ...  ..   ...\n",
       "70   71      中国矿业大学   江苏  理工  38.6\n",
       "71   72  中国地质大学（北京）   北京  理工  38.5\n",
       "72   73      东北财经大学   辽宁  财经  38.2\n",
       "73   73      西南财经大学   四川  财经  38.2\n",
       "74   73        西南大学   重庆  综合  38.2\n",
       "75   76      东北师范大学   吉林  师范  38.1\n",
       "76   76      南京邮电大学   江苏  综合  38.1\n",
       "77   76      中国政法大学   北京  政法  38.1\n",
       "78   79        河海大学   江苏  理工  38.0\n",
       "79   80    南京信息工程大学   江苏  理工  37.9\n",
       "80   81    西北农林科技大学   陕西  农业  37.8\n",
       "81   82  中国石油大学（华东）   山东  理工  37.4\n",
       "82   83      合肥工业大学   安徽  理工  37.3\n",
       "83   84      陕西师范大学   陕西  师范  37.2\n",
       "84   85      华南师范大学   广东  师范  37.1\n",
       "85   85        江苏大学   江苏  综合  37.1\n",
       "86   87      南京工业大学   江苏  理工  37.0\n",
       "87   87  中国石油大学（北京）   北京  理工  37.0\n",
       "88   89        西北大学   陕西  综合  36.9\n",
       "89   89      浙江工业大学   浙江  理工  36.9\n",
       "90   91      北京林业大学   北京  林业  36.8\n",
       "91   91      湖南师范大学   湖南  师范  36.8\n",
       "92   91      浙江师范大学   浙江  师范  36.8\n",
       "93   94      首都师范大学   北京  师范  36.4\n",
       "94   95        汕头大学   广东  综合  36.3\n",
       "95   96      中国传媒大学   北京  语言  36.2\n",
       "96   97    杭州电子科技大学   浙江  理工  36.1\n",
       "97   98        扬州大学   江苏  综合  36.0\n",
       "98   99        安徽大学   安徽  综合  35.9\n",
       "99  100        华侨大学   福建  综合  35.7\n",
       "\n",
       "[100 rows x 5 columns]"
      ],
      "text/html": "<div>\n<style scoped>\n    .dataframe tbody tr th:only-of-type {\n        vertical-align: middle;\n    }\n\n    .dataframe tbody tr th {\n        vertical-align: top;\n    }\n\n    .dataframe thead th {\n        text-align: right;\n    }\n</style>\n<table border=\"1\" class=\"dataframe\">\n  <thead>\n    <tr style=\"text-align: right;\">\n      <th></th>\n      <th>排名</th>\n      <th>学校名称</th>\n      <th>省市</th>\n      <th>总分</th>\n      <th>指标得分</th>\n    </tr>\n  </thead>\n  <tbody>\n    <tr>\n      <th>0</th>\n      <td>1</td>\n      <td>清华大学</td>\n      <td>北京</td>\n      <td>综合</td>\n      <td>94.6</td>\n    </tr>\n    <tr>\n      <th>1</th>\n      <td>2</td>\n      <td>北京大学</td>\n      <td>北京</td>\n      <td>综合</td>\n      <td>76.5</td>\n    </tr>\n    <tr>\n      <th>2</th>\n      <td>3</td>\n      <td>浙江大学</td>\n      <td>浙江</td>\n      <td>综合</td>\n      <td>72.9</td>\n    </tr>\n    <tr>\n      <th>3</th>\n      <td>4</td>\n      <td>上海交通大学</td>\n      <td>上海</td>\n      <td>综合</td>\n      <td>72.1</td>\n    </tr>\n    <tr>\n      <th>4</th>\n      <td>5</td>\n      <td>复旦大学</td>\n      <td>上海</td>\n      <td>综合</td>\n      <td>65.6</td>\n    </tr>\n    <tr>\n      <th>5</th>\n      <td>6</td>\n      <td>中国科学技术大学</td>\n      <td>安徽</td>\n      <td>理工</td>\n      <td>60.9</td>\n    </tr>\n    <tr>\n      <th>6</th>\n      <td>7</td>\n      <td>华中科技大学</td>\n      <td>湖北</td>\n      <td>综合</td>\n      <td>58.9</td>\n    </tr>\n    <tr>\n      <th>7</th>\n      <td>7</td>\n      <td>南京大学</td>\n      <td>江苏</td>\n      <td>综合</td>\n      <td>58.9</td>\n    </tr>\n    <tr>\n      <th>8</th>\n      <td>9</td>\n      <td>中山大学</td>\n      <td>广东</td>\n      <td>综合</td>\n      <td>58.2</td>\n    </tr>\n    <tr>\n      <th>9</th>\n      <td>10</td>\n      <td>哈尔滨工业大学</td>\n      <td>黑龙江</td>\n      <td>理工</td>\n      <td>56.7</td>\n    </tr>\n    <tr>\n      <th>10</th>\n      <td>11</td>\n      <td>北京航空航天大学</td>\n      <td>北京</td>\n      <td>理工</td>\n      <td>56.3</td>\n    </tr>\n    <tr>\n      <th>11</th>\n      <td>12</td>\n      <td>武汉大学</td>\n      <td>湖北</td>\n      <td>综合</td>\n      <td>56.2</td>\n    </tr>\n    <tr>\n      <th>12</th>\n      <td>13</td>\n      <td>同济大学</td>\n      <td>上海</td>\n      <td>理工</td>\n      <td>55.7</td>\n    </tr>\n    <tr>\n      <th>13</th>\n      <td>14</td>\n      <td>西安交通大学</td>\n      <td>陕西</td>\n      <td>综合</td>\n      <td>55.0</td>\n    </tr>\n    <tr>\n      <th>14</th>\n      <td>15</td>\n      <td>四川大学</td>\n      <td>四川</td>\n      <td>综合</td>\n      <td>54.4</td>\n    </tr>\n    <tr>\n      <th>15</th>\n      <td>16</td>\n      <td>北京理工大学</td>\n      <td>北京</td>\n      <td>理工</td>\n      <td>54.0</td>\n    </tr>\n    <tr>\n      <th>16</th>\n      <td>17</td>\n      <td>东南大学</td>\n      <td>江苏</td>\n      <td>综合</td>\n      <td>53.6</td>\n    </tr>\n    <tr>\n      <th>17</th>\n      <td>18</td>\n      <td>南开大学</td>\n      <td>天津</td>\n      <td>综合</td>\n      <td>52.8</td>\n    </tr>\n    <tr>\n      <th>18</th>\n      <td>19</td>\n      <td>天津大学</td>\n      <td>天津</td>\n      <td>理工</td>\n      <td>52.3</td>\n    </tr>\n    <tr>\n      <th>19</th>\n      <td>20</td>\n      <td>华南理工大学</td>\n      <td>广东</td>\n      <td>理工</td>\n      <td>52.0</td>\n    </tr>\n    <tr>\n      <th>20</th>\n      <td>21</td>\n      <td>中南大学</td>\n      <td>湖南</td>\n      <td>综合</td>\n      <td>50.3</td>\n    </tr>\n    <tr>\n      <th>21</th>\n      <td>22</td>\n      <td>北京师范大学</td>\n      <td>北京</td>\n      <td>师范</td>\n      <td>49.7</td>\n    </tr>\n    <tr>\n      <th>22</th>\n      <td>23</td>\n      <td>山东大学</td>\n      <td>山东</td>\n      <td>综合</td>\n      <td>49.1</td>\n    </tr>\n    <tr>\n      <th>23</th>\n      <td>23</td>\n      <td>厦门大学</td>\n      <td>福建</td>\n      <td>综合</td>\n      <td>49.1</td>\n    </tr>\n    <tr>\n      <th>24</th>\n      <td>25</td>\n      <td>吉林大学</td>\n      <td>吉林</td>\n      <td>综合</td>\n      <td>48.9</td>\n    </tr>\n    <tr>\n      <th>25</th>\n      <td>26</td>\n      <td>大连理工大学</td>\n      <td>辽宁</td>\n      <td>理工</td>\n      <td>48.6</td>\n    </tr>\n    <tr>\n      <th>26</th>\n      <td>27</td>\n      <td>电子科技大学</td>\n      <td>四川</td>\n      <td>理工</td>\n      <td>48.4</td>\n    </tr>\n    <tr>\n      <th>27</th>\n      <td>28</td>\n      <td>湖南大学</td>\n      <td>湖南</td>\n      <td>综合</td>\n      <td>48.1</td>\n    </tr>\n    <tr>\n      <th>28</th>\n      <td>29</td>\n      <td>苏州大学</td>\n      <td>江苏</td>\n      <td>综合</td>\n      <td>47.3</td>\n    </tr>\n    <tr>\n      <th>29</th>\n      <td>30</td>\n      <td>西北工业大学</td>\n      <td>陕西</td>\n      <td>理工</td>\n      <td>46.7</td>\n    </tr>\n    <tr>\n      <th>...</th>\n      <td>...</td>\n      <td>...</td>\n      <td>...</td>\n      <td>...</td>\n      <td>...</td>\n    </tr>\n    <tr>\n      <th>70</th>\n      <td>71</td>\n      <td>中国矿业大学</td>\n      <td>江苏</td>\n      <td>理工</td>\n      <td>38.6</td>\n    </tr>\n    <tr>\n      <th>71</th>\n      <td>72</td>\n      <td>中国地质大学（北京）</td>\n      <td>北京</td>\n      <td>理工</td>\n      <td>38.5</td>\n    </tr>\n    <tr>\n      <th>72</th>\n      <td>73</td>\n      <td>东北财经大学</td>\n      <td>辽宁</td>\n      <td>财经</td>\n      <td>38.2</td>\n    </tr>\n    <tr>\n      <th>73</th>\n      <td>73</td>\n      <td>西南财经大学</td>\n      <td>四川</td>\n      <td>财经</td>\n      <td>38.2</td>\n    </tr>\n    <tr>\n      <th>74</th>\n      <td>73</td>\n      <td>西南大学</td>\n      <td>重庆</td>\n      <td>综合</td>\n      <td>38.2</td>\n    </tr>\n    <tr>\n      <th>75</th>\n      <td>76</td>\n      <td>东北师范大学</td>\n      <td>吉林</td>\n      <td>师范</td>\n      <td>38.1</td>\n    </tr>\n    <tr>\n      <th>76</th>\n      <td>76</td>\n      <td>南京邮电大学</td>\n      <td>江苏</td>\n      <td>综合</td>\n      <td>38.1</td>\n    </tr>\n    <tr>\n      <th>77</th>\n      <td>76</td>\n      <td>中国政法大学</td>\n      <td>北京</td>\n      <td>政法</td>\n      <td>38.1</td>\n    </tr>\n    <tr>\n      <th>78</th>\n      <td>79</td>\n      <td>河海大学</td>\n      <td>江苏</td>\n      <td>理工</td>\n      <td>38.0</td>\n    </tr>\n    <tr>\n      <th>79</th>\n      <td>80</td>\n      <td>南京信息工程大学</td>\n      <td>江苏</td>\n      <td>理工</td>\n      <td>37.9</td>\n    </tr>\n    <tr>\n      <th>80</th>\n      <td>81</td>\n      <td>西北农林科技大学</td>\n      <td>陕西</td>\n      <td>农业</td>\n      <td>37.8</td>\n    </tr>\n    <tr>\n      <th>81</th>\n      <td>82</td>\n      <td>中国石油大学（华东）</td>\n      <td>山东</td>\n      <td>理工</td>\n      <td>37.4</td>\n    </tr>\n    <tr>\n      <th>82</th>\n      <td>83</td>\n      <td>合肥工业大学</td>\n      <td>安徽</td>\n      <td>理工</td>\n      <td>37.3</td>\n    </tr>\n    <tr>\n      <th>83</th>\n      <td>84</td>\n      <td>陕西师范大学</td>\n      <td>陕西</td>\n      <td>师范</td>\n      <td>37.2</td>\n    </tr>\n    <tr>\n      <th>84</th>\n      <td>85</td>\n      <td>华南师范大学</td>\n      <td>广东</td>\n      <td>师范</td>\n      <td>37.1</td>\n    </tr>\n    <tr>\n      <th>85</th>\n      <td>85</td>\n      <td>江苏大学</td>\n      <td>江苏</td>\n      <td>综合</td>\n      <td>37.1</td>\n    </tr>\n    <tr>\n      <th>86</th>\n      <td>87</td>\n      <td>南京工业大学</td>\n      <td>江苏</td>\n      <td>理工</td>\n      <td>37.0</td>\n    </tr>\n    <tr>\n      <th>87</th>\n      <td>87</td>\n      <td>中国石油大学（北京）</td>\n      <td>北京</td>\n      <td>理工</td>\n      <td>37.0</td>\n    </tr>\n    <tr>\n      <th>88</th>\n      <td>89</td>\n      <td>西北大学</td>\n      <td>陕西</td>\n      <td>综合</td>\n      <td>36.9</td>\n    </tr>\n    <tr>\n      <th>89</th>\n      <td>89</td>\n      <td>浙江工业大学</td>\n      <td>浙江</td>\n      <td>理工</td>\n      <td>36.9</td>\n    </tr>\n    <tr>\n      <th>90</th>\n      <td>91</td>\n      <td>北京林业大学</td>\n      <td>北京</td>\n      <td>林业</td>\n      <td>36.8</td>\n    </tr>\n    <tr>\n      <th>91</th>\n      <td>91</td>\n      <td>湖南师范大学</td>\n      <td>湖南</td>\n      <td>师范</td>\n      <td>36.8</td>\n    </tr>\n    <tr>\n      <th>92</th>\n      <td>91</td>\n      <td>浙江师范大学</td>\n      <td>浙江</td>\n      <td>师范</td>\n      <td>36.8</td>\n    </tr>\n    <tr>\n      <th>93</th>\n      <td>94</td>\n      <td>首都师范大学</td>\n      <td>北京</td>\n      <td>师范</td>\n      <td>36.4</td>\n    </tr>\n    <tr>\n      <th>94</th>\n      <td>95</td>\n      <td>汕头大学</td>\n      <td>广东</td>\n      <td>综合</td>\n      <td>36.3</td>\n    </tr>\n    <tr>\n      <th>95</th>\n      <td>96</td>\n      <td>中国传媒大学</td>\n      <td>北京</td>\n      <td>语言</td>\n      <td>36.2</td>\n    </tr>\n    <tr>\n      <th>96</th>\n      <td>97</td>\n      <td>杭州电子科技大学</td>\n      <td>浙江</td>\n      <td>理工</td>\n      <td>36.1</td>\n    </tr>\n    <tr>\n      <th>97</th>\n      <td>98</td>\n      <td>扬州大学</td>\n      <td>江苏</td>\n      <td>综合</td>\n      <td>36.0</td>\n    </tr>\n    <tr>\n      <th>98</th>\n      <td>99</td>\n      <td>安徽大学</td>\n      <td>安徽</td>\n      <td>综合</td>\n      <td>35.9</td>\n    </tr>\n    <tr>\n      <th>99</th>\n      <td>100</td>\n      <td>华侨大学</td>\n      <td>福建</td>\n      <td>综合</td>\n      <td>35.7</td>\n    </tr>\n  </tbody>\n</table>\n<p>100 rows × 5 columns</p>\n</div>"
     },
     "metadata": {},
     "execution_count": 761
    }
   ],
   "source": [
    "df.drop('xlm',axis = 1,inplace =True)\n",
    "df"
   ]
  },
  {
   "cell_type": "code",
   "execution_count": 762,
   "metadata": {},
   "outputs": [
    {
     "output_type": "execute_result",
     "data": {
      "text/plain": [
       "     排名   省市\n",
       "0     1   北京\n",
       "1     2   北京\n",
       "2     3   浙江\n",
       "3     4   上海\n",
       "4     5   上海\n",
       "5     6   安徽\n",
       "6     7   湖北\n",
       "7     7   江苏\n",
       "8     9   广东\n",
       "9    10  黑龙江\n",
       "10   11   北京\n",
       "11   12   湖北\n",
       "12   13   上海\n",
       "13   14   陕西\n",
       "14   15   四川\n",
       "15   16   北京\n",
       "16   17   江苏\n",
       "17   18   天津\n",
       "18   19   天津\n",
       "19   20   广东\n",
       "20   21   湖南\n",
       "21   22   北京\n",
       "22   23   山东\n",
       "23   23   福建\n",
       "24   25   吉林\n",
       "25   26   辽宁\n",
       "26   27   四川\n",
       "27   28   湖南\n",
       "28   29   江苏\n",
       "29   30   陕西\n",
       "..  ...  ...\n",
       "70   71   江苏\n",
       "71   72   北京\n",
       "72   73   辽宁\n",
       "73   73   四川\n",
       "74   73   重庆\n",
       "75   76   吉林\n",
       "76   76   江苏\n",
       "77   76   北京\n",
       "78   79   江苏\n",
       "79   80   江苏\n",
       "80   81   陕西\n",
       "81   82   山东\n",
       "82   83   安徽\n",
       "83   84   陕西\n",
       "84   85   广东\n",
       "85   85   江苏\n",
       "86   87   江苏\n",
       "87   87   北京\n",
       "88   89   陕西\n",
       "89   89   浙江\n",
       "90   91   北京\n",
       "91   91   湖南\n",
       "92   91   浙江\n",
       "93   94   北京\n",
       "94   95   广东\n",
       "95   96   北京\n",
       "96   97   浙江\n",
       "97   98   江苏\n",
       "98   99   安徽\n",
       "99  100   福建\n",
       "\n",
       "[100 rows x 2 columns]"
      ],
      "text/html": "<div>\n<style scoped>\n    .dataframe tbody tr th:only-of-type {\n        vertical-align: middle;\n    }\n\n    .dataframe tbody tr th {\n        vertical-align: top;\n    }\n\n    .dataframe thead th {\n        text-align: right;\n    }\n</style>\n<table border=\"1\" class=\"dataframe\">\n  <thead>\n    <tr style=\"text-align: right;\">\n      <th></th>\n      <th>排名</th>\n      <th>省市</th>\n    </tr>\n  </thead>\n  <tbody>\n    <tr>\n      <th>0</th>\n      <td>1</td>\n      <td>北京</td>\n    </tr>\n    <tr>\n      <th>1</th>\n      <td>2</td>\n      <td>北京</td>\n    </tr>\n    <tr>\n      <th>2</th>\n      <td>3</td>\n      <td>浙江</td>\n    </tr>\n    <tr>\n      <th>3</th>\n      <td>4</td>\n      <td>上海</td>\n    </tr>\n    <tr>\n      <th>4</th>\n      <td>5</td>\n      <td>上海</td>\n    </tr>\n    <tr>\n      <th>5</th>\n      <td>6</td>\n      <td>安徽</td>\n    </tr>\n    <tr>\n      <th>6</th>\n      <td>7</td>\n      <td>湖北</td>\n    </tr>\n    <tr>\n      <th>7</th>\n      <td>7</td>\n      <td>江苏</td>\n    </tr>\n    <tr>\n      <th>8</th>\n      <td>9</td>\n      <td>广东</td>\n    </tr>\n    <tr>\n      <th>9</th>\n      <td>10</td>\n      <td>黑龙江</td>\n    </tr>\n    <tr>\n      <th>10</th>\n      <td>11</td>\n      <td>北京</td>\n    </tr>\n    <tr>\n      <th>11</th>\n      <td>12</td>\n      <td>湖北</td>\n    </tr>\n    <tr>\n      <th>12</th>\n      <td>13</td>\n      <td>上海</td>\n    </tr>\n    <tr>\n      <th>13</th>\n      <td>14</td>\n      <td>陕西</td>\n    </tr>\n    <tr>\n      <th>14</th>\n      <td>15</td>\n      <td>四川</td>\n    </tr>\n    <tr>\n      <th>15</th>\n      <td>16</td>\n      <td>北京</td>\n    </tr>\n    <tr>\n      <th>16</th>\n      <td>17</td>\n      <td>江苏</td>\n    </tr>\n    <tr>\n      <th>17</th>\n      <td>18</td>\n      <td>天津</td>\n    </tr>\n    <tr>\n      <th>18</th>\n      <td>19</td>\n      <td>天津</td>\n    </tr>\n    <tr>\n      <th>19</th>\n      <td>20</td>\n      <td>广东</td>\n    </tr>\n    <tr>\n      <th>20</th>\n      <td>21</td>\n      <td>湖南</td>\n    </tr>\n    <tr>\n      <th>21</th>\n      <td>22</td>\n      <td>北京</td>\n    </tr>\n    <tr>\n      <th>22</th>\n      <td>23</td>\n      <td>山东</td>\n    </tr>\n    <tr>\n      <th>23</th>\n      <td>23</td>\n      <td>福建</td>\n    </tr>\n    <tr>\n      <th>24</th>\n      <td>25</td>\n      <td>吉林</td>\n    </tr>\n    <tr>\n      <th>25</th>\n      <td>26</td>\n      <td>辽宁</td>\n    </tr>\n    <tr>\n      <th>26</th>\n      <td>27</td>\n      <td>四川</td>\n    </tr>\n    <tr>\n      <th>27</th>\n      <td>28</td>\n      <td>湖南</td>\n    </tr>\n    <tr>\n      <th>28</th>\n      <td>29</td>\n      <td>江苏</td>\n    </tr>\n    <tr>\n      <th>29</th>\n      <td>30</td>\n      <td>陕西</td>\n    </tr>\n    <tr>\n      <th>...</th>\n      <td>...</td>\n      <td>...</td>\n    </tr>\n    <tr>\n      <th>70</th>\n      <td>71</td>\n      <td>江苏</td>\n    </tr>\n    <tr>\n      <th>71</th>\n      <td>72</td>\n      <td>北京</td>\n    </tr>\n    <tr>\n      <th>72</th>\n      <td>73</td>\n      <td>辽宁</td>\n    </tr>\n    <tr>\n      <th>73</th>\n      <td>73</td>\n      <td>四川</td>\n    </tr>\n    <tr>\n      <th>74</th>\n      <td>73</td>\n      <td>重庆</td>\n    </tr>\n    <tr>\n      <th>75</th>\n      <td>76</td>\n      <td>吉林</td>\n    </tr>\n    <tr>\n      <th>76</th>\n      <td>76</td>\n      <td>江苏</td>\n    </tr>\n    <tr>\n      <th>77</th>\n      <td>76</td>\n      <td>北京</td>\n    </tr>\n    <tr>\n      <th>78</th>\n      <td>79</td>\n      <td>江苏</td>\n    </tr>\n    <tr>\n      <th>79</th>\n      <td>80</td>\n      <td>江苏</td>\n    </tr>\n    <tr>\n      <th>80</th>\n      <td>81</td>\n      <td>陕西</td>\n    </tr>\n    <tr>\n      <th>81</th>\n      <td>82</td>\n      <td>山东</td>\n    </tr>\n    <tr>\n      <th>82</th>\n      <td>83</td>\n      <td>安徽</td>\n    </tr>\n    <tr>\n      <th>83</th>\n      <td>84</td>\n      <td>陕西</td>\n    </tr>\n    <tr>\n      <th>84</th>\n      <td>85</td>\n      <td>广东</td>\n    </tr>\n    <tr>\n      <th>85</th>\n      <td>85</td>\n      <td>江苏</td>\n    </tr>\n    <tr>\n      <th>86</th>\n      <td>87</td>\n      <td>江苏</td>\n    </tr>\n    <tr>\n      <th>87</th>\n      <td>87</td>\n      <td>北京</td>\n    </tr>\n    <tr>\n      <th>88</th>\n      <td>89</td>\n      <td>陕西</td>\n    </tr>\n    <tr>\n      <th>89</th>\n      <td>89</td>\n      <td>浙江</td>\n    </tr>\n    <tr>\n      <th>90</th>\n      <td>91</td>\n      <td>北京</td>\n    </tr>\n    <tr>\n      <th>91</th>\n      <td>91</td>\n      <td>湖南</td>\n    </tr>\n    <tr>\n      <th>92</th>\n      <td>91</td>\n      <td>浙江</td>\n    </tr>\n    <tr>\n      <th>93</th>\n      <td>94</td>\n      <td>北京</td>\n    </tr>\n    <tr>\n      <th>94</th>\n      <td>95</td>\n      <td>广东</td>\n    </tr>\n    <tr>\n      <th>95</th>\n      <td>96</td>\n      <td>北京</td>\n    </tr>\n    <tr>\n      <th>96</th>\n      <td>97</td>\n      <td>浙江</td>\n    </tr>\n    <tr>\n      <th>97</th>\n      <td>98</td>\n      <td>江苏</td>\n    </tr>\n    <tr>\n      <th>98</th>\n      <td>99</td>\n      <td>安徽</td>\n    </tr>\n    <tr>\n      <th>99</th>\n      <td>100</td>\n      <td>福建</td>\n    </tr>\n  </tbody>\n</table>\n<p>100 rows × 2 columns</p>\n</div>"
     },
     "metadata": {},
     "execution_count": 762
    }
   ],
   "source": [
    "df[['排名','省市']]"
   ]
  },
  {
   "cell_type": "code",
   "execution_count": 763,
   "metadata": {},
   "outputs": [],
   "source": [
    "df['省市'] = '中国'+df['省市']"
   ]
  },
  {
   "cell_type": "code",
   "execution_count": 764,
   "metadata": {},
   "outputs": [
    {
     "output_type": "execute_result",
     "data": {
      "text/plain": [
       "     排名        学校名称     省市  总分  指标得分\n",
       "0     1        清华大学   中国北京  综合  94.6\n",
       "1     2        北京大学   中国北京  综合  76.5\n",
       "2     3        浙江大学   中国浙江  综合  72.9\n",
       "3     4      上海交通大学   中国上海  综合  72.1\n",
       "4     5        复旦大学   中国上海  综合  65.6\n",
       "5     6    中国科学技术大学   中国安徽  理工  60.9\n",
       "6     7      华中科技大学   中国湖北  综合  58.9\n",
       "7     7        南京大学   中国江苏  综合  58.9\n",
       "8     9        中山大学   中国广东  综合  58.2\n",
       "9    10     哈尔滨工业大学  中国黑龙江  理工  56.7\n",
       "10   11    北京航空航天大学   中国北京  理工  56.3\n",
       "11   12        武汉大学   中国湖北  综合  56.2\n",
       "12   13        同济大学   中国上海  理工  55.7\n",
       "13   14      西安交通大学   中国陕西  综合  55.0\n",
       "14   15        四川大学   中国四川  综合  54.4\n",
       "15   16      北京理工大学   中国北京  理工  54.0\n",
       "16   17        东南大学   中国江苏  综合  53.6\n",
       "17   18        南开大学   中国天津  综合  52.8\n",
       "18   19        天津大学   中国天津  理工  52.3\n",
       "19   20      华南理工大学   中国广东  理工  52.0\n",
       "20   21        中南大学   中国湖南  综合  50.3\n",
       "21   22      北京师范大学   中国北京  师范  49.7\n",
       "22   23        山东大学   中国山东  综合  49.1\n",
       "23   23        厦门大学   中国福建  综合  49.1\n",
       "24   25        吉林大学   中国吉林  综合  48.9\n",
       "25   26      大连理工大学   中国辽宁  理工  48.6\n",
       "26   27      电子科技大学   中国四川  理工  48.4\n",
       "27   28        湖南大学   中国湖南  综合  48.1\n",
       "28   29        苏州大学   中国江苏  综合  47.3\n",
       "29   30      西北工业大学   中国陕西  理工  46.7\n",
       "..  ...         ...    ...  ..   ...\n",
       "70   71      中国矿业大学   中国江苏  理工  38.6\n",
       "71   72  中国地质大学（北京）   中国北京  理工  38.5\n",
       "72   73      东北财经大学   中国辽宁  财经  38.2\n",
       "73   73      西南财经大学   中国四川  财经  38.2\n",
       "74   73        西南大学   中国重庆  综合  38.2\n",
       "75   76      东北师范大学   中国吉林  师范  38.1\n",
       "76   76      南京邮电大学   中国江苏  综合  38.1\n",
       "77   76      中国政法大学   中国北京  政法  38.1\n",
       "78   79        河海大学   中国江苏  理工  38.0\n",
       "79   80    南京信息工程大学   中国江苏  理工  37.9\n",
       "80   81    西北农林科技大学   中国陕西  农业  37.8\n",
       "81   82  中国石油大学（华东）   中国山东  理工  37.4\n",
       "82   83      合肥工业大学   中国安徽  理工  37.3\n",
       "83   84      陕西师范大学   中国陕西  师范  37.2\n",
       "84   85      华南师范大学   中国广东  师范  37.1\n",
       "85   85        江苏大学   中国江苏  综合  37.1\n",
       "86   87      南京工业大学   中国江苏  理工  37.0\n",
       "87   87  中国石油大学（北京）   中国北京  理工  37.0\n",
       "88   89        西北大学   中国陕西  综合  36.9\n",
       "89   89      浙江工业大学   中国浙江  理工  36.9\n",
       "90   91      北京林业大学   中国北京  林业  36.8\n",
       "91   91      湖南师范大学   中国湖南  师范  36.8\n",
       "92   91      浙江师范大学   中国浙江  师范  36.8\n",
       "93   94      首都师范大学   中国北京  师范  36.4\n",
       "94   95        汕头大学   中国广东  综合  36.3\n",
       "95   96      中国传媒大学   中国北京  语言  36.2\n",
       "96   97    杭州电子科技大学   中国浙江  理工  36.1\n",
       "97   98        扬州大学   中国江苏  综合  36.0\n",
       "98   99        安徽大学   中国安徽  综合  35.9\n",
       "99  100        华侨大学   中国福建  综合  35.7\n",
       "\n",
       "[100 rows x 5 columns]"
      ],
      "text/html": "<div>\n<style scoped>\n    .dataframe tbody tr th:only-of-type {\n        vertical-align: middle;\n    }\n\n    .dataframe tbody tr th {\n        vertical-align: top;\n    }\n\n    .dataframe thead th {\n        text-align: right;\n    }\n</style>\n<table border=\"1\" class=\"dataframe\">\n  <thead>\n    <tr style=\"text-align: right;\">\n      <th></th>\n      <th>排名</th>\n      <th>学校名称</th>\n      <th>省市</th>\n      <th>总分</th>\n      <th>指标得分</th>\n    </tr>\n  </thead>\n  <tbody>\n    <tr>\n      <th>0</th>\n      <td>1</td>\n      <td>清华大学</td>\n      <td>中国北京</td>\n      <td>综合</td>\n      <td>94.6</td>\n    </tr>\n    <tr>\n      <th>1</th>\n      <td>2</td>\n      <td>北京大学</td>\n      <td>中国北京</td>\n      <td>综合</td>\n      <td>76.5</td>\n    </tr>\n    <tr>\n      <th>2</th>\n      <td>3</td>\n      <td>浙江大学</td>\n      <td>中国浙江</td>\n      <td>综合</td>\n      <td>72.9</td>\n    </tr>\n    <tr>\n      <th>3</th>\n      <td>4</td>\n      <td>上海交通大学</td>\n      <td>中国上海</td>\n      <td>综合</td>\n      <td>72.1</td>\n    </tr>\n    <tr>\n      <th>4</th>\n      <td>5</td>\n      <td>复旦大学</td>\n      <td>中国上海</td>\n      <td>综合</td>\n      <td>65.6</td>\n    </tr>\n    <tr>\n      <th>5</th>\n      <td>6</td>\n      <td>中国科学技术大学</td>\n      <td>中国安徽</td>\n      <td>理工</td>\n      <td>60.9</td>\n    </tr>\n    <tr>\n      <th>6</th>\n      <td>7</td>\n      <td>华中科技大学</td>\n      <td>中国湖北</td>\n      <td>综合</td>\n      <td>58.9</td>\n    </tr>\n    <tr>\n      <th>7</th>\n      <td>7</td>\n      <td>南京大学</td>\n      <td>中国江苏</td>\n      <td>综合</td>\n      <td>58.9</td>\n    </tr>\n    <tr>\n      <th>8</th>\n      <td>9</td>\n      <td>中山大学</td>\n      <td>中国广东</td>\n      <td>综合</td>\n      <td>58.2</td>\n    </tr>\n    <tr>\n      <th>9</th>\n      <td>10</td>\n      <td>哈尔滨工业大学</td>\n      <td>中国黑龙江</td>\n      <td>理工</td>\n      <td>56.7</td>\n    </tr>\n    <tr>\n      <th>10</th>\n      <td>11</td>\n      <td>北京航空航天大学</td>\n      <td>中国北京</td>\n      <td>理工</td>\n      <td>56.3</td>\n    </tr>\n    <tr>\n      <th>11</th>\n      <td>12</td>\n      <td>武汉大学</td>\n      <td>中国湖北</td>\n      <td>综合</td>\n      <td>56.2</td>\n    </tr>\n    <tr>\n      <th>12</th>\n      <td>13</td>\n      <td>同济大学</td>\n      <td>中国上海</td>\n      <td>理工</td>\n      <td>55.7</td>\n    </tr>\n    <tr>\n      <th>13</th>\n      <td>14</td>\n      <td>西安交通大学</td>\n      <td>中国陕西</td>\n      <td>综合</td>\n      <td>55.0</td>\n    </tr>\n    <tr>\n      <th>14</th>\n      <td>15</td>\n      <td>四川大学</td>\n      <td>中国四川</td>\n      <td>综合</td>\n      <td>54.4</td>\n    </tr>\n    <tr>\n      <th>15</th>\n      <td>16</td>\n      <td>北京理工大学</td>\n      <td>中国北京</td>\n      <td>理工</td>\n      <td>54.0</td>\n    </tr>\n    <tr>\n      <th>16</th>\n      <td>17</td>\n      <td>东南大学</td>\n      <td>中国江苏</td>\n      <td>综合</td>\n      <td>53.6</td>\n    </tr>\n    <tr>\n      <th>17</th>\n      <td>18</td>\n      <td>南开大学</td>\n      <td>中国天津</td>\n      <td>综合</td>\n      <td>52.8</td>\n    </tr>\n    <tr>\n      <th>18</th>\n      <td>19</td>\n      <td>天津大学</td>\n      <td>中国天津</td>\n      <td>理工</td>\n      <td>52.3</td>\n    </tr>\n    <tr>\n      <th>19</th>\n      <td>20</td>\n      <td>华南理工大学</td>\n      <td>中国广东</td>\n      <td>理工</td>\n      <td>52.0</td>\n    </tr>\n    <tr>\n      <th>20</th>\n      <td>21</td>\n      <td>中南大学</td>\n      <td>中国湖南</td>\n      <td>综合</td>\n      <td>50.3</td>\n    </tr>\n    <tr>\n      <th>21</th>\n      <td>22</td>\n      <td>北京师范大学</td>\n      <td>中国北京</td>\n      <td>师范</td>\n      <td>49.7</td>\n    </tr>\n    <tr>\n      <th>22</th>\n      <td>23</td>\n      <td>山东大学</td>\n      <td>中国山东</td>\n      <td>综合</td>\n      <td>49.1</td>\n    </tr>\n    <tr>\n      <th>23</th>\n      <td>23</td>\n      <td>厦门大学</td>\n      <td>中国福建</td>\n      <td>综合</td>\n      <td>49.1</td>\n    </tr>\n    <tr>\n      <th>24</th>\n      <td>25</td>\n      <td>吉林大学</td>\n      <td>中国吉林</td>\n      <td>综合</td>\n      <td>48.9</td>\n    </tr>\n    <tr>\n      <th>25</th>\n      <td>26</td>\n      <td>大连理工大学</td>\n      <td>中国辽宁</td>\n      <td>理工</td>\n      <td>48.6</td>\n    </tr>\n    <tr>\n      <th>26</th>\n      <td>27</td>\n      <td>电子科技大学</td>\n      <td>中国四川</td>\n      <td>理工</td>\n      <td>48.4</td>\n    </tr>\n    <tr>\n      <th>27</th>\n      <td>28</td>\n      <td>湖南大学</td>\n      <td>中国湖南</td>\n      <td>综合</td>\n      <td>48.1</td>\n    </tr>\n    <tr>\n      <th>28</th>\n      <td>29</td>\n      <td>苏州大学</td>\n      <td>中国江苏</td>\n      <td>综合</td>\n      <td>47.3</td>\n    </tr>\n    <tr>\n      <th>29</th>\n      <td>30</td>\n      <td>西北工业大学</td>\n      <td>中国陕西</td>\n      <td>理工</td>\n      <td>46.7</td>\n    </tr>\n    <tr>\n      <th>...</th>\n      <td>...</td>\n      <td>...</td>\n      <td>...</td>\n      <td>...</td>\n      <td>...</td>\n    </tr>\n    <tr>\n      <th>70</th>\n      <td>71</td>\n      <td>中国矿业大学</td>\n      <td>中国江苏</td>\n      <td>理工</td>\n      <td>38.6</td>\n    </tr>\n    <tr>\n      <th>71</th>\n      <td>72</td>\n      <td>中国地质大学（北京）</td>\n      <td>中国北京</td>\n      <td>理工</td>\n      <td>38.5</td>\n    </tr>\n    <tr>\n      <th>72</th>\n      <td>73</td>\n      <td>东北财经大学</td>\n      <td>中国辽宁</td>\n      <td>财经</td>\n      <td>38.2</td>\n    </tr>\n    <tr>\n      <th>73</th>\n      <td>73</td>\n      <td>西南财经大学</td>\n      <td>中国四川</td>\n      <td>财经</td>\n      <td>38.2</td>\n    </tr>\n    <tr>\n      <th>74</th>\n      <td>73</td>\n      <td>西南大学</td>\n      <td>中国重庆</td>\n      <td>综合</td>\n      <td>38.2</td>\n    </tr>\n    <tr>\n      <th>75</th>\n      <td>76</td>\n      <td>东北师范大学</td>\n      <td>中国吉林</td>\n      <td>师范</td>\n      <td>38.1</td>\n    </tr>\n    <tr>\n      <th>76</th>\n      <td>76</td>\n      <td>南京邮电大学</td>\n      <td>中国江苏</td>\n      <td>综合</td>\n      <td>38.1</td>\n    </tr>\n    <tr>\n      <th>77</th>\n      <td>76</td>\n      <td>中国政法大学</td>\n      <td>中国北京</td>\n      <td>政法</td>\n      <td>38.1</td>\n    </tr>\n    <tr>\n      <th>78</th>\n      <td>79</td>\n      <td>河海大学</td>\n      <td>中国江苏</td>\n      <td>理工</td>\n      <td>38.0</td>\n    </tr>\n    <tr>\n      <th>79</th>\n      <td>80</td>\n      <td>南京信息工程大学</td>\n      <td>中国江苏</td>\n      <td>理工</td>\n      <td>37.9</td>\n    </tr>\n    <tr>\n      <th>80</th>\n      <td>81</td>\n      <td>西北农林科技大学</td>\n      <td>中国陕西</td>\n      <td>农业</td>\n      <td>37.8</td>\n    </tr>\n    <tr>\n      <th>81</th>\n      <td>82</td>\n      <td>中国石油大学（华东）</td>\n      <td>中国山东</td>\n      <td>理工</td>\n      <td>37.4</td>\n    </tr>\n    <tr>\n      <th>82</th>\n      <td>83</td>\n      <td>合肥工业大学</td>\n      <td>中国安徽</td>\n      <td>理工</td>\n      <td>37.3</td>\n    </tr>\n    <tr>\n      <th>83</th>\n      <td>84</td>\n      <td>陕西师范大学</td>\n      <td>中国陕西</td>\n      <td>师范</td>\n      <td>37.2</td>\n    </tr>\n    <tr>\n      <th>84</th>\n      <td>85</td>\n      <td>华南师范大学</td>\n      <td>中国广东</td>\n      <td>师范</td>\n      <td>37.1</td>\n    </tr>\n    <tr>\n      <th>85</th>\n      <td>85</td>\n      <td>江苏大学</td>\n      <td>中国江苏</td>\n      <td>综合</td>\n      <td>37.1</td>\n    </tr>\n    <tr>\n      <th>86</th>\n      <td>87</td>\n      <td>南京工业大学</td>\n      <td>中国江苏</td>\n      <td>理工</td>\n      <td>37.0</td>\n    </tr>\n    <tr>\n      <th>87</th>\n      <td>87</td>\n      <td>中国石油大学（北京）</td>\n      <td>中国北京</td>\n      <td>理工</td>\n      <td>37.0</td>\n    </tr>\n    <tr>\n      <th>88</th>\n      <td>89</td>\n      <td>西北大学</td>\n      <td>中国陕西</td>\n      <td>综合</td>\n      <td>36.9</td>\n    </tr>\n    <tr>\n      <th>89</th>\n      <td>89</td>\n      <td>浙江工业大学</td>\n      <td>中国浙江</td>\n      <td>理工</td>\n      <td>36.9</td>\n    </tr>\n    <tr>\n      <th>90</th>\n      <td>91</td>\n      <td>北京林业大学</td>\n      <td>中国北京</td>\n      <td>林业</td>\n      <td>36.8</td>\n    </tr>\n    <tr>\n      <th>91</th>\n      <td>91</td>\n      <td>湖南师范大学</td>\n      <td>中国湖南</td>\n      <td>师范</td>\n      <td>36.8</td>\n    </tr>\n    <tr>\n      <th>92</th>\n      <td>91</td>\n      <td>浙江师范大学</td>\n      <td>中国浙江</td>\n      <td>师范</td>\n      <td>36.8</td>\n    </tr>\n    <tr>\n      <th>93</th>\n      <td>94</td>\n      <td>首都师范大学</td>\n      <td>中国北京</td>\n      <td>师范</td>\n      <td>36.4</td>\n    </tr>\n    <tr>\n      <th>94</th>\n      <td>95</td>\n      <td>汕头大学</td>\n      <td>中国广东</td>\n      <td>综合</td>\n      <td>36.3</td>\n    </tr>\n    <tr>\n      <th>95</th>\n      <td>96</td>\n      <td>中国传媒大学</td>\n      <td>中国北京</td>\n      <td>语言</td>\n      <td>36.2</td>\n    </tr>\n    <tr>\n      <th>96</th>\n      <td>97</td>\n      <td>杭州电子科技大学</td>\n      <td>中国浙江</td>\n      <td>理工</td>\n      <td>36.1</td>\n    </tr>\n    <tr>\n      <th>97</th>\n      <td>98</td>\n      <td>扬州大学</td>\n      <td>中国江苏</td>\n      <td>综合</td>\n      <td>36.0</td>\n    </tr>\n    <tr>\n      <th>98</th>\n      <td>99</td>\n      <td>安徽大学</td>\n      <td>中国安徽</td>\n      <td>综合</td>\n      <td>35.9</td>\n    </tr>\n    <tr>\n      <th>99</th>\n      <td>100</td>\n      <td>华侨大学</td>\n      <td>中国福建</td>\n      <td>综合</td>\n      <td>35.7</td>\n    </tr>\n  </tbody>\n</table>\n<p>100 rows × 5 columns</p>\n</div>"
     },
     "metadata": {},
     "execution_count": 764
    }
   ],
   "source": [
    "df"
   ]
  },
  {
   "cell_type": "code",
   "execution_count": 765,
   "metadata": {},
   "outputs": [],
   "source": [
    "df['date'] = '2020-12-06'"
   ]
  },
  {
   "cell_type": "code",
   "execution_count": 766,
   "metadata": {},
   "outputs": [
    {
     "output_type": "execute_result",
     "data": {
      "text/plain": [
       "     排名        学校名称     省市  总分  指标得分        date\n",
       "0     1        清华大学   中国北京  综合  94.6  2020-12-06\n",
       "1     2        北京大学   中国北京  综合  76.5  2020-12-06\n",
       "2     3        浙江大学   中国浙江  综合  72.9  2020-12-06\n",
       "3     4      上海交通大学   中国上海  综合  72.1  2020-12-06\n",
       "4     5        复旦大学   中国上海  综合  65.6  2020-12-06\n",
       "5     6    中国科学技术大学   中国安徽  理工  60.9  2020-12-06\n",
       "6     7      华中科技大学   中国湖北  综合  58.9  2020-12-06\n",
       "7     7        南京大学   中国江苏  综合  58.9  2020-12-06\n",
       "8     9        中山大学   中国广东  综合  58.2  2020-12-06\n",
       "9    10     哈尔滨工业大学  中国黑龙江  理工  56.7  2020-12-06\n",
       "10   11    北京航空航天大学   中国北京  理工  56.3  2020-12-06\n",
       "11   12        武汉大学   中国湖北  综合  56.2  2020-12-06\n",
       "12   13        同济大学   中国上海  理工  55.7  2020-12-06\n",
       "13   14      西安交通大学   中国陕西  综合  55.0  2020-12-06\n",
       "14   15        四川大学   中国四川  综合  54.4  2020-12-06\n",
       "15   16      北京理工大学   中国北京  理工  54.0  2020-12-06\n",
       "16   17        东南大学   中国江苏  综合  53.6  2020-12-06\n",
       "17   18        南开大学   中国天津  综合  52.8  2020-12-06\n",
       "18   19        天津大学   中国天津  理工  52.3  2020-12-06\n",
       "19   20      华南理工大学   中国广东  理工  52.0  2020-12-06\n",
       "20   21        中南大学   中国湖南  综合  50.3  2020-12-06\n",
       "21   22      北京师范大学   中国北京  师范  49.7  2020-12-06\n",
       "22   23        山东大学   中国山东  综合  49.1  2020-12-06\n",
       "23   23        厦门大学   中国福建  综合  49.1  2020-12-06\n",
       "24   25        吉林大学   中国吉林  综合  48.9  2020-12-06\n",
       "25   26      大连理工大学   中国辽宁  理工  48.6  2020-12-06\n",
       "26   27      电子科技大学   中国四川  理工  48.4  2020-12-06\n",
       "27   28        湖南大学   中国湖南  综合  48.1  2020-12-06\n",
       "28   29        苏州大学   中国江苏  综合  47.3  2020-12-06\n",
       "29   30      西北工业大学   中国陕西  理工  46.7  2020-12-06\n",
       "..  ...         ...    ...  ..   ...         ...\n",
       "70   71      中国矿业大学   中国江苏  理工  38.6  2020-12-06\n",
       "71   72  中国地质大学（北京）   中国北京  理工  38.5  2020-12-06\n",
       "72   73      东北财经大学   中国辽宁  财经  38.2  2020-12-06\n",
       "73   73      西南财经大学   中国四川  财经  38.2  2020-12-06\n",
       "74   73        西南大学   中国重庆  综合  38.2  2020-12-06\n",
       "75   76      东北师范大学   中国吉林  师范  38.1  2020-12-06\n",
       "76   76      南京邮电大学   中国江苏  综合  38.1  2020-12-06\n",
       "77   76      中国政法大学   中国北京  政法  38.1  2020-12-06\n",
       "78   79        河海大学   中国江苏  理工  38.0  2020-12-06\n",
       "79   80    南京信息工程大学   中国江苏  理工  37.9  2020-12-06\n",
       "80   81    西北农林科技大学   中国陕西  农业  37.8  2020-12-06\n",
       "81   82  中国石油大学（华东）   中国山东  理工  37.4  2020-12-06\n",
       "82   83      合肥工业大学   中国安徽  理工  37.3  2020-12-06\n",
       "83   84      陕西师范大学   中国陕西  师范  37.2  2020-12-06\n",
       "84   85      华南师范大学   中国广东  师范  37.1  2020-12-06\n",
       "85   85        江苏大学   中国江苏  综合  37.1  2020-12-06\n",
       "86   87      南京工业大学   中国江苏  理工  37.0  2020-12-06\n",
       "87   87  中国石油大学（北京）   中国北京  理工  37.0  2020-12-06\n",
       "88   89        西北大学   中国陕西  综合  36.9  2020-12-06\n",
       "89   89      浙江工业大学   中国浙江  理工  36.9  2020-12-06\n",
       "90   91      北京林业大学   中国北京  林业  36.8  2020-12-06\n",
       "91   91      湖南师范大学   中国湖南  师范  36.8  2020-12-06\n",
       "92   91      浙江师范大学   中国浙江  师范  36.8  2020-12-06\n",
       "93   94      首都师范大学   中国北京  师范  36.4  2020-12-06\n",
       "94   95        汕头大学   中国广东  综合  36.3  2020-12-06\n",
       "95   96      中国传媒大学   中国北京  语言  36.2  2020-12-06\n",
       "96   97    杭州电子科技大学   中国浙江  理工  36.1  2020-12-06\n",
       "97   98        扬州大学   中国江苏  综合  36.0  2020-12-06\n",
       "98   99        安徽大学   中国安徽  综合  35.9  2020-12-06\n",
       "99  100        华侨大学   中国福建  综合  35.7  2020-12-06\n",
       "\n",
       "[100 rows x 6 columns]"
      ],
      "text/html": "<div>\n<style scoped>\n    .dataframe tbody tr th:only-of-type {\n        vertical-align: middle;\n    }\n\n    .dataframe tbody tr th {\n        vertical-align: top;\n    }\n\n    .dataframe thead th {\n        text-align: right;\n    }\n</style>\n<table border=\"1\" class=\"dataframe\">\n  <thead>\n    <tr style=\"text-align: right;\">\n      <th></th>\n      <th>排名</th>\n      <th>学校名称</th>\n      <th>省市</th>\n      <th>总分</th>\n      <th>指标得分</th>\n      <th>date</th>\n    </tr>\n  </thead>\n  <tbody>\n    <tr>\n      <th>0</th>\n      <td>1</td>\n      <td>清华大学</td>\n      <td>中国北京</td>\n      <td>综合</td>\n      <td>94.6</td>\n      <td>2020-12-06</td>\n    </tr>\n    <tr>\n      <th>1</th>\n      <td>2</td>\n      <td>北京大学</td>\n      <td>中国北京</td>\n      <td>综合</td>\n      <td>76.5</td>\n      <td>2020-12-06</td>\n    </tr>\n    <tr>\n      <th>2</th>\n      <td>3</td>\n      <td>浙江大学</td>\n      <td>中国浙江</td>\n      <td>综合</td>\n      <td>72.9</td>\n      <td>2020-12-06</td>\n    </tr>\n    <tr>\n      <th>3</th>\n      <td>4</td>\n      <td>上海交通大学</td>\n      <td>中国上海</td>\n      <td>综合</td>\n      <td>72.1</td>\n      <td>2020-12-06</td>\n    </tr>\n    <tr>\n      <th>4</th>\n      <td>5</td>\n      <td>复旦大学</td>\n      <td>中国上海</td>\n      <td>综合</td>\n      <td>65.6</td>\n      <td>2020-12-06</td>\n    </tr>\n    <tr>\n      <th>5</th>\n      <td>6</td>\n      <td>中国科学技术大学</td>\n      <td>中国安徽</td>\n      <td>理工</td>\n      <td>60.9</td>\n      <td>2020-12-06</td>\n    </tr>\n    <tr>\n      <th>6</th>\n      <td>7</td>\n      <td>华中科技大学</td>\n      <td>中国湖北</td>\n      <td>综合</td>\n      <td>58.9</td>\n      <td>2020-12-06</td>\n    </tr>\n    <tr>\n      <th>7</th>\n      <td>7</td>\n      <td>南京大学</td>\n      <td>中国江苏</td>\n      <td>综合</td>\n      <td>58.9</td>\n      <td>2020-12-06</td>\n    </tr>\n    <tr>\n      <th>8</th>\n      <td>9</td>\n      <td>中山大学</td>\n      <td>中国广东</td>\n      <td>综合</td>\n      <td>58.2</td>\n      <td>2020-12-06</td>\n    </tr>\n    <tr>\n      <th>9</th>\n      <td>10</td>\n      <td>哈尔滨工业大学</td>\n      <td>中国黑龙江</td>\n      <td>理工</td>\n      <td>56.7</td>\n      <td>2020-12-06</td>\n    </tr>\n    <tr>\n      <th>10</th>\n      <td>11</td>\n      <td>北京航空航天大学</td>\n      <td>中国北京</td>\n      <td>理工</td>\n      <td>56.3</td>\n      <td>2020-12-06</td>\n    </tr>\n    <tr>\n      <th>11</th>\n      <td>12</td>\n      <td>武汉大学</td>\n      <td>中国湖北</td>\n      <td>综合</td>\n      <td>56.2</td>\n      <td>2020-12-06</td>\n    </tr>\n    <tr>\n      <th>12</th>\n      <td>13</td>\n      <td>同济大学</td>\n      <td>中国上海</td>\n      <td>理工</td>\n      <td>55.7</td>\n      <td>2020-12-06</td>\n    </tr>\n    <tr>\n      <th>13</th>\n      <td>14</td>\n      <td>西安交通大学</td>\n      <td>中国陕西</td>\n      <td>综合</td>\n      <td>55.0</td>\n      <td>2020-12-06</td>\n    </tr>\n    <tr>\n      <th>14</th>\n      <td>15</td>\n      <td>四川大学</td>\n      <td>中国四川</td>\n      <td>综合</td>\n      <td>54.4</td>\n      <td>2020-12-06</td>\n    </tr>\n    <tr>\n      <th>15</th>\n      <td>16</td>\n      <td>北京理工大学</td>\n      <td>中国北京</td>\n      <td>理工</td>\n      <td>54.0</td>\n      <td>2020-12-06</td>\n    </tr>\n    <tr>\n      <th>16</th>\n      <td>17</td>\n      <td>东南大学</td>\n      <td>中国江苏</td>\n      <td>综合</td>\n      <td>53.6</td>\n      <td>2020-12-06</td>\n    </tr>\n    <tr>\n      <th>17</th>\n      <td>18</td>\n      <td>南开大学</td>\n      <td>中国天津</td>\n      <td>综合</td>\n      <td>52.8</td>\n      <td>2020-12-06</td>\n    </tr>\n    <tr>\n      <th>18</th>\n      <td>19</td>\n      <td>天津大学</td>\n      <td>中国天津</td>\n      <td>理工</td>\n      <td>52.3</td>\n      <td>2020-12-06</td>\n    </tr>\n    <tr>\n      <th>19</th>\n      <td>20</td>\n      <td>华南理工大学</td>\n      <td>中国广东</td>\n      <td>理工</td>\n      <td>52.0</td>\n      <td>2020-12-06</td>\n    </tr>\n    <tr>\n      <th>20</th>\n      <td>21</td>\n      <td>中南大学</td>\n      <td>中国湖南</td>\n      <td>综合</td>\n      <td>50.3</td>\n      <td>2020-12-06</td>\n    </tr>\n    <tr>\n      <th>21</th>\n      <td>22</td>\n      <td>北京师范大学</td>\n      <td>中国北京</td>\n      <td>师范</td>\n      <td>49.7</td>\n      <td>2020-12-06</td>\n    </tr>\n    <tr>\n      <th>22</th>\n      <td>23</td>\n      <td>山东大学</td>\n      <td>中国山东</td>\n      <td>综合</td>\n      <td>49.1</td>\n      <td>2020-12-06</td>\n    </tr>\n    <tr>\n      <th>23</th>\n      <td>23</td>\n      <td>厦门大学</td>\n      <td>中国福建</td>\n      <td>综合</td>\n      <td>49.1</td>\n      <td>2020-12-06</td>\n    </tr>\n    <tr>\n      <th>24</th>\n      <td>25</td>\n      <td>吉林大学</td>\n      <td>中国吉林</td>\n      <td>综合</td>\n      <td>48.9</td>\n      <td>2020-12-06</td>\n    </tr>\n    <tr>\n      <th>25</th>\n      <td>26</td>\n      <td>大连理工大学</td>\n      <td>中国辽宁</td>\n      <td>理工</td>\n      <td>48.6</td>\n      <td>2020-12-06</td>\n    </tr>\n    <tr>\n      <th>26</th>\n      <td>27</td>\n      <td>电子科技大学</td>\n      <td>中国四川</td>\n      <td>理工</td>\n      <td>48.4</td>\n      <td>2020-12-06</td>\n    </tr>\n    <tr>\n      <th>27</th>\n      <td>28</td>\n      <td>湖南大学</td>\n      <td>中国湖南</td>\n      <td>综合</td>\n      <td>48.1</td>\n      <td>2020-12-06</td>\n    </tr>\n    <tr>\n      <th>28</th>\n      <td>29</td>\n      <td>苏州大学</td>\n      <td>中国江苏</td>\n      <td>综合</td>\n      <td>47.3</td>\n      <td>2020-12-06</td>\n    </tr>\n    <tr>\n      <th>29</th>\n      <td>30</td>\n      <td>西北工业大学</td>\n      <td>中国陕西</td>\n      <td>理工</td>\n      <td>46.7</td>\n      <td>2020-12-06</td>\n    </tr>\n    <tr>\n      <th>...</th>\n      <td>...</td>\n      <td>...</td>\n      <td>...</td>\n      <td>...</td>\n      <td>...</td>\n      <td>...</td>\n    </tr>\n    <tr>\n      <th>70</th>\n      <td>71</td>\n      <td>中国矿业大学</td>\n      <td>中国江苏</td>\n      <td>理工</td>\n      <td>38.6</td>\n      <td>2020-12-06</td>\n    </tr>\n    <tr>\n      <th>71</th>\n      <td>72</td>\n      <td>中国地质大学（北京）</td>\n      <td>中国北京</td>\n      <td>理工</td>\n      <td>38.5</td>\n      <td>2020-12-06</td>\n    </tr>\n    <tr>\n      <th>72</th>\n      <td>73</td>\n      <td>东北财经大学</td>\n      <td>中国辽宁</td>\n      <td>财经</td>\n      <td>38.2</td>\n      <td>2020-12-06</td>\n    </tr>\n    <tr>\n      <th>73</th>\n      <td>73</td>\n      <td>西南财经大学</td>\n      <td>中国四川</td>\n      <td>财经</td>\n      <td>38.2</td>\n      <td>2020-12-06</td>\n    </tr>\n    <tr>\n      <th>74</th>\n      <td>73</td>\n      <td>西南大学</td>\n      <td>中国重庆</td>\n      <td>综合</td>\n      <td>38.2</td>\n      <td>2020-12-06</td>\n    </tr>\n    <tr>\n      <th>75</th>\n      <td>76</td>\n      <td>东北师范大学</td>\n      <td>中国吉林</td>\n      <td>师范</td>\n      <td>38.1</td>\n      <td>2020-12-06</td>\n    </tr>\n    <tr>\n      <th>76</th>\n      <td>76</td>\n      <td>南京邮电大学</td>\n      <td>中国江苏</td>\n      <td>综合</td>\n      <td>38.1</td>\n      <td>2020-12-06</td>\n    </tr>\n    <tr>\n      <th>77</th>\n      <td>76</td>\n      <td>中国政法大学</td>\n      <td>中国北京</td>\n      <td>政法</td>\n      <td>38.1</td>\n      <td>2020-12-06</td>\n    </tr>\n    <tr>\n      <th>78</th>\n      <td>79</td>\n      <td>河海大学</td>\n      <td>中国江苏</td>\n      <td>理工</td>\n      <td>38.0</td>\n      <td>2020-12-06</td>\n    </tr>\n    <tr>\n      <th>79</th>\n      <td>80</td>\n      <td>南京信息工程大学</td>\n      <td>中国江苏</td>\n      <td>理工</td>\n      <td>37.9</td>\n      <td>2020-12-06</td>\n    </tr>\n    <tr>\n      <th>80</th>\n      <td>81</td>\n      <td>西北农林科技大学</td>\n      <td>中国陕西</td>\n      <td>农业</td>\n      <td>37.8</td>\n      <td>2020-12-06</td>\n    </tr>\n    <tr>\n      <th>81</th>\n      <td>82</td>\n      <td>中国石油大学（华东）</td>\n      <td>中国山东</td>\n      <td>理工</td>\n      <td>37.4</td>\n      <td>2020-12-06</td>\n    </tr>\n    <tr>\n      <th>82</th>\n      <td>83</td>\n      <td>合肥工业大学</td>\n      <td>中国安徽</td>\n      <td>理工</td>\n      <td>37.3</td>\n      <td>2020-12-06</td>\n    </tr>\n    <tr>\n      <th>83</th>\n      <td>84</td>\n      <td>陕西师范大学</td>\n      <td>中国陕西</td>\n      <td>师范</td>\n      <td>37.2</td>\n      <td>2020-12-06</td>\n    </tr>\n    <tr>\n      <th>84</th>\n      <td>85</td>\n      <td>华南师范大学</td>\n      <td>中国广东</td>\n      <td>师范</td>\n      <td>37.1</td>\n      <td>2020-12-06</td>\n    </tr>\n    <tr>\n      <th>85</th>\n      <td>85</td>\n      <td>江苏大学</td>\n      <td>中国江苏</td>\n      <td>综合</td>\n      <td>37.1</td>\n      <td>2020-12-06</td>\n    </tr>\n    <tr>\n      <th>86</th>\n      <td>87</td>\n      <td>南京工业大学</td>\n      <td>中国江苏</td>\n      <td>理工</td>\n      <td>37.0</td>\n      <td>2020-12-06</td>\n    </tr>\n    <tr>\n      <th>87</th>\n      <td>87</td>\n      <td>中国石油大学（北京）</td>\n      <td>中国北京</td>\n      <td>理工</td>\n      <td>37.0</td>\n      <td>2020-12-06</td>\n    </tr>\n    <tr>\n      <th>88</th>\n      <td>89</td>\n      <td>西北大学</td>\n      <td>中国陕西</td>\n      <td>综合</td>\n      <td>36.9</td>\n      <td>2020-12-06</td>\n    </tr>\n    <tr>\n      <th>89</th>\n      <td>89</td>\n      <td>浙江工业大学</td>\n      <td>中国浙江</td>\n      <td>理工</td>\n      <td>36.9</td>\n      <td>2020-12-06</td>\n    </tr>\n    <tr>\n      <th>90</th>\n      <td>91</td>\n      <td>北京林业大学</td>\n      <td>中国北京</td>\n      <td>林业</td>\n      <td>36.8</td>\n      <td>2020-12-06</td>\n    </tr>\n    <tr>\n      <th>91</th>\n      <td>91</td>\n      <td>湖南师范大学</td>\n      <td>中国湖南</td>\n      <td>师范</td>\n      <td>36.8</td>\n      <td>2020-12-06</td>\n    </tr>\n    <tr>\n      <th>92</th>\n      <td>91</td>\n      <td>浙江师范大学</td>\n      <td>中国浙江</td>\n      <td>师范</td>\n      <td>36.8</td>\n      <td>2020-12-06</td>\n    </tr>\n    <tr>\n      <th>93</th>\n      <td>94</td>\n      <td>首都师范大学</td>\n      <td>中国北京</td>\n      <td>师范</td>\n      <td>36.4</td>\n      <td>2020-12-06</td>\n    </tr>\n    <tr>\n      <th>94</th>\n      <td>95</td>\n      <td>汕头大学</td>\n      <td>中国广东</td>\n      <td>综合</td>\n      <td>36.3</td>\n      <td>2020-12-06</td>\n    </tr>\n    <tr>\n      <th>95</th>\n      <td>96</td>\n      <td>中国传媒大学</td>\n      <td>中国北京</td>\n      <td>语言</td>\n      <td>36.2</td>\n      <td>2020-12-06</td>\n    </tr>\n    <tr>\n      <th>96</th>\n      <td>97</td>\n      <td>杭州电子科技大学</td>\n      <td>中国浙江</td>\n      <td>理工</td>\n      <td>36.1</td>\n      <td>2020-12-06</td>\n    </tr>\n    <tr>\n      <th>97</th>\n      <td>98</td>\n      <td>扬州大学</td>\n      <td>中国江苏</td>\n      <td>综合</td>\n      <td>36.0</td>\n      <td>2020-12-06</td>\n    </tr>\n    <tr>\n      <th>98</th>\n      <td>99</td>\n      <td>安徽大学</td>\n      <td>中国安徽</td>\n      <td>综合</td>\n      <td>35.9</td>\n      <td>2020-12-06</td>\n    </tr>\n    <tr>\n      <th>99</th>\n      <td>100</td>\n      <td>华侨大学</td>\n      <td>中国福建</td>\n      <td>综合</td>\n      <td>35.7</td>\n      <td>2020-12-06</td>\n    </tr>\n  </tbody>\n</table>\n<p>100 rows × 6 columns</p>\n</div>"
     },
     "metadata": {},
     "execution_count": 766
    }
   ],
   "source": [
    "df"
   ]
  },
  {
   "cell_type": "code",
   "execution_count": 767,
   "metadata": {},
   "outputs": [
    {
     "output_type": "stream",
     "name": "stdout",
     "text": [
      "<class 'pandas.core.frame.DataFrame'>\nRangeIndex: 100 entries, 0 to 99\nData columns (total 6 columns):\n排名      100 non-null int64\n学校名称    100 non-null object\n省市      100 non-null object\n总分      100 non-null object\n指标得分    100 non-null float64\ndate    100 non-null datetime64[ns]\ndtypes: datetime64[ns](1), float64(1), int64(1), object(3)\nmemory usage: 4.8+ KB\n"
     ]
    }
   ],
   "source": [
    "df['date'] = pd.to_datetime(df['date'])\n",
    "df.info()"
   ]
  },
  {
   "cell_type": "code",
   "execution_count": 768,
   "metadata": {},
   "outputs": [
    {
     "output_type": "execute_result",
     "data": {
      "text/plain": [
       "   排名      学校名称     省市  总分  指标得分       date\n",
       "0   1      清华大学   中国北京  综合  94.6 2020-12-06\n",
       "1   2      北京大学   中国北京  综合  76.5 2020-12-06\n",
       "2   3      浙江大学   中国浙江  综合  72.9 2020-12-06\n",
       "3   4    上海交通大学   中国上海  综合  72.1 2020-12-06\n",
       "4   5      复旦大学   中国上海  综合  65.6 2020-12-06\n",
       "5   6  中国科学技术大学   中国安徽  理工  60.9 2020-12-06\n",
       "6   7    华中科技大学   中国湖北  综合  58.9 2020-12-06\n",
       "7   7      南京大学   中国江苏  综合  58.9 2020-12-06\n",
       "8   9      中山大学   中国广东  综合  58.2 2020-12-06\n",
       "9  10   哈尔滨工业大学  中国黑龙江  理工  56.7 2020-12-06"
      ],
      "text/html": "<div>\n<style scoped>\n    .dataframe tbody tr th:only-of-type {\n        vertical-align: middle;\n    }\n\n    .dataframe tbody tr th {\n        vertical-align: top;\n    }\n\n    .dataframe thead th {\n        text-align: right;\n    }\n</style>\n<table border=\"1\" class=\"dataframe\">\n  <thead>\n    <tr style=\"text-align: right;\">\n      <th></th>\n      <th>排名</th>\n      <th>学校名称</th>\n      <th>省市</th>\n      <th>总分</th>\n      <th>指标得分</th>\n      <th>date</th>\n    </tr>\n  </thead>\n  <tbody>\n    <tr>\n      <th>0</th>\n      <td>1</td>\n      <td>清华大学</td>\n      <td>中国北京</td>\n      <td>综合</td>\n      <td>94.6</td>\n      <td>2020-12-06</td>\n    </tr>\n    <tr>\n      <th>1</th>\n      <td>2</td>\n      <td>北京大学</td>\n      <td>中国北京</td>\n      <td>综合</td>\n      <td>76.5</td>\n      <td>2020-12-06</td>\n    </tr>\n    <tr>\n      <th>2</th>\n      <td>3</td>\n      <td>浙江大学</td>\n      <td>中国浙江</td>\n      <td>综合</td>\n      <td>72.9</td>\n      <td>2020-12-06</td>\n    </tr>\n    <tr>\n      <th>3</th>\n      <td>4</td>\n      <td>上海交通大学</td>\n      <td>中国上海</td>\n      <td>综合</td>\n      <td>72.1</td>\n      <td>2020-12-06</td>\n    </tr>\n    <tr>\n      <th>4</th>\n      <td>5</td>\n      <td>复旦大学</td>\n      <td>中国上海</td>\n      <td>综合</td>\n      <td>65.6</td>\n      <td>2020-12-06</td>\n    </tr>\n    <tr>\n      <th>5</th>\n      <td>6</td>\n      <td>中国科学技术大学</td>\n      <td>中国安徽</td>\n      <td>理工</td>\n      <td>60.9</td>\n      <td>2020-12-06</td>\n    </tr>\n    <tr>\n      <th>6</th>\n      <td>7</td>\n      <td>华中科技大学</td>\n      <td>中国湖北</td>\n      <td>综合</td>\n      <td>58.9</td>\n      <td>2020-12-06</td>\n    </tr>\n    <tr>\n      <th>7</th>\n      <td>7</td>\n      <td>南京大学</td>\n      <td>中国江苏</td>\n      <td>综合</td>\n      <td>58.9</td>\n      <td>2020-12-06</td>\n    </tr>\n    <tr>\n      <th>8</th>\n      <td>9</td>\n      <td>中山大学</td>\n      <td>中国广东</td>\n      <td>综合</td>\n      <td>58.2</td>\n      <td>2020-12-06</td>\n    </tr>\n    <tr>\n      <th>9</th>\n      <td>10</td>\n      <td>哈尔滨工业大学</td>\n      <td>中国黑龙江</td>\n      <td>理工</td>\n      <td>56.7</td>\n      <td>2020-12-06</td>\n    </tr>\n  </tbody>\n</table>\n</div>"
     },
     "metadata": {},
     "execution_count": 768
    }
   ],
   "source": [
    "df.iloc[:10,:]"
   ]
  },
  {
   "cell_type": "code",
   "execution_count": 769,
   "metadata": {},
   "outputs": [
    {
     "output_type": "execute_result",
     "data": {
      "text/plain": [
       "   排名    学校名称    省市  总分\n",
       "0   1    清华大学  中国北京  综合\n",
       "1   2    北京大学  中国北京  综合\n",
       "2   3    浙江大学  中国浙江  综合\n",
       "3   4  上海交通大学  中国上海  综合\n",
       "4   5    复旦大学  中国上海  综合"
      ],
      "text/html": "<div>\n<style scoped>\n    .dataframe tbody tr th:only-of-type {\n        vertical-align: middle;\n    }\n\n    .dataframe tbody tr th {\n        vertical-align: top;\n    }\n\n    .dataframe thead th {\n        text-align: right;\n    }\n</style>\n<table border=\"1\" class=\"dataframe\">\n  <thead>\n    <tr style=\"text-align: right;\">\n      <th></th>\n      <th>排名</th>\n      <th>学校名称</th>\n      <th>省市</th>\n      <th>总分</th>\n    </tr>\n  </thead>\n  <tbody>\n    <tr>\n      <th>0</th>\n      <td>1</td>\n      <td>清华大学</td>\n      <td>中国北京</td>\n      <td>综合</td>\n    </tr>\n    <tr>\n      <th>1</th>\n      <td>2</td>\n      <td>北京大学</td>\n      <td>中国北京</td>\n      <td>综合</td>\n    </tr>\n    <tr>\n      <th>2</th>\n      <td>3</td>\n      <td>浙江大学</td>\n      <td>中国浙江</td>\n      <td>综合</td>\n    </tr>\n    <tr>\n      <th>3</th>\n      <td>4</td>\n      <td>上海交通大学</td>\n      <td>中国上海</td>\n      <td>综合</td>\n    </tr>\n    <tr>\n      <th>4</th>\n      <td>5</td>\n      <td>复旦大学</td>\n      <td>中国上海</td>\n      <td>综合</td>\n    </tr>\n  </tbody>\n</table>\n</div>"
     },
     "metadata": {},
     "execution_count": 769
    }
   ],
   "source": [
    "df.iloc[:,:4].head(5)"
   ]
  },
  {
   "cell_type": "code",
   "execution_count": 770,
   "metadata": {},
   "outputs": [
    {
     "output_type": "execute_result",
     "data": {
      "text/plain": [
       "     学校名称  指标得分\n",
       "0    清华大学  94.6\n",
       "1    北京大学  76.5\n",
       "2    浙江大学  72.9\n",
       "3  上海交通大学  72.1\n",
       "4    复旦大学  65.6"
      ],
      "text/html": "<div>\n<style scoped>\n    .dataframe tbody tr th:only-of-type {\n        vertical-align: middle;\n    }\n\n    .dataframe tbody tr th {\n        vertical-align: top;\n    }\n\n    .dataframe thead th {\n        text-align: right;\n    }\n</style>\n<table border=\"1\" class=\"dataframe\">\n  <thead>\n    <tr style=\"text-align: right;\">\n      <th></th>\n      <th>学校名称</th>\n      <th>指标得分</th>\n    </tr>\n  </thead>\n  <tbody>\n    <tr>\n      <th>0</th>\n      <td>清华大学</td>\n      <td>94.6</td>\n    </tr>\n    <tr>\n      <th>1</th>\n      <td>北京大学</td>\n      <td>76.5</td>\n    </tr>\n    <tr>\n      <th>2</th>\n      <td>浙江大学</td>\n      <td>72.9</td>\n    </tr>\n    <tr>\n      <th>3</th>\n      <td>上海交通大学</td>\n      <td>72.1</td>\n    </tr>\n    <tr>\n      <th>4</th>\n      <td>复旦大学</td>\n      <td>65.6</td>\n    </tr>\n  </tbody>\n</table>\n</div>"
     },
     "metadata": {},
     "execution_count": 770
    }
   ],
   "source": [
    "df.iloc[:,[1,4]].head(5)"
   ]
  },
  {
   "cell_type": "code",
   "execution_count": 771,
   "metadata": {},
   "outputs": [
    {
     "output_type": "execute_result",
     "data": {
      "text/plain": [
       "0     False\n",
       "1     False\n",
       "2     False\n",
       "3     False\n",
       "4     False\n",
       "5     False\n",
       "6      True\n",
       "7      True\n",
       "8     False\n",
       "9     False\n",
       "10    False\n",
       "11    False\n",
       "12    False\n",
       "13    False\n",
       "14    False\n",
       "15    False\n",
       "16    False\n",
       "17    False\n",
       "18    False\n",
       "19    False\n",
       "20    False\n",
       "21    False\n",
       "22    False\n",
       "23    False\n",
       "24    False\n",
       "25    False\n",
       "26    False\n",
       "27    False\n",
       "28    False\n",
       "29    False\n",
       "      ...  \n",
       "70    False\n",
       "71    False\n",
       "72    False\n",
       "73    False\n",
       "74    False\n",
       "75    False\n",
       "76    False\n",
       "77    False\n",
       "78    False\n",
       "79    False\n",
       "80    False\n",
       "81    False\n",
       "82    False\n",
       "83    False\n",
       "84    False\n",
       "85    False\n",
       "86    False\n",
       "87    False\n",
       "88    False\n",
       "89    False\n",
       "90    False\n",
       "91    False\n",
       "92    False\n",
       "93    False\n",
       "94    False\n",
       "95    False\n",
       "96    False\n",
       "97    False\n",
       "98    False\n",
       "99    False\n",
       "Name: 指标得分, Length: 100, dtype: bool"
      ]
     },
     "metadata": {},
     "execution_count": 771
    }
   ],
   "source": [
    "df['指标得分'] == 58.9"
   ]
  },
  {
   "cell_type": "code",
   "execution_count": 772,
   "metadata": {},
   "outputs": [
    {
     "output_type": "execute_result",
     "data": {
      "text/plain": [
       "   排名    学校名称    省市  总分  指标得分       date\n",
       "6   7  华中科技大学  中国湖北  综合  58.9 2020-12-06\n",
       "7   7    南京大学  中国江苏  综合  58.9 2020-12-06"
      ],
      "text/html": "<div>\n<style scoped>\n    .dataframe tbody tr th:only-of-type {\n        vertical-align: middle;\n    }\n\n    .dataframe tbody tr th {\n        vertical-align: top;\n    }\n\n    .dataframe thead th {\n        text-align: right;\n    }\n</style>\n<table border=\"1\" class=\"dataframe\">\n  <thead>\n    <tr style=\"text-align: right;\">\n      <th></th>\n      <th>排名</th>\n      <th>学校名称</th>\n      <th>省市</th>\n      <th>总分</th>\n      <th>指标得分</th>\n      <th>date</th>\n    </tr>\n  </thead>\n  <tbody>\n    <tr>\n      <th>6</th>\n      <td>7</td>\n      <td>华中科技大学</td>\n      <td>中国湖北</td>\n      <td>综合</td>\n      <td>58.9</td>\n      <td>2020-12-06</td>\n    </tr>\n    <tr>\n      <th>7</th>\n      <td>7</td>\n      <td>南京大学</td>\n      <td>中国江苏</td>\n      <td>综合</td>\n      <td>58.9</td>\n      <td>2020-12-06</td>\n    </tr>\n  </tbody>\n</table>\n</div>"
     },
     "metadata": {},
     "execution_count": 772
    }
   ],
   "source": [
    "df.loc[df['指标得分'] == 58.9,:]"
   ]
  },
  {
   "cell_type": "code",
   "execution_count": 773,
   "metadata": {},
   "outputs": [
    {
     "output_type": "execute_result",
     "data": {
      "text/plain": [
       "   排名  学校名称  指标得分\n",
       "0   1  清华大学  94.6\n",
       "1   2  北京大学  76.5"
      ],
      "text/html": "<div>\n<style scoped>\n    .dataframe tbody tr th:only-of-type {\n        vertical-align: middle;\n    }\n\n    .dataframe tbody tr th {\n        vertical-align: top;\n    }\n\n    .dataframe thead th {\n        text-align: right;\n    }\n</style>\n<table border=\"1\" class=\"dataframe\">\n  <thead>\n    <tr style=\"text-align: right;\">\n      <th></th>\n      <th>排名</th>\n      <th>学校名称</th>\n      <th>指标得分</th>\n    </tr>\n  </thead>\n  <tbody>\n    <tr>\n      <th>0</th>\n      <td>1</td>\n      <td>清华大学</td>\n      <td>94.6</td>\n    </tr>\n    <tr>\n      <th>1</th>\n      <td>2</td>\n      <td>北京大学</td>\n      <td>76.5</td>\n    </tr>\n  </tbody>\n</table>\n</div>"
     },
     "metadata": {},
     "execution_count": 773
    }
   ],
   "source": [
    "df.loc[df['学校名称'].isin(['北京大学','清华大学']),['排名','学校名称','指标得分']]#此处插播一条 isin 函数的广告，这个函数能够帮助我们快速判断源数据中某一列（Series）的值是否等于列表中的值。任意"
   ]
  },
  {
   "cell_type": "code",
   "execution_count": 774,
   "metadata": {},
   "outputs": [
    {
     "output_type": "execute_result",
     "data": {
      "text/plain": [
       "    排名  学校名称    省市  总分  指标得分       date\n",
       "1    2  北京大学  中国北京  综合  76.5 2020-12-06\n",
       "20  21  中南大学  中国湖南  综合  50.3 2020-12-06\n",
       "27  28  湖南大学  中国湖南  综合  48.1 2020-12-06"
      ],
      "text/html": "<div>\n<style scoped>\n    .dataframe tbody tr th:only-of-type {\n        vertical-align: middle;\n    }\n\n    .dataframe tbody tr th {\n        vertical-align: top;\n    }\n\n    .dataframe thead th {\n        text-align: right;\n    }\n</style>\n<table border=\"1\" class=\"dataframe\">\n  <thead>\n    <tr style=\"text-align: right;\">\n      <th></th>\n      <th>排名</th>\n      <th>学校名称</th>\n      <th>省市</th>\n      <th>总分</th>\n      <th>指标得分</th>\n      <th>date</th>\n    </tr>\n  </thead>\n  <tbody>\n    <tr>\n      <th>1</th>\n      <td>2</td>\n      <td>北京大学</td>\n      <td>中国北京</td>\n      <td>综合</td>\n      <td>76.5</td>\n      <td>2020-12-06</td>\n    </tr>\n    <tr>\n      <th>20</th>\n      <td>21</td>\n      <td>中南大学</td>\n      <td>中国湖南</td>\n      <td>综合</td>\n      <td>50.3</td>\n      <td>2020-12-06</td>\n    </tr>\n    <tr>\n      <th>27</th>\n      <td>28</td>\n      <td>湖南大学</td>\n      <td>中国湖南</td>\n      <td>综合</td>\n      <td>48.1</td>\n      <td>2020-12-06</td>\n    </tr>\n  </tbody>\n</table>\n</div>"
     },
     "metadata": {},
     "execution_count": 774
    }
   ],
   "source": [
    "df.loc[(df['学校名称']=='北京大学')|(df['省市']=='中国湖南')&(df['指标得分']>df['指标得分'].mean()),:]"
   ]
  },
  {
   "source": [
    "# 第二部分"
   ],
   "cell_type": "markdown",
   "metadata": {}
  },
  {
   "cell_type": "code",
   "execution_count": 775,
   "metadata": {},
   "outputs": [
    {
     "output_type": "execute_result",
     "data": {
      "text/plain": [
       "     姓名               身份证号码  民族  政治面貌  入党年月       入团年月 全日制教育学历 团员所在领域  \\\n",
       "0   杨思琳  430181200007049024  汉族  共青团员   NaN 2013-09-01    大学本科     学校   \n",
       "1    彭菁  430621200009152000  汉族  共青团员   NaN 2013-05-01    大学本科     学校   \n",
       "2    陈静  430422200009200000  汉族  共青团员   NaN 2013-04-01    大学本科     学校   \n",
       "3   米长德  43052419990308599X  汉族  共青团员   NaN 2013-04-01    大学本科     学校   \n",
       "4   祝荣华  430421200006081024  汉族  共青团员   NaN 2013-05-01    大学本科     学校   \n",
       "5   夏星宇  430121200006072000  汉族  共青团员   NaN 2014-09-01    大学本科     学校   \n",
       "6   高双宁  430124200104235968  汉族  共青团员   NaN 2012-09-01    大学本科     学校   \n",
       "7   罗银银  500222199807204992  汉族  共青团员   NaN 2012-09-01    大学本科     学校   \n",
       "8   刘胜男  432524200002153024  汉族  共青团员   NaN 2011-10-01    大学本科     学校   \n",
       "9   胡佳颖  431126200011249984  汉族  共青团员   NaN 2015-10-01    大学本科     学校   \n",
       "10   张瑞  430703200007257984  汉族  共青团员   NaN 2014-10-01    大学本科     学校   \n",
       "\n",
       "            固定电话         移动电话               电子邮箱  备注  \n",
       "0   1.880741e+10  18807413436  2681034248@qq.com NaN  \n",
       "1   1.387401e+10  13874012110  1932576451@qq.com NaN  \n",
       "2   1.897473e+10  18974728613  1489663212@qq.com NaN  \n",
       "3            NaN  18022313071  1425495519@qq.com NaN  \n",
       "4   1.567494e+10  15674944599  1785157698@qq.com NaN  \n",
       "5            NaN  16670154776  1940106723@qq.com NaN  \n",
       "6   1.917433e+10  19174333504  3150306982@qq.com NaN  \n",
       "7   1.992215e+10  19922154216  2715342890@qq.com NaN  \n",
       "8   1.997433e+10  19974333642  1548768792@qq.com NaN  \n",
       "9            NaN  15574619481   839083795@qq.com NaN  \n",
       "10  1.577365e+10  15773653506  3124675870@qq.com NaN  "
      ],
      "text/html": "<div>\n<style scoped>\n    .dataframe tbody tr th:only-of-type {\n        vertical-align: middle;\n    }\n\n    .dataframe tbody tr th {\n        vertical-align: top;\n    }\n\n    .dataframe thead th {\n        text-align: right;\n    }\n</style>\n<table border=\"1\" class=\"dataframe\">\n  <thead>\n    <tr style=\"text-align: right;\">\n      <th></th>\n      <th>姓名</th>\n      <th>身份证号码</th>\n      <th>民族</th>\n      <th>政治面貌</th>\n      <th>入党年月</th>\n      <th>入团年月</th>\n      <th>全日制教育学历</th>\n      <th>团员所在领域</th>\n      <th>固定电话</th>\n      <th>移动电话</th>\n      <th>电子邮箱</th>\n      <th>备注</th>\n    </tr>\n  </thead>\n  <tbody>\n    <tr>\n      <th>0</th>\n      <td>杨思琳</td>\n      <td>430181200007049024</td>\n      <td>汉族</td>\n      <td>共青团员</td>\n      <td>NaN</td>\n      <td>2013-09-01</td>\n      <td>大学本科</td>\n      <td>学校</td>\n      <td>1.880741e+10</td>\n      <td>18807413436</td>\n      <td>2681034248@qq.com</td>\n      <td>NaN</td>\n    </tr>\n    <tr>\n      <th>1</th>\n      <td>彭菁</td>\n      <td>430621200009152000</td>\n      <td>汉族</td>\n      <td>共青团员</td>\n      <td>NaN</td>\n      <td>2013-05-01</td>\n      <td>大学本科</td>\n      <td>学校</td>\n      <td>1.387401e+10</td>\n      <td>13874012110</td>\n      <td>1932576451@qq.com</td>\n      <td>NaN</td>\n    </tr>\n    <tr>\n      <th>2</th>\n      <td>陈静</td>\n      <td>430422200009200000</td>\n      <td>汉族</td>\n      <td>共青团员</td>\n      <td>NaN</td>\n      <td>2013-04-01</td>\n      <td>大学本科</td>\n      <td>学校</td>\n      <td>1.897473e+10</td>\n      <td>18974728613</td>\n      <td>1489663212@qq.com</td>\n      <td>NaN</td>\n    </tr>\n    <tr>\n      <th>3</th>\n      <td>米长德</td>\n      <td>43052419990308599X</td>\n      <td>汉族</td>\n      <td>共青团员</td>\n      <td>NaN</td>\n      <td>2013-04-01</td>\n      <td>大学本科</td>\n      <td>学校</td>\n      <td>NaN</td>\n      <td>18022313071</td>\n      <td>1425495519@qq.com</td>\n      <td>NaN</td>\n    </tr>\n    <tr>\n      <th>4</th>\n      <td>祝荣华</td>\n      <td>430421200006081024</td>\n      <td>汉族</td>\n      <td>共青团员</td>\n      <td>NaN</td>\n      <td>2013-05-01</td>\n      <td>大学本科</td>\n      <td>学校</td>\n      <td>1.567494e+10</td>\n      <td>15674944599</td>\n      <td>1785157698@qq.com</td>\n      <td>NaN</td>\n    </tr>\n    <tr>\n      <th>5</th>\n      <td>夏星宇</td>\n      <td>430121200006072000</td>\n      <td>汉族</td>\n      <td>共青团员</td>\n      <td>NaN</td>\n      <td>2014-09-01</td>\n      <td>大学本科</td>\n      <td>学校</td>\n      <td>NaN</td>\n      <td>16670154776</td>\n      <td>1940106723@qq.com</td>\n      <td>NaN</td>\n    </tr>\n    <tr>\n      <th>6</th>\n      <td>高双宁</td>\n      <td>430124200104235968</td>\n      <td>汉族</td>\n      <td>共青团员</td>\n      <td>NaN</td>\n      <td>2012-09-01</td>\n      <td>大学本科</td>\n      <td>学校</td>\n      <td>1.917433e+10</td>\n      <td>19174333504</td>\n      <td>3150306982@qq.com</td>\n      <td>NaN</td>\n    </tr>\n    <tr>\n      <th>7</th>\n      <td>罗银银</td>\n      <td>500222199807204992</td>\n      <td>汉族</td>\n      <td>共青团员</td>\n      <td>NaN</td>\n      <td>2012-09-01</td>\n      <td>大学本科</td>\n      <td>学校</td>\n      <td>1.992215e+10</td>\n      <td>19922154216</td>\n      <td>2715342890@qq.com</td>\n      <td>NaN</td>\n    </tr>\n    <tr>\n      <th>8</th>\n      <td>刘胜男</td>\n      <td>432524200002153024</td>\n      <td>汉族</td>\n      <td>共青团员</td>\n      <td>NaN</td>\n      <td>2011-10-01</td>\n      <td>大学本科</td>\n      <td>学校</td>\n      <td>1.997433e+10</td>\n      <td>19974333642</td>\n      <td>1548768792@qq.com</td>\n      <td>NaN</td>\n    </tr>\n    <tr>\n      <th>9</th>\n      <td>胡佳颖</td>\n      <td>431126200011249984</td>\n      <td>汉族</td>\n      <td>共青团员</td>\n      <td>NaN</td>\n      <td>2015-10-01</td>\n      <td>大学本科</td>\n      <td>学校</td>\n      <td>NaN</td>\n      <td>15574619481</td>\n      <td>839083795@qq.com</td>\n      <td>NaN</td>\n    </tr>\n    <tr>\n      <th>10</th>\n      <td>张瑞</td>\n      <td>430703200007257984</td>\n      <td>汉族</td>\n      <td>共青团员</td>\n      <td>NaN</td>\n      <td>2014-10-01</td>\n      <td>大学本科</td>\n      <td>学校</td>\n      <td>1.577365e+10</td>\n      <td>15773653506</td>\n      <td>3124675870@qq.com</td>\n      <td>NaN</td>\n    </tr>\n  </tbody>\n</table>\n</div>"
     },
     "metadata": {},
     "execution_count": 775
    }
   ],
   "source": [
    "df2 = pd.read_excel('D:/Python/Pandas/wode/18dssxb.xls',sheet_name='Sheet2')\n",
    "df2"
   ]
  },
  {
   "cell_type": "code",
   "execution_count": 776,
   "metadata": {},
   "outputs": [
    {
     "output_type": "execute_result",
     "data": {
      "text/plain": [
       "     姓名               身份证号码  民族    政治面貌       入党年月       入团年月 全日制教育学历 团员所在领域  \\\n",
       "0    曹盛  430981200006097024  汉族    共青团员        NaT 2013-05-01    大学本科     学校   \n",
       "1   唐慧婷  430523200007294016  汉族    共青团员        NaT 2014-06-01    大学本科     学校   \n",
       "2   李志杰  430481199910059008  汉族    共青团员        NaT 2017-10-01    大学本科     学校   \n",
       "3   马金瑶  430221200010267008  汉族    共青团员        NaT 2015-10-01    大学本科     学校   \n",
       "4    张雯  430822200007268992  苗族    共青团员        NaT 2015-10-01    大学本科     学校   \n",
       "5   刘美琴  430524199906288000  汉族    中共党员 2020-05-01 2014-10-01    大学本科     学校   \n",
       "6    肖含  430722200001150976  汉族    共青团员        NaT 2012-09-01    大学本科     学校   \n",
       "7   文丝雨  430302200004201024  汉族    共青团员        NaT 2015-09-01    大学本科     学校   \n",
       "8   廖迎平  430422199912289024  汉族    共青团员        NaT 2018-10-01    大学本科     学校   \n",
       "9   孙海燕  432524200009043008  汉族  中共预备党员 2019-12-01 2013-03-01    大学本科     学校   \n",
       "10  康嘉鹏  432524199611276992  汉族    共青团员        NaT 2012-10-01    大学本科     学校   \n",
       "11  刘泽民  431103200101284992  汉族    共青团员        NaT 2012-12-01    大学本科     学校   \n",
       "\n",
       "            固定电话          移动电话                电子邮箱  \n",
       "0   1.527448e+10  1.527448e+10   1808105723@qq.com  \n",
       "1   1.816924e+10  1.816924e+10   1814622565@qq.com  \n",
       "2   1.587445e+10  1.587445e+10   2061068217@qq.com  \n",
       "3            NaN  1.910743e+10   2503302793@qq.com  \n",
       "4            NaN  1.777448e+10    361245783@qq.com  \n",
       "5   1.587331e+10  1.587331e+10    862376942@qq.com  \n",
       "6   1.734737e+10  1.734737e+10   1463535552@qq.com  \n",
       "7   1.397322e+10  1.397322e+10    550350931@qq.com  \n",
       "8   1.527443e+10  1.527443e+10  1607208070@.qq.com  \n",
       "9   1.820738e+10  1.820738e+10   1085740981@qq.com  \n",
       "10  1.557538e+10  1.557538e+10   2095793572@qq.com  \n",
       "11           NaN           NaN                 NaN  "
      ],
      "text/html": "<div>\n<style scoped>\n    .dataframe tbody tr th:only-of-type {\n        vertical-align: middle;\n    }\n\n    .dataframe tbody tr th {\n        vertical-align: top;\n    }\n\n    .dataframe thead th {\n        text-align: right;\n    }\n</style>\n<table border=\"1\" class=\"dataframe\">\n  <thead>\n    <tr style=\"text-align: right;\">\n      <th></th>\n      <th>姓名</th>\n      <th>身份证号码</th>\n      <th>民族</th>\n      <th>政治面貌</th>\n      <th>入党年月</th>\n      <th>入团年月</th>\n      <th>全日制教育学历</th>\n      <th>团员所在领域</th>\n      <th>固定电话</th>\n      <th>移动电话</th>\n      <th>电子邮箱</th>\n    </tr>\n  </thead>\n  <tbody>\n    <tr>\n      <th>0</th>\n      <td>曹盛</td>\n      <td>430981200006097024</td>\n      <td>汉族</td>\n      <td>共青团员</td>\n      <td>NaT</td>\n      <td>2013-05-01</td>\n      <td>大学本科</td>\n      <td>学校</td>\n      <td>1.527448e+10</td>\n      <td>1.527448e+10</td>\n      <td>1808105723@qq.com</td>\n    </tr>\n    <tr>\n      <th>1</th>\n      <td>唐慧婷</td>\n      <td>430523200007294016</td>\n      <td>汉族</td>\n      <td>共青团员</td>\n      <td>NaT</td>\n      <td>2014-06-01</td>\n      <td>大学本科</td>\n      <td>学校</td>\n      <td>1.816924e+10</td>\n      <td>1.816924e+10</td>\n      <td>1814622565@qq.com</td>\n    </tr>\n    <tr>\n      <th>2</th>\n      <td>李志杰</td>\n      <td>430481199910059008</td>\n      <td>汉族</td>\n      <td>共青团员</td>\n      <td>NaT</td>\n      <td>2017-10-01</td>\n      <td>大学本科</td>\n      <td>学校</td>\n      <td>1.587445e+10</td>\n      <td>1.587445e+10</td>\n      <td>2061068217@qq.com</td>\n    </tr>\n    <tr>\n      <th>3</th>\n      <td>马金瑶</td>\n      <td>430221200010267008</td>\n      <td>汉族</td>\n      <td>共青团员</td>\n      <td>NaT</td>\n      <td>2015-10-01</td>\n      <td>大学本科</td>\n      <td>学校</td>\n      <td>NaN</td>\n      <td>1.910743e+10</td>\n      <td>2503302793@qq.com</td>\n    </tr>\n    <tr>\n      <th>4</th>\n      <td>张雯</td>\n      <td>430822200007268992</td>\n      <td>苗族</td>\n      <td>共青团员</td>\n      <td>NaT</td>\n      <td>2015-10-01</td>\n      <td>大学本科</td>\n      <td>学校</td>\n      <td>NaN</td>\n      <td>1.777448e+10</td>\n      <td>361245783@qq.com</td>\n    </tr>\n    <tr>\n      <th>5</th>\n      <td>刘美琴</td>\n      <td>430524199906288000</td>\n      <td>汉族</td>\n      <td>中共党员</td>\n      <td>2020-05-01</td>\n      <td>2014-10-01</td>\n      <td>大学本科</td>\n      <td>学校</td>\n      <td>1.587331e+10</td>\n      <td>1.587331e+10</td>\n      <td>862376942@qq.com</td>\n    </tr>\n    <tr>\n      <th>6</th>\n      <td>肖含</td>\n      <td>430722200001150976</td>\n      <td>汉族</td>\n      <td>共青团员</td>\n      <td>NaT</td>\n      <td>2012-09-01</td>\n      <td>大学本科</td>\n      <td>学校</td>\n      <td>1.734737e+10</td>\n      <td>1.734737e+10</td>\n      <td>1463535552@qq.com</td>\n    </tr>\n    <tr>\n      <th>7</th>\n      <td>文丝雨</td>\n      <td>430302200004201024</td>\n      <td>汉族</td>\n      <td>共青团员</td>\n      <td>NaT</td>\n      <td>2015-09-01</td>\n      <td>大学本科</td>\n      <td>学校</td>\n      <td>1.397322e+10</td>\n      <td>1.397322e+10</td>\n      <td>550350931@qq.com</td>\n    </tr>\n    <tr>\n      <th>8</th>\n      <td>廖迎平</td>\n      <td>430422199912289024</td>\n      <td>汉族</td>\n      <td>共青团员</td>\n      <td>NaT</td>\n      <td>2018-10-01</td>\n      <td>大学本科</td>\n      <td>学校</td>\n      <td>1.527443e+10</td>\n      <td>1.527443e+10</td>\n      <td>1607208070@.qq.com</td>\n    </tr>\n    <tr>\n      <th>9</th>\n      <td>孙海燕</td>\n      <td>432524200009043008</td>\n      <td>汉族</td>\n      <td>中共预备党员</td>\n      <td>2019-12-01</td>\n      <td>2013-03-01</td>\n      <td>大学本科</td>\n      <td>学校</td>\n      <td>1.820738e+10</td>\n      <td>1.820738e+10</td>\n      <td>1085740981@qq.com</td>\n    </tr>\n    <tr>\n      <th>10</th>\n      <td>康嘉鹏</td>\n      <td>432524199611276992</td>\n      <td>汉族</td>\n      <td>共青团员</td>\n      <td>NaT</td>\n      <td>2012-10-01</td>\n      <td>大学本科</td>\n      <td>学校</td>\n      <td>1.557538e+10</td>\n      <td>1.557538e+10</td>\n      <td>2095793572@qq.com</td>\n    </tr>\n    <tr>\n      <th>11</th>\n      <td>刘泽民</td>\n      <td>431103200101284992</td>\n      <td>汉族</td>\n      <td>共青团员</td>\n      <td>NaT</td>\n      <td>2012-12-01</td>\n      <td>大学本科</td>\n      <td>学校</td>\n      <td>NaN</td>\n      <td>NaN</td>\n      <td>NaN</td>\n    </tr>\n  </tbody>\n</table>\n</div>"
     },
     "metadata": {},
     "execution_count": 776
    }
   ],
   "source": [
    "df1 = pd.read_excel('D:/Python/Pandas/wode/18dssxb.xls',sheet_name='Sheet1')\n",
    "df1"
   ]
  },
  {
   "cell_type": "code",
   "execution_count": 777,
   "metadata": {},
   "outputs": [
    {
     "output_type": "execute_result",
     "data": {
      "text/plain": [
       "    姓名               身份证号码   民族    政治面貌       入党年月       入团年月 全日制教育学历 团员所在领域  \\\n",
       "0  杨丹妮  410825200005267008   汉族    共青团员        NaT 2013-10-01    大学本科     学校   \n",
       "1  李发明  430421200102203968   汉族    共青团员        NaT 2014-06-01    大学本科     学校   \n",
       "2  黎晴晴  430181200001272000   汉族    共青团员        NaT 2013-03-01    大学本科     学校   \n",
       "3  唐婉婷  43112220000824006x   汉族    共青团员        NaT 2014-06-01    大学本科     学校   \n",
       "4   王骞  433125200108123008  土家族    共青团员        NaT 2014-06-01    大学本科     学校   \n",
       "5  邓雅丽  431021200009054016   汉族    共青团员        NaT 2014-09-01    大学本科     学校   \n",
       "6  林诗敏  430923200008177984   汉族    共青团员        NaT 2014-09-01    大学本科     学校   \n",
       "7  刘志庆  33082220000603571X   汉族  中共预备党员 2020-12-01 2012-10-01    大学本科     学校   \n",
       "\n",
       "           固定电话          移动电话               电子邮箱  备注  \n",
       "0           NaN  1.853017e+10  1607771850@qq.com NaN  \n",
       "1           NaN  1.507346e+10  1842644298@qq.com NaN  \n",
       "2           NaN  1.887338e+10  1004843167@qq.com NaN  \n",
       "3  7.464652e+09  1.817470e+10  2396525124@qq.com NaN  \n",
       "4           NaN  1.320491e+10   792825587@qq.com NaN  \n",
       "5           NaN           NaN                NaN NaN  \n",
       "6  1.589843e+10  1.589843e+10  2904585857@qq.com NaN  \n",
       "7           NaN  1.561609e+10  3144338032@qq.com NaN  "
      ],
      "text/html": "<div>\n<style scoped>\n    .dataframe tbody tr th:only-of-type {\n        vertical-align: middle;\n    }\n\n    .dataframe tbody tr th {\n        vertical-align: top;\n    }\n\n    .dataframe thead th {\n        text-align: right;\n    }\n</style>\n<table border=\"1\" class=\"dataframe\">\n  <thead>\n    <tr style=\"text-align: right;\">\n      <th></th>\n      <th>姓名</th>\n      <th>身份证号码</th>\n      <th>民族</th>\n      <th>政治面貌</th>\n      <th>入党年月</th>\n      <th>入团年月</th>\n      <th>全日制教育学历</th>\n      <th>团员所在领域</th>\n      <th>固定电话</th>\n      <th>移动电话</th>\n      <th>电子邮箱</th>\n      <th>备注</th>\n    </tr>\n  </thead>\n  <tbody>\n    <tr>\n      <th>0</th>\n      <td>杨丹妮</td>\n      <td>410825200005267008</td>\n      <td>汉族</td>\n      <td>共青团员</td>\n      <td>NaT</td>\n      <td>2013-10-01</td>\n      <td>大学本科</td>\n      <td>学校</td>\n      <td>NaN</td>\n      <td>1.853017e+10</td>\n      <td>1607771850@qq.com</td>\n      <td>NaN</td>\n    </tr>\n    <tr>\n      <th>1</th>\n      <td>李发明</td>\n      <td>430421200102203968</td>\n      <td>汉族</td>\n      <td>共青团员</td>\n      <td>NaT</td>\n      <td>2014-06-01</td>\n      <td>大学本科</td>\n      <td>学校</td>\n      <td>NaN</td>\n      <td>1.507346e+10</td>\n      <td>1842644298@qq.com</td>\n      <td>NaN</td>\n    </tr>\n    <tr>\n      <th>2</th>\n      <td>黎晴晴</td>\n      <td>430181200001272000</td>\n      <td>汉族</td>\n      <td>共青团员</td>\n      <td>NaT</td>\n      <td>2013-03-01</td>\n      <td>大学本科</td>\n      <td>学校</td>\n      <td>NaN</td>\n      <td>1.887338e+10</td>\n      <td>1004843167@qq.com</td>\n      <td>NaN</td>\n    </tr>\n    <tr>\n      <th>3</th>\n      <td>唐婉婷</td>\n      <td>43112220000824006x</td>\n      <td>汉族</td>\n      <td>共青团员</td>\n      <td>NaT</td>\n      <td>2014-06-01</td>\n      <td>大学本科</td>\n      <td>学校</td>\n      <td>7.464652e+09</td>\n      <td>1.817470e+10</td>\n      <td>2396525124@qq.com</td>\n      <td>NaN</td>\n    </tr>\n    <tr>\n      <th>4</th>\n      <td>王骞</td>\n      <td>433125200108123008</td>\n      <td>土家族</td>\n      <td>共青团员</td>\n      <td>NaT</td>\n      <td>2014-06-01</td>\n      <td>大学本科</td>\n      <td>学校</td>\n      <td>NaN</td>\n      <td>1.320491e+10</td>\n      <td>792825587@qq.com</td>\n      <td>NaN</td>\n    </tr>\n    <tr>\n      <th>5</th>\n      <td>邓雅丽</td>\n      <td>431021200009054016</td>\n      <td>汉族</td>\n      <td>共青团员</td>\n      <td>NaT</td>\n      <td>2014-09-01</td>\n      <td>大学本科</td>\n      <td>学校</td>\n      <td>NaN</td>\n      <td>NaN</td>\n      <td>NaN</td>\n      <td>NaN</td>\n    </tr>\n    <tr>\n      <th>6</th>\n      <td>林诗敏</td>\n      <td>430923200008177984</td>\n      <td>汉族</td>\n      <td>共青团员</td>\n      <td>NaT</td>\n      <td>2014-09-01</td>\n      <td>大学本科</td>\n      <td>学校</td>\n      <td>1.589843e+10</td>\n      <td>1.589843e+10</td>\n      <td>2904585857@qq.com</td>\n      <td>NaN</td>\n    </tr>\n    <tr>\n      <th>7</th>\n      <td>刘志庆</td>\n      <td>33082220000603571X</td>\n      <td>汉族</td>\n      <td>中共预备党员</td>\n      <td>2020-12-01</td>\n      <td>2012-10-01</td>\n      <td>大学本科</td>\n      <td>学校</td>\n      <td>NaN</td>\n      <td>1.561609e+10</td>\n      <td>3144338032@qq.com</td>\n      <td>NaN</td>\n    </tr>\n  </tbody>\n</table>\n</div>"
     },
     "metadata": {},
     "execution_count": 777
    }
   ],
   "source": [
    "df3 = pd.read_excel('D:/Python/Pandas/wode/18dssxb.xls',sheet_name='Sheet3')\n",
    "df3"
   ]
  },
  {
   "cell_type": "code",
   "execution_count": 778,
   "metadata": {},
   "outputs": [
    {
     "output_type": "execute_result",
     "data": {
      "text/plain": [
       "                   入党年月       入团年月 全日制教育学历 团员所在领域          固定电话  备注   姓名  \\\n",
       "0                   NaT 2013-05-01    大学本科     学校  1.527448e+10 NaN   曹盛   \n",
       "1                   NaT 2014-06-01    大学本科     学校  1.816924e+10 NaN  唐慧婷   \n",
       "2                   NaT 2017-10-01    大学本科     学校  1.587445e+10 NaN  李志杰   \n",
       "3                   NaT 2015-10-01    大学本科     学校           NaN NaN  马金瑶   \n",
       "4                   NaT 2015-10-01    大学本科     学校           NaN NaN   张雯   \n",
       "5   2020-05-01 00:00:00 2014-10-01    大学本科     学校  1.587331e+10 NaN  刘美琴   \n",
       "6                   NaT 2012-09-01    大学本科     学校  1.734737e+10 NaN   肖含   \n",
       "7                   NaT 2015-09-01    大学本科     学校  1.397322e+10 NaN  文丝雨   \n",
       "8                   NaT 2018-10-01    大学本科     学校  1.527443e+10 NaN  廖迎平   \n",
       "9   2019-12-01 00:00:00 2013-03-01    大学本科     学校  1.820738e+10 NaN  孙海燕   \n",
       "10                  NaT 2012-10-01    大学本科     学校  1.557538e+10 NaN  康嘉鹏   \n",
       "11                  NaT 2012-12-01    大学本科     学校           NaN NaN  刘泽民   \n",
       "12                  NaN 2013-09-01    大学本科     学校  1.880741e+10 NaN  杨思琳   \n",
       "13                  NaN 2013-05-01    大学本科     学校  1.387401e+10 NaN   彭菁   \n",
       "14                  NaN 2013-04-01    大学本科     学校  1.897473e+10 NaN   陈静   \n",
       "15                  NaN 2013-04-01    大学本科     学校           NaN NaN  米长德   \n",
       "16                  NaN 2013-05-01    大学本科     学校  1.567494e+10 NaN  祝荣华   \n",
       "17                  NaN 2014-09-01    大学本科     学校           NaN NaN  夏星宇   \n",
       "18                  NaN 2012-09-01    大学本科     学校  1.917433e+10 NaN  高双宁   \n",
       "19                  NaN 2012-09-01    大学本科     学校  1.992215e+10 NaN  罗银银   \n",
       "20                  NaN 2011-10-01    大学本科     学校  1.997433e+10 NaN  刘胜男   \n",
       "21                  NaN 2015-10-01    大学本科     学校           NaN NaN  胡佳颖   \n",
       "22                  NaN 2014-10-01    大学本科     学校  1.577365e+10 NaN   张瑞   \n",
       "23                  NaT 2013-10-01    大学本科     学校           NaN NaN  杨丹妮   \n",
       "24                  NaT 2014-06-01    大学本科     学校           NaN NaN  李发明   \n",
       "25                  NaT 2013-03-01    大学本科     学校           NaN NaN  黎晴晴   \n",
       "26                  NaT 2014-06-01    大学本科     学校  7.464652e+09 NaN  唐婉婷   \n",
       "27                  NaT 2014-06-01    大学本科     学校           NaN NaN   王骞   \n",
       "28                  NaT 2014-09-01    大学本科     学校           NaN NaN  邓雅丽   \n",
       "29                  NaT 2014-09-01    大学本科     学校  1.589843e+10 NaN  林诗敏   \n",
       "30  2020-12-01 00:00:00 2012-10-01    大学本科     学校           NaN NaN  刘志庆   \n",
       "\n",
       "      政治面貌   民族                电子邮箱          移动电话               身份证号码  \n",
       "0     共青团员   汉族   1808105723@qq.com  1.527448e+10  430981200006097024  \n",
       "1     共青团员   汉族   1814622565@qq.com  1.816924e+10  430523200007294016  \n",
       "2     共青团员   汉族   2061068217@qq.com  1.587445e+10  430481199910059008  \n",
       "3     共青团员   汉族   2503302793@qq.com  1.910743e+10  430221200010267008  \n",
       "4     共青团员   苗族    361245783@qq.com  1.777448e+10  430822200007268992  \n",
       "5     中共党员   汉族    862376942@qq.com  1.587331e+10  430524199906288000  \n",
       "6     共青团员   汉族   1463535552@qq.com  1.734737e+10  430722200001150976  \n",
       "7     共青团员   汉族    550350931@qq.com  1.397322e+10  430302200004201024  \n",
       "8     共青团员   汉族  1607208070@.qq.com  1.527443e+10  430422199912289024  \n",
       "9   中共预备党员   汉族   1085740981@qq.com  1.820738e+10  432524200009043008  \n",
       "10    共青团员   汉族   2095793572@qq.com  1.557538e+10  432524199611276992  \n",
       "11    共青团员   汉族                 NaN           NaN  431103200101284992  \n",
       "12    共青团员   汉族   2681034248@qq.com  1.880741e+10  430181200007049024  \n",
       "13    共青团员   汉族   1932576451@qq.com  1.387401e+10  430621200009152000  \n",
       "14    共青团员   汉族   1489663212@qq.com  1.897473e+10  430422200009200000  \n",
       "15    共青团员   汉族   1425495519@qq.com  1.802231e+10  43052419990308599X  \n",
       "16    共青团员   汉族   1785157698@qq.com  1.567494e+10  430421200006081024  \n",
       "17    共青团员   汉族   1940106723@qq.com  1.667015e+10  430121200006072000  \n",
       "18    共青团员   汉族   3150306982@qq.com  1.917433e+10  430124200104235968  \n",
       "19    共青团员   汉族   2715342890@qq.com  1.992215e+10  500222199807204992  \n",
       "20    共青团员   汉族   1548768792@qq.com  1.997433e+10  432524200002153024  \n",
       "21    共青团员   汉族    839083795@qq.com  1.557462e+10  431126200011249984  \n",
       "22    共青团员   汉族   3124675870@qq.com  1.577365e+10  430703200007257984  \n",
       "23    共青团员   汉族   1607771850@qq.com  1.853017e+10  410825200005267008  \n",
       "24    共青团员   汉族   1842644298@qq.com  1.507346e+10  430421200102203968  \n",
       "25    共青团员   汉族   1004843167@qq.com  1.887338e+10  430181200001272000  \n",
       "26    共青团员   汉族   2396525124@qq.com  1.817470e+10  43112220000824006x  \n",
       "27    共青团员  土家族    792825587@qq.com  1.320491e+10  433125200108123008  \n",
       "28    共青团员   汉族                 NaN           NaN  431021200009054016  \n",
       "29    共青团员   汉族   2904585857@qq.com  1.589843e+10  430923200008177984  \n",
       "30  中共预备党员   汉族   3144338032@qq.com  1.561609e+10  33082220000603571X  "
      ],
      "text/html": "<div>\n<style scoped>\n    .dataframe tbody tr th:only-of-type {\n        vertical-align: middle;\n    }\n\n    .dataframe tbody tr th {\n        vertical-align: top;\n    }\n\n    .dataframe thead th {\n        text-align: right;\n    }\n</style>\n<table border=\"1\" class=\"dataframe\">\n  <thead>\n    <tr style=\"text-align: right;\">\n      <th></th>\n      <th>入党年月</th>\n      <th>入团年月</th>\n      <th>全日制教育学历</th>\n      <th>团员所在领域</th>\n      <th>固定电话</th>\n      <th>备注</th>\n      <th>姓名</th>\n      <th>政治面貌</th>\n      <th>民族</th>\n      <th>电子邮箱</th>\n      <th>移动电话</th>\n      <th>身份证号码</th>\n    </tr>\n  </thead>\n  <tbody>\n    <tr>\n      <th>0</th>\n      <td>NaT</td>\n      <td>2013-05-01</td>\n      <td>大学本科</td>\n      <td>学校</td>\n      <td>1.527448e+10</td>\n      <td>NaN</td>\n      <td>曹盛</td>\n      <td>共青团员</td>\n      <td>汉族</td>\n      <td>1808105723@qq.com</td>\n      <td>1.527448e+10</td>\n      <td>430981200006097024</td>\n    </tr>\n    <tr>\n      <th>1</th>\n      <td>NaT</td>\n      <td>2014-06-01</td>\n      <td>大学本科</td>\n      <td>学校</td>\n      <td>1.816924e+10</td>\n      <td>NaN</td>\n      <td>唐慧婷</td>\n      <td>共青团员</td>\n      <td>汉族</td>\n      <td>1814622565@qq.com</td>\n      <td>1.816924e+10</td>\n      <td>430523200007294016</td>\n    </tr>\n    <tr>\n      <th>2</th>\n      <td>NaT</td>\n      <td>2017-10-01</td>\n      <td>大学本科</td>\n      <td>学校</td>\n      <td>1.587445e+10</td>\n      <td>NaN</td>\n      <td>李志杰</td>\n      <td>共青团员</td>\n      <td>汉族</td>\n      <td>2061068217@qq.com</td>\n      <td>1.587445e+10</td>\n      <td>430481199910059008</td>\n    </tr>\n    <tr>\n      <th>3</th>\n      <td>NaT</td>\n      <td>2015-10-01</td>\n      <td>大学本科</td>\n      <td>学校</td>\n      <td>NaN</td>\n      <td>NaN</td>\n      <td>马金瑶</td>\n      <td>共青团员</td>\n      <td>汉族</td>\n      <td>2503302793@qq.com</td>\n      <td>1.910743e+10</td>\n      <td>430221200010267008</td>\n    </tr>\n    <tr>\n      <th>4</th>\n      <td>NaT</td>\n      <td>2015-10-01</td>\n      <td>大学本科</td>\n      <td>学校</td>\n      <td>NaN</td>\n      <td>NaN</td>\n      <td>张雯</td>\n      <td>共青团员</td>\n      <td>苗族</td>\n      <td>361245783@qq.com</td>\n      <td>1.777448e+10</td>\n      <td>430822200007268992</td>\n    </tr>\n    <tr>\n      <th>5</th>\n      <td>2020-05-01 00:00:00</td>\n      <td>2014-10-01</td>\n      <td>大学本科</td>\n      <td>学校</td>\n      <td>1.587331e+10</td>\n      <td>NaN</td>\n      <td>刘美琴</td>\n      <td>中共党员</td>\n      <td>汉族</td>\n      <td>862376942@qq.com</td>\n      <td>1.587331e+10</td>\n      <td>430524199906288000</td>\n    </tr>\n    <tr>\n      <th>6</th>\n      <td>NaT</td>\n      <td>2012-09-01</td>\n      <td>大学本科</td>\n      <td>学校</td>\n      <td>1.734737e+10</td>\n      <td>NaN</td>\n      <td>肖含</td>\n      <td>共青团员</td>\n      <td>汉族</td>\n      <td>1463535552@qq.com</td>\n      <td>1.734737e+10</td>\n      <td>430722200001150976</td>\n    </tr>\n    <tr>\n      <th>7</th>\n      <td>NaT</td>\n      <td>2015-09-01</td>\n      <td>大学本科</td>\n      <td>学校</td>\n      <td>1.397322e+10</td>\n      <td>NaN</td>\n      <td>文丝雨</td>\n      <td>共青团员</td>\n      <td>汉族</td>\n      <td>550350931@qq.com</td>\n      <td>1.397322e+10</td>\n      <td>430302200004201024</td>\n    </tr>\n    <tr>\n      <th>8</th>\n      <td>NaT</td>\n      <td>2018-10-01</td>\n      <td>大学本科</td>\n      <td>学校</td>\n      <td>1.527443e+10</td>\n      <td>NaN</td>\n      <td>廖迎平</td>\n      <td>共青团员</td>\n      <td>汉族</td>\n      <td>1607208070@.qq.com</td>\n      <td>1.527443e+10</td>\n      <td>430422199912289024</td>\n    </tr>\n    <tr>\n      <th>9</th>\n      <td>2019-12-01 00:00:00</td>\n      <td>2013-03-01</td>\n      <td>大学本科</td>\n      <td>学校</td>\n      <td>1.820738e+10</td>\n      <td>NaN</td>\n      <td>孙海燕</td>\n      <td>中共预备党员</td>\n      <td>汉族</td>\n      <td>1085740981@qq.com</td>\n      <td>1.820738e+10</td>\n      <td>432524200009043008</td>\n    </tr>\n    <tr>\n      <th>10</th>\n      <td>NaT</td>\n      <td>2012-10-01</td>\n      <td>大学本科</td>\n      <td>学校</td>\n      <td>1.557538e+10</td>\n      <td>NaN</td>\n      <td>康嘉鹏</td>\n      <td>共青团员</td>\n      <td>汉族</td>\n      <td>2095793572@qq.com</td>\n      <td>1.557538e+10</td>\n      <td>432524199611276992</td>\n    </tr>\n    <tr>\n      <th>11</th>\n      <td>NaT</td>\n      <td>2012-12-01</td>\n      <td>大学本科</td>\n      <td>学校</td>\n      <td>NaN</td>\n      <td>NaN</td>\n      <td>刘泽民</td>\n      <td>共青团员</td>\n      <td>汉族</td>\n      <td>NaN</td>\n      <td>NaN</td>\n      <td>431103200101284992</td>\n    </tr>\n    <tr>\n      <th>12</th>\n      <td>NaN</td>\n      <td>2013-09-01</td>\n      <td>大学本科</td>\n      <td>学校</td>\n      <td>1.880741e+10</td>\n      <td>NaN</td>\n      <td>杨思琳</td>\n      <td>共青团员</td>\n      <td>汉族</td>\n      <td>2681034248@qq.com</td>\n      <td>1.880741e+10</td>\n      <td>430181200007049024</td>\n    </tr>\n    <tr>\n      <th>13</th>\n      <td>NaN</td>\n      <td>2013-05-01</td>\n      <td>大学本科</td>\n      <td>学校</td>\n      <td>1.387401e+10</td>\n      <td>NaN</td>\n      <td>彭菁</td>\n      <td>共青团员</td>\n      <td>汉族</td>\n      <td>1932576451@qq.com</td>\n      <td>1.387401e+10</td>\n      <td>430621200009152000</td>\n    </tr>\n    <tr>\n      <th>14</th>\n      <td>NaN</td>\n      <td>2013-04-01</td>\n      <td>大学本科</td>\n      <td>学校</td>\n      <td>1.897473e+10</td>\n      <td>NaN</td>\n      <td>陈静</td>\n      <td>共青团员</td>\n      <td>汉族</td>\n      <td>1489663212@qq.com</td>\n      <td>1.897473e+10</td>\n      <td>430422200009200000</td>\n    </tr>\n    <tr>\n      <th>15</th>\n      <td>NaN</td>\n      <td>2013-04-01</td>\n      <td>大学本科</td>\n      <td>学校</td>\n      <td>NaN</td>\n      <td>NaN</td>\n      <td>米长德</td>\n      <td>共青团员</td>\n      <td>汉族</td>\n      <td>1425495519@qq.com</td>\n      <td>1.802231e+10</td>\n      <td>43052419990308599X</td>\n    </tr>\n    <tr>\n      <th>16</th>\n      <td>NaN</td>\n      <td>2013-05-01</td>\n      <td>大学本科</td>\n      <td>学校</td>\n      <td>1.567494e+10</td>\n      <td>NaN</td>\n      <td>祝荣华</td>\n      <td>共青团员</td>\n      <td>汉族</td>\n      <td>1785157698@qq.com</td>\n      <td>1.567494e+10</td>\n      <td>430421200006081024</td>\n    </tr>\n    <tr>\n      <th>17</th>\n      <td>NaN</td>\n      <td>2014-09-01</td>\n      <td>大学本科</td>\n      <td>学校</td>\n      <td>NaN</td>\n      <td>NaN</td>\n      <td>夏星宇</td>\n      <td>共青团员</td>\n      <td>汉族</td>\n      <td>1940106723@qq.com</td>\n      <td>1.667015e+10</td>\n      <td>430121200006072000</td>\n    </tr>\n    <tr>\n      <th>18</th>\n      <td>NaN</td>\n      <td>2012-09-01</td>\n      <td>大学本科</td>\n      <td>学校</td>\n      <td>1.917433e+10</td>\n      <td>NaN</td>\n      <td>高双宁</td>\n      <td>共青团员</td>\n      <td>汉族</td>\n      <td>3150306982@qq.com</td>\n      <td>1.917433e+10</td>\n      <td>430124200104235968</td>\n    </tr>\n    <tr>\n      <th>19</th>\n      <td>NaN</td>\n      <td>2012-09-01</td>\n      <td>大学本科</td>\n      <td>学校</td>\n      <td>1.992215e+10</td>\n      <td>NaN</td>\n      <td>罗银银</td>\n      <td>共青团员</td>\n      <td>汉族</td>\n      <td>2715342890@qq.com</td>\n      <td>1.992215e+10</td>\n      <td>500222199807204992</td>\n    </tr>\n    <tr>\n      <th>20</th>\n      <td>NaN</td>\n      <td>2011-10-01</td>\n      <td>大学本科</td>\n      <td>学校</td>\n      <td>1.997433e+10</td>\n      <td>NaN</td>\n      <td>刘胜男</td>\n      <td>共青团员</td>\n      <td>汉族</td>\n      <td>1548768792@qq.com</td>\n      <td>1.997433e+10</td>\n      <td>432524200002153024</td>\n    </tr>\n    <tr>\n      <th>21</th>\n      <td>NaN</td>\n      <td>2015-10-01</td>\n      <td>大学本科</td>\n      <td>学校</td>\n      <td>NaN</td>\n      <td>NaN</td>\n      <td>胡佳颖</td>\n      <td>共青团员</td>\n      <td>汉族</td>\n      <td>839083795@qq.com</td>\n      <td>1.557462e+10</td>\n      <td>431126200011249984</td>\n    </tr>\n    <tr>\n      <th>22</th>\n      <td>NaN</td>\n      <td>2014-10-01</td>\n      <td>大学本科</td>\n      <td>学校</td>\n      <td>1.577365e+10</td>\n      <td>NaN</td>\n      <td>张瑞</td>\n      <td>共青团员</td>\n      <td>汉族</td>\n      <td>3124675870@qq.com</td>\n      <td>1.577365e+10</td>\n      <td>430703200007257984</td>\n    </tr>\n    <tr>\n      <th>23</th>\n      <td>NaT</td>\n      <td>2013-10-01</td>\n      <td>大学本科</td>\n      <td>学校</td>\n      <td>NaN</td>\n      <td>NaN</td>\n      <td>杨丹妮</td>\n      <td>共青团员</td>\n      <td>汉族</td>\n      <td>1607771850@qq.com</td>\n      <td>1.853017e+10</td>\n      <td>410825200005267008</td>\n    </tr>\n    <tr>\n      <th>24</th>\n      <td>NaT</td>\n      <td>2014-06-01</td>\n      <td>大学本科</td>\n      <td>学校</td>\n      <td>NaN</td>\n      <td>NaN</td>\n      <td>李发明</td>\n      <td>共青团员</td>\n      <td>汉族</td>\n      <td>1842644298@qq.com</td>\n      <td>1.507346e+10</td>\n      <td>430421200102203968</td>\n    </tr>\n    <tr>\n      <th>25</th>\n      <td>NaT</td>\n      <td>2013-03-01</td>\n      <td>大学本科</td>\n      <td>学校</td>\n      <td>NaN</td>\n      <td>NaN</td>\n      <td>黎晴晴</td>\n      <td>共青团员</td>\n      <td>汉族</td>\n      <td>1004843167@qq.com</td>\n      <td>1.887338e+10</td>\n      <td>430181200001272000</td>\n    </tr>\n    <tr>\n      <th>26</th>\n      <td>NaT</td>\n      <td>2014-06-01</td>\n      <td>大学本科</td>\n      <td>学校</td>\n      <td>7.464652e+09</td>\n      <td>NaN</td>\n      <td>唐婉婷</td>\n      <td>共青团员</td>\n      <td>汉族</td>\n      <td>2396525124@qq.com</td>\n      <td>1.817470e+10</td>\n      <td>43112220000824006x</td>\n    </tr>\n    <tr>\n      <th>27</th>\n      <td>NaT</td>\n      <td>2014-06-01</td>\n      <td>大学本科</td>\n      <td>学校</td>\n      <td>NaN</td>\n      <td>NaN</td>\n      <td>王骞</td>\n      <td>共青团员</td>\n      <td>土家族</td>\n      <td>792825587@qq.com</td>\n      <td>1.320491e+10</td>\n      <td>433125200108123008</td>\n    </tr>\n    <tr>\n      <th>28</th>\n      <td>NaT</td>\n      <td>2014-09-01</td>\n      <td>大学本科</td>\n      <td>学校</td>\n      <td>NaN</td>\n      <td>NaN</td>\n      <td>邓雅丽</td>\n      <td>共青团员</td>\n      <td>汉族</td>\n      <td>NaN</td>\n      <td>NaN</td>\n      <td>431021200009054016</td>\n    </tr>\n    <tr>\n      <th>29</th>\n      <td>NaT</td>\n      <td>2014-09-01</td>\n      <td>大学本科</td>\n      <td>学校</td>\n      <td>1.589843e+10</td>\n      <td>NaN</td>\n      <td>林诗敏</td>\n      <td>共青团员</td>\n      <td>汉族</td>\n      <td>2904585857@qq.com</td>\n      <td>1.589843e+10</td>\n      <td>430923200008177984</td>\n    </tr>\n    <tr>\n      <th>30</th>\n      <td>2020-12-01 00:00:00</td>\n      <td>2012-10-01</td>\n      <td>大学本科</td>\n      <td>学校</td>\n      <td>NaN</td>\n      <td>NaN</td>\n      <td>刘志庆</td>\n      <td>中共预备党员</td>\n      <td>汉族</td>\n      <td>3144338032@qq.com</td>\n      <td>1.561609e+10</td>\n      <td>33082220000603571X</td>\n    </tr>\n  </tbody>\n</table>\n</div>"
     },
     "metadata": {},
     "execution_count": 778
    }
   ],
   "source": [
    "df = pd.concat([df1,df2,df3],axis=0,ignore_index=True)#这种情况只能自定义keys去修改列的排序问题了\n",
    "df"
   ]
  },
  {
   "cell_type": "code",
   "execution_count": 779,
   "metadata": {},
   "outputs": [
    {
     "output_type": "execute_result",
     "data": {
      "text/plain": [
       "                 成绩1   学分  总学时 考核方式\n",
       "（网络）中国历史地理概况      86  1.5   26  NaN\n",
       "（网络）公共关系与人际交往能力   76  1.5   26   考试\n",
       "食品安全与健康           92  1.5   26   考试\n",
       "大学计算机基础           80  2.0   56   考试\n",
       "大学体育1             82  1.0   34   考试\n",
       "大学英语1             66  3.0   64   考试"
      ],
      "text/html": "<div>\n<style scoped>\n    .dataframe tbody tr th:only-of-type {\n        vertical-align: middle;\n    }\n\n    .dataframe tbody tr th {\n        vertical-align: top;\n    }\n\n    .dataframe thead th {\n        text-align: right;\n    }\n</style>\n<table border=\"1\" class=\"dataframe\">\n  <thead>\n    <tr style=\"text-align: right;\">\n      <th></th>\n      <th>成绩1</th>\n      <th>学分</th>\n      <th>总学时</th>\n      <th>考核方式</th>\n    </tr>\n  </thead>\n  <tbody>\n    <tr>\n      <th>（网络）中国历史地理概况</th>\n      <td>86</td>\n      <td>1.5</td>\n      <td>26</td>\n      <td>NaN</td>\n    </tr>\n    <tr>\n      <th>（网络）公共关系与人际交往能力</th>\n      <td>76</td>\n      <td>1.5</td>\n      <td>26</td>\n      <td>考试</td>\n    </tr>\n    <tr>\n      <th>食品安全与健康</th>\n      <td>92</td>\n      <td>1.5</td>\n      <td>26</td>\n      <td>考试</td>\n    </tr>\n    <tr>\n      <th>大学计算机基础</th>\n      <td>80</td>\n      <td>2.0</td>\n      <td>56</td>\n      <td>考试</td>\n    </tr>\n    <tr>\n      <th>大学体育1</th>\n      <td>82</td>\n      <td>1.0</td>\n      <td>34</td>\n      <td>考试</td>\n    </tr>\n    <tr>\n      <th>大学英语1</th>\n      <td>66</td>\n      <td>3.0</td>\n      <td>64</td>\n      <td>考试</td>\n    </tr>\n  </tbody>\n</table>\n</div>"
     },
     "metadata": {},
     "execution_count": 779
    }
   ],
   "source": [
    "df1 = pd.read_excel('D:/Python/Pandas/wode/grade.xlsx',sheet_name='Sheet2',index=['中国历史地理','公共关系','食品安全与健康','大学计算机基础','大学体育1','大学英语1'])#索引列不给列名即可\n",
    "df1"
   ]
  },
  {
   "cell_type": "code",
   "execution_count": 780,
   "metadata": {},
   "outputs": [
    {
     "output_type": "execute_result",
     "data": {
      "text/plain": [
       "                 成绩2   学分  已修学分\n",
       "（网络）中国历史地理概况      86  1.5    26\n",
       "（网络）公共关系与人际交往能力   96  4.0    64\n",
       "食品安全与健康           89  3.0    54\n",
       "大学计算机基础           80  2.0    56\n",
       "大学英语              82  1.0    34"
      ],
      "text/html": "<div>\n<style scoped>\n    .dataframe tbody tr th:only-of-type {\n        vertical-align: middle;\n    }\n\n    .dataframe tbody tr th {\n        vertical-align: top;\n    }\n\n    .dataframe thead th {\n        text-align: right;\n    }\n</style>\n<table border=\"1\" class=\"dataframe\">\n  <thead>\n    <tr style=\"text-align: right;\">\n      <th></th>\n      <th>成绩2</th>\n      <th>学分</th>\n      <th>已修学分</th>\n    </tr>\n  </thead>\n  <tbody>\n    <tr>\n      <th>（网络）中国历史地理概况</th>\n      <td>86</td>\n      <td>1.5</td>\n      <td>26</td>\n    </tr>\n    <tr>\n      <th>（网络）公共关系与人际交往能力</th>\n      <td>96</td>\n      <td>4.0</td>\n      <td>64</td>\n    </tr>\n    <tr>\n      <th>食品安全与健康</th>\n      <td>89</td>\n      <td>3.0</td>\n      <td>54</td>\n    </tr>\n    <tr>\n      <th>大学计算机基础</th>\n      <td>80</td>\n      <td>2.0</td>\n      <td>56</td>\n    </tr>\n    <tr>\n      <th>大学英语</th>\n      <td>82</td>\n      <td>1.0</td>\n      <td>34</td>\n    </tr>\n  </tbody>\n</table>\n</div>"
     },
     "metadata": {},
     "execution_count": 780
    }
   ],
   "source": [
    "df2 = pd.read_excel('D:/Python/Pandas/wode/grade.xlsx',sheet_name='Sheet3')#.set_index(['中国历史地理','公共关系','sb','大学计算机基础','大学体育1'])\n",
    "df2"
   ]
  },
  {
   "cell_type": "code",
   "execution_count": 781,
   "metadata": {},
   "outputs": [
    {
     "output_type": "execute_result",
     "data": {
      "text/plain": [
       "                 成绩1  学分_x  总学时 考核方式   成绩2  学分_y  已修学分\n",
       "（网络）中国历史地理概况      86   1.5   26  NaN  86.0   1.5  26.0\n",
       "（网络）公共关系与人际交往能力   76   1.5   26   考试  96.0   4.0  64.0\n",
       "食品安全与健康           92   1.5   26   考试  89.0   3.0  54.0\n",
       "大学计算机基础           80   2.0   56   考试  80.0   2.0  56.0\n",
       "大学体育1             82   1.0   34   考试   NaN   NaN   NaN\n",
       "大学英语1             66   3.0   64   考试   NaN   NaN   NaN"
      ],
      "text/html": "<div>\n<style scoped>\n    .dataframe tbody tr th:only-of-type {\n        vertical-align: middle;\n    }\n\n    .dataframe tbody tr th {\n        vertical-align: top;\n    }\n\n    .dataframe thead th {\n        text-align: right;\n    }\n</style>\n<table border=\"1\" class=\"dataframe\">\n  <thead>\n    <tr style=\"text-align: right;\">\n      <th></th>\n      <th>成绩1</th>\n      <th>学分_x</th>\n      <th>总学时</th>\n      <th>考核方式</th>\n      <th>成绩2</th>\n      <th>学分_y</th>\n      <th>已修学分</th>\n    </tr>\n  </thead>\n  <tbody>\n    <tr>\n      <th>（网络）中国历史地理概况</th>\n      <td>86</td>\n      <td>1.5</td>\n      <td>26</td>\n      <td>NaN</td>\n      <td>86.0</td>\n      <td>1.5</td>\n      <td>26.0</td>\n    </tr>\n    <tr>\n      <th>（网络）公共关系与人际交往能力</th>\n      <td>76</td>\n      <td>1.5</td>\n      <td>26</td>\n      <td>考试</td>\n      <td>96.0</td>\n      <td>4.0</td>\n      <td>64.0</td>\n    </tr>\n    <tr>\n      <th>食品安全与健康</th>\n      <td>92</td>\n      <td>1.5</td>\n      <td>26</td>\n      <td>考试</td>\n      <td>89.0</td>\n      <td>3.0</td>\n      <td>54.0</td>\n    </tr>\n    <tr>\n      <th>大学计算机基础</th>\n      <td>80</td>\n      <td>2.0</td>\n      <td>56</td>\n      <td>考试</td>\n      <td>80.0</td>\n      <td>2.0</td>\n      <td>56.0</td>\n    </tr>\n    <tr>\n      <th>大学体育1</th>\n      <td>82</td>\n      <td>1.0</td>\n      <td>34</td>\n      <td>考试</td>\n      <td>NaN</td>\n      <td>NaN</td>\n      <td>NaN</td>\n    </tr>\n    <tr>\n      <th>大学英语1</th>\n      <td>66</td>\n      <td>3.0</td>\n      <td>64</td>\n      <td>考试</td>\n      <td>NaN</td>\n      <td>NaN</td>\n      <td>NaN</td>\n    </tr>\n  </tbody>\n</table>\n</div>"
     },
     "metadata": {},
     "execution_count": 781
    }
   ],
   "source": [
    "df = pd.merge(left=df1,right=df2,left_index=True,right_index=True,how='left')#inner,right,outer都可以试试\n",
    "df"
   ]
  },
  {
   "cell_type": "code",
   "execution_count": 782,
   "metadata": {},
   "outputs": [
    {
     "output_type": "execute_result",
     "data": {
      "text/plain": [
       "                 成绩1  学分_x  总学时 考核方式   成绩2  学分_y  已修学分\n",
       "（网络）公共关系与人际交往能力   76   1.5   26   考试  96.0   4.0  64.0\n",
       "食品安全与健康           92   1.5   26   考试  89.0   3.0  54.0\n",
       "大学计算机基础           80   2.0   56   考试  80.0   2.0  56.0"
      ],
      "text/html": "<div>\n<style scoped>\n    .dataframe tbody tr th:only-of-type {\n        vertical-align: middle;\n    }\n\n    .dataframe tbody tr th {\n        vertical-align: top;\n    }\n\n    .dataframe thead th {\n        text-align: right;\n    }\n</style>\n<table border=\"1\" class=\"dataframe\">\n  <thead>\n    <tr style=\"text-align: right;\">\n      <th></th>\n      <th>成绩1</th>\n      <th>学分_x</th>\n      <th>总学时</th>\n      <th>考核方式</th>\n      <th>成绩2</th>\n      <th>学分_y</th>\n      <th>已修学分</th>\n    </tr>\n  </thead>\n  <tbody>\n    <tr>\n      <th>（网络）公共关系与人际交往能力</th>\n      <td>76</td>\n      <td>1.5</td>\n      <td>26</td>\n      <td>考试</td>\n      <td>96.0</td>\n      <td>4.0</td>\n      <td>64.0</td>\n    </tr>\n    <tr>\n      <th>食品安全与健康</th>\n      <td>92</td>\n      <td>1.5</td>\n      <td>26</td>\n      <td>考试</td>\n      <td>89.0</td>\n      <td>3.0</td>\n      <td>54.0</td>\n    </tr>\n    <tr>\n      <th>大学计算机基础</th>\n      <td>80</td>\n      <td>2.0</td>\n      <td>56</td>\n      <td>考试</td>\n      <td>80.0</td>\n      <td>2.0</td>\n      <td>56.0</td>\n    </tr>\n  </tbody>\n</table>\n</div>"
     },
     "metadata": {},
     "execution_count": 782
    }
   ],
   "source": [
    "df.dropna()#dropna 函数默认删除所有出现空值的行，即只要一行中任意一个字段为空，就会被删除。"
   ]
  },
  {
   "cell_type": "code",
   "execution_count": 783,
   "metadata": {},
   "outputs": [
    {
     "output_type": "execute_result",
     "data": {
      "text/plain": [
       "                 成绩1  学分_x  总学时 考核方式   成绩2  学分_y  已修学分\n",
       "（网络）公共关系与人际交往能力   76   1.5   26   考试  96.0   4.0  64.0\n",
       "食品安全与健康           92   1.5   26   考试  89.0   3.0  54.0\n",
       "大学计算机基础           80   2.0   56   考试  80.0   2.0  56.0\n",
       "大学体育1             82   1.0   34   考试   NaN   NaN   NaN\n",
       "大学英语1             66   3.0   64   考试   NaN   NaN   NaN"
      ],
      "text/html": "<div>\n<style scoped>\n    .dataframe tbody tr th:only-of-type {\n        vertical-align: middle;\n    }\n\n    .dataframe tbody tr th {\n        vertical-align: top;\n    }\n\n    .dataframe thead th {\n        text-align: right;\n    }\n</style>\n<table border=\"1\" class=\"dataframe\">\n  <thead>\n    <tr style=\"text-align: right;\">\n      <th></th>\n      <th>成绩1</th>\n      <th>学分_x</th>\n      <th>总学时</th>\n      <th>考核方式</th>\n      <th>成绩2</th>\n      <th>学分_y</th>\n      <th>已修学分</th>\n    </tr>\n  </thead>\n  <tbody>\n    <tr>\n      <th>（网络）公共关系与人际交往能力</th>\n      <td>76</td>\n      <td>1.5</td>\n      <td>26</td>\n      <td>考试</td>\n      <td>96.0</td>\n      <td>4.0</td>\n      <td>64.0</td>\n    </tr>\n    <tr>\n      <th>食品安全与健康</th>\n      <td>92</td>\n      <td>1.5</td>\n      <td>26</td>\n      <td>考试</td>\n      <td>89.0</td>\n      <td>3.0</td>\n      <td>54.0</td>\n    </tr>\n    <tr>\n      <th>大学计算机基础</th>\n      <td>80</td>\n      <td>2.0</td>\n      <td>56</td>\n      <td>考试</td>\n      <td>80.0</td>\n      <td>2.0</td>\n      <td>56.0</td>\n    </tr>\n    <tr>\n      <th>大学体育1</th>\n      <td>82</td>\n      <td>1.0</td>\n      <td>34</td>\n      <td>考试</td>\n      <td>NaN</td>\n      <td>NaN</td>\n      <td>NaN</td>\n    </tr>\n    <tr>\n      <th>大学英语1</th>\n      <td>66</td>\n      <td>3.0</td>\n      <td>64</td>\n      <td>考试</td>\n      <td>NaN</td>\n      <td>NaN</td>\n      <td>NaN</td>\n    </tr>\n  </tbody>\n</table>\n</div>"
     },
     "metadata": {},
     "execution_count": 783
    }
   ],
   "source": [
    "df.dropna(subset=['考核方式'])#删除指定空值"
   ]
  },
  {
   "cell_type": "code",
   "execution_count": 784,
   "metadata": {},
   "outputs": [
    {
     "output_type": "execute_result",
     "data": {
      "text/plain": [
       "                  学分  学分_x  学分_y  已修学分   总学时   成绩1   成绩2 考核方式\n",
       "（网络）中国历史地理概况     1.5   NaN   NaN   NaN  26.0  86.0   NaN  NaN\n",
       "（网络）公共关系与人际交往能力  1.5   NaN   NaN   NaN  26.0  76.0   NaN   考试\n",
       "食品安全与健康          1.5   NaN   NaN   NaN  26.0  92.0   NaN   考试\n",
       "大学计算机基础          2.0   NaN   NaN   NaN  56.0  80.0   NaN   考试\n",
       "大学体育1            1.0   NaN   NaN   NaN  34.0  82.0   NaN   考试\n",
       "大学英语1            3.0   NaN   NaN   NaN  64.0  66.0   NaN   考试\n",
       "（网络）中国历史地理概况     1.5   NaN   NaN  26.0   NaN   NaN  86.0  NaN\n",
       "（网络）公共关系与人际交往能力  4.0   NaN   NaN  64.0   NaN   NaN  96.0  NaN\n",
       "食品安全与健康          3.0   NaN   NaN  54.0   NaN   NaN  89.0  NaN\n",
       "大学计算机基础          2.0   NaN   NaN  56.0   NaN   NaN  80.0  NaN\n",
       "大学英语             1.0   NaN   NaN  34.0   NaN   NaN  82.0  NaN\n",
       "（网络）中国历史地理概况     NaN   1.5   1.5  26.0  26.0  86.0  86.0  NaN\n",
       "（网络）公共关系与人际交往能力  NaN   1.5   4.0  64.0  26.0  76.0  96.0   考试\n",
       "食品安全与健康          NaN   1.5   3.0  54.0  26.0  92.0  89.0   考试\n",
       "大学计算机基础          NaN   2.0   2.0  56.0  56.0  80.0  80.0   考试\n",
       "大学体育1            NaN   1.0   NaN   NaN  34.0  82.0   NaN   考试\n",
       "大学英语1            NaN   3.0   NaN   NaN  64.0  66.0   NaN   考试"
      ],
      "text/html": "<div>\n<style scoped>\n    .dataframe tbody tr th:only-of-type {\n        vertical-align: middle;\n    }\n\n    .dataframe tbody tr th {\n        vertical-align: top;\n    }\n\n    .dataframe thead th {\n        text-align: right;\n    }\n</style>\n<table border=\"1\" class=\"dataframe\">\n  <thead>\n    <tr style=\"text-align: right;\">\n      <th></th>\n      <th>学分</th>\n      <th>学分_x</th>\n      <th>学分_y</th>\n      <th>已修学分</th>\n      <th>总学时</th>\n      <th>成绩1</th>\n      <th>成绩2</th>\n      <th>考核方式</th>\n    </tr>\n  </thead>\n  <tbody>\n    <tr>\n      <th>（网络）中国历史地理概况</th>\n      <td>1.5</td>\n      <td>NaN</td>\n      <td>NaN</td>\n      <td>NaN</td>\n      <td>26.0</td>\n      <td>86.0</td>\n      <td>NaN</td>\n      <td>NaN</td>\n    </tr>\n    <tr>\n      <th>（网络）公共关系与人际交往能力</th>\n      <td>1.5</td>\n      <td>NaN</td>\n      <td>NaN</td>\n      <td>NaN</td>\n      <td>26.0</td>\n      <td>76.0</td>\n      <td>NaN</td>\n      <td>考试</td>\n    </tr>\n    <tr>\n      <th>食品安全与健康</th>\n      <td>1.5</td>\n      <td>NaN</td>\n      <td>NaN</td>\n      <td>NaN</td>\n      <td>26.0</td>\n      <td>92.0</td>\n      <td>NaN</td>\n      <td>考试</td>\n    </tr>\n    <tr>\n      <th>大学计算机基础</th>\n      <td>2.0</td>\n      <td>NaN</td>\n      <td>NaN</td>\n      <td>NaN</td>\n      <td>56.0</td>\n      <td>80.0</td>\n      <td>NaN</td>\n      <td>考试</td>\n    </tr>\n    <tr>\n      <th>大学体育1</th>\n      <td>1.0</td>\n      <td>NaN</td>\n      <td>NaN</td>\n      <td>NaN</td>\n      <td>34.0</td>\n      <td>82.0</td>\n      <td>NaN</td>\n      <td>考试</td>\n    </tr>\n    <tr>\n      <th>大学英语1</th>\n      <td>3.0</td>\n      <td>NaN</td>\n      <td>NaN</td>\n      <td>NaN</td>\n      <td>64.0</td>\n      <td>66.0</td>\n      <td>NaN</td>\n      <td>考试</td>\n    </tr>\n    <tr>\n      <th>（网络）中国历史地理概况</th>\n      <td>1.5</td>\n      <td>NaN</td>\n      <td>NaN</td>\n      <td>26.0</td>\n      <td>NaN</td>\n      <td>NaN</td>\n      <td>86.0</td>\n      <td>NaN</td>\n    </tr>\n    <tr>\n      <th>（网络）公共关系与人际交往能力</th>\n      <td>4.0</td>\n      <td>NaN</td>\n      <td>NaN</td>\n      <td>64.0</td>\n      <td>NaN</td>\n      <td>NaN</td>\n      <td>96.0</td>\n      <td>NaN</td>\n    </tr>\n    <tr>\n      <th>食品安全与健康</th>\n      <td>3.0</td>\n      <td>NaN</td>\n      <td>NaN</td>\n      <td>54.0</td>\n      <td>NaN</td>\n      <td>NaN</td>\n      <td>89.0</td>\n      <td>NaN</td>\n    </tr>\n    <tr>\n      <th>大学计算机基础</th>\n      <td>2.0</td>\n      <td>NaN</td>\n      <td>NaN</td>\n      <td>56.0</td>\n      <td>NaN</td>\n      <td>NaN</td>\n      <td>80.0</td>\n      <td>NaN</td>\n    </tr>\n    <tr>\n      <th>大学英语</th>\n      <td>1.0</td>\n      <td>NaN</td>\n      <td>NaN</td>\n      <td>34.0</td>\n      <td>NaN</td>\n      <td>NaN</td>\n      <td>82.0</td>\n      <td>NaN</td>\n    </tr>\n    <tr>\n      <th>（网络）中国历史地理概况</th>\n      <td>NaN</td>\n      <td>1.5</td>\n      <td>1.5</td>\n      <td>26.0</td>\n      <td>26.0</td>\n      <td>86.0</td>\n      <td>86.0</td>\n      <td>NaN</td>\n    </tr>\n    <tr>\n      <th>（网络）公共关系与人际交往能力</th>\n      <td>NaN</td>\n      <td>1.5</td>\n      <td>4.0</td>\n      <td>64.0</td>\n      <td>26.0</td>\n      <td>76.0</td>\n      <td>96.0</td>\n      <td>考试</td>\n    </tr>\n    <tr>\n      <th>食品安全与健康</th>\n      <td>NaN</td>\n      <td>1.5</td>\n      <td>3.0</td>\n      <td>54.0</td>\n      <td>26.0</td>\n      <td>92.0</td>\n      <td>89.0</td>\n      <td>考试</td>\n    </tr>\n    <tr>\n      <th>大学计算机基础</th>\n      <td>NaN</td>\n      <td>2.0</td>\n      <td>2.0</td>\n      <td>56.0</td>\n      <td>56.0</td>\n      <td>80.0</td>\n      <td>80.0</td>\n      <td>考试</td>\n    </tr>\n    <tr>\n      <th>大学体育1</th>\n      <td>NaN</td>\n      <td>1.0</td>\n      <td>NaN</td>\n      <td>NaN</td>\n      <td>34.0</td>\n      <td>82.0</td>\n      <td>NaN</td>\n      <td>考试</td>\n    </tr>\n    <tr>\n      <th>大学英语1</th>\n      <td>NaN</td>\n      <td>3.0</td>\n      <td>NaN</td>\n      <td>NaN</td>\n      <td>64.0</td>\n      <td>66.0</td>\n      <td>NaN</td>\n      <td>考试</td>\n    </tr>\n  </tbody>\n</table>\n</div>"
     },
     "metadata": {},
     "execution_count": 784
    }
   ],
   "source": [
    "df3 = pd.concat([df1,df2,df])\n",
    "df3"
   ]
  },
  {
   "cell_type": "code",
   "execution_count": 785,
   "metadata": {},
   "outputs": [
    {
     "output_type": "execute_result",
     "data": {
      "text/plain": [
       "                  学分  学分_x\n",
       "（网络）中国历史地理概况     1.5   NaN\n",
       "（网络）公共关系与人际交往能力  1.5   NaN\n",
       "食品安全与健康          1.5   NaN\n",
       "大学计算机基础          2.0   NaN\n",
       "大学体育1            1.0   NaN\n",
       "大学英语1            3.0   NaN\n",
       "（网络）中国历史地理概况     1.5   NaN\n",
       "（网络）公共关系与人际交往能力  4.0   NaN\n",
       "食品安全与健康          3.0   NaN\n",
       "大学计算机基础          2.0   NaN\n",
       "大学英语             1.0   NaN\n",
       "（网络）中国历史地理概况     NaN   1.5\n",
       "（网络）公共关系与人际交往能力  NaN   1.5\n",
       "食品安全与健康          NaN   1.5\n",
       "大学计算机基础          NaN   2.0\n",
       "大学体育1            NaN   1.0\n",
       "大学英语1            NaN   3.0"
      ],
      "text/html": "<div>\n<style scoped>\n    .dataframe tbody tr th:only-of-type {\n        vertical-align: middle;\n    }\n\n    .dataframe tbody tr th {\n        vertical-align: top;\n    }\n\n    .dataframe thead th {\n        text-align: right;\n    }\n</style>\n<table border=\"1\" class=\"dataframe\">\n  <thead>\n    <tr style=\"text-align: right;\">\n      <th></th>\n      <th>学分</th>\n      <th>学分_x</th>\n    </tr>\n  </thead>\n  <tbody>\n    <tr>\n      <th>（网络）中国历史地理概况</th>\n      <td>1.5</td>\n      <td>NaN</td>\n    </tr>\n    <tr>\n      <th>（网络）公共关系与人际交往能力</th>\n      <td>1.5</td>\n      <td>NaN</td>\n    </tr>\n    <tr>\n      <th>食品安全与健康</th>\n      <td>1.5</td>\n      <td>NaN</td>\n    </tr>\n    <tr>\n      <th>大学计算机基础</th>\n      <td>2.0</td>\n      <td>NaN</td>\n    </tr>\n    <tr>\n      <th>大学体育1</th>\n      <td>1.0</td>\n      <td>NaN</td>\n    </tr>\n    <tr>\n      <th>大学英语1</th>\n      <td>3.0</td>\n      <td>NaN</td>\n    </tr>\n    <tr>\n      <th>（网络）中国历史地理概况</th>\n      <td>1.5</td>\n      <td>NaN</td>\n    </tr>\n    <tr>\n      <th>（网络）公共关系与人际交往能力</th>\n      <td>4.0</td>\n      <td>NaN</td>\n    </tr>\n    <tr>\n      <th>食品安全与健康</th>\n      <td>3.0</td>\n      <td>NaN</td>\n    </tr>\n    <tr>\n      <th>大学计算机基础</th>\n      <td>2.0</td>\n      <td>NaN</td>\n    </tr>\n    <tr>\n      <th>大学英语</th>\n      <td>1.0</td>\n      <td>NaN</td>\n    </tr>\n    <tr>\n      <th>（网络）中国历史地理概况</th>\n      <td>NaN</td>\n      <td>1.5</td>\n    </tr>\n    <tr>\n      <th>（网络）公共关系与人际交往能力</th>\n      <td>NaN</td>\n      <td>1.5</td>\n    </tr>\n    <tr>\n      <th>食品安全与健康</th>\n      <td>NaN</td>\n      <td>1.5</td>\n    </tr>\n    <tr>\n      <th>大学计算机基础</th>\n      <td>NaN</td>\n      <td>2.0</td>\n    </tr>\n    <tr>\n      <th>大学体育1</th>\n      <td>NaN</td>\n      <td>1.0</td>\n    </tr>\n    <tr>\n      <th>大学英语1</th>\n      <td>NaN</td>\n      <td>3.0</td>\n    </tr>\n  </tbody>\n</table>\n</div>"
     },
     "metadata": {},
     "execution_count": 785
    }
   ],
   "source": [
    "df4 = df3.iloc[:,:2]\n",
    "df4"
   ]
  },
  {
   "cell_type": "code",
   "execution_count": 786,
   "metadata": {},
   "outputs": [
    {
     "output_type": "execute_result",
     "data": {
      "text/plain": [
       "                  学分  学分_x\n",
       "（网络）中国历史地理概况     1.5   NaN\n",
       "大学计算机基础          2.0   NaN\n",
       "大学体育1            1.0   NaN\n",
       "大学英语1            3.0   NaN\n",
       "（网络）公共关系与人际交往能力  4.0   NaN\n",
       "（网络）中国历史地理概况     NaN   1.5\n",
       "大学计算机基础          NaN   2.0\n",
       "大学体育1            NaN   1.0\n",
       "大学英语1            NaN   3.0"
      ],
      "text/html": "<div>\n<style scoped>\n    .dataframe tbody tr th:only-of-type {\n        vertical-align: middle;\n    }\n\n    .dataframe tbody tr th {\n        vertical-align: top;\n    }\n\n    .dataframe thead th {\n        text-align: right;\n    }\n</style>\n<table border=\"1\" class=\"dataframe\">\n  <thead>\n    <tr style=\"text-align: right;\">\n      <th></th>\n      <th>学分</th>\n      <th>学分_x</th>\n    </tr>\n  </thead>\n  <tbody>\n    <tr>\n      <th>（网络）中国历史地理概况</th>\n      <td>1.5</td>\n      <td>NaN</td>\n    </tr>\n    <tr>\n      <th>大学计算机基础</th>\n      <td>2.0</td>\n      <td>NaN</td>\n    </tr>\n    <tr>\n      <th>大学体育1</th>\n      <td>1.0</td>\n      <td>NaN</td>\n    </tr>\n    <tr>\n      <th>大学英语1</th>\n      <td>3.0</td>\n      <td>NaN</td>\n    </tr>\n    <tr>\n      <th>（网络）公共关系与人际交往能力</th>\n      <td>4.0</td>\n      <td>NaN</td>\n    </tr>\n    <tr>\n      <th>（网络）中国历史地理概况</th>\n      <td>NaN</td>\n      <td>1.5</td>\n    </tr>\n    <tr>\n      <th>大学计算机基础</th>\n      <td>NaN</td>\n      <td>2.0</td>\n    </tr>\n    <tr>\n      <th>大学体育1</th>\n      <td>NaN</td>\n      <td>1.0</td>\n    </tr>\n    <tr>\n      <th>大学英语1</th>\n      <td>NaN</td>\n      <td>3.0</td>\n    </tr>\n  </tbody>\n</table>\n</div>"
     },
     "metadata": {},
     "execution_count": 786
    }
   ],
   "source": [
    "df4.drop_duplicates()#drop_duplicates 方法去重默认会删掉完全重复的行（每个值都一样的行），"
   ]
  },
  {
   "cell_type": "code",
   "execution_count": 787,
   "metadata": {},
   "outputs": [
    {
     "output_type": "execute_result",
     "data": {
      "text/plain": [
       "                  学分  学分_x\n",
       "（网络）中国历史地理概况     1.5   NaN\n",
       "大学计算机基础          2.0   NaN\n",
       "大学体育1            1.0   NaN\n",
       "大学英语1            3.0   NaN\n",
       "（网络）公共关系与人际交往能力  4.0   NaN\n",
       "（网络）中国历史地理概况     NaN   1.5"
      ],
      "text/html": "<div>\n<style scoped>\n    .dataframe tbody tr th:only-of-type {\n        vertical-align: middle;\n    }\n\n    .dataframe tbody tr th {\n        vertical-align: top;\n    }\n\n    .dataframe thead th {\n        text-align: right;\n    }\n</style>\n<table border=\"1\" class=\"dataframe\">\n  <thead>\n    <tr style=\"text-align: right;\">\n      <th></th>\n      <th>学分</th>\n      <th>学分_x</th>\n    </tr>\n  </thead>\n  <tbody>\n    <tr>\n      <th>（网络）中国历史地理概况</th>\n      <td>1.5</td>\n      <td>NaN</td>\n    </tr>\n    <tr>\n      <th>大学计算机基础</th>\n      <td>2.0</td>\n      <td>NaN</td>\n    </tr>\n    <tr>\n      <th>大学体育1</th>\n      <td>1.0</td>\n      <td>NaN</td>\n    </tr>\n    <tr>\n      <th>大学英语1</th>\n      <td>3.0</td>\n      <td>NaN</td>\n    </tr>\n    <tr>\n      <th>（网络）公共关系与人际交往能力</th>\n      <td>4.0</td>\n      <td>NaN</td>\n    </tr>\n    <tr>\n      <th>（网络）中国历史地理概况</th>\n      <td>NaN</td>\n      <td>1.5</td>\n    </tr>\n  </tbody>\n</table>\n</div>"
     },
     "metadata": {},
     "execution_count": 787
    }
   ],
   "source": [
    "df4.drop_duplicates(subset=['学分'])#指定列"
   ]
  },
  {
   "source": [
    "keep 值等于 last，保留最后一行数据，不输入 keep 值时，系统默认会给 keep 赋\n",
    "值为 first，就会保留第一行数据而删掉其他的"
   ],
   "cell_type": "markdown",
   "metadata": {}
  },
  {
   "cell_type": "code",
   "execution_count": 788,
   "metadata": {},
   "outputs": [
    {
     "output_type": "execute_result",
     "data": {
      "text/plain": [
       "                  学分  学分_x\n",
       "（网络）中国历史地理概况     1.5   NaN\n",
       "（网络）公共关系与人际交往能力  4.0   NaN\n",
       "食品安全与健康          3.0   NaN\n",
       "大学计算机基础          2.0   NaN\n",
       "大学英语             1.0   NaN\n",
       "大学英语1            NaN   3.0"
      ],
      "text/html": "<div>\n<style scoped>\n    .dataframe tbody tr th:only-of-type {\n        vertical-align: middle;\n    }\n\n    .dataframe tbody tr th {\n        vertical-align: top;\n    }\n\n    .dataframe thead th {\n        text-align: right;\n    }\n</style>\n<table border=\"1\" class=\"dataframe\">\n  <thead>\n    <tr style=\"text-align: right;\">\n      <th></th>\n      <th>学分</th>\n      <th>学分_x</th>\n    </tr>\n  </thead>\n  <tbody>\n    <tr>\n      <th>（网络）中国历史地理概况</th>\n      <td>1.5</td>\n      <td>NaN</td>\n    </tr>\n    <tr>\n      <th>（网络）公共关系与人际交往能力</th>\n      <td>4.0</td>\n      <td>NaN</td>\n    </tr>\n    <tr>\n      <th>食品安全与健康</th>\n      <td>3.0</td>\n      <td>NaN</td>\n    </tr>\n    <tr>\n      <th>大学计算机基础</th>\n      <td>2.0</td>\n      <td>NaN</td>\n    </tr>\n    <tr>\n      <th>大学英语</th>\n      <td>1.0</td>\n      <td>NaN</td>\n    </tr>\n    <tr>\n      <th>大学英语1</th>\n      <td>NaN</td>\n      <td>3.0</td>\n    </tr>\n  </tbody>\n</table>\n</div>"
     },
     "metadata": {},
     "execution_count": 788
    }
   ],
   "source": [
    "df4.drop_duplicates(subset=['学分'],keep='last')"
   ]
  },
  {
   "cell_type": "code",
   "execution_count": 789,
   "metadata": {},
   "outputs": [
    {
     "output_type": "execute_result",
     "data": {
      "text/plain": [
       "                 成绩1  学分_x  总学时 考核方式   成绩2  学分_y  已修学分\n",
       "（网络）公共关系与人际交往能力   76   1.5   26   考试  96.0   4.0  64.0\n",
       "食品安全与健康           92   1.5   26   考试  89.0   3.0  54.0"
      ],
      "text/html": "<div>\n<style scoped>\n    .dataframe tbody tr th:only-of-type {\n        vertical-align: middle;\n    }\n\n    .dataframe tbody tr th {\n        vertical-align: top;\n    }\n\n    .dataframe thead th {\n        text-align: right;\n    }\n</style>\n<table border=\"1\" class=\"dataframe\">\n  <thead>\n    <tr style=\"text-align: right;\">\n      <th></th>\n      <th>成绩1</th>\n      <th>学分_x</th>\n      <th>总学时</th>\n      <th>考核方式</th>\n      <th>成绩2</th>\n      <th>学分_y</th>\n      <th>已修学分</th>\n    </tr>\n  </thead>\n  <tbody>\n    <tr>\n      <th>（网络）公共关系与人际交往能力</th>\n      <td>76</td>\n      <td>1.5</td>\n      <td>26</td>\n      <td>考试</td>\n      <td>96.0</td>\n      <td>4.0</td>\n      <td>64.0</td>\n    </tr>\n    <tr>\n      <th>食品安全与健康</th>\n      <td>92</td>\n      <td>1.5</td>\n      <td>26</td>\n      <td>考试</td>\n      <td>89.0</td>\n      <td>3.0</td>\n      <td>54.0</td>\n    </tr>\n  </tbody>\n</table>\n</div>"
     },
     "metadata": {},
     "execution_count": 789
    }
   ],
   "source": [
    "# 按条件索引/筛选\n",
    "df.loc[(df['学分_y']>2) & (df['学分_x']>0) ,:]"
   ]
  },
  {
   "cell_type": "code",
   "execution_count": 790,
   "metadata": {},
   "outputs": [
    {
     "output_type": "execute_result",
     "data": {
      "text/plain": [
       "              成绩1  学分_x  总学时 考核方式   成绩2  学分_y  已修学分\n",
       "食品安全与健康        92   1.5   26   考试  89.0   3.0  54.0\n",
       "（网络）中国历史地理概况   86   1.5   26  NaN  86.0   1.5  26.0\n",
       "大学体育1          82   1.0   34   考试   NaN   NaN   NaN"
      ],
      "text/html": "<div>\n<style scoped>\n    .dataframe tbody tr th:only-of-type {\n        vertical-align: middle;\n    }\n\n    .dataframe tbody tr th {\n        vertical-align: top;\n    }\n\n    .dataframe thead th {\n        text-align: right;\n    }\n</style>\n<table border=\"1\" class=\"dataframe\">\n  <thead>\n    <tr style=\"text-align: right;\">\n      <th></th>\n      <th>成绩1</th>\n      <th>学分_x</th>\n      <th>总学时</th>\n      <th>考核方式</th>\n      <th>成绩2</th>\n      <th>学分_y</th>\n      <th>已修学分</th>\n    </tr>\n  </thead>\n  <tbody>\n    <tr>\n      <th>食品安全与健康</th>\n      <td>92</td>\n      <td>1.5</td>\n      <td>26</td>\n      <td>考试</td>\n      <td>89.0</td>\n      <td>3.0</td>\n      <td>54.0</td>\n    </tr>\n    <tr>\n      <th>（网络）中国历史地理概况</th>\n      <td>86</td>\n      <td>1.5</td>\n      <td>26</td>\n      <td>NaN</td>\n      <td>86.0</td>\n      <td>1.5</td>\n      <td>26.0</td>\n    </tr>\n    <tr>\n      <th>大学体育1</th>\n      <td>82</td>\n      <td>1.0</td>\n      <td>34</td>\n      <td>考试</td>\n      <td>NaN</td>\n      <td>NaN</td>\n      <td>NaN</td>\n    </tr>\n  </tbody>\n</table>\n</div>"
     },
     "metadata": {},
     "execution_count": 790
    }
   ],
   "source": [
    "df.sort_values('成绩1',ascending=False).head(3)"
   ]
  },
  {
   "source": [
    "补充一个知识点，如果跟着文章操作，会发现无论是删空的 dropna，还是去重的\n",
    "drop_duplicates，或者是排序的 sort_values，在对源数据进行操作后，源数据\n",
    "并未改变，这是因为我们没有对这几个函数的 inplace 值进行设置，如果设置成\n",
    "inplace = True，删空、去重和排序都会在源数据上生效。\n",
    "但这里为了避免出现不必要的错误而无法更改，更建议大家把操作后的源数据赋值\n",
    "给新的变量，如 new = df.dropna()，而不是将源数据的 inplace 参数设置为\n",
    "True。"
   ],
   "cell_type": "markdown",
   "metadata": {}
  },
  {
   "cell_type": "code",
   "execution_count": 791,
   "metadata": {},
   "outputs": [
    {
     "output_type": "execute_result",
     "data": {
      "text/plain": [
       "      成绩1  总学时   成绩2  学分_y  已修学分\n",
       "学分_x                            \n",
       "1.0    82   34   NaN   NaN   NaN\n",
       "1.5    92   26  96.0   4.0  64.0\n",
       "2.0    80   56  80.0   2.0  56.0\n",
       "3.0    66   64   NaN   NaN   NaN"
      ],
      "text/html": "<div>\n<style scoped>\n    .dataframe tbody tr th:only-of-type {\n        vertical-align: middle;\n    }\n\n    .dataframe tbody tr th {\n        vertical-align: top;\n    }\n\n    .dataframe thead th {\n        text-align: right;\n    }\n</style>\n<table border=\"1\" class=\"dataframe\">\n  <thead>\n    <tr style=\"text-align: right;\">\n      <th></th>\n      <th>成绩1</th>\n      <th>总学时</th>\n      <th>成绩2</th>\n      <th>学分_y</th>\n      <th>已修学分</th>\n    </tr>\n    <tr>\n      <th>学分_x</th>\n      <th></th>\n      <th></th>\n      <th></th>\n      <th></th>\n      <th></th>\n    </tr>\n  </thead>\n  <tbody>\n    <tr>\n      <th>1.0</th>\n      <td>82</td>\n      <td>34</td>\n      <td>NaN</td>\n      <td>NaN</td>\n      <td>NaN</td>\n    </tr>\n    <tr>\n      <th>1.5</th>\n      <td>92</td>\n      <td>26</td>\n      <td>96.0</td>\n      <td>4.0</td>\n      <td>64.0</td>\n    </tr>\n    <tr>\n      <th>2.0</th>\n      <td>80</td>\n      <td>56</td>\n      <td>80.0</td>\n      <td>2.0</td>\n      <td>56.0</td>\n    </tr>\n    <tr>\n      <th>3.0</th>\n      <td>66</td>\n      <td>64</td>\n      <td>NaN</td>\n      <td>NaN</td>\n      <td>NaN</td>\n    </tr>\n  </tbody>\n</table>\n</div>"
     },
     "metadata": {},
     "execution_count": 791
    }
   ],
   "source": [
    "df.groupby('学分_x').max()#（常用的计算方法包括 sum、max、min、mean、std）"
   ]
  },
  {
   "cell_type": "code",
   "execution_count": 792,
   "metadata": {},
   "outputs": [
    {
     "output_type": "execute_result",
     "data": {
      "text/plain": [
       "      总学时    成绩2\n",
       "学分_x            \n",
       "1.0    34    0.0\n",
       "1.5    78  271.0\n",
       "2.0    56   80.0\n",
       "3.0    64    0.0"
      ],
      "text/html": "<div>\n<style scoped>\n    .dataframe tbody tr th:only-of-type {\n        vertical-align: middle;\n    }\n\n    .dataframe tbody tr th {\n        vertical-align: top;\n    }\n\n    .dataframe thead th {\n        text-align: right;\n    }\n</style>\n<table border=\"1\" class=\"dataframe\">\n  <thead>\n    <tr style=\"text-align: right;\">\n      <th></th>\n      <th>总学时</th>\n      <th>成绩2</th>\n    </tr>\n    <tr>\n      <th>学分_x</th>\n      <th></th>\n      <th></th>\n    </tr>\n  </thead>\n  <tbody>\n    <tr>\n      <th>1.0</th>\n      <td>34</td>\n      <td>0.0</td>\n    </tr>\n    <tr>\n      <th>1.5</th>\n      <td>78</td>\n      <td>271.0</td>\n    </tr>\n    <tr>\n      <th>2.0</th>\n      <td>56</td>\n      <td>80.0</td>\n    </tr>\n    <tr>\n      <th>3.0</th>\n      <td>64</td>\n      <td>0.0</td>\n    </tr>\n  </tbody>\n</table>\n</div>"
     },
     "metadata": {},
     "execution_count": 792
    }
   ],
   "source": [
    "df.groupby('学分_x')['总学时','成绩2'].sum()"
   ]
  },
  {
   "source": [
    "作为汇总的依据列，默认转化为索引列，如果我们不希望它变成索引，向\n",
    "groupby 内传入参数 as_index = False 即可"
   ],
   "cell_type": "markdown",
   "metadata": {}
  },
  {
   "cell_type": "code",
   "execution_count": 793,
   "metadata": {},
   "outputs": [
    {
     "output_type": "execute_result",
     "data": {
      "text/plain": [
       "   学分_x  成绩1  总学时   成绩2  学分_y  已修学分\n",
       "0   1.0   82   34   NaN   NaN   NaN\n",
       "1   1.5   92   26  96.0   4.0  64.0\n",
       "2   2.0   80   56  80.0   2.0  56.0\n",
       "3   3.0   66   64   NaN   NaN   NaN"
      ],
      "text/html": "<div>\n<style scoped>\n    .dataframe tbody tr th:only-of-type {\n        vertical-align: middle;\n    }\n\n    .dataframe tbody tr th {\n        vertical-align: top;\n    }\n\n    .dataframe thead th {\n        text-align: right;\n    }\n</style>\n<table border=\"1\" class=\"dataframe\">\n  <thead>\n    <tr style=\"text-align: right;\">\n      <th></th>\n      <th>学分_x</th>\n      <th>成绩1</th>\n      <th>总学时</th>\n      <th>成绩2</th>\n      <th>学分_y</th>\n      <th>已修学分</th>\n    </tr>\n  </thead>\n  <tbody>\n    <tr>\n      <th>0</th>\n      <td>1.0</td>\n      <td>82</td>\n      <td>34</td>\n      <td>NaN</td>\n      <td>NaN</td>\n      <td>NaN</td>\n    </tr>\n    <tr>\n      <th>1</th>\n      <td>1.5</td>\n      <td>92</td>\n      <td>26</td>\n      <td>96.0</td>\n      <td>4.0</td>\n      <td>64.0</td>\n    </tr>\n    <tr>\n      <th>2</th>\n      <td>2.0</td>\n      <td>80</td>\n      <td>56</td>\n      <td>80.0</td>\n      <td>2.0</td>\n      <td>56.0</td>\n    </tr>\n    <tr>\n      <th>3</th>\n      <td>3.0</td>\n      <td>66</td>\n      <td>64</td>\n      <td>NaN</td>\n      <td>NaN</td>\n      <td>NaN</td>\n    </tr>\n  </tbody>\n</table>\n</div>"
     },
     "metadata": {},
     "execution_count": 793
    }
   ],
   "source": [
    "df.groupby('学分_x',as_index=False).max()"
   ]
  },
  {
   "cell_type": "code",
   "execution_count": 794,
   "metadata": {},
   "outputs": [
    {
     "output_type": "execute_result",
     "data": {
      "text/plain": [
       "    序号         开课学期     课程编号             课程名称  成绩   学分  总学时   绩点 考核方式 课程属性  \\\n",
       "0    1  2018-2019-1  4130124     （网络）中国历史地理概况  86  1.5   26  3.6   考试   公选   \n",
       "1    2  2018-2019-1  4130125  （网络）公共关系与人际交往能力  76  1.5   26  2.6   考试   公选   \n",
       "2    3  2018-2019-1  4150035          食品安全与健康  92  1.5   26  4.2   考试   公选   \n",
       "3    4  2018-2019-1  4200002          大学计算机基础  80  2.0   56  3.0   考试   必修   \n",
       "4    5  2018-2019-1  4200004            大学体育1  82  1.0   34  3.2   考试   必修   \n",
       "5    6  2018-2019-1  4200015            大学英语1  66  3.0   64  1.6   考试   必修   \n",
       "6    7  2018-2019-1  4200033           高等数学B1  96  4.0   64  4.6   考试   必修   \n",
       "7    8  2018-2019-1  4200044      思想道德修养与法律基础  89  3.0   54  3.9   考试   必修   \n",
       "8    9  2018-2019-1  4200046        就业指导-职业规划  87  0.5    8  3.7   考查   必修   \n",
       "9   10  2018-2019-1  4300196           管理学原理B  91  3.0   45  4.1   考试   必修   \n",
       "10  11  2018-2019-1  4300534       专业导论（电子商务）  90  1.0   16  4.0   考查   必修   \n",
       "11  12  2018-2019-2  4150105          茶成分与茶健康  90  1.5   26  4.0   考试   公选   \n",
       "12  13  2018-2019-2  4200003          大学生心理健康  89  1.0   16  3.9   考查   必修   \n",
       "13  14  2018-2019-2  4200005            大学体育2  60  1.0   34  1.0   考试   必修   \n",
       "14  15  2018-2019-2  4200016            大学英语2  74  3.0   64  2.4   考试   必修   \n",
       "15  16  2018-2019-2  4200021           动态网站设计  82  3.0   64  3.2   考试   必修   \n",
       "16  17  2018-2019-2  4200034           高等数学B2  63  4.0   64  1.3   考试   必修   \n",
       "17  18  2018-2019-2  4200039             军事理论  83  2.0   36  3.3   考查   必修   \n",
       "18  19  2018-2019-2  4200048         中国近现代史纲要  89  2.0   36  3.9   考试   必修   \n",
       "19  20  2018-2019-2  4300109            C程序设计  78  3.5   64  2.8   考试   必修   \n",
       "\n",
       "     课程性质  \n",
       "0   通识选修课  \n",
       "1   通识选修课  \n",
       "2   通识选修课  \n",
       "3   公共必修课  \n",
       "4   公共必修课  \n",
       "5   公共必修课  \n",
       "6   学科基础课  \n",
       "7   公共必修课  \n",
       "8   公共必修课  \n",
       "9   学科基础课  \n",
       "10  学科基础课  \n",
       "11  通识选修课  \n",
       "12  公共必修课  \n",
       "13  公共必修课  \n",
       "14  公共必修课  \n",
       "15  公共必修课  \n",
       "16  学科基础课  \n",
       "17  公共必修课  \n",
       "18  公共必修课  \n",
       "19  学科基础课  "
      ],
      "text/html": "<div>\n<style scoped>\n    .dataframe tbody tr th:only-of-type {\n        vertical-align: middle;\n    }\n\n    .dataframe tbody tr th {\n        vertical-align: top;\n    }\n\n    .dataframe thead th {\n        text-align: right;\n    }\n</style>\n<table border=\"1\" class=\"dataframe\">\n  <thead>\n    <tr style=\"text-align: right;\">\n      <th></th>\n      <th>序号</th>\n      <th>开课学期</th>\n      <th>课程编号</th>\n      <th>课程名称</th>\n      <th>成绩</th>\n      <th>学分</th>\n      <th>总学时</th>\n      <th>绩点</th>\n      <th>考核方式</th>\n      <th>课程属性</th>\n      <th>课程性质</th>\n    </tr>\n  </thead>\n  <tbody>\n    <tr>\n      <th>0</th>\n      <td>1</td>\n      <td>2018-2019-1</td>\n      <td>4130124</td>\n      <td>（网络）中国历史地理概况</td>\n      <td>86</td>\n      <td>1.5</td>\n      <td>26</td>\n      <td>3.6</td>\n      <td>考试</td>\n      <td>公选</td>\n      <td>通识选修课</td>\n    </tr>\n    <tr>\n      <th>1</th>\n      <td>2</td>\n      <td>2018-2019-1</td>\n      <td>4130125</td>\n      <td>（网络）公共关系与人际交往能力</td>\n      <td>76</td>\n      <td>1.5</td>\n      <td>26</td>\n      <td>2.6</td>\n      <td>考试</td>\n      <td>公选</td>\n      <td>通识选修课</td>\n    </tr>\n    <tr>\n      <th>2</th>\n      <td>3</td>\n      <td>2018-2019-1</td>\n      <td>4150035</td>\n      <td>食品安全与健康</td>\n      <td>92</td>\n      <td>1.5</td>\n      <td>26</td>\n      <td>4.2</td>\n      <td>考试</td>\n      <td>公选</td>\n      <td>通识选修课</td>\n    </tr>\n    <tr>\n      <th>3</th>\n      <td>4</td>\n      <td>2018-2019-1</td>\n      <td>4200002</td>\n      <td>大学计算机基础</td>\n      <td>80</td>\n      <td>2.0</td>\n      <td>56</td>\n      <td>3.0</td>\n      <td>考试</td>\n      <td>必修</td>\n      <td>公共必修课</td>\n    </tr>\n    <tr>\n      <th>4</th>\n      <td>5</td>\n      <td>2018-2019-1</td>\n      <td>4200004</td>\n      <td>大学体育1</td>\n      <td>82</td>\n      <td>1.0</td>\n      <td>34</td>\n      <td>3.2</td>\n      <td>考试</td>\n      <td>必修</td>\n      <td>公共必修课</td>\n    </tr>\n    <tr>\n      <th>5</th>\n      <td>6</td>\n      <td>2018-2019-1</td>\n      <td>4200015</td>\n      <td>大学英语1</td>\n      <td>66</td>\n      <td>3.0</td>\n      <td>64</td>\n      <td>1.6</td>\n      <td>考试</td>\n      <td>必修</td>\n      <td>公共必修课</td>\n    </tr>\n    <tr>\n      <th>6</th>\n      <td>7</td>\n      <td>2018-2019-1</td>\n      <td>4200033</td>\n      <td>高等数学B1</td>\n      <td>96</td>\n      <td>4.0</td>\n      <td>64</td>\n      <td>4.6</td>\n      <td>考试</td>\n      <td>必修</td>\n      <td>学科基础课</td>\n    </tr>\n    <tr>\n      <th>7</th>\n      <td>8</td>\n      <td>2018-2019-1</td>\n      <td>4200044</td>\n      <td>思想道德修养与法律基础</td>\n      <td>89</td>\n      <td>3.0</td>\n      <td>54</td>\n      <td>3.9</td>\n      <td>考试</td>\n      <td>必修</td>\n      <td>公共必修课</td>\n    </tr>\n    <tr>\n      <th>8</th>\n      <td>9</td>\n      <td>2018-2019-1</td>\n      <td>4200046</td>\n      <td>就业指导-职业规划</td>\n      <td>87</td>\n      <td>0.5</td>\n      <td>8</td>\n      <td>3.7</td>\n      <td>考查</td>\n      <td>必修</td>\n      <td>公共必修课</td>\n    </tr>\n    <tr>\n      <th>9</th>\n      <td>10</td>\n      <td>2018-2019-1</td>\n      <td>4300196</td>\n      <td>管理学原理B</td>\n      <td>91</td>\n      <td>3.0</td>\n      <td>45</td>\n      <td>4.1</td>\n      <td>考试</td>\n      <td>必修</td>\n      <td>学科基础课</td>\n    </tr>\n    <tr>\n      <th>10</th>\n      <td>11</td>\n      <td>2018-2019-1</td>\n      <td>4300534</td>\n      <td>专业导论（电子商务）</td>\n      <td>90</td>\n      <td>1.0</td>\n      <td>16</td>\n      <td>4.0</td>\n      <td>考查</td>\n      <td>必修</td>\n      <td>学科基础课</td>\n    </tr>\n    <tr>\n      <th>11</th>\n      <td>12</td>\n      <td>2018-2019-2</td>\n      <td>4150105</td>\n      <td>茶成分与茶健康</td>\n      <td>90</td>\n      <td>1.5</td>\n      <td>26</td>\n      <td>4.0</td>\n      <td>考试</td>\n      <td>公选</td>\n      <td>通识选修课</td>\n    </tr>\n    <tr>\n      <th>12</th>\n      <td>13</td>\n      <td>2018-2019-2</td>\n      <td>4200003</td>\n      <td>大学生心理健康</td>\n      <td>89</td>\n      <td>1.0</td>\n      <td>16</td>\n      <td>3.9</td>\n      <td>考查</td>\n      <td>必修</td>\n      <td>公共必修课</td>\n    </tr>\n    <tr>\n      <th>13</th>\n      <td>14</td>\n      <td>2018-2019-2</td>\n      <td>4200005</td>\n      <td>大学体育2</td>\n      <td>60</td>\n      <td>1.0</td>\n      <td>34</td>\n      <td>1.0</td>\n      <td>考试</td>\n      <td>必修</td>\n      <td>公共必修课</td>\n    </tr>\n    <tr>\n      <th>14</th>\n      <td>15</td>\n      <td>2018-2019-2</td>\n      <td>4200016</td>\n      <td>大学英语2</td>\n      <td>74</td>\n      <td>3.0</td>\n      <td>64</td>\n      <td>2.4</td>\n      <td>考试</td>\n      <td>必修</td>\n      <td>公共必修课</td>\n    </tr>\n    <tr>\n      <th>15</th>\n      <td>16</td>\n      <td>2018-2019-2</td>\n      <td>4200021</td>\n      <td>动态网站设计</td>\n      <td>82</td>\n      <td>3.0</td>\n      <td>64</td>\n      <td>3.2</td>\n      <td>考试</td>\n      <td>必修</td>\n      <td>公共必修课</td>\n    </tr>\n    <tr>\n      <th>16</th>\n      <td>17</td>\n      <td>2018-2019-2</td>\n      <td>4200034</td>\n      <td>高等数学B2</td>\n      <td>63</td>\n      <td>4.0</td>\n      <td>64</td>\n      <td>1.3</td>\n      <td>考试</td>\n      <td>必修</td>\n      <td>学科基础课</td>\n    </tr>\n    <tr>\n      <th>17</th>\n      <td>18</td>\n      <td>2018-2019-2</td>\n      <td>4200039</td>\n      <td>军事理论</td>\n      <td>83</td>\n      <td>2.0</td>\n      <td>36</td>\n      <td>3.3</td>\n      <td>考查</td>\n      <td>必修</td>\n      <td>公共必修课</td>\n    </tr>\n    <tr>\n      <th>18</th>\n      <td>19</td>\n      <td>2018-2019-2</td>\n      <td>4200048</td>\n      <td>中国近现代史纲要</td>\n      <td>89</td>\n      <td>2.0</td>\n      <td>36</td>\n      <td>3.9</td>\n      <td>考试</td>\n      <td>必修</td>\n      <td>公共必修课</td>\n    </tr>\n    <tr>\n      <th>19</th>\n      <td>20</td>\n      <td>2018-2019-2</td>\n      <td>4300109</td>\n      <td>C程序设计</td>\n      <td>78</td>\n      <td>3.5</td>\n      <td>64</td>\n      <td>2.8</td>\n      <td>考试</td>\n      <td>必修</td>\n      <td>学科基础课</td>\n    </tr>\n  </tbody>\n</table>\n</div>"
     },
     "metadata": {},
     "execution_count": 794
    }
   ],
   "source": [
    "df = pd.read_excel('D:/Python/Pandas/wode/grade.xlsx').head(20)\n",
    "df"
   ]
  },
  {
   "cell_type": "code",
   "execution_count": 795,
   "metadata": {},
   "outputs": [
    {
     "output_type": "execute_result",
     "data": {
      "text/plain": [
       "0     (0.0, 1.6]\n",
       "1     (0.0, 1.6]\n",
       "2     (0.0, 1.6]\n",
       "3     (1.6, 2.1]\n",
       "4     (0.0, 1.6]\n",
       "5     (2.1, 3.1]\n",
       "6     (3.1, 4.1]\n",
       "7     (2.1, 3.1]\n",
       "8     (0.0, 1.6]\n",
       "9     (2.1, 3.1]\n",
       "10    (0.0, 1.6]\n",
       "11    (0.0, 1.6]\n",
       "12    (0.0, 1.6]\n",
       "13    (0.0, 1.6]\n",
       "14    (2.1, 3.1]\n",
       "15    (2.1, 3.1]\n",
       "16    (3.1, 4.1]\n",
       "17    (1.6, 2.1]\n",
       "18    (1.6, 2.1]\n",
       "19    (3.1, 4.1]\n",
       "Name: 学分, dtype: category\n",
       "Categories (4, interval[float64]): [(0.0, 1.6] < (1.6, 2.1] < (2.1, 3.1] < (3.1, 4.1]]"
      ]
     },
     "metadata": {},
     "execution_count": 795
    }
   ],
   "source": [
    "pd.cut(x = df['学分'],bins=[0,1.6,2.1,3.1,4.1])#,right=False 设置right 左闭右开"
   ]
  },
  {
   "cell_type": "code",
   "execution_count": 796,
   "metadata": {},
   "outputs": [
    {
     "output_type": "execute_result",
     "data": {
      "text/plain": [
       "    序号         开课学期     课程编号             课程名称  成绩   学分  总学时   绩点 考核方式 课程属性  \\\n",
       "0    1  2018-2019-1  4130124     （网络）中国历史地理概况  86  1.5   26  3.6   考试   公选   \n",
       "1    2  2018-2019-1  4130125  （网络）公共关系与人际交往能力  76  1.5   26  2.6   考试   公选   \n",
       "2    3  2018-2019-1  4150035          食品安全与健康  92  1.5   26  4.2   考试   公选   \n",
       "3    4  2018-2019-1  4200002          大学计算机基础  80  2.0   56  3.0   考试   必修   \n",
       "4    5  2018-2019-1  4200004            大学体育1  82  1.0   34  3.2   考试   必修   \n",
       "5    6  2018-2019-1  4200015            大学英语1  66  3.0   64  1.6   考试   必修   \n",
       "6    7  2018-2019-1  4200033           高等数学B1  96  4.0   64  4.6   考试   必修   \n",
       "7    8  2018-2019-1  4200044      思想道德修养与法律基础  89  3.0   54  3.9   考试   必修   \n",
       "8    9  2018-2019-1  4200046        就业指导-职业规划  87  0.5    8  3.7   考查   必修   \n",
       "9   10  2018-2019-1  4300196           管理学原理B  91  3.0   45  4.1   考试   必修   \n",
       "10  11  2018-2019-1  4300534       专业导论（电子商务）  90  1.0   16  4.0   考查   必修   \n",
       "11  12  2018-2019-2  4150105          茶成分与茶健康  90  1.5   26  4.0   考试   公选   \n",
       "12  13  2018-2019-2  4200003          大学生心理健康  89  1.0   16  3.9   考查   必修   \n",
       "13  14  2018-2019-2  4200005            大学体育2  60  1.0   34  1.0   考试   必修   \n",
       "14  15  2018-2019-2  4200016            大学英语2  74  3.0   64  2.4   考试   必修   \n",
       "15  16  2018-2019-2  4200021           动态网站设计  82  3.0   64  3.2   考试   必修   \n",
       "16  17  2018-2019-2  4200034           高等数学B2  63  4.0   64  1.3   考试   必修   \n",
       "17  18  2018-2019-2  4200039             军事理论  83  2.0   36  3.3   考查   必修   \n",
       "18  19  2018-2019-2  4200048         中国近现代史纲要  89  2.0   36  3.9   考试   必修   \n",
       "19  20  2018-2019-2  4300109            C程序设计  78  3.5   64  2.8   考试   必修   \n",
       "\n",
       "     课程性质 分类  \n",
       "0   通识选修课  D  \n",
       "1   通识选修课  D  \n",
       "2   通识选修课  D  \n",
       "3   公共必修课  C  \n",
       "4   公共必修课  D  \n",
       "5   公共必修课  B  \n",
       "6   学科基础课  A  \n",
       "7   公共必修课  B  \n",
       "8   公共必修课  D  \n",
       "9   学科基础课  B  \n",
       "10  学科基础课  D  \n",
       "11  通识选修课  D  \n",
       "12  公共必修课  D  \n",
       "13  公共必修课  D  \n",
       "14  公共必修课  B  \n",
       "15  公共必修课  B  \n",
       "16  学科基础课  A  \n",
       "17  公共必修课  C  \n",
       "18  公共必修课  C  \n",
       "19  学科基础课  A  "
      ],
      "text/html": "<div>\n<style scoped>\n    .dataframe tbody tr th:only-of-type {\n        vertical-align: middle;\n    }\n\n    .dataframe tbody tr th {\n        vertical-align: top;\n    }\n\n    .dataframe thead th {\n        text-align: right;\n    }\n</style>\n<table border=\"1\" class=\"dataframe\">\n  <thead>\n    <tr style=\"text-align: right;\">\n      <th></th>\n      <th>序号</th>\n      <th>开课学期</th>\n      <th>课程编号</th>\n      <th>课程名称</th>\n      <th>成绩</th>\n      <th>学分</th>\n      <th>总学时</th>\n      <th>绩点</th>\n      <th>考核方式</th>\n      <th>课程属性</th>\n      <th>课程性质</th>\n      <th>分类</th>\n    </tr>\n  </thead>\n  <tbody>\n    <tr>\n      <th>0</th>\n      <td>1</td>\n      <td>2018-2019-1</td>\n      <td>4130124</td>\n      <td>（网络）中国历史地理概况</td>\n      <td>86</td>\n      <td>1.5</td>\n      <td>26</td>\n      <td>3.6</td>\n      <td>考试</td>\n      <td>公选</td>\n      <td>通识选修课</td>\n      <td>D</td>\n    </tr>\n    <tr>\n      <th>1</th>\n      <td>2</td>\n      <td>2018-2019-1</td>\n      <td>4130125</td>\n      <td>（网络）公共关系与人际交往能力</td>\n      <td>76</td>\n      <td>1.5</td>\n      <td>26</td>\n      <td>2.6</td>\n      <td>考试</td>\n      <td>公选</td>\n      <td>通识选修课</td>\n      <td>D</td>\n    </tr>\n    <tr>\n      <th>2</th>\n      <td>3</td>\n      <td>2018-2019-1</td>\n      <td>4150035</td>\n      <td>食品安全与健康</td>\n      <td>92</td>\n      <td>1.5</td>\n      <td>26</td>\n      <td>4.2</td>\n      <td>考试</td>\n      <td>公选</td>\n      <td>通识选修课</td>\n      <td>D</td>\n    </tr>\n    <tr>\n      <th>3</th>\n      <td>4</td>\n      <td>2018-2019-1</td>\n      <td>4200002</td>\n      <td>大学计算机基础</td>\n      <td>80</td>\n      <td>2.0</td>\n      <td>56</td>\n      <td>3.0</td>\n      <td>考试</td>\n      <td>必修</td>\n      <td>公共必修课</td>\n      <td>C</td>\n    </tr>\n    <tr>\n      <th>4</th>\n      <td>5</td>\n      <td>2018-2019-1</td>\n      <td>4200004</td>\n      <td>大学体育1</td>\n      <td>82</td>\n      <td>1.0</td>\n      <td>34</td>\n      <td>3.2</td>\n      <td>考试</td>\n      <td>必修</td>\n      <td>公共必修课</td>\n      <td>D</td>\n    </tr>\n    <tr>\n      <th>5</th>\n      <td>6</td>\n      <td>2018-2019-1</td>\n      <td>4200015</td>\n      <td>大学英语1</td>\n      <td>66</td>\n      <td>3.0</td>\n      <td>64</td>\n      <td>1.6</td>\n      <td>考试</td>\n      <td>必修</td>\n      <td>公共必修课</td>\n      <td>B</td>\n    </tr>\n    <tr>\n      <th>6</th>\n      <td>7</td>\n      <td>2018-2019-1</td>\n      <td>4200033</td>\n      <td>高等数学B1</td>\n      <td>96</td>\n      <td>4.0</td>\n      <td>64</td>\n      <td>4.6</td>\n      <td>考试</td>\n      <td>必修</td>\n      <td>学科基础课</td>\n      <td>A</td>\n    </tr>\n    <tr>\n      <th>7</th>\n      <td>8</td>\n      <td>2018-2019-1</td>\n      <td>4200044</td>\n      <td>思想道德修养与法律基础</td>\n      <td>89</td>\n      <td>3.0</td>\n      <td>54</td>\n      <td>3.9</td>\n      <td>考试</td>\n      <td>必修</td>\n      <td>公共必修课</td>\n      <td>B</td>\n    </tr>\n    <tr>\n      <th>8</th>\n      <td>9</td>\n      <td>2018-2019-1</td>\n      <td>4200046</td>\n      <td>就业指导-职业规划</td>\n      <td>87</td>\n      <td>0.5</td>\n      <td>8</td>\n      <td>3.7</td>\n      <td>考查</td>\n      <td>必修</td>\n      <td>公共必修课</td>\n      <td>D</td>\n    </tr>\n    <tr>\n      <th>9</th>\n      <td>10</td>\n      <td>2018-2019-1</td>\n      <td>4300196</td>\n      <td>管理学原理B</td>\n      <td>91</td>\n      <td>3.0</td>\n      <td>45</td>\n      <td>4.1</td>\n      <td>考试</td>\n      <td>必修</td>\n      <td>学科基础课</td>\n      <td>B</td>\n    </tr>\n    <tr>\n      <th>10</th>\n      <td>11</td>\n      <td>2018-2019-1</td>\n      <td>4300534</td>\n      <td>专业导论（电子商务）</td>\n      <td>90</td>\n      <td>1.0</td>\n      <td>16</td>\n      <td>4.0</td>\n      <td>考查</td>\n      <td>必修</td>\n      <td>学科基础课</td>\n      <td>D</td>\n    </tr>\n    <tr>\n      <th>11</th>\n      <td>12</td>\n      <td>2018-2019-2</td>\n      <td>4150105</td>\n      <td>茶成分与茶健康</td>\n      <td>90</td>\n      <td>1.5</td>\n      <td>26</td>\n      <td>4.0</td>\n      <td>考试</td>\n      <td>公选</td>\n      <td>通识选修课</td>\n      <td>D</td>\n    </tr>\n    <tr>\n      <th>12</th>\n      <td>13</td>\n      <td>2018-2019-2</td>\n      <td>4200003</td>\n      <td>大学生心理健康</td>\n      <td>89</td>\n      <td>1.0</td>\n      <td>16</td>\n      <td>3.9</td>\n      <td>考查</td>\n      <td>必修</td>\n      <td>公共必修课</td>\n      <td>D</td>\n    </tr>\n    <tr>\n      <th>13</th>\n      <td>14</td>\n      <td>2018-2019-2</td>\n      <td>4200005</td>\n      <td>大学体育2</td>\n      <td>60</td>\n      <td>1.0</td>\n      <td>34</td>\n      <td>1.0</td>\n      <td>考试</td>\n      <td>必修</td>\n      <td>公共必修课</td>\n      <td>D</td>\n    </tr>\n    <tr>\n      <th>14</th>\n      <td>15</td>\n      <td>2018-2019-2</td>\n      <td>4200016</td>\n      <td>大学英语2</td>\n      <td>74</td>\n      <td>3.0</td>\n      <td>64</td>\n      <td>2.4</td>\n      <td>考试</td>\n      <td>必修</td>\n      <td>公共必修课</td>\n      <td>B</td>\n    </tr>\n    <tr>\n      <th>15</th>\n      <td>16</td>\n      <td>2018-2019-2</td>\n      <td>4200021</td>\n      <td>动态网站设计</td>\n      <td>82</td>\n      <td>3.0</td>\n      <td>64</td>\n      <td>3.2</td>\n      <td>考试</td>\n      <td>必修</td>\n      <td>公共必修课</td>\n      <td>B</td>\n    </tr>\n    <tr>\n      <th>16</th>\n      <td>17</td>\n      <td>2018-2019-2</td>\n      <td>4200034</td>\n      <td>高等数学B2</td>\n      <td>63</td>\n      <td>4.0</td>\n      <td>64</td>\n      <td>1.3</td>\n      <td>考试</td>\n      <td>必修</td>\n      <td>学科基础课</td>\n      <td>A</td>\n    </tr>\n    <tr>\n      <th>17</th>\n      <td>18</td>\n      <td>2018-2019-2</td>\n      <td>4200039</td>\n      <td>军事理论</td>\n      <td>83</td>\n      <td>2.0</td>\n      <td>36</td>\n      <td>3.3</td>\n      <td>考查</td>\n      <td>必修</td>\n      <td>公共必修课</td>\n      <td>C</td>\n    </tr>\n    <tr>\n      <th>18</th>\n      <td>19</td>\n      <td>2018-2019-2</td>\n      <td>4200048</td>\n      <td>中国近现代史纲要</td>\n      <td>89</td>\n      <td>2.0</td>\n      <td>36</td>\n      <td>3.9</td>\n      <td>考试</td>\n      <td>必修</td>\n      <td>公共必修课</td>\n      <td>C</td>\n    </tr>\n    <tr>\n      <th>19</th>\n      <td>20</td>\n      <td>2018-2019-2</td>\n      <td>4300109</td>\n      <td>C程序设计</td>\n      <td>78</td>\n      <td>3.5</td>\n      <td>64</td>\n      <td>2.8</td>\n      <td>考试</td>\n      <td>必修</td>\n      <td>学科基础课</td>\n      <td>A</td>\n    </tr>\n  </tbody>\n</table>\n</div>"
     },
     "metadata": {},
     "execution_count": 796
    }
   ],
   "source": [
    "df['分类'] = pd.cut(x = df['学分'],bins=[0,1.6,2.1,3.1,4.1],labels=['D','C','B','A'],right=False )#非常高效，一行半代码就搞定了分组、判断和打标的过程\n",
    "df"
   ]
  },
  {
   "cell_type": "code",
   "execution_count": 797,
   "metadata": {},
   "outputs": [
    {
     "output_type": "execute_result",
     "data": {
      "text/plain": [
       "   姓名  科目  综合成绩\n",
       "0  李华  一模   651\n",
       "1  李华  二模   579\n",
       "2  李华  三模   580\n",
       "3  王雷  一模   475\n",
       "4  王雷  二模   455\n",
       "5  王雷  三模   432"
      ],
      "text/html": "<div>\n<style scoped>\n    .dataframe tbody tr th:only-of-type {\n        vertical-align: middle;\n    }\n\n    .dataframe tbody tr th {\n        vertical-align: top;\n    }\n\n    .dataframe thead th {\n        text-align: right;\n    }\n</style>\n<table border=\"1\" class=\"dataframe\">\n  <thead>\n    <tr style=\"text-align: right;\">\n      <th></th>\n      <th>姓名</th>\n      <th>科目</th>\n      <th>综合成绩</th>\n    </tr>\n  </thead>\n  <tbody>\n    <tr>\n      <th>0</th>\n      <td>李华</td>\n      <td>一模</td>\n      <td>651</td>\n    </tr>\n    <tr>\n      <th>1</th>\n      <td>李华</td>\n      <td>二模</td>\n      <td>579</td>\n    </tr>\n    <tr>\n      <th>2</th>\n      <td>李华</td>\n      <td>三模</td>\n      <td>580</td>\n    </tr>\n    <tr>\n      <th>3</th>\n      <td>王雷</td>\n      <td>一模</td>\n      <td>475</td>\n    </tr>\n    <tr>\n      <th>4</th>\n      <td>王雷</td>\n      <td>二模</td>\n      <td>455</td>\n    </tr>\n    <tr>\n      <th>5</th>\n      <td>王雷</td>\n      <td>三模</td>\n      <td>432</td>\n    </tr>\n  </tbody>\n</table>\n</div>"
     },
     "metadata": {},
     "execution_count": 797
    }
   ],
   "source": [
    "df = pd.read_excel('D:/Python/Pandas/wode/grade.xlsx',sheet_name='Sheet4')\n",
    "df.head(6)"
   ]
  },
  {
   "cell_type": "code",
   "execution_count": 798,
   "metadata": {},
   "outputs": [
    {
     "output_type": "execute_result",
     "data": {
      "text/plain": [
       "   姓名  综合成绩\n",
       "0  发明   710\n",
       "1  李华   651\n",
       "2  泽民   678\n",
       "3  王雷   475"
      ],
      "text/html": "<div>\n<style scoped>\n    .dataframe tbody tr th:only-of-type {\n        vertical-align: middle;\n    }\n\n    .dataframe tbody tr th {\n        vertical-align: top;\n    }\n\n    .dataframe thead th {\n        text-align: right;\n    }\n</style>\n<table border=\"1\" class=\"dataframe\">\n  <thead>\n    <tr style=\"text-align: right;\">\n      <th></th>\n      <th>姓名</th>\n      <th>综合成绩</th>\n    </tr>\n  </thead>\n  <tbody>\n    <tr>\n      <th>0</th>\n      <td>发明</td>\n      <td>710</td>\n    </tr>\n    <tr>\n      <th>1</th>\n      <td>李华</td>\n      <td>651</td>\n    </tr>\n    <tr>\n      <th>2</th>\n      <td>泽民</td>\n      <td>678</td>\n    </tr>\n    <tr>\n      <th>3</th>\n      <td>王雷</td>\n      <td>475</td>\n    </tr>\n  </tbody>\n</table>\n</div>"
     },
     "metadata": {},
     "execution_count": 798
    }
   ],
   "source": [
    "df.groupby('姓名')['综合成绩'].max().reset_index()"
   ]
  },
  {
   "cell_type": "code",
   "execution_count": 799,
   "metadata": {},
   "outputs": [],
   "source": [
    "df1 = df.groupby('姓名')['综合成绩'].apply(max).reset_index()"
   ]
  },
  {
   "cell_type": "code",
   "execution_count": 800,
   "metadata": {},
   "outputs": [
    {
     "output_type": "execute_result",
     "data": {
      "text/plain": [
       "   姓名  综合成绩\n",
       "0  发明   568\n",
       "1  李华   579\n",
       "2  泽民   498\n",
       "3  王雷   432"
      ],
      "text/html": "<div>\n<style scoped>\n    .dataframe tbody tr th:only-of-type {\n        vertical-align: middle;\n    }\n\n    .dataframe tbody tr th {\n        vertical-align: top;\n    }\n\n    .dataframe thead th {\n        text-align: right;\n    }\n</style>\n<table border=\"1\" class=\"dataframe\">\n  <thead>\n    <tr style=\"text-align: right;\">\n      <th></th>\n      <th>姓名</th>\n      <th>综合成绩</th>\n    </tr>\n  </thead>\n  <tbody>\n    <tr>\n      <th>0</th>\n      <td>发明</td>\n      <td>568</td>\n    </tr>\n    <tr>\n      <th>1</th>\n      <td>李华</td>\n      <td>579</td>\n    </tr>\n    <tr>\n      <th>2</th>\n      <td>泽民</td>\n      <td>498</td>\n    </tr>\n    <tr>\n      <th>3</th>\n      <td>王雷</td>\n      <td>432</td>\n    </tr>\n  </tbody>\n</table>\n</div>"
     },
     "metadata": {},
     "execution_count": 800
    }
   ],
   "source": [
    "df2 = df.groupby('姓名')['综合成绩'].apply(min).reset_index() #指定一个列展示不会显示该列的列名，两个以上会\n",
    "df2"
   ]
  },
  {
   "cell_type": "code",
   "execution_count": 801,
   "metadata": {},
   "outputs": [
    {
     "output_type": "execute_result",
     "data": {
      "text/plain": [
       "   姓名  综合成绩_x  综合成绩_y\n",
       "0  发明     710     568\n",
       "1  李华     651     579\n",
       "2  泽民     678     498\n",
       "3  王雷     475     432"
      ],
      "text/html": "<div>\n<style scoped>\n    .dataframe tbody tr th:only-of-type {\n        vertical-align: middle;\n    }\n\n    .dataframe tbody tr th {\n        vertical-align: top;\n    }\n\n    .dataframe thead th {\n        text-align: right;\n    }\n</style>\n<table border=\"1\" class=\"dataframe\">\n  <thead>\n    <tr style=\"text-align: right;\">\n      <th></th>\n      <th>姓名</th>\n      <th>综合成绩_x</th>\n      <th>综合成绩_y</th>\n    </tr>\n  </thead>\n  <tbody>\n    <tr>\n      <th>0</th>\n      <td>发明</td>\n      <td>710</td>\n      <td>568</td>\n    </tr>\n    <tr>\n      <th>1</th>\n      <td>李华</td>\n      <td>651</td>\n      <td>579</td>\n    </tr>\n    <tr>\n      <th>2</th>\n      <td>泽民</td>\n      <td>678</td>\n      <td>498</td>\n    </tr>\n    <tr>\n      <th>3</th>\n      <td>王雷</td>\n      <td>475</td>\n      <td>432</td>\n    </tr>\n  </tbody>\n</table>\n</div>"
     },
     "metadata": {},
     "execution_count": 801
    }
   ],
   "source": [
    "df3 = pd.merge(left=df1,right=df2,left_on='姓名',right_on='姓名',how='inner')#适用于每个表的相同列进行连接\n",
    "df3"
   ]
  },
  {
   "cell_type": "code",
   "execution_count": 802,
   "metadata": {},
   "outputs": [
    {
     "output_type": "execute_result",
     "data": {
      "text/plain": [
       "  姓名_x  综合成绩_x 姓名_y  综合成绩_y\n",
       "0   发明     710   发明     568\n",
       "1   李华     651   李华     579\n",
       "2   泽民     678   泽民     498\n",
       "3   王雷     475   王雷     432"
      ],
      "text/html": "<div>\n<style scoped>\n    .dataframe tbody tr th:only-of-type {\n        vertical-align: middle;\n    }\n\n    .dataframe tbody tr th {\n        vertical-align: top;\n    }\n\n    .dataframe thead th {\n        text-align: right;\n    }\n</style>\n<table border=\"1\" class=\"dataframe\">\n  <thead>\n    <tr style=\"text-align: right;\">\n      <th></th>\n      <th>姓名_x</th>\n      <th>综合成绩_x</th>\n      <th>姓名_y</th>\n      <th>综合成绩_y</th>\n    </tr>\n  </thead>\n  <tbody>\n    <tr>\n      <th>0</th>\n      <td>发明</td>\n      <td>710</td>\n      <td>发明</td>\n      <td>568</td>\n    </tr>\n    <tr>\n      <th>1</th>\n      <td>李华</td>\n      <td>651</td>\n      <td>李华</td>\n      <td>579</td>\n    </tr>\n    <tr>\n      <th>2</th>\n      <td>泽民</td>\n      <td>678</td>\n      <td>泽民</td>\n      <td>498</td>\n    </tr>\n    <tr>\n      <th>3</th>\n      <td>王雷</td>\n      <td>475</td>\n      <td>王雷</td>\n      <td>432</td>\n    </tr>\n  </tbody>\n</table>\n</div>"
     },
     "metadata": {},
     "execution_count": 802
    }
   ],
   "source": [
    "df4 = pd.merge(left=df1,right=df2,left_index=True,right_index=True,how='inner')#直接连接，不给定以哪一列为标准\n",
    "df4"
   ]
  },
  {
   "source": [
    "left_index 与 right_index 是当我们用索引（这两个表的名字在索引中）连接时指\n",
    "定的参数，设置为 on 表示用该表的索引作为连接的条件（或者说桥梁）"
   ],
   "cell_type": "markdown",
   "metadata": {}
  },
  {
   "cell_type": "code",
   "execution_count": 803,
   "metadata": {},
   "outputs": [
    {
     "output_type": "execute_result",
     "data": {
      "text/plain": [
       "   省份  城市    资金总量\n",
       "0  北京  北京  171062\n",
       "1  上海  上海  132820\n",
       "2  广东  深圳   83942\n",
       "3  广东  广州   59131\n",
       "4  浙江  杭州   45287\n",
       "5  四川  成都   39828\n",
       "6  重庆  重庆   39483\n",
       "7  江苏  南京   35536\n",
       "8  天津  天津   31788\n",
       "9  江苏  苏州   31652"
      ],
      "text/html": "<div>\n<style scoped>\n    .dataframe tbody tr th:only-of-type {\n        vertical-align: middle;\n    }\n\n    .dataframe tbody tr th {\n        vertical-align: top;\n    }\n\n    .dataframe thead th {\n        text-align: right;\n    }\n</style>\n<table border=\"1\" class=\"dataframe\">\n  <thead>\n    <tr style=\"text-align: right;\">\n      <th></th>\n      <th>省份</th>\n      <th>城市</th>\n      <th>资金总量</th>\n    </tr>\n  </thead>\n  <tbody>\n    <tr>\n      <th>0</th>\n      <td>北京</td>\n      <td>北京</td>\n      <td>171062</td>\n    </tr>\n    <tr>\n      <th>1</th>\n      <td>上海</td>\n      <td>上海</td>\n      <td>132820</td>\n    </tr>\n    <tr>\n      <th>2</th>\n      <td>广东</td>\n      <td>深圳</td>\n      <td>83942</td>\n    </tr>\n    <tr>\n      <th>3</th>\n      <td>广东</td>\n      <td>广州</td>\n      <td>59131</td>\n    </tr>\n    <tr>\n      <th>4</th>\n      <td>浙江</td>\n      <td>杭州</td>\n      <td>45287</td>\n    </tr>\n    <tr>\n      <th>5</th>\n      <td>四川</td>\n      <td>成都</td>\n      <td>39828</td>\n    </tr>\n    <tr>\n      <th>6</th>\n      <td>重庆</td>\n      <td>重庆</td>\n      <td>39483</td>\n    </tr>\n    <tr>\n      <th>7</th>\n      <td>江苏</td>\n      <td>南京</td>\n      <td>35536</td>\n    </tr>\n    <tr>\n      <th>8</th>\n      <td>天津</td>\n      <td>天津</td>\n      <td>31788</td>\n    </tr>\n    <tr>\n      <th>9</th>\n      <td>江苏</td>\n      <td>苏州</td>\n      <td>31652</td>\n    </tr>\n  </tbody>\n</table>\n</div>"
     },
     "metadata": {},
     "execution_count": 803
    }
   ],
   "source": [
    "df = pd.read_excel('D:/Python/Pandas/wode/grade.xlsx',sheet_name='Sheet5')\n",
    "df"
   ]
  },
  {
   "source": [
    "要求：返回每个省份资金总量排名第二的城市数据"
   ],
   "cell_type": "markdown",
   "metadata": {}
  },
  {
   "cell_type": "code",
   "execution_count": 804,
   "metadata": {},
   "outputs": [],
   "source": [
    "def get(x):\n",
    "    if len(x)<=1:\n",
    "        return x.iloc[0,:]\n",
    "    else:\n",
    "        return x.iloc[1,:]#"
   ]
  },
  {
   "cell_type": "code",
   "execution_count": 805,
   "metadata": {},
   "outputs": [
    {
     "output_type": "execute_result",
     "data": {
      "text/plain": [
       "    城市    资金总量\n",
       "省份            \n",
       "上海  上海  132820\n",
       "北京  北京  171062\n",
       "四川  成都   39828\n",
       "天津  天津   31788\n",
       "广东  广州   59131\n",
       "江苏  苏州   31652\n",
       "浙江  杭州   45287\n",
       "重庆  重庆   39483"
      ],
      "text/html": "<div>\n<style scoped>\n    .dataframe tbody tr th:only-of-type {\n        vertical-align: middle;\n    }\n\n    .dataframe tbody tr th {\n        vertical-align: top;\n    }\n\n    .dataframe thead th {\n        text-align: right;\n    }\n</style>\n<table border=\"1\" class=\"dataframe\">\n  <thead>\n    <tr style=\"text-align: right;\">\n      <th></th>\n      <th>城市</th>\n      <th>资金总量</th>\n    </tr>\n    <tr>\n      <th>省份</th>\n      <th></th>\n      <th></th>\n    </tr>\n  </thead>\n  <tbody>\n    <tr>\n      <th>上海</th>\n      <td>上海</td>\n      <td>132820</td>\n    </tr>\n    <tr>\n      <th>北京</th>\n      <td>北京</td>\n      <td>171062</td>\n    </tr>\n    <tr>\n      <th>四川</th>\n      <td>成都</td>\n      <td>39828</td>\n    </tr>\n    <tr>\n      <th>天津</th>\n      <td>天津</td>\n      <td>31788</td>\n    </tr>\n    <tr>\n      <th>广东</th>\n      <td>广州</td>\n      <td>59131</td>\n    </tr>\n    <tr>\n      <th>江苏</th>\n      <td>苏州</td>\n      <td>31652</td>\n    </tr>\n    <tr>\n      <th>浙江</th>\n      <td>杭州</td>\n      <td>45287</td>\n    </tr>\n    <tr>\n      <th>重庆</th>\n      <td>重庆</td>\n      <td>39483</td>\n    </tr>\n  </tbody>\n</table>\n</div>"
     },
     "metadata": {},
     "execution_count": 805
    }
   ],
   "source": [
    "df.groupby('省份')['城市','资金总量'].apply(get)"
   ]
  },
  {
   "source": [
    "由于数据较少，但是效果达到了"
   ],
   "cell_type": "markdown",
   "metadata": {}
  },
  {
   "cell_type": "code",
   "execution_count": 806,
   "metadata": {},
   "outputs": [
    {
     "output_type": "execute_result",
     "data": {
      "text/plain": [
       "<pandas.core.groupby.groupby.DataFrameGroupBy object at 0x000001FA6C868668>"
      ]
     },
     "metadata": {},
     "execution_count": 806
    }
   ],
   "source": [
    "df.groupby('省份')['城市','资金总量']"
   ]
  },
  {
   "source": [
    "这里面的x代表的是每个分组后的数据列，相当于每个面团，每个面团有n行数据，可以用len()统计总行数，需要多理解"
   ],
   "cell_type": "markdown",
   "metadata": {}
  },
  {
   "cell_type": "code",
   "execution_count": 807,
   "metadata": {},
   "outputs": [],
   "source": [
    "import os"
   ]
  },
  {
   "cell_type": "code",
   "execution_count": 808,
   "metadata": {},
   "outputs": [],
   "source": [
    "# df_all = pd.DataFrame()\n",
    "# for name in os.listdir('D:/Python/data/'):\n",
    "#     print(name)\n",
    "#     df = pd.read_csv(f'D:/Python/data/{name}',engine='python',encoding='utf-8', index_col=0)\n",
    "#     df_all = df_all.append(df)#这里必须给定对象，要不然df_all还是一个空dataframe对象，这一点跟列表有区别\n",
    "# df_all.info()"
   ]
  },
  {
   "cell_type": "code",
   "execution_count": 809,
   "metadata": {},
   "outputs": [
    {
     "output_type": "execute_result",
     "data": {
      "text/plain": [
       "[0, 1, 2, 3, 4, 5, 6, 7, 8, 9, 10, 11, 12, 13, 14, 15, 16, 17, 18, 19]"
      ]
     },
     "metadata": {},
     "execution_count": 809
    }
   ],
   "source": [
    "a = []\n",
    "for i in range(20):\n",
    "    a.append(i)\n",
    "a"
   ]
  },
  {
   "cell_type": "code",
   "execution_count": 810,
   "metadata": {},
   "outputs": [],
   "source": [
    "#思路：1是将所有表的数据全部整合在数据清洗；2就是每个表先数据清洗然后再整合在清洗，思路2更符合逻辑，更具灵活性"
   ]
  },
  {
   "cell_type": "code",
   "execution_count": 811,
   "metadata": {},
   "outputs": [
    {
     "output_type": "execute_result",
     "data": {
      "text/plain": [
       "  episodes  time_point\n",
       "0     第一期下        4175"
      ],
      "text/html": "<div>\n<style scoped>\n    .dataframe tbody tr th:only-of-type {\n        vertical-align: middle;\n    }\n\n    .dataframe tbody tr th {\n        vertical-align: top;\n    }\n\n    .dataframe thead th {\n        text-align: right;\n    }\n</style>\n<table border=\"1\" class=\"dataframe\">\n  <thead>\n    <tr style=\"text-align: right;\">\n      <th></th>\n      <th>episodes</th>\n      <th>time_point</th>\n    </tr>\n  </thead>\n  <tbody>\n    <tr>\n      <th>0</th>\n      <td>第一期下</td>\n      <td>4175</td>\n    </tr>\n  </tbody>\n</table>\n</div>"
     },
     "metadata": {},
     "execution_count": 811
    }
   ],
   "source": [
    "df = pd.read_csv('D:/Python/Pandas/data/第一期下集.csv',engine='python',encoding='utf-8', index_col=0)\n",
    "df.groupby('episodes')['oper_name','time_point'].apply(max).reset_index()"
   ]
  },
  {
   "cell_type": "code",
   "execution_count": 812,
   "metadata": {},
   "outputs": [
    {
     "output_type": "stream",
     "name": "stdout",
     "text": [
      "第一期上集.csv\n",
      "第一期下集.csv\n",
      "第三期上集.csv\n",
      "第三期下集.csv\n",
      "第二期上集.csv\n",
      "第二期下集.csv\n",
      "第五期上集.csv\n",
      "第五期下集.csv\n",
      "第四期上集.csv\n",
      "第四期下集.csv\n"
     ]
    },
    {
     "output_type": "execute_result",
     "data": {
      "text/plain": [
       "  episodes  time_point\n",
       "0     第一期上        8239\n",
       "0     第五期上        8158\n",
       "0     第三期上        7838\n",
       "0     第二期上        6767\n",
       "0     第四期上        6616\n",
       "0     第四期下        6572\n",
       "0     第三期下        6450\n",
       "0     第二期下        6037\n",
       "0     第五期下        5652\n",
       "0     第一期下        4175"
      ],
      "text/html": "<div>\n<style scoped>\n    .dataframe tbody tr th:only-of-type {\n        vertical-align: middle;\n    }\n\n    .dataframe tbody tr th {\n        vertical-align: top;\n    }\n\n    .dataframe thead th {\n        text-align: right;\n    }\n</style>\n<table border=\"1\" class=\"dataframe\">\n  <thead>\n    <tr style=\"text-align: right;\">\n      <th></th>\n      <th>episodes</th>\n      <th>time_point</th>\n    </tr>\n  </thead>\n  <tbody>\n    <tr>\n      <th>0</th>\n      <td>第一期上</td>\n      <td>8239</td>\n    </tr>\n    <tr>\n      <th>0</th>\n      <td>第五期上</td>\n      <td>8158</td>\n    </tr>\n    <tr>\n      <th>0</th>\n      <td>第三期上</td>\n      <td>7838</td>\n    </tr>\n    <tr>\n      <th>0</th>\n      <td>第二期上</td>\n      <td>6767</td>\n    </tr>\n    <tr>\n      <th>0</th>\n      <td>第四期上</td>\n      <td>6616</td>\n    </tr>\n    <tr>\n      <th>0</th>\n      <td>第四期下</td>\n      <td>6572</td>\n    </tr>\n    <tr>\n      <th>0</th>\n      <td>第三期下</td>\n      <td>6450</td>\n    </tr>\n    <tr>\n      <th>0</th>\n      <td>第二期下</td>\n      <td>6037</td>\n    </tr>\n    <tr>\n      <th>0</th>\n      <td>第五期下</td>\n      <td>5652</td>\n    </tr>\n    <tr>\n      <th>0</th>\n      <td>第一期下</td>\n      <td>4175</td>\n    </tr>\n  </tbody>\n</table>\n</div>"
     },
     "metadata": {},
     "execution_count": 812
    }
   ],
   "source": [
    "df_all = pd.DataFrame()\n",
    "for name in os.listdir('D:/Python/Pandas/data/'):\n",
    "    print(name)\n",
    "    df = pd.read_csv(f'D:/Python/Pandas/data/{name}',engine='python',encoding='utf-8', index_col=0)\n",
    "    result = df.groupby('episodes')['oper_name','time_point'].apply(max).reset_index()\n",
    "    df_all = pd.concat([df_all,result])#concat连接至少需要两个表\n",
    "df_f = df_all.sort_values('time_point',ascending=False) \n",
    "df_f"
   ]
  },
  {
   "source": [
    "这个案例还比较简单，明天想一个难一点的，至少要处理几步以上的"
   ],
   "cell_type": "markdown",
   "metadata": {}
  },
  {
   "cell_type": "code",
   "execution_count": 813,
   "metadata": {},
   "outputs": [
    {
     "output_type": "execute_result",
     "data": {
      "text/plain": [
       "           品牌名称    买家昵称                付款日期  订单状态   实付金额  邮费   省份   城市  购买数量\n",
       "0  viva la vida    做快淘饭 2019-04-18 00:03:00  交易成功  22.32   0   北京  北京市     1\n",
       "1  viva la vida   作自有世祟 2019-02-17 00:03:51  交易成功  87.00   0   上海  上海市     1\n",
       "2  viva la vida    作雪白室 2019-04-18 00:01:43  交易成功  97.66   0  福建省  福州市     2\n",
       "3  viva la vida  作美女购物主 2019-01-11 23:35:01  交易成功  37.23   0  河南省  安阳市     3\n",
       "4  viva la vida  作美女购物主 2019-02-18 14:16:03  交易成功  29.50   0  河南省  安阳市     2"
      ],
      "text/html": "<div>\n<style scoped>\n    .dataframe tbody tr th:only-of-type {\n        vertical-align: middle;\n    }\n\n    .dataframe tbody tr th {\n        vertical-align: top;\n    }\n\n    .dataframe thead th {\n        text-align: right;\n    }\n</style>\n<table border=\"1\" class=\"dataframe\">\n  <thead>\n    <tr style=\"text-align: right;\">\n      <th></th>\n      <th>品牌名称</th>\n      <th>买家昵称</th>\n      <th>付款日期</th>\n      <th>订单状态</th>\n      <th>实付金额</th>\n      <th>邮费</th>\n      <th>省份</th>\n      <th>城市</th>\n      <th>购买数量</th>\n    </tr>\n  </thead>\n  <tbody>\n    <tr>\n      <th>0</th>\n      <td>viva la vida</td>\n      <td>做快淘饭</td>\n      <td>2019-04-18 00:03:00</td>\n      <td>交易成功</td>\n      <td>22.32</td>\n      <td>0</td>\n      <td>北京</td>\n      <td>北京市</td>\n      <td>1</td>\n    </tr>\n    <tr>\n      <th>1</th>\n      <td>viva la vida</td>\n      <td>作自有世祟</td>\n      <td>2019-02-17 00:03:51</td>\n      <td>交易成功</td>\n      <td>87.00</td>\n      <td>0</td>\n      <td>上海</td>\n      <td>上海市</td>\n      <td>1</td>\n    </tr>\n    <tr>\n      <th>2</th>\n      <td>viva la vida</td>\n      <td>作雪白室</td>\n      <td>2019-04-18 00:01:43</td>\n      <td>交易成功</td>\n      <td>97.66</td>\n      <td>0</td>\n      <td>福建省</td>\n      <td>福州市</td>\n      <td>2</td>\n    </tr>\n    <tr>\n      <th>3</th>\n      <td>viva la vida</td>\n      <td>作美女购物主</td>\n      <td>2019-01-11 23:35:01</td>\n      <td>交易成功</td>\n      <td>37.23</td>\n      <td>0</td>\n      <td>河南省</td>\n      <td>安阳市</td>\n      <td>3</td>\n    </tr>\n    <tr>\n      <th>4</th>\n      <td>viva la vida</td>\n      <td>作美女购物主</td>\n      <td>2019-02-18 14:16:03</td>\n      <td>交易成功</td>\n      <td>29.50</td>\n      <td>0</td>\n      <td>河南省</td>\n      <td>安阳市</td>\n      <td>2</td>\n    </tr>\n  </tbody>\n</table>\n</div>"
     },
     "metadata": {},
     "execution_count": 813
    }
   ],
   "source": [
    "df = pd.read_excel('D:/Python/06 TGI指数分析实战/TGI/TGI指数案例数据.xlsx')\n",
    "df.head()"
   ]
  },
  {
   "cell_type": "code",
   "execution_count": 814,
   "metadata": {},
   "outputs": [],
   "source": [
    "#分析哪些城市的人有高客单偏好，帮我筛选 5个"
   ]
  },
  {
   "cell_type": "code",
   "execution_count": 815,
   "metadata": {},
   "outputs": [
    {
     "output_type": "stream",
     "name": "stdout",
     "text": [
      "<class 'pandas.core.frame.DataFrame'>\nRangeIndex: 28832 entries, 0 to 28831\nData columns (total 9 columns):\n品牌名称    28832 non-null object\n买家昵称    28832 non-null object\n付款日期    28832 non-null datetime64[ns]\n订单状态    28832 non-null object\n实付金额    28832 non-null float64\n邮费      28832 non-null int64\n省份      28832 non-null object\n城市      28832 non-null object\n购买数量    28832 non-null int64\ndtypes: datetime64[ns](1), float64(1), int64(2), object(5)\nmemory usage: 2.0+ MB\n"
     ]
    }
   ],
   "source": [
    "df.info()"
   ]
  },
  {
   "source": [
    "单次购买大于 50 元就算高客单的客户了\n",
    "特征，高客单，即客户单次购买超过 50 元\n",
    "• 目标群体，就是各个城市，这里我们可以分别计算出所有城市客户的高客单偏好\n",
    "• 至于总体，就非常直白了，计算所涉及到的所有客户即为总体"
   ],
   "cell_type": "markdown",
   "metadata": {}
  },
  {
   "cell_type": "code",
   "execution_count": 816,
   "metadata": {},
   "outputs": [
    {
     "output_type": "execute_result",
     "data": {
      "text/plain": [
       "         买家昵称    实付金额\n",
       "0   .blue_ram  49.450\n",
       "1  .christiny  22.000\n",
       "2     .willn1  34.570\n",
       "3        .托托m  37.475\n",
       "4       0000妮  13.500"
      ],
      "text/html": "<div>\n<style scoped>\n    .dataframe tbody tr th:only-of-type {\n        vertical-align: middle;\n    }\n\n    .dataframe tbody tr th {\n        vertical-align: top;\n    }\n\n    .dataframe thead th {\n        text-align: right;\n    }\n</style>\n<table border=\"1\" class=\"dataframe\">\n  <thead>\n    <tr style=\"text-align: right;\">\n      <th></th>\n      <th>买家昵称</th>\n      <th>实付金额</th>\n    </tr>\n  </thead>\n  <tbody>\n    <tr>\n      <th>0</th>\n      <td>.blue_ram</td>\n      <td>49.450</td>\n    </tr>\n    <tr>\n      <th>1</th>\n      <td>.christiny</td>\n      <td>22.000</td>\n    </tr>\n    <tr>\n      <th>2</th>\n      <td>.willn1</td>\n      <td>34.570</td>\n    </tr>\n    <tr>\n      <th>3</th>\n      <td>.托托m</td>\n      <td>37.475</td>\n    </tr>\n    <tr>\n      <th>4</th>\n      <td>0000妮</td>\n      <td>13.500</td>\n    </tr>\n  </tbody>\n</table>\n</div>"
     },
     "metadata": {},
     "execution_count": 816
    }
   ],
   "source": [
    "df1 = df.groupby('买家昵称')['实付金额'].mean().reset_index()\n",
    "df1.head()"
   ]
  },
  {
   "cell_type": "code",
   "execution_count": 817,
   "metadata": {},
   "outputs": [
    {
     "output_type": "execute_result",
     "data": {
      "text/plain": [
       "         买家昵称    实付金额 客单类别\n",
       "0   .blue_ram  49.450  低客单\n",
       "1  .christiny  22.000  低客单\n",
       "2     .willn1  34.570  低客单\n",
       "3        .托托m  37.475  低客单\n",
       "4       0000妮  13.500  低客单"
      ],
      "text/html": "<div>\n<style scoped>\n    .dataframe tbody tr th:only-of-type {\n        vertical-align: middle;\n    }\n\n    .dataframe tbody tr th {\n        vertical-align: top;\n    }\n\n    .dataframe thead th {\n        text-align: right;\n    }\n</style>\n<table border=\"1\" class=\"dataframe\">\n  <thead>\n    <tr style=\"text-align: right;\">\n      <th></th>\n      <th>买家昵称</th>\n      <th>实付金额</th>\n      <th>客单类别</th>\n    </tr>\n  </thead>\n  <tbody>\n    <tr>\n      <th>0</th>\n      <td>.blue_ram</td>\n      <td>49.450</td>\n      <td>低客单</td>\n    </tr>\n    <tr>\n      <th>1</th>\n      <td>.christiny</td>\n      <td>22.000</td>\n      <td>低客单</td>\n    </tr>\n    <tr>\n      <th>2</th>\n      <td>.willn1</td>\n      <td>34.570</td>\n      <td>低客单</td>\n    </tr>\n    <tr>\n      <th>3</th>\n      <td>.托托m</td>\n      <td>37.475</td>\n      <td>低客单</td>\n    </tr>\n    <tr>\n      <th>4</th>\n      <td>0000妮</td>\n      <td>13.500</td>\n      <td>低客单</td>\n    </tr>\n  </tbody>\n</table>\n</div>"
     },
     "metadata": {},
     "execution_count": 817
    }
   ],
   "source": [
    "df1['客单类别'] = ['高客单' if i>50 else '低客单' for i in df1['实付金额']]\n",
    "df1.head()"
   ]
  },
  {
   "cell_type": "code",
   "execution_count": 818,
   "metadata": {},
   "outputs": [],
   "source": [
    "#df1['客单类别']"
   ]
  },
  {
   "cell_type": "code",
   "execution_count": 819,
   "metadata": {},
   "outputs": [],
   "source": [
    "# def getif(x):\n",
    "#     if x > 50:\n",
    "#         return '高客单'\n",
    "#     else:\n",
    "#         return '低客单'\n",
    "# df1['客单类别'] = df1['实付金额'].apply(getif)\n",
    "# df1.head()"
   ]
  },
  {
   "cell_type": "code",
   "execution_count": 820,
   "metadata": {},
   "outputs": [],
   "source": [
    "#df.duplicated('买家昵称')#去重，默认保存重复数据中的第一个，即first，如这里的3,4"
   ]
  },
  {
   "cell_type": "code",
   "execution_count": 821,
   "metadata": {},
   "outputs": [
    {
     "output_type": "execute_result",
     "data": {
      "text/plain": [
       "           品牌名称    买家昵称                付款日期  订单状态   实付金额  邮费   省份   城市  购买数量\n",
       "0  viva la vida    做快淘饭 2019-04-18 00:03:00  交易成功  22.32   0   北京  北京市     1\n",
       "1  viva la vida   作自有世祟 2019-02-17 00:03:51  交易成功  87.00   0   上海  上海市     1\n",
       "2  viva la vida    作雪白室 2019-04-18 00:01:43  交易成功  97.66   0  福建省  福州市     2\n",
       "3  viva la vida  作美女购物主 2019-01-11 23:35:01  交易成功  37.23   0  河南省  安阳市     3\n",
       "5  viva la vida  作卢阳口才室 2019-06-16 04:15:56  交易成功  42.50   0  浙江省  衢州市     3"
      ],
      "text/html": "<div>\n<style scoped>\n    .dataframe tbody tr th:only-of-type {\n        vertical-align: middle;\n    }\n\n    .dataframe tbody tr th {\n        vertical-align: top;\n    }\n\n    .dataframe thead th {\n        text-align: right;\n    }\n</style>\n<table border=\"1\" class=\"dataframe\">\n  <thead>\n    <tr style=\"text-align: right;\">\n      <th></th>\n      <th>品牌名称</th>\n      <th>买家昵称</th>\n      <th>付款日期</th>\n      <th>订单状态</th>\n      <th>实付金额</th>\n      <th>邮费</th>\n      <th>省份</th>\n      <th>城市</th>\n      <th>购买数量</th>\n    </tr>\n  </thead>\n  <tbody>\n    <tr>\n      <th>0</th>\n      <td>viva la vida</td>\n      <td>做快淘饭</td>\n      <td>2019-04-18 00:03:00</td>\n      <td>交易成功</td>\n      <td>22.32</td>\n      <td>0</td>\n      <td>北京</td>\n      <td>北京市</td>\n      <td>1</td>\n    </tr>\n    <tr>\n      <th>1</th>\n      <td>viva la vida</td>\n      <td>作自有世祟</td>\n      <td>2019-02-17 00:03:51</td>\n      <td>交易成功</td>\n      <td>87.00</td>\n      <td>0</td>\n      <td>上海</td>\n      <td>上海市</td>\n      <td>1</td>\n    </tr>\n    <tr>\n      <th>2</th>\n      <td>viva la vida</td>\n      <td>作雪白室</td>\n      <td>2019-04-18 00:01:43</td>\n      <td>交易成功</td>\n      <td>97.66</td>\n      <td>0</td>\n      <td>福建省</td>\n      <td>福州市</td>\n      <td>2</td>\n    </tr>\n    <tr>\n      <th>3</th>\n      <td>viva la vida</td>\n      <td>作美女购物主</td>\n      <td>2019-01-11 23:35:01</td>\n      <td>交易成功</td>\n      <td>37.23</td>\n      <td>0</td>\n      <td>河南省</td>\n      <td>安阳市</td>\n      <td>3</td>\n    </tr>\n    <tr>\n      <th>5</th>\n      <td>viva la vida</td>\n      <td>作卢阳口才室</td>\n      <td>2019-06-16 04:15:56</td>\n      <td>交易成功</td>\n      <td>42.50</td>\n      <td>0</td>\n      <td>浙江省</td>\n      <td>衢州市</td>\n      <td>3</td>\n    </tr>\n  </tbody>\n</table>\n</div>"
     },
     "metadata": {},
     "execution_count": 821
    }
   ],
   "source": [
    "df_dup = df.loc[df.duplicated('买家昵称') == False,:]\n",
    "df_dup.head()"
   ]
  },
  {
   "cell_type": "code",
   "execution_count": 822,
   "metadata": {},
   "outputs": [
    {
     "output_type": "execute_result",
     "data": {
      "text/plain": [
       "         买家昵称  实付金额_x 客单类别          品牌名称                    付款日期  订单状态  \\\n",
       "0   .blue_ram  49.450  低客单  viva la vida 2019-02-04 17:49:34.000  交易成功   \n",
       "1  .christiny  22.000  低客单  viva la vida 2019-01-29 14:17:15.000  交易成功   \n",
       "2     .willn1  34.570  低客单  viva la vida 2019-01-11 03:46:18.000  交易成功   \n",
       "3        .托托m  37.475  低客单  viva la vida 2019-01-11 02:26:33.000  交易成功   \n",
       "4       0000妮  13.500  低客单  viva la vida 2019-06-28 16:53:26.458  交易成功   \n",
       "\n",
       "   实付金额_y  邮费   省份   城市  购买数量  \n",
       "0  49.450   0   上海  上海市     1  \n",
       "1  22.000   0  江苏省  南京市     1  \n",
       "2  34.570   0  山东省  烟台市     2  \n",
       "3  37.475   0   上海  上海市     3  \n",
       "4  13.500   0  广东省  揭阳市     1  "
      ],
      "text/html": "<div>\n<style scoped>\n    .dataframe tbody tr th:only-of-type {\n        vertical-align: middle;\n    }\n\n    .dataframe tbody tr th {\n        vertical-align: top;\n    }\n\n    .dataframe thead th {\n        text-align: right;\n    }\n</style>\n<table border=\"1\" class=\"dataframe\">\n  <thead>\n    <tr style=\"text-align: right;\">\n      <th></th>\n      <th>买家昵称</th>\n      <th>实付金额_x</th>\n      <th>客单类别</th>\n      <th>品牌名称</th>\n      <th>付款日期</th>\n      <th>订单状态</th>\n      <th>实付金额_y</th>\n      <th>邮费</th>\n      <th>省份</th>\n      <th>城市</th>\n      <th>购买数量</th>\n    </tr>\n  </thead>\n  <tbody>\n    <tr>\n      <th>0</th>\n      <td>.blue_ram</td>\n      <td>49.450</td>\n      <td>低客单</td>\n      <td>viva la vida</td>\n      <td>2019-02-04 17:49:34.000</td>\n      <td>交易成功</td>\n      <td>49.450</td>\n      <td>0</td>\n      <td>上海</td>\n      <td>上海市</td>\n      <td>1</td>\n    </tr>\n    <tr>\n      <th>1</th>\n      <td>.christiny</td>\n      <td>22.000</td>\n      <td>低客单</td>\n      <td>viva la vida</td>\n      <td>2019-01-29 14:17:15.000</td>\n      <td>交易成功</td>\n      <td>22.000</td>\n      <td>0</td>\n      <td>江苏省</td>\n      <td>南京市</td>\n      <td>1</td>\n    </tr>\n    <tr>\n      <th>2</th>\n      <td>.willn1</td>\n      <td>34.570</td>\n      <td>低客单</td>\n      <td>viva la vida</td>\n      <td>2019-01-11 03:46:18.000</td>\n      <td>交易成功</td>\n      <td>34.570</td>\n      <td>0</td>\n      <td>山东省</td>\n      <td>烟台市</td>\n      <td>2</td>\n    </tr>\n    <tr>\n      <th>3</th>\n      <td>.托托m</td>\n      <td>37.475</td>\n      <td>低客单</td>\n      <td>viva la vida</td>\n      <td>2019-01-11 02:26:33.000</td>\n      <td>交易成功</td>\n      <td>37.475</td>\n      <td>0</td>\n      <td>上海</td>\n      <td>上海市</td>\n      <td>3</td>\n    </tr>\n    <tr>\n      <th>4</th>\n      <td>0000妮</td>\n      <td>13.500</td>\n      <td>低客单</td>\n      <td>viva la vida</td>\n      <td>2019-06-28 16:53:26.458</td>\n      <td>交易成功</td>\n      <td>13.500</td>\n      <td>0</td>\n      <td>广东省</td>\n      <td>揭阳市</td>\n      <td>1</td>\n    </tr>\n  </tbody>\n</table>\n</div>"
     },
     "metadata": {},
     "execution_count": 822
    }
   ],
   "source": [
    "df_merge = pd.merge(left=df1,right=df_dup,left_on='买家昵称',right_on='买家昵称',how='left')#以左边的表为标准进行匹配\n",
    "df_merge.head()"
   ]
  },
  {
   "cell_type": "code",
   "execution_count": 823,
   "metadata": {},
   "outputs": [
    {
     "output_type": "execute_result",
     "data": {
      "text/plain": [
       "         买家昵称 客单类别   省份   城市\n",
       "0   .blue_ram  低客单   上海  上海市\n",
       "1  .christiny  低客单  江苏省  南京市\n",
       "2     .willn1  低客单  山东省  烟台市\n",
       "3        .托托m  低客单   上海  上海市\n",
       "4       0000妮  低客单  广东省  揭阳市"
      ],
      "text/html": "<div>\n<style scoped>\n    .dataframe tbody tr th:only-of-type {\n        vertical-align: middle;\n    }\n\n    .dataframe tbody tr th {\n        vertical-align: top;\n    }\n\n    .dataframe thead th {\n        text-align: right;\n    }\n</style>\n<table border=\"1\" class=\"dataframe\">\n  <thead>\n    <tr style=\"text-align: right;\">\n      <th></th>\n      <th>买家昵称</th>\n      <th>客单类别</th>\n      <th>省份</th>\n      <th>城市</th>\n    </tr>\n  </thead>\n  <tbody>\n    <tr>\n      <th>0</th>\n      <td>.blue_ram</td>\n      <td>低客单</td>\n      <td>上海</td>\n      <td>上海市</td>\n    </tr>\n    <tr>\n      <th>1</th>\n      <td>.christiny</td>\n      <td>低客单</td>\n      <td>江苏省</td>\n      <td>南京市</td>\n    </tr>\n    <tr>\n      <th>2</th>\n      <td>.willn1</td>\n      <td>低客单</td>\n      <td>山东省</td>\n      <td>烟台市</td>\n    </tr>\n    <tr>\n      <th>3</th>\n      <td>.托托m</td>\n      <td>低客单</td>\n      <td>上海</td>\n      <td>上海市</td>\n    </tr>\n    <tr>\n      <th>4</th>\n      <td>0000妮</td>\n      <td>低客单</td>\n      <td>广东省</td>\n      <td>揭阳市</td>\n    </tr>\n  </tbody>\n</table>\n</div>"
     },
     "metadata": {},
     "execution_count": 823
    }
   ],
   "source": [
    "df_merge = df_merge[['买家昵称','客单类别','省份','城市']]\n",
    "df_merge.head()"
   ]
  },
  {
   "cell_type": "code",
   "execution_count": 824,
   "metadata": {},
   "outputs": [
    {
     "output_type": "execute_result",
     "data": {
      "text/plain": [
       "               买家昵称        \n",
       "客单类别            低客单     高客单\n",
       "省份  城市                     \n",
       "上海  上海市      2818.0  2374.0\n",
       "云南省 临沧市         3.0     2.0\n",
       "    丽江市         1.0     3.0\n",
       "    保山市         6.0     2.0\n",
       "    大理白族自治州     9.0     8.0"
      ],
      "text/html": "<div>\n<style scoped>\n    .dataframe tbody tr th:only-of-type {\n        vertical-align: middle;\n    }\n\n    .dataframe tbody tr th {\n        vertical-align: top;\n    }\n\n    .dataframe thead tr th {\n        text-align: left;\n    }\n\n    .dataframe thead tr:last-of-type th {\n        text-align: right;\n    }\n</style>\n<table border=\"1\" class=\"dataframe\">\n  <thead>\n    <tr>\n      <th></th>\n      <th></th>\n      <th colspan=\"2\" halign=\"left\">买家昵称</th>\n    </tr>\n    <tr>\n      <th></th>\n      <th>客单类别</th>\n      <th>低客单</th>\n      <th>高客单</th>\n    </tr>\n    <tr>\n      <th>省份</th>\n      <th>城市</th>\n      <th></th>\n      <th></th>\n    </tr>\n  </thead>\n  <tbody>\n    <tr>\n      <th>上海</th>\n      <th>上海市</th>\n      <td>2818.0</td>\n      <td>2374.0</td>\n    </tr>\n    <tr>\n      <th rowspan=\"4\" valign=\"top\">云南省</th>\n      <th>临沧市</th>\n      <td>3.0</td>\n      <td>2.0</td>\n    </tr>\n    <tr>\n      <th>丽江市</th>\n      <td>1.0</td>\n      <td>3.0</td>\n    </tr>\n    <tr>\n      <th>保山市</th>\n      <td>6.0</td>\n      <td>2.0</td>\n    </tr>\n    <tr>\n      <th>大理白族自治州</th>\n      <td>9.0</td>\n      <td>8.0</td>\n    </tr>\n  </tbody>\n</table>\n</div>"
     },
     "metadata": {},
     "execution_count": 824
    }
   ],
   "source": [
    "#这里用到了透视表\n",
    "result = pd.pivot_table(df_merge,index=['省份','城市'],columns='客单类别',aggfunc='count')#统计计数\n",
    "result.head()"
   ]
  },
  {
   "cell_type": "code",
   "execution_count": 825,
   "metadata": {},
   "outputs": [
    {
     "output_type": "execute_result",
     "data": {
      "text/plain": [
       "    省份       城市     高客单\n",
       "0   上海      上海市  2374.0\n",
       "1  云南省      临沧市     2.0\n",
       "2  云南省      丽江市     3.0\n",
       "3  云南省      保山市     2.0\n",
       "4  云南省  大理白族自治州     8.0"
      ],
      "text/html": "<div>\n<style scoped>\n    .dataframe tbody tr th:only-of-type {\n        vertical-align: middle;\n    }\n\n    .dataframe tbody tr th {\n        vertical-align: top;\n    }\n\n    .dataframe thead th {\n        text-align: right;\n    }\n</style>\n<table border=\"1\" class=\"dataframe\">\n  <thead>\n    <tr style=\"text-align: right;\">\n      <th></th>\n      <th>省份</th>\n      <th>城市</th>\n      <th>高客单</th>\n    </tr>\n  </thead>\n  <tbody>\n    <tr>\n      <th>0</th>\n      <td>上海</td>\n      <td>上海市</td>\n      <td>2374.0</td>\n    </tr>\n    <tr>\n      <th>1</th>\n      <td>云南省</td>\n      <td>临沧市</td>\n      <td>2.0</td>\n    </tr>\n    <tr>\n      <th>2</th>\n      <td>云南省</td>\n      <td>丽江市</td>\n      <td>3.0</td>\n    </tr>\n    <tr>\n      <th>3</th>\n      <td>云南省</td>\n      <td>保山市</td>\n      <td>2.0</td>\n    </tr>\n    <tr>\n      <th>4</th>\n      <td>云南省</td>\n      <td>大理白族自治州</td>\n      <td>8.0</td>\n    </tr>\n  </tbody>\n</table>\n</div>"
     },
     "metadata": {},
     "execution_count": 825
    }
   ],
   "source": [
    "#层次化索引\n",
    "result['买家昵称']['高客单'].reset_index().head()#这里是层次化索引带来的效果，省份和城市会自己带上耶"
   ]
  },
  {
   "cell_type": "code",
   "execution_count": 826,
   "metadata": {},
   "outputs": [
    {
     "output_type": "execute_result",
     "data": {
      "text/plain": [
       "    省份          城市     高客单     低客单\n",
       "0   上海         上海市  2374.0  2818.0\n",
       "1  云南省         临沧市     2.0     3.0\n",
       "2  云南省         丽江市     3.0     1.0\n",
       "3  云南省         保山市     2.0     6.0\n",
       "4  云南省     大理白族自治州     8.0     9.0\n",
       "5  云南省  德宏傣族景颇族自治州     2.0     4.0\n",
       "6  云南省   文山壮族苗族自治州     7.0     4.0\n",
       "7  云南省         昆明市    71.0   100.0\n",
       "8  云南省         昭通市     3.0     6.0\n",
       "9  云南省         普洱市     6.0     7.0"
      ],
      "text/html": "<div>\n<style scoped>\n    .dataframe tbody tr th:only-of-type {\n        vertical-align: middle;\n    }\n\n    .dataframe tbody tr th {\n        vertical-align: top;\n    }\n\n    .dataframe thead th {\n        text-align: right;\n    }\n</style>\n<table border=\"1\" class=\"dataframe\">\n  <thead>\n    <tr style=\"text-align: right;\">\n      <th></th>\n      <th>省份</th>\n      <th>城市</th>\n      <th>高客单</th>\n      <th>低客单</th>\n    </tr>\n  </thead>\n  <tbody>\n    <tr>\n      <th>0</th>\n      <td>上海</td>\n      <td>上海市</td>\n      <td>2374.0</td>\n      <td>2818.0</td>\n    </tr>\n    <tr>\n      <th>1</th>\n      <td>云南省</td>\n      <td>临沧市</td>\n      <td>2.0</td>\n      <td>3.0</td>\n    </tr>\n    <tr>\n      <th>2</th>\n      <td>云南省</td>\n      <td>丽江市</td>\n      <td>3.0</td>\n      <td>1.0</td>\n    </tr>\n    <tr>\n      <th>3</th>\n      <td>云南省</td>\n      <td>保山市</td>\n      <td>2.0</td>\n      <td>6.0</td>\n    </tr>\n    <tr>\n      <th>4</th>\n      <td>云南省</td>\n      <td>大理白族自治州</td>\n      <td>8.0</td>\n      <td>9.0</td>\n    </tr>\n    <tr>\n      <th>5</th>\n      <td>云南省</td>\n      <td>德宏傣族景颇族自治州</td>\n      <td>2.0</td>\n      <td>4.0</td>\n    </tr>\n    <tr>\n      <th>6</th>\n      <td>云南省</td>\n      <td>文山壮族苗族自治州</td>\n      <td>7.0</td>\n      <td>4.0</td>\n    </tr>\n    <tr>\n      <th>7</th>\n      <td>云南省</td>\n      <td>昆明市</td>\n      <td>71.0</td>\n      <td>100.0</td>\n    </tr>\n    <tr>\n      <th>8</th>\n      <td>云南省</td>\n      <td>昭通市</td>\n      <td>3.0</td>\n      <td>6.0</td>\n    </tr>\n    <tr>\n      <th>9</th>\n      <td>云南省</td>\n      <td>普洱市</td>\n      <td>6.0</td>\n      <td>7.0</td>\n    </tr>\n  </tbody>\n</table>\n</div>"
     },
     "metadata": {},
     "execution_count": 826
    }
   ],
   "source": [
    "#pd.merge横向合并,既可以是一列作为表，也可以是多列做表\n",
    "tgi =  pd.merge(left=result['买家昵称']['高客单'].reset_index(),right=result['买家昵称']['低客单'].reset_index(),left_on=['省份','城市'],right_on=['省份','城市'],how='inner')\n",
    "tgi.head(10)"
   ]
  },
  {
   "cell_type": "code",
   "execution_count": 827,
   "metadata": {},
   "outputs": [
    {
     "output_type": "execute_result",
     "data": {
      "text/plain": [
       "         省份          城市     高客单     低客单    客单总数     高客单占比\n",
       "0        上海         上海市  2374.0  2818.0  5192.0  0.457242\n",
       "1       云南省         临沧市     2.0     3.0     5.0  0.400000\n",
       "2       云南省         丽江市     3.0     1.0     4.0  0.750000\n",
       "3       云南省         保山市     2.0     6.0     8.0  0.250000\n",
       "4       云南省     大理白族自治州     8.0     9.0    17.0  0.470588\n",
       "5       云南省  德宏傣族景颇族自治州     2.0     4.0     6.0  0.333333\n",
       "6       云南省   文山壮族苗族自治州     7.0     4.0    11.0  0.636364\n",
       "7       云南省         昆明市    71.0   100.0   171.0  0.415205\n",
       "8       云南省         昭通市     3.0     6.0     9.0  0.333333\n",
       "9       云南省         普洱市     6.0     7.0    13.0  0.461538\n",
       "10      云南省         曲靖市     7.0    13.0    20.0  0.350000\n",
       "11      云南省     楚雄彝族自治州     1.0     4.0     5.0  0.200000\n",
       "12      云南省         玉溪市     6.0     7.0    13.0  0.461538\n",
       "13      云南省  红河哈尼族彝族自治州     9.0     9.0    18.0  0.500000\n",
       "14      云南省   西双版纳傣族自治州     3.0     7.0    10.0  0.300000\n",
       "15   内蒙古自治区       乌兰察布市     6.0     5.0    11.0  0.545455\n",
       "16   内蒙古自治区         乌海市     3.0     4.0     7.0  0.428571\n",
       "17   内蒙古自治区         兴安盟     3.0     6.0     9.0  0.333333\n",
       "18   内蒙古自治区         包头市     8.0    17.0    25.0  0.320000\n",
       "19   内蒙古自治区       呼伦贝尔市     4.0    16.0    20.0  0.200000\n",
       "20   内蒙古自治区       呼和浩特市    20.0    26.0    46.0  0.434783\n",
       "21   内蒙古自治区       巴彦淖尔市     5.0     7.0    12.0  0.416667\n",
       "22   内蒙古自治区         赤峰市     6.0     6.0    12.0  0.500000\n",
       "23   内蒙古自治区         通辽市     3.0     5.0     8.0  0.375000\n",
       "24   内蒙古自治区       鄂尔多斯市     3.0    12.0    15.0  0.200000\n",
       "25   内蒙古自治区       锡林郭勒盟     2.0     1.0     3.0  0.666667\n",
       "26   内蒙古自治区        阿拉善盟     1.0     2.0     3.0  0.333333\n",
       "27       北京         北京市  1203.0  1298.0  2501.0  0.481008\n",
       "28      吉林省         吉林市     8.0    17.0    25.0  0.320000\n",
       "29      吉林省         四平市     3.0     8.0    11.0  0.272727\n",
       "..      ...         ...     ...     ...     ...       ...\n",
       "316     辽宁省         锦州市     9.0    11.0    20.0  0.450000\n",
       "317     辽宁省         阜新市     1.0     6.0     7.0  0.142857\n",
       "318     辽宁省         鞍山市    17.0    34.0    51.0  0.333333\n",
       "319      重庆         重庆市   161.0   298.0   459.0  0.350763\n",
       "320     陕西省         咸阳市    10.0    15.0    25.0  0.400000\n",
       "321     陕西省         商洛市     1.0     4.0     5.0  0.200000\n",
       "322     陕西省         安康市     3.0     3.0     6.0  0.500000\n",
       "323     陕西省         宝鸡市     8.0     6.0    14.0  0.571429\n",
       "324     陕西省         延安市     8.0    10.0    18.0  0.444444\n",
       "325     陕西省         榆林市    11.0    18.0    29.0  0.379310\n",
       "326     陕西省         汉中市     4.0    16.0    20.0  0.200000\n",
       "327     陕西省         渭南市     5.0     9.0    14.0  0.357143\n",
       "328     陕西省         西安市   111.0   200.0   311.0  0.356913\n",
       "329     陕西省         铜川市     3.0     4.0     7.0  0.428571\n",
       "330     青海省  海西蒙古族藏族自治州     1.0     3.0     4.0  0.250000\n",
       "331     青海省         西宁市     6.0    12.0    18.0  0.333333\n",
       "332     青海省     黄南藏族自治州     NaN     1.0     NaN       NaN\n",
       "333    黑龙江省        七台河市     1.0     4.0     5.0  0.200000\n",
       "334    黑龙江省         伊春市     3.0     5.0     8.0  0.375000\n",
       "335    黑龙江省        佳木斯市     7.0    14.0    21.0  0.333333\n",
       "336    黑龙江省        双鸭山市     2.0     6.0     8.0  0.250000\n",
       "337    黑龙江省        哈尔滨市    85.0   132.0   217.0  0.391705\n",
       "338    黑龙江省      大兴安岭地区     NaN     3.0     NaN       NaN\n",
       "339    黑龙江省         大庆市    18.0    33.0    51.0  0.352941\n",
       "340    黑龙江省        牡丹江市     4.0    12.0    16.0  0.250000\n",
       "341    黑龙江省         绥化市     2.0    14.0    16.0  0.125000\n",
       "342    黑龙江省         鸡西市     3.0     6.0     9.0  0.333333\n",
       "343    黑龙江省         鹤岗市     2.0     1.0     3.0  0.666667\n",
       "344    黑龙江省         黑河市     3.0     4.0     7.0  0.428571\n",
       "345    黑龙江省       齐齐哈尔市    10.0    14.0    24.0  0.416667\n",
       "\n",
       "[346 rows x 6 columns]"
      ],
      "text/html": "<div>\n<style scoped>\n    .dataframe tbody tr th:only-of-type {\n        vertical-align: middle;\n    }\n\n    .dataframe tbody tr th {\n        vertical-align: top;\n    }\n\n    .dataframe thead th {\n        text-align: right;\n    }\n</style>\n<table border=\"1\" class=\"dataframe\">\n  <thead>\n    <tr style=\"text-align: right;\">\n      <th></th>\n      <th>省份</th>\n      <th>城市</th>\n      <th>高客单</th>\n      <th>低客单</th>\n      <th>客单总数</th>\n      <th>高客单占比</th>\n    </tr>\n  </thead>\n  <tbody>\n    <tr>\n      <th>0</th>\n      <td>上海</td>\n      <td>上海市</td>\n      <td>2374.0</td>\n      <td>2818.0</td>\n      <td>5192.0</td>\n      <td>0.457242</td>\n    </tr>\n    <tr>\n      <th>1</th>\n      <td>云南省</td>\n      <td>临沧市</td>\n      <td>2.0</td>\n      <td>3.0</td>\n      <td>5.0</td>\n      <td>0.400000</td>\n    </tr>\n    <tr>\n      <th>2</th>\n      <td>云南省</td>\n      <td>丽江市</td>\n      <td>3.0</td>\n      <td>1.0</td>\n      <td>4.0</td>\n      <td>0.750000</td>\n    </tr>\n    <tr>\n      <th>3</th>\n      <td>云南省</td>\n      <td>保山市</td>\n      <td>2.0</td>\n      <td>6.0</td>\n      <td>8.0</td>\n      <td>0.250000</td>\n    </tr>\n    <tr>\n      <th>4</th>\n      <td>云南省</td>\n      <td>大理白族自治州</td>\n      <td>8.0</td>\n      <td>9.0</td>\n      <td>17.0</td>\n      <td>0.470588</td>\n    </tr>\n    <tr>\n      <th>5</th>\n      <td>云南省</td>\n      <td>德宏傣族景颇族自治州</td>\n      <td>2.0</td>\n      <td>4.0</td>\n      <td>6.0</td>\n      <td>0.333333</td>\n    </tr>\n    <tr>\n      <th>6</th>\n      <td>云南省</td>\n      <td>文山壮族苗族自治州</td>\n      <td>7.0</td>\n      <td>4.0</td>\n      <td>11.0</td>\n      <td>0.636364</td>\n    </tr>\n    <tr>\n      <th>7</th>\n      <td>云南省</td>\n      <td>昆明市</td>\n      <td>71.0</td>\n      <td>100.0</td>\n      <td>171.0</td>\n      <td>0.415205</td>\n    </tr>\n    <tr>\n      <th>8</th>\n      <td>云南省</td>\n      <td>昭通市</td>\n      <td>3.0</td>\n      <td>6.0</td>\n      <td>9.0</td>\n      <td>0.333333</td>\n    </tr>\n    <tr>\n      <th>9</th>\n      <td>云南省</td>\n      <td>普洱市</td>\n      <td>6.0</td>\n      <td>7.0</td>\n      <td>13.0</td>\n      <td>0.461538</td>\n    </tr>\n    <tr>\n      <th>10</th>\n      <td>云南省</td>\n      <td>曲靖市</td>\n      <td>7.0</td>\n      <td>13.0</td>\n      <td>20.0</td>\n      <td>0.350000</td>\n    </tr>\n    <tr>\n      <th>11</th>\n      <td>云南省</td>\n      <td>楚雄彝族自治州</td>\n      <td>1.0</td>\n      <td>4.0</td>\n      <td>5.0</td>\n      <td>0.200000</td>\n    </tr>\n    <tr>\n      <th>12</th>\n      <td>云南省</td>\n      <td>玉溪市</td>\n      <td>6.0</td>\n      <td>7.0</td>\n      <td>13.0</td>\n      <td>0.461538</td>\n    </tr>\n    <tr>\n      <th>13</th>\n      <td>云南省</td>\n      <td>红河哈尼族彝族自治州</td>\n      <td>9.0</td>\n      <td>9.0</td>\n      <td>18.0</td>\n      <td>0.500000</td>\n    </tr>\n    <tr>\n      <th>14</th>\n      <td>云南省</td>\n      <td>西双版纳傣族自治州</td>\n      <td>3.0</td>\n      <td>7.0</td>\n      <td>10.0</td>\n      <td>0.300000</td>\n    </tr>\n    <tr>\n      <th>15</th>\n      <td>内蒙古自治区</td>\n      <td>乌兰察布市</td>\n      <td>6.0</td>\n      <td>5.0</td>\n      <td>11.0</td>\n      <td>0.545455</td>\n    </tr>\n    <tr>\n      <th>16</th>\n      <td>内蒙古自治区</td>\n      <td>乌海市</td>\n      <td>3.0</td>\n      <td>4.0</td>\n      <td>7.0</td>\n      <td>0.428571</td>\n    </tr>\n    <tr>\n      <th>17</th>\n      <td>内蒙古自治区</td>\n      <td>兴安盟</td>\n      <td>3.0</td>\n      <td>6.0</td>\n      <td>9.0</td>\n      <td>0.333333</td>\n    </tr>\n    <tr>\n      <th>18</th>\n      <td>内蒙古自治区</td>\n      <td>包头市</td>\n      <td>8.0</td>\n      <td>17.0</td>\n      <td>25.0</td>\n      <td>0.320000</td>\n    </tr>\n    <tr>\n      <th>19</th>\n      <td>内蒙古自治区</td>\n      <td>呼伦贝尔市</td>\n      <td>4.0</td>\n      <td>16.0</td>\n      <td>20.0</td>\n      <td>0.200000</td>\n    </tr>\n    <tr>\n      <th>20</th>\n      <td>内蒙古自治区</td>\n      <td>呼和浩特市</td>\n      <td>20.0</td>\n      <td>26.0</td>\n      <td>46.0</td>\n      <td>0.434783</td>\n    </tr>\n    <tr>\n      <th>21</th>\n      <td>内蒙古自治区</td>\n      <td>巴彦淖尔市</td>\n      <td>5.0</td>\n      <td>7.0</td>\n      <td>12.0</td>\n      <td>0.416667</td>\n    </tr>\n    <tr>\n      <th>22</th>\n      <td>内蒙古自治区</td>\n      <td>赤峰市</td>\n      <td>6.0</td>\n      <td>6.0</td>\n      <td>12.0</td>\n      <td>0.500000</td>\n    </tr>\n    <tr>\n      <th>23</th>\n      <td>内蒙古自治区</td>\n      <td>通辽市</td>\n      <td>3.0</td>\n      <td>5.0</td>\n      <td>8.0</td>\n      <td>0.375000</td>\n    </tr>\n    <tr>\n      <th>24</th>\n      <td>内蒙古自治区</td>\n      <td>鄂尔多斯市</td>\n      <td>3.0</td>\n      <td>12.0</td>\n      <td>15.0</td>\n      <td>0.200000</td>\n    </tr>\n    <tr>\n      <th>25</th>\n      <td>内蒙古自治区</td>\n      <td>锡林郭勒盟</td>\n      <td>2.0</td>\n      <td>1.0</td>\n      <td>3.0</td>\n      <td>0.666667</td>\n    </tr>\n    <tr>\n      <th>26</th>\n      <td>内蒙古自治区</td>\n      <td>阿拉善盟</td>\n      <td>1.0</td>\n      <td>2.0</td>\n      <td>3.0</td>\n      <td>0.333333</td>\n    </tr>\n    <tr>\n      <th>27</th>\n      <td>北京</td>\n      <td>北京市</td>\n      <td>1203.0</td>\n      <td>1298.0</td>\n      <td>2501.0</td>\n      <td>0.481008</td>\n    </tr>\n    <tr>\n      <th>28</th>\n      <td>吉林省</td>\n      <td>吉林市</td>\n      <td>8.0</td>\n      <td>17.0</td>\n      <td>25.0</td>\n      <td>0.320000</td>\n    </tr>\n    <tr>\n      <th>29</th>\n      <td>吉林省</td>\n      <td>四平市</td>\n      <td>3.0</td>\n      <td>8.0</td>\n      <td>11.0</td>\n      <td>0.272727</td>\n    </tr>\n    <tr>\n      <th>...</th>\n      <td>...</td>\n      <td>...</td>\n      <td>...</td>\n      <td>...</td>\n      <td>...</td>\n      <td>...</td>\n    </tr>\n    <tr>\n      <th>316</th>\n      <td>辽宁省</td>\n      <td>锦州市</td>\n      <td>9.0</td>\n      <td>11.0</td>\n      <td>20.0</td>\n      <td>0.450000</td>\n    </tr>\n    <tr>\n      <th>317</th>\n      <td>辽宁省</td>\n      <td>阜新市</td>\n      <td>1.0</td>\n      <td>6.0</td>\n      <td>7.0</td>\n      <td>0.142857</td>\n    </tr>\n    <tr>\n      <th>318</th>\n      <td>辽宁省</td>\n      <td>鞍山市</td>\n      <td>17.0</td>\n      <td>34.0</td>\n      <td>51.0</td>\n      <td>0.333333</td>\n    </tr>\n    <tr>\n      <th>319</th>\n      <td>重庆</td>\n      <td>重庆市</td>\n      <td>161.0</td>\n      <td>298.0</td>\n      <td>459.0</td>\n      <td>0.350763</td>\n    </tr>\n    <tr>\n      <th>320</th>\n      <td>陕西省</td>\n      <td>咸阳市</td>\n      <td>10.0</td>\n      <td>15.0</td>\n      <td>25.0</td>\n      <td>0.400000</td>\n    </tr>\n    <tr>\n      <th>321</th>\n      <td>陕西省</td>\n      <td>商洛市</td>\n      <td>1.0</td>\n      <td>4.0</td>\n      <td>5.0</td>\n      <td>0.200000</td>\n    </tr>\n    <tr>\n      <th>322</th>\n      <td>陕西省</td>\n      <td>安康市</td>\n      <td>3.0</td>\n      <td>3.0</td>\n      <td>6.0</td>\n      <td>0.500000</td>\n    </tr>\n    <tr>\n      <th>323</th>\n      <td>陕西省</td>\n      <td>宝鸡市</td>\n      <td>8.0</td>\n      <td>6.0</td>\n      <td>14.0</td>\n      <td>0.571429</td>\n    </tr>\n    <tr>\n      <th>324</th>\n      <td>陕西省</td>\n      <td>延安市</td>\n      <td>8.0</td>\n      <td>10.0</td>\n      <td>18.0</td>\n      <td>0.444444</td>\n    </tr>\n    <tr>\n      <th>325</th>\n      <td>陕西省</td>\n      <td>榆林市</td>\n      <td>11.0</td>\n      <td>18.0</td>\n      <td>29.0</td>\n      <td>0.379310</td>\n    </tr>\n    <tr>\n      <th>326</th>\n      <td>陕西省</td>\n      <td>汉中市</td>\n      <td>4.0</td>\n      <td>16.0</td>\n      <td>20.0</td>\n      <td>0.200000</td>\n    </tr>\n    <tr>\n      <th>327</th>\n      <td>陕西省</td>\n      <td>渭南市</td>\n      <td>5.0</td>\n      <td>9.0</td>\n      <td>14.0</td>\n      <td>0.357143</td>\n    </tr>\n    <tr>\n      <th>328</th>\n      <td>陕西省</td>\n      <td>西安市</td>\n      <td>111.0</td>\n      <td>200.0</td>\n      <td>311.0</td>\n      <td>0.356913</td>\n    </tr>\n    <tr>\n      <th>329</th>\n      <td>陕西省</td>\n      <td>铜川市</td>\n      <td>3.0</td>\n      <td>4.0</td>\n      <td>7.0</td>\n      <td>0.428571</td>\n    </tr>\n    <tr>\n      <th>330</th>\n      <td>青海省</td>\n      <td>海西蒙古族藏族自治州</td>\n      <td>1.0</td>\n      <td>3.0</td>\n      <td>4.0</td>\n      <td>0.250000</td>\n    </tr>\n    <tr>\n      <th>331</th>\n      <td>青海省</td>\n      <td>西宁市</td>\n      <td>6.0</td>\n      <td>12.0</td>\n      <td>18.0</td>\n      <td>0.333333</td>\n    </tr>\n    <tr>\n      <th>332</th>\n      <td>青海省</td>\n      <td>黄南藏族自治州</td>\n      <td>NaN</td>\n      <td>1.0</td>\n      <td>NaN</td>\n      <td>NaN</td>\n    </tr>\n    <tr>\n      <th>333</th>\n      <td>黑龙江省</td>\n      <td>七台河市</td>\n      <td>1.0</td>\n      <td>4.0</td>\n      <td>5.0</td>\n      <td>0.200000</td>\n    </tr>\n    <tr>\n      <th>334</th>\n      <td>黑龙江省</td>\n      <td>伊春市</td>\n      <td>3.0</td>\n      <td>5.0</td>\n      <td>8.0</td>\n      <td>0.375000</td>\n    </tr>\n    <tr>\n      <th>335</th>\n      <td>黑龙江省</td>\n      <td>佳木斯市</td>\n      <td>7.0</td>\n      <td>14.0</td>\n      <td>21.0</td>\n      <td>0.333333</td>\n    </tr>\n    <tr>\n      <th>336</th>\n      <td>黑龙江省</td>\n      <td>双鸭山市</td>\n      <td>2.0</td>\n      <td>6.0</td>\n      <td>8.0</td>\n      <td>0.250000</td>\n    </tr>\n    <tr>\n      <th>337</th>\n      <td>黑龙江省</td>\n      <td>哈尔滨市</td>\n      <td>85.0</td>\n      <td>132.0</td>\n      <td>217.0</td>\n      <td>0.391705</td>\n    </tr>\n    <tr>\n      <th>338</th>\n      <td>黑龙江省</td>\n      <td>大兴安岭地区</td>\n      <td>NaN</td>\n      <td>3.0</td>\n      <td>NaN</td>\n      <td>NaN</td>\n    </tr>\n    <tr>\n      <th>339</th>\n      <td>黑龙江省</td>\n      <td>大庆市</td>\n      <td>18.0</td>\n      <td>33.0</td>\n      <td>51.0</td>\n      <td>0.352941</td>\n    </tr>\n    <tr>\n      <th>340</th>\n      <td>黑龙江省</td>\n      <td>牡丹江市</td>\n      <td>4.0</td>\n      <td>12.0</td>\n      <td>16.0</td>\n      <td>0.250000</td>\n    </tr>\n    <tr>\n      <th>341</th>\n      <td>黑龙江省</td>\n      <td>绥化市</td>\n      <td>2.0</td>\n      <td>14.0</td>\n      <td>16.0</td>\n      <td>0.125000</td>\n    </tr>\n    <tr>\n      <th>342</th>\n      <td>黑龙江省</td>\n      <td>鸡西市</td>\n      <td>3.0</td>\n      <td>6.0</td>\n      <td>9.0</td>\n      <td>0.333333</td>\n    </tr>\n    <tr>\n      <th>343</th>\n      <td>黑龙江省</td>\n      <td>鹤岗市</td>\n      <td>2.0</td>\n      <td>1.0</td>\n      <td>3.0</td>\n      <td>0.666667</td>\n    </tr>\n    <tr>\n      <th>344</th>\n      <td>黑龙江省</td>\n      <td>黑河市</td>\n      <td>3.0</td>\n      <td>4.0</td>\n      <td>7.0</td>\n      <td>0.428571</td>\n    </tr>\n    <tr>\n      <th>345</th>\n      <td>黑龙江省</td>\n      <td>齐齐哈尔市</td>\n      <td>10.0</td>\n      <td>14.0</td>\n      <td>24.0</td>\n      <td>0.416667</td>\n    </tr>\n  </tbody>\n</table>\n<p>346 rows × 6 columns</p>\n</div>"
     },
     "metadata": {},
     "execution_count": 827
    }
   ],
   "source": [
    "tgi['客单总数'] = tgi['高客单']+tgi['低客单']\n",
    "tgi['高客单占比'] = tgi['高客单']/tgi['客单总数']\n",
    "tgi#.head()"
   ]
  },
  {
   "cell_type": "code",
   "execution_count": 828,
   "metadata": {},
   "outputs": [
    {
     "output_type": "stream",
     "name": "stdout",
     "text": [
      "<class 'pandas.core.frame.DataFrame'>\nInt64Index: 346 entries, 0 to 345\nData columns (total 6 columns):\n省份       346 non-null object\n城市       346 non-null object\n高客单      332 non-null float64\n低客单      329 non-null float64\n客单总数     315 non-null float64\n高客单占比    315 non-null float64\ndtypes: float64(4), object(2)\nmemory usage: 18.9+ KB\n"
     ]
    }
   ],
   "source": [
    "tgi.info()"
   ]
  },
  {
   "cell_type": "code",
   "execution_count": 829,
   "metadata": {},
   "outputs": [
    {
     "output_type": "stream",
     "name": "stdout",
     "text": [
      "<class 'pandas.core.frame.DataFrame'>\nInt64Index: 315 entries, 0 to 345\nData columns (total 6 columns):\n省份       315 non-null object\n城市       315 non-null object\n高客单      315 non-null float64\n低客单      315 non-null float64\n客单总数     315 non-null float64\n高客单占比    315 non-null float64\ndtypes: float64(4), object(2)\nmemory usage: 17.2+ KB\n"
     ]
    }
   ],
   "source": [
    "tgi = tgi.dropna()#删除空值\n",
    "tgi.info()"
   ]
  },
  {
   "cell_type": "code",
   "execution_count": 830,
   "metadata": {},
   "outputs": [
    {
     "output_type": "execute_result",
     "data": {
      "text/plain": [
       "0.41528303343887557"
      ]
     },
     "metadata": {},
     "execution_count": 830
    }
   ],
   "source": [
    "total_p = tgi['高客单'].sum()/tgi['客单总数'].sum()\n",
    "total_p"
   ]
  },
  {
   "cell_type": "code",
   "execution_count": 831,
   "metadata": {},
   "outputs": [
    {
     "output_type": "execute_result",
     "data": {
      "text/plain": [
       "           省份          城市    高客单    低客单   客单总数     高客单占比       tgi指数\n",
       "149  新疆维吾尔自治区         哈密市    4.0    1.0    5.0  0.800000  192.639702\n",
       "152  新疆维吾尔自治区   巴音郭楞蒙古自治州   10.0    3.0   13.0  0.769231  185.230483\n",
       "2         云南省         丽江市    3.0    1.0    4.0  0.750000  180.599721\n",
       "277       甘肃省         白银市    3.0    1.0    4.0  0.750000  180.599721\n",
       "34        吉林省         辽源市    2.0    1.0    3.0  0.666667  160.533085\n",
       "44        四川省         广安市    6.0    3.0    9.0  0.666667  160.533085\n",
       "136   广西壮族自治区         河池市    4.0    2.0    6.0  0.666667  160.533085\n",
       "25     内蒙古自治区       锡林郭勒盟    2.0    1.0    3.0  0.666667  160.533085\n",
       "343      黑龙江省         鹤岗市    2.0    1.0    3.0  0.666667  160.533085\n",
       "97        山西省         临汾市    9.0    5.0   14.0  0.642857  154.799761\n",
       "6         云南省   文山壮族苗族自治州    7.0    4.0   11.0  0.636364  153.236127\n",
       "240       湖北省         天门市    5.0    3.0    8.0  0.625000  150.499768\n",
       "53        四川省         资阳市    6.0    4.0   10.0  0.600000  144.479777\n",
       "146  新疆维吾尔自治区       克拉玛依市    6.0    4.0   10.0  0.600000  144.479777\n",
       "323       陕西省         宝鸡市    8.0    6.0   14.0  0.571429  137.599787\n",
       "140   广西壮族自治区         贺州市    4.0    3.0    7.0  0.571429  137.599787\n",
       "210       河南省         鹤壁市    5.0    4.0    9.0  0.555556  133.777571\n",
       "15     内蒙古自治区       乌兰察布市    6.0    5.0   11.0  0.545455  131.345252\n",
       "125       广东省         肇庆市   13.0   11.0   24.0  0.541667  130.433132\n",
       "79        安徽省         黄山市    7.0    6.0   13.0  0.538462  129.661338\n",
       "191       河北省         邢台市    8.0    7.0   15.0  0.533333  128.426468\n",
       "281       福建省         三明市   10.0    9.0   19.0  0.526316  126.736646\n",
       "37        四川省         乐山市   11.0   10.0   21.0  0.523810  126.133139\n",
       "287       福建省         福州市  145.0  135.0  280.0  0.517857  124.699807\n",
       "225       海南省         临高县    2.0    2.0    4.0  0.500000  120.399814\n",
       "251       湖北省         随州市    4.0    4.0    8.0  0.500000  120.399814\n",
       "48        四川省         泸州市   16.0   16.0   32.0  0.500000  120.399814\n",
       "143  新疆维吾尔自治区       乌鲁木齐市   30.0   30.0   60.0  0.500000  120.399814\n",
       "13        云南省  红河哈尼族彝族自治州    9.0    9.0   18.0  0.500000  120.399814\n",
       "129   广西壮族自治区         北海市    5.0    5.0   10.0  0.500000  120.399814\n",
       "..        ...         ...    ...    ...    ...       ...         ...\n",
       "181       江西省         鹰潭市    1.0    4.0    5.0  0.200000   48.159926\n",
       "187       河北省         沧州市    6.0   24.0   30.0  0.200000   48.159926\n",
       "326       陕西省         汉中市    4.0   16.0   20.0  0.200000   48.159926\n",
       "142   广西壮族自治区        防城港市    1.0    4.0    5.0  0.200000   48.159926\n",
       "11        云南省     楚雄彝族自治州    1.0    4.0    5.0  0.200000   48.159926\n",
       "260       湖南省         永州市    3.0   12.0   15.0  0.200000   48.159926\n",
       "321       陕西省         商洛市    1.0    4.0    5.0  0.200000   48.159926\n",
       "24     内蒙古自治区       鄂尔多斯市    3.0   12.0   15.0  0.200000   48.159926\n",
       "333      黑龙江省        七台河市    1.0    4.0    5.0  0.200000   48.159926\n",
       "19     内蒙古自治区       呼伦贝尔市    4.0   16.0   20.0  0.200000   48.159926\n",
       "248       湖北省         荆门市    4.0   16.0   20.0  0.200000   48.159926\n",
       "50        四川省         眉山市    2.0    8.0   10.0  0.200000   48.159926\n",
       "110       广东省         云浮市    2.0    8.0   10.0  0.200000   48.159926\n",
       "171       江西省         上饶市    4.0   17.0   21.0  0.190476   45.866596\n",
       "64        安徽省         亳州市    2.0    9.0   11.0  0.181818   43.781751\n",
       "289       福建省         龙岩市    4.0   19.0   23.0  0.173913   41.878196\n",
       "102       山西省         晋中市    4.0   19.0   23.0  0.173913   41.878196\n",
       "135   广西壮族自治区         梧州市    2.0   10.0   12.0  0.166667   40.133271\n",
       "301       贵州省         铜仁市    1.0    5.0    6.0  0.166667   40.133271\n",
       "296       贵州省        六盘水市    2.0   10.0   12.0  0.166667   40.133271\n",
       "95        山东省         菏泽市    2.0   11.0   13.0  0.153846   37.046097\n",
       "197       河南省         商丘市    2.0   12.0   14.0  0.142857   34.399947\n",
       "153  新疆维吾尔自治区     昌吉回族自治州    1.0    6.0    7.0  0.142857   34.399947\n",
       "317       辽宁省         阜新市    1.0    6.0    7.0  0.142857   34.399947\n",
       "237       湖北省         仙桃市    1.0    7.0    8.0  0.125000   30.099954\n",
       "341      黑龙江省         绥化市    2.0   14.0   16.0  0.125000   30.099954\n",
       "117       广东省         汕尾市    2.0   15.0   17.0  0.117647   28.329368\n",
       "30        吉林省    延边朝鲜族自治州    1.0    8.0    9.0  0.111111   26.755514\n",
       "198       河南省         安阳市    2.0   18.0   20.0  0.100000   24.079963\n",
       "298       贵州省         毕节市    1.0   10.0   11.0  0.090909   21.890875\n",
       "\n",
       "[315 rows x 7 columns]"
      ],
      "text/html": "<div>\n<style scoped>\n    .dataframe tbody tr th:only-of-type {\n        vertical-align: middle;\n    }\n\n    .dataframe tbody tr th {\n        vertical-align: top;\n    }\n\n    .dataframe thead th {\n        text-align: right;\n    }\n</style>\n<table border=\"1\" class=\"dataframe\">\n  <thead>\n    <tr style=\"text-align: right;\">\n      <th></th>\n      <th>省份</th>\n      <th>城市</th>\n      <th>高客单</th>\n      <th>低客单</th>\n      <th>客单总数</th>\n      <th>高客单占比</th>\n      <th>tgi指数</th>\n    </tr>\n  </thead>\n  <tbody>\n    <tr>\n      <th>149</th>\n      <td>新疆维吾尔自治区</td>\n      <td>哈密市</td>\n      <td>4.0</td>\n      <td>1.0</td>\n      <td>5.0</td>\n      <td>0.800000</td>\n      <td>192.639702</td>\n    </tr>\n    <tr>\n      <th>152</th>\n      <td>新疆维吾尔自治区</td>\n      <td>巴音郭楞蒙古自治州</td>\n      <td>10.0</td>\n      <td>3.0</td>\n      <td>13.0</td>\n      <td>0.769231</td>\n      <td>185.230483</td>\n    </tr>\n    <tr>\n      <th>2</th>\n      <td>云南省</td>\n      <td>丽江市</td>\n      <td>3.0</td>\n      <td>1.0</td>\n      <td>4.0</td>\n      <td>0.750000</td>\n      <td>180.599721</td>\n    </tr>\n    <tr>\n      <th>277</th>\n      <td>甘肃省</td>\n      <td>白银市</td>\n      <td>3.0</td>\n      <td>1.0</td>\n      <td>4.0</td>\n      <td>0.750000</td>\n      <td>180.599721</td>\n    </tr>\n    <tr>\n      <th>34</th>\n      <td>吉林省</td>\n      <td>辽源市</td>\n      <td>2.0</td>\n      <td>1.0</td>\n      <td>3.0</td>\n      <td>0.666667</td>\n      <td>160.533085</td>\n    </tr>\n    <tr>\n      <th>44</th>\n      <td>四川省</td>\n      <td>广安市</td>\n      <td>6.0</td>\n      <td>3.0</td>\n      <td>9.0</td>\n      <td>0.666667</td>\n      <td>160.533085</td>\n    </tr>\n    <tr>\n      <th>136</th>\n      <td>广西壮族自治区</td>\n      <td>河池市</td>\n      <td>4.0</td>\n      <td>2.0</td>\n      <td>6.0</td>\n      <td>0.666667</td>\n      <td>160.533085</td>\n    </tr>\n    <tr>\n      <th>25</th>\n      <td>内蒙古自治区</td>\n      <td>锡林郭勒盟</td>\n      <td>2.0</td>\n      <td>1.0</td>\n      <td>3.0</td>\n      <td>0.666667</td>\n      <td>160.533085</td>\n    </tr>\n    <tr>\n      <th>343</th>\n      <td>黑龙江省</td>\n      <td>鹤岗市</td>\n      <td>2.0</td>\n      <td>1.0</td>\n      <td>3.0</td>\n      <td>0.666667</td>\n      <td>160.533085</td>\n    </tr>\n    <tr>\n      <th>97</th>\n      <td>山西省</td>\n      <td>临汾市</td>\n      <td>9.0</td>\n      <td>5.0</td>\n      <td>14.0</td>\n      <td>0.642857</td>\n      <td>154.799761</td>\n    </tr>\n    <tr>\n      <th>6</th>\n      <td>云南省</td>\n      <td>文山壮族苗族自治州</td>\n      <td>7.0</td>\n      <td>4.0</td>\n      <td>11.0</td>\n      <td>0.636364</td>\n      <td>153.236127</td>\n    </tr>\n    <tr>\n      <th>240</th>\n      <td>湖北省</td>\n      <td>天门市</td>\n      <td>5.0</td>\n      <td>3.0</td>\n      <td>8.0</td>\n      <td>0.625000</td>\n      <td>150.499768</td>\n    </tr>\n    <tr>\n      <th>53</th>\n      <td>四川省</td>\n      <td>资阳市</td>\n      <td>6.0</td>\n      <td>4.0</td>\n      <td>10.0</td>\n      <td>0.600000</td>\n      <td>144.479777</td>\n    </tr>\n    <tr>\n      <th>146</th>\n      <td>新疆维吾尔自治区</td>\n      <td>克拉玛依市</td>\n      <td>6.0</td>\n      <td>4.0</td>\n      <td>10.0</td>\n      <td>0.600000</td>\n      <td>144.479777</td>\n    </tr>\n    <tr>\n      <th>323</th>\n      <td>陕西省</td>\n      <td>宝鸡市</td>\n      <td>8.0</td>\n      <td>6.0</td>\n      <td>14.0</td>\n      <td>0.571429</td>\n      <td>137.599787</td>\n    </tr>\n    <tr>\n      <th>140</th>\n      <td>广西壮族自治区</td>\n      <td>贺州市</td>\n      <td>4.0</td>\n      <td>3.0</td>\n      <td>7.0</td>\n      <td>0.571429</td>\n      <td>137.599787</td>\n    </tr>\n    <tr>\n      <th>210</th>\n      <td>河南省</td>\n      <td>鹤壁市</td>\n      <td>5.0</td>\n      <td>4.0</td>\n      <td>9.0</td>\n      <td>0.555556</td>\n      <td>133.777571</td>\n    </tr>\n    <tr>\n      <th>15</th>\n      <td>内蒙古自治区</td>\n      <td>乌兰察布市</td>\n      <td>6.0</td>\n      <td>5.0</td>\n      <td>11.0</td>\n      <td>0.545455</td>\n      <td>131.345252</td>\n    </tr>\n    <tr>\n      <th>125</th>\n      <td>广东省</td>\n      <td>肇庆市</td>\n      <td>13.0</td>\n      <td>11.0</td>\n      <td>24.0</td>\n      <td>0.541667</td>\n      <td>130.433132</td>\n    </tr>\n    <tr>\n      <th>79</th>\n      <td>安徽省</td>\n      <td>黄山市</td>\n      <td>7.0</td>\n      <td>6.0</td>\n      <td>13.0</td>\n      <td>0.538462</td>\n      <td>129.661338</td>\n    </tr>\n    <tr>\n      <th>191</th>\n      <td>河北省</td>\n      <td>邢台市</td>\n      <td>8.0</td>\n      <td>7.0</td>\n      <td>15.0</td>\n      <td>0.533333</td>\n      <td>128.426468</td>\n    </tr>\n    <tr>\n      <th>281</th>\n      <td>福建省</td>\n      <td>三明市</td>\n      <td>10.0</td>\n      <td>9.0</td>\n      <td>19.0</td>\n      <td>0.526316</td>\n      <td>126.736646</td>\n    </tr>\n    <tr>\n      <th>37</th>\n      <td>四川省</td>\n      <td>乐山市</td>\n      <td>11.0</td>\n      <td>10.0</td>\n      <td>21.0</td>\n      <td>0.523810</td>\n      <td>126.133139</td>\n    </tr>\n    <tr>\n      <th>287</th>\n      <td>福建省</td>\n      <td>福州市</td>\n      <td>145.0</td>\n      <td>135.0</td>\n      <td>280.0</td>\n      <td>0.517857</td>\n      <td>124.699807</td>\n    </tr>\n    <tr>\n      <th>225</th>\n      <td>海南省</td>\n      <td>临高县</td>\n      <td>2.0</td>\n      <td>2.0</td>\n      <td>4.0</td>\n      <td>0.500000</td>\n      <td>120.399814</td>\n    </tr>\n    <tr>\n      <th>251</th>\n      <td>湖北省</td>\n      <td>随州市</td>\n      <td>4.0</td>\n      <td>4.0</td>\n      <td>8.0</td>\n      <td>0.500000</td>\n      <td>120.399814</td>\n    </tr>\n    <tr>\n      <th>48</th>\n      <td>四川省</td>\n      <td>泸州市</td>\n      <td>16.0</td>\n      <td>16.0</td>\n      <td>32.0</td>\n      <td>0.500000</td>\n      <td>120.399814</td>\n    </tr>\n    <tr>\n      <th>143</th>\n      <td>新疆维吾尔自治区</td>\n      <td>乌鲁木齐市</td>\n      <td>30.0</td>\n      <td>30.0</td>\n      <td>60.0</td>\n      <td>0.500000</td>\n      <td>120.399814</td>\n    </tr>\n    <tr>\n      <th>13</th>\n      <td>云南省</td>\n      <td>红河哈尼族彝族自治州</td>\n      <td>9.0</td>\n      <td>9.0</td>\n      <td>18.0</td>\n      <td>0.500000</td>\n      <td>120.399814</td>\n    </tr>\n    <tr>\n      <th>129</th>\n      <td>广西壮族自治区</td>\n      <td>北海市</td>\n      <td>5.0</td>\n      <td>5.0</td>\n      <td>10.0</td>\n      <td>0.500000</td>\n      <td>120.399814</td>\n    </tr>\n    <tr>\n      <th>...</th>\n      <td>...</td>\n      <td>...</td>\n      <td>...</td>\n      <td>...</td>\n      <td>...</td>\n      <td>...</td>\n      <td>...</td>\n    </tr>\n    <tr>\n      <th>181</th>\n      <td>江西省</td>\n      <td>鹰潭市</td>\n      <td>1.0</td>\n      <td>4.0</td>\n      <td>5.0</td>\n      <td>0.200000</td>\n      <td>48.159926</td>\n    </tr>\n    <tr>\n      <th>187</th>\n      <td>河北省</td>\n      <td>沧州市</td>\n      <td>6.0</td>\n      <td>24.0</td>\n      <td>30.0</td>\n      <td>0.200000</td>\n      <td>48.159926</td>\n    </tr>\n    <tr>\n      <th>326</th>\n      <td>陕西省</td>\n      <td>汉中市</td>\n      <td>4.0</td>\n      <td>16.0</td>\n      <td>20.0</td>\n      <td>0.200000</td>\n      <td>48.159926</td>\n    </tr>\n    <tr>\n      <th>142</th>\n      <td>广西壮族自治区</td>\n      <td>防城港市</td>\n      <td>1.0</td>\n      <td>4.0</td>\n      <td>5.0</td>\n      <td>0.200000</td>\n      <td>48.159926</td>\n    </tr>\n    <tr>\n      <th>11</th>\n      <td>云南省</td>\n      <td>楚雄彝族自治州</td>\n      <td>1.0</td>\n      <td>4.0</td>\n      <td>5.0</td>\n      <td>0.200000</td>\n      <td>48.159926</td>\n    </tr>\n    <tr>\n      <th>260</th>\n      <td>湖南省</td>\n      <td>永州市</td>\n      <td>3.0</td>\n      <td>12.0</td>\n      <td>15.0</td>\n      <td>0.200000</td>\n      <td>48.159926</td>\n    </tr>\n    <tr>\n      <th>321</th>\n      <td>陕西省</td>\n      <td>商洛市</td>\n      <td>1.0</td>\n      <td>4.0</td>\n      <td>5.0</td>\n      <td>0.200000</td>\n      <td>48.159926</td>\n    </tr>\n    <tr>\n      <th>24</th>\n      <td>内蒙古自治区</td>\n      <td>鄂尔多斯市</td>\n      <td>3.0</td>\n      <td>12.0</td>\n      <td>15.0</td>\n      <td>0.200000</td>\n      <td>48.159926</td>\n    </tr>\n    <tr>\n      <th>333</th>\n      <td>黑龙江省</td>\n      <td>七台河市</td>\n      <td>1.0</td>\n      <td>4.0</td>\n      <td>5.0</td>\n      <td>0.200000</td>\n      <td>48.159926</td>\n    </tr>\n    <tr>\n      <th>19</th>\n      <td>内蒙古自治区</td>\n      <td>呼伦贝尔市</td>\n      <td>4.0</td>\n      <td>16.0</td>\n      <td>20.0</td>\n      <td>0.200000</td>\n      <td>48.159926</td>\n    </tr>\n    <tr>\n      <th>248</th>\n      <td>湖北省</td>\n      <td>荆门市</td>\n      <td>4.0</td>\n      <td>16.0</td>\n      <td>20.0</td>\n      <td>0.200000</td>\n      <td>48.159926</td>\n    </tr>\n    <tr>\n      <th>50</th>\n      <td>四川省</td>\n      <td>眉山市</td>\n      <td>2.0</td>\n      <td>8.0</td>\n      <td>10.0</td>\n      <td>0.200000</td>\n      <td>48.159926</td>\n    </tr>\n    <tr>\n      <th>110</th>\n      <td>广东省</td>\n      <td>云浮市</td>\n      <td>2.0</td>\n      <td>8.0</td>\n      <td>10.0</td>\n      <td>0.200000</td>\n      <td>48.159926</td>\n    </tr>\n    <tr>\n      <th>171</th>\n      <td>江西省</td>\n      <td>上饶市</td>\n      <td>4.0</td>\n      <td>17.0</td>\n      <td>21.0</td>\n      <td>0.190476</td>\n      <td>45.866596</td>\n    </tr>\n    <tr>\n      <th>64</th>\n      <td>安徽省</td>\n      <td>亳州市</td>\n      <td>2.0</td>\n      <td>9.0</td>\n      <td>11.0</td>\n      <td>0.181818</td>\n      <td>43.781751</td>\n    </tr>\n    <tr>\n      <th>289</th>\n      <td>福建省</td>\n      <td>龙岩市</td>\n      <td>4.0</td>\n      <td>19.0</td>\n      <td>23.0</td>\n      <td>0.173913</td>\n      <td>41.878196</td>\n    </tr>\n    <tr>\n      <th>102</th>\n      <td>山西省</td>\n      <td>晋中市</td>\n      <td>4.0</td>\n      <td>19.0</td>\n      <td>23.0</td>\n      <td>0.173913</td>\n      <td>41.878196</td>\n    </tr>\n    <tr>\n      <th>135</th>\n      <td>广西壮族自治区</td>\n      <td>梧州市</td>\n      <td>2.0</td>\n      <td>10.0</td>\n      <td>12.0</td>\n      <td>0.166667</td>\n      <td>40.133271</td>\n    </tr>\n    <tr>\n      <th>301</th>\n      <td>贵州省</td>\n      <td>铜仁市</td>\n      <td>1.0</td>\n      <td>5.0</td>\n      <td>6.0</td>\n      <td>0.166667</td>\n      <td>40.133271</td>\n    </tr>\n    <tr>\n      <th>296</th>\n      <td>贵州省</td>\n      <td>六盘水市</td>\n      <td>2.0</td>\n      <td>10.0</td>\n      <td>12.0</td>\n      <td>0.166667</td>\n      <td>40.133271</td>\n    </tr>\n    <tr>\n      <th>95</th>\n      <td>山东省</td>\n      <td>菏泽市</td>\n      <td>2.0</td>\n      <td>11.0</td>\n      <td>13.0</td>\n      <td>0.153846</td>\n      <td>37.046097</td>\n    </tr>\n    <tr>\n      <th>197</th>\n      <td>河南省</td>\n      <td>商丘市</td>\n      <td>2.0</td>\n      <td>12.0</td>\n      <td>14.0</td>\n      <td>0.142857</td>\n      <td>34.399947</td>\n    </tr>\n    <tr>\n      <th>153</th>\n      <td>新疆维吾尔自治区</td>\n      <td>昌吉回族自治州</td>\n      <td>1.0</td>\n      <td>6.0</td>\n      <td>7.0</td>\n      <td>0.142857</td>\n      <td>34.399947</td>\n    </tr>\n    <tr>\n      <th>317</th>\n      <td>辽宁省</td>\n      <td>阜新市</td>\n      <td>1.0</td>\n      <td>6.0</td>\n      <td>7.0</td>\n      <td>0.142857</td>\n      <td>34.399947</td>\n    </tr>\n    <tr>\n      <th>237</th>\n      <td>湖北省</td>\n      <td>仙桃市</td>\n      <td>1.0</td>\n      <td>7.0</td>\n      <td>8.0</td>\n      <td>0.125000</td>\n      <td>30.099954</td>\n    </tr>\n    <tr>\n      <th>341</th>\n      <td>黑龙江省</td>\n      <td>绥化市</td>\n      <td>2.0</td>\n      <td>14.0</td>\n      <td>16.0</td>\n      <td>0.125000</td>\n      <td>30.099954</td>\n    </tr>\n    <tr>\n      <th>117</th>\n      <td>广东省</td>\n      <td>汕尾市</td>\n      <td>2.0</td>\n      <td>15.0</td>\n      <td>17.0</td>\n      <td>0.117647</td>\n      <td>28.329368</td>\n    </tr>\n    <tr>\n      <th>30</th>\n      <td>吉林省</td>\n      <td>延边朝鲜族自治州</td>\n      <td>1.0</td>\n      <td>8.0</td>\n      <td>9.0</td>\n      <td>0.111111</td>\n      <td>26.755514</td>\n    </tr>\n    <tr>\n      <th>198</th>\n      <td>河南省</td>\n      <td>安阳市</td>\n      <td>2.0</td>\n      <td>18.0</td>\n      <td>20.0</td>\n      <td>0.100000</td>\n      <td>24.079963</td>\n    </tr>\n    <tr>\n      <th>298</th>\n      <td>贵州省</td>\n      <td>毕节市</td>\n      <td>1.0</td>\n      <td>10.0</td>\n      <td>11.0</td>\n      <td>0.090909</td>\n      <td>21.890875</td>\n    </tr>\n  </tbody>\n</table>\n<p>315 rows × 7 columns</p>\n</div>"
     },
     "metadata": {},
     "execution_count": 831
    }
   ],
   "source": [
    "tgi['tgi指数'] = tgi['高客单占比']/total_p*100\n",
    "tgi_fin = tgi.sort_values('tgi指数',ascending=False)\n",
    "tgi_fin"
   ]
  },
  {
   "cell_type": "code",
   "execution_count": 832,
   "metadata": {},
   "outputs": [],
   "source": [
    "#TGI 指数能够显示偏好的强弱，但很容易让人忽略具体的样本量大小"
   ]
  },
  {
   "cell_type": "code",
   "execution_count": 8,
   "metadata": {},
   "outputs": [
    {
     "output_type": "error",
     "ename": "NameError",
     "evalue": "name 'tgi_fin' is not defined",
     "traceback": [
      "\u001b[1;31m---------------------------------------------------------------------------\u001b[0m",
      "\u001b[1;31mNameError\u001b[0m                                 Traceback (most recent call last)",
      "\u001b[1;32m<ipython-input-8-ad6f90eb7083>\u001b[0m in \u001b[0;36m<module>\u001b[1;34m()\u001b[0m\n\u001b[1;32m----> 1\u001b[1;33m \u001b[0mtgi_fin\u001b[0m \u001b[1;33m=\u001b[0m \u001b[0mtgi_fin\u001b[0m\u001b[1;33m.\u001b[0m\u001b[0mloc\u001b[0m\u001b[1;33m[\u001b[0m\u001b[1;33m(\u001b[0m\u001b[0mtgi_fin\u001b[0m\u001b[1;33m[\u001b[0m\u001b[1;34m'客单总数'\u001b[0m\u001b[1;33m]\u001b[0m\u001b[1;33m>\u001b[0m\u001b[0mtgi_fin\u001b[0m\u001b[1;33m[\u001b[0m\u001b[1;34m'客单总数'\u001b[0m\u001b[1;33m]\u001b[0m\u001b[1;33m.\u001b[0m\u001b[0mmean\u001b[0m\u001b[1;33m(\u001b[0m\u001b[1;33m)\u001b[0m\u001b[1;33m)\u001b[0m \u001b[1;33m&\u001b[0m \u001b[1;33m(\u001b[0m\u001b[0mtgi_fin\u001b[0m\u001b[1;33m[\u001b[0m\u001b[1;34m'高客单'\u001b[0m\u001b[1;33m]\u001b[0m\u001b[1;33m>\u001b[0m\u001b[0mtgi_fin\u001b[0m\u001b[1;33m[\u001b[0m\u001b[1;34m'高客单'\u001b[0m\u001b[1;33m]\u001b[0m\u001b[1;33m.\u001b[0m\u001b[0mmean\u001b[0m\u001b[1;33m(\u001b[0m\u001b[1;33m)\u001b[0m\u001b[1;33m)\u001b[0m \u001b[1;33m,\u001b[0m\u001b[1;33m:\u001b[0m\u001b[1;33m]\u001b[0m\u001b[1;33m.\u001b[0m\u001b[0mreset_index\u001b[0m\u001b[1;33m(\u001b[0m\u001b[1;33m)\u001b[0m\u001b[1;33m\u001b[0m\u001b[0m\n\u001b[0m\u001b[0;32m      2\u001b[0m \u001b[0mtgi_fin\u001b[0m\u001b[1;33m\u001b[0m\u001b[0m\n",
      "\u001b[1;31mNameError\u001b[0m: name 'tgi_fin' is not defined"
     ]
    }
   ],
   "source": [
    "tgi_fin = tgi_fin.loc[(tgi_fin['客单总数']>tgi_fin['客单总数'].mean()) & (tgi_fin['高客单']>tgi_fin['高客单'].mean()) ,:].reset_index()\n",
    "tgi_fin"
   ]
  },
  {
   "source": [
    "# TGI指数就是某一群体中的特定人群占比 与 该群体在总人数中的占比 之间的占比\n",
    "在这里就是：(高客单/该城市客单总数)/(所有城市高客单数/所有城市客单总数)*100 以100为基准\n",
    "如果你想学好数据分析，那么这些东西你一定要尽快地吸收，TGI\n",
    "在这里，需要确定高客单的判断标准，以及客单总数的最小样本要求，高客单的最小样本要求，因为会存在有些城市没有一个高客单，那这时就是一个空值"
   ],
   "cell_type": "markdown",
   "metadata": {}
  },
  {
   "source": [
    "# RFM 建模实战 "
   ],
   "cell_type": "markdown",
   "metadata": {}
  },
  {
   "source": [
    "R，Rencency，即每个客户有多少天没回购了，可以理解为最近一次购买到现在\n",
    "隔了多少天。\n",
    "• F，Frequency，是每个客户购买了多少次。\n",
    "• M，Monetary，代表每个客户平均购买金额，这里也可以是累计购买金额。"
   ],
   "cell_type": "markdown",
   "metadata": {}
  },
  {
   "source": [
    "在实际的业务场景中，一个用户在一天内的多次消费行为，应该从整体上看作一次"
   ],
   "cell_type": "markdown",
   "metadata": {}
  },
  {
   "cell_type": "code",
   "execution_count": 7,
   "metadata": {},
   "outputs": [
    {
     "output_type": "error",
     "ename": "FileNotFoundError",
     "evalue": "[Errno 2] No such file or directory: 'D:/Python/07 RFM建模实战/RFM/PYTHON-RFM实战数据.xlsx'",
     "traceback": [
      "\u001b[1;31m---------------------------------------------------------------------------\u001b[0m",
      "\u001b[1;31mFileNotFoundError\u001b[0m                         Traceback (most recent call last)",
      "\u001b[1;32m<ipython-input-7-cf87cecb6ed9>\u001b[0m in \u001b[0;36m<module>\u001b[1;34m()\u001b[0m\n\u001b[1;32m----> 1\u001b[1;33m \u001b[0mdf\u001b[0m \u001b[1;33m=\u001b[0m \u001b[0mpd\u001b[0m\u001b[1;33m.\u001b[0m\u001b[0mread_excel\u001b[0m\u001b[1;33m(\u001b[0m\u001b[1;34m'D:/Python/07 RFM建模实战/RFM/PYTHON-RFM实战数据.xlsx'\u001b[0m\u001b[1;33m)\u001b[0m\u001b[1;33m\u001b[0m\u001b[0m\n\u001b[0m\u001b[0;32m      2\u001b[0m \u001b[0mdf\u001b[0m\u001b[1;33m.\u001b[0m\u001b[0mhead\u001b[0m\u001b[1;33m(\u001b[0m\u001b[1;33m)\u001b[0m\u001b[1;33m\u001b[0m\u001b[0m\n",
      "\u001b[1;32m~\\AppData\\Roaming\\Python\\Python37\\site-packages\\pandas\\util\\_decorators.py\u001b[0m in \u001b[0;36mwrapper\u001b[1;34m(*args, **kwargs)\u001b[0m\n\u001b[0;32m    294\u001b[0m                 )\n\u001b[0;32m    295\u001b[0m                 \u001b[0mwarnings\u001b[0m\u001b[1;33m.\u001b[0m\u001b[0mwarn\u001b[0m\u001b[1;33m(\u001b[0m\u001b[0mmsg\u001b[0m\u001b[1;33m,\u001b[0m \u001b[0mFutureWarning\u001b[0m\u001b[1;33m,\u001b[0m \u001b[0mstacklevel\u001b[0m\u001b[1;33m=\u001b[0m\u001b[0mstacklevel\u001b[0m\u001b[1;33m)\u001b[0m\u001b[1;33m\u001b[0m\u001b[0m\n\u001b[1;32m--> 296\u001b[1;33m             \u001b[1;32mreturn\u001b[0m \u001b[0mfunc\u001b[0m\u001b[1;33m(\u001b[0m\u001b[1;33m*\u001b[0m\u001b[0margs\u001b[0m\u001b[1;33m,\u001b[0m \u001b[1;33m**\u001b[0m\u001b[0mkwargs\u001b[0m\u001b[1;33m)\u001b[0m\u001b[1;33m\u001b[0m\u001b[0m\n\u001b[0m\u001b[0;32m    297\u001b[0m \u001b[1;33m\u001b[0m\u001b[0m\n\u001b[0;32m    298\u001b[0m         \u001b[1;32mreturn\u001b[0m \u001b[0mwrapper\u001b[0m\u001b[1;33m\u001b[0m\u001b[0m\n",
      "\u001b[1;32m~\\AppData\\Roaming\\Python\\Python37\\site-packages\\pandas\\io\\excel\\_base.py\u001b[0m in \u001b[0;36mread_excel\u001b[1;34m(io, sheet_name, header, names, index_col, usecols, squeeze, dtype, engine, converters, true_values, false_values, skiprows, nrows, na_values, keep_default_na, na_filter, verbose, parse_dates, date_parser, thousands, comment, skipfooter, convert_float, mangle_dupe_cols)\u001b[0m\n\u001b[0;32m    302\u001b[0m \u001b[1;33m\u001b[0m\u001b[0m\n\u001b[0;32m    303\u001b[0m     \u001b[1;32mif\u001b[0m \u001b[1;32mnot\u001b[0m \u001b[0misinstance\u001b[0m\u001b[1;33m(\u001b[0m\u001b[0mio\u001b[0m\u001b[1;33m,\u001b[0m \u001b[0mExcelFile\u001b[0m\u001b[1;33m)\u001b[0m\u001b[1;33m:\u001b[0m\u001b[1;33m\u001b[0m\u001b[0m\n\u001b[1;32m--> 304\u001b[1;33m         \u001b[0mio\u001b[0m \u001b[1;33m=\u001b[0m \u001b[0mExcelFile\u001b[0m\u001b[1;33m(\u001b[0m\u001b[0mio\u001b[0m\u001b[1;33m,\u001b[0m \u001b[0mengine\u001b[0m\u001b[1;33m=\u001b[0m\u001b[0mengine\u001b[0m\u001b[1;33m)\u001b[0m\u001b[1;33m\u001b[0m\u001b[0m\n\u001b[0m\u001b[0;32m    305\u001b[0m     \u001b[1;32melif\u001b[0m \u001b[0mengine\u001b[0m \u001b[1;32mand\u001b[0m \u001b[0mengine\u001b[0m \u001b[1;33m!=\u001b[0m \u001b[0mio\u001b[0m\u001b[1;33m.\u001b[0m\u001b[0mengine\u001b[0m\u001b[1;33m:\u001b[0m\u001b[1;33m\u001b[0m\u001b[0m\n\u001b[0;32m    306\u001b[0m         raise ValueError(\n",
      "\u001b[1;32m~\\AppData\\Roaming\\Python\\Python37\\site-packages\\pandas\\io\\excel\\_base.py\u001b[0m in \u001b[0;36m__init__\u001b[1;34m(self, path_or_buffer, engine)\u001b[0m\n\u001b[0;32m    865\u001b[0m         \u001b[0mself\u001b[0m\u001b[1;33m.\u001b[0m\u001b[0m_io\u001b[0m \u001b[1;33m=\u001b[0m \u001b[0mstringify_path\u001b[0m\u001b[1;33m(\u001b[0m\u001b[0mpath_or_buffer\u001b[0m\u001b[1;33m)\u001b[0m\u001b[1;33m\u001b[0m\u001b[0m\n\u001b[0;32m    866\u001b[0m \u001b[1;33m\u001b[0m\u001b[0m\n\u001b[1;32m--> 867\u001b[1;33m         \u001b[0mself\u001b[0m\u001b[1;33m.\u001b[0m\u001b[0m_reader\u001b[0m \u001b[1;33m=\u001b[0m \u001b[0mself\u001b[0m\u001b[1;33m.\u001b[0m\u001b[0m_engines\u001b[0m\u001b[1;33m[\u001b[0m\u001b[0mengine\u001b[0m\u001b[1;33m]\u001b[0m\u001b[1;33m(\u001b[0m\u001b[0mself\u001b[0m\u001b[1;33m.\u001b[0m\u001b[0m_io\u001b[0m\u001b[1;33m)\u001b[0m\u001b[1;33m\u001b[0m\u001b[0m\n\u001b[0m\u001b[0;32m    868\u001b[0m \u001b[1;33m\u001b[0m\u001b[0m\n\u001b[0;32m    869\u001b[0m     \u001b[1;32mdef\u001b[0m \u001b[0m__fspath__\u001b[0m\u001b[1;33m(\u001b[0m\u001b[0mself\u001b[0m\u001b[1;33m)\u001b[0m\u001b[1;33m:\u001b[0m\u001b[1;33m\u001b[0m\u001b[0m\n",
      "\u001b[1;32m~\\AppData\\Roaming\\Python\\Python37\\site-packages\\pandas\\io\\excel\\_xlrd.py\u001b[0m in \u001b[0;36m__init__\u001b[1;34m(self, filepath_or_buffer)\u001b[0m\n\u001b[0;32m     20\u001b[0m         \u001b[0merr_msg\u001b[0m \u001b[1;33m=\u001b[0m \u001b[1;34m\"Install xlrd >= 1.0.0 for Excel support\"\u001b[0m\u001b[1;33m\u001b[0m\u001b[0m\n\u001b[0;32m     21\u001b[0m         \u001b[0mimport_optional_dependency\u001b[0m\u001b[1;33m(\u001b[0m\u001b[1;34m\"xlrd\"\u001b[0m\u001b[1;33m,\u001b[0m \u001b[0mextra\u001b[0m\u001b[1;33m=\u001b[0m\u001b[0merr_msg\u001b[0m\u001b[1;33m)\u001b[0m\u001b[1;33m\u001b[0m\u001b[0m\n\u001b[1;32m---> 22\u001b[1;33m         \u001b[0msuper\u001b[0m\u001b[1;33m(\u001b[0m\u001b[1;33m)\u001b[0m\u001b[1;33m.\u001b[0m\u001b[0m__init__\u001b[0m\u001b[1;33m(\u001b[0m\u001b[0mfilepath_or_buffer\u001b[0m\u001b[1;33m)\u001b[0m\u001b[1;33m\u001b[0m\u001b[0m\n\u001b[0m\u001b[0;32m     23\u001b[0m \u001b[1;33m\u001b[0m\u001b[0m\n\u001b[0;32m     24\u001b[0m     \u001b[1;33m@\u001b[0m\u001b[0mproperty\u001b[0m\u001b[1;33m\u001b[0m\u001b[0m\n",
      "\u001b[1;32m~\\AppData\\Roaming\\Python\\Python37\\site-packages\\pandas\\io\\excel\\_base.py\u001b[0m in \u001b[0;36m__init__\u001b[1;34m(self, filepath_or_buffer)\u001b[0m\n\u001b[0;32m    351\u001b[0m             \u001b[0mself\u001b[0m\u001b[1;33m.\u001b[0m\u001b[0mbook\u001b[0m \u001b[1;33m=\u001b[0m \u001b[0mself\u001b[0m\u001b[1;33m.\u001b[0m\u001b[0mload_workbook\u001b[0m\u001b[1;33m(\u001b[0m\u001b[0mfilepath_or_buffer\u001b[0m\u001b[1;33m)\u001b[0m\u001b[1;33m\u001b[0m\u001b[0m\n\u001b[0;32m    352\u001b[0m         \u001b[1;32melif\u001b[0m \u001b[0misinstance\u001b[0m\u001b[1;33m(\u001b[0m\u001b[0mfilepath_or_buffer\u001b[0m\u001b[1;33m,\u001b[0m \u001b[0mstr\u001b[0m\u001b[1;33m)\u001b[0m\u001b[1;33m:\u001b[0m\u001b[1;33m\u001b[0m\u001b[0m\n\u001b[1;32m--> 353\u001b[1;33m             \u001b[0mself\u001b[0m\u001b[1;33m.\u001b[0m\u001b[0mbook\u001b[0m \u001b[1;33m=\u001b[0m \u001b[0mself\u001b[0m\u001b[1;33m.\u001b[0m\u001b[0mload_workbook\u001b[0m\u001b[1;33m(\u001b[0m\u001b[0mfilepath_or_buffer\u001b[0m\u001b[1;33m)\u001b[0m\u001b[1;33m\u001b[0m\u001b[0m\n\u001b[0m\u001b[0;32m    354\u001b[0m         \u001b[1;32melif\u001b[0m \u001b[0misinstance\u001b[0m\u001b[1;33m(\u001b[0m\u001b[0mfilepath_or_buffer\u001b[0m\u001b[1;33m,\u001b[0m \u001b[0mbytes\u001b[0m\u001b[1;33m)\u001b[0m\u001b[1;33m:\u001b[0m\u001b[1;33m\u001b[0m\u001b[0m\n\u001b[0;32m    355\u001b[0m             \u001b[0mself\u001b[0m\u001b[1;33m.\u001b[0m\u001b[0mbook\u001b[0m \u001b[1;33m=\u001b[0m \u001b[0mself\u001b[0m\u001b[1;33m.\u001b[0m\u001b[0mload_workbook\u001b[0m\u001b[1;33m(\u001b[0m\u001b[0mBytesIO\u001b[0m\u001b[1;33m(\u001b[0m\u001b[0mfilepath_or_buffer\u001b[0m\u001b[1;33m)\u001b[0m\u001b[1;33m)\u001b[0m\u001b[1;33m\u001b[0m\u001b[0m\n",
      "\u001b[1;32m~\\AppData\\Roaming\\Python\\Python37\\site-packages\\pandas\\io\\excel\\_xlrd.py\u001b[0m in \u001b[0;36mload_workbook\u001b[1;34m(self, filepath_or_buffer)\u001b[0m\n\u001b[0;32m     35\u001b[0m             \u001b[1;32mreturn\u001b[0m \u001b[0mopen_workbook\u001b[0m\u001b[1;33m(\u001b[0m\u001b[0mfile_contents\u001b[0m\u001b[1;33m=\u001b[0m\u001b[0mdata\u001b[0m\u001b[1;33m)\u001b[0m\u001b[1;33m\u001b[0m\u001b[0m\n\u001b[0;32m     36\u001b[0m         \u001b[1;32melse\u001b[0m\u001b[1;33m:\u001b[0m\u001b[1;33m\u001b[0m\u001b[0m\n\u001b[1;32m---> 37\u001b[1;33m             \u001b[1;32mreturn\u001b[0m \u001b[0mopen_workbook\u001b[0m\u001b[1;33m(\u001b[0m\u001b[0mfilepath_or_buffer\u001b[0m\u001b[1;33m)\u001b[0m\u001b[1;33m\u001b[0m\u001b[0m\n\u001b[0m\u001b[0;32m     38\u001b[0m \u001b[1;33m\u001b[0m\u001b[0m\n\u001b[0;32m     39\u001b[0m     \u001b[1;33m@\u001b[0m\u001b[0mproperty\u001b[0m\u001b[1;33m\u001b[0m\u001b[0m\n",
      "\u001b[1;32mC:\\ProgramData\\Anaconda3\\lib\\site-packages\\xlrd\\__init__.py\u001b[0m in \u001b[0;36mopen_workbook\u001b[1;34m(filename, logfile, verbosity, use_mmap, file_contents, encoding_override, formatting_info, on_demand, ragged_rows)\u001b[0m\n\u001b[0;32m    109\u001b[0m     \u001b[1;32melse\u001b[0m\u001b[1;33m:\u001b[0m\u001b[1;33m\u001b[0m\u001b[0m\n\u001b[0;32m    110\u001b[0m         \u001b[0mfilename\u001b[0m \u001b[1;33m=\u001b[0m \u001b[0mos\u001b[0m\u001b[1;33m.\u001b[0m\u001b[0mpath\u001b[0m\u001b[1;33m.\u001b[0m\u001b[0mexpanduser\u001b[0m\u001b[1;33m(\u001b[0m\u001b[0mfilename\u001b[0m\u001b[1;33m)\u001b[0m\u001b[1;33m\u001b[0m\u001b[0m\n\u001b[1;32m--> 111\u001b[1;33m         \u001b[1;32mwith\u001b[0m \u001b[0mopen\u001b[0m\u001b[1;33m(\u001b[0m\u001b[0mfilename\u001b[0m\u001b[1;33m,\u001b[0m \u001b[1;34m\"rb\"\u001b[0m\u001b[1;33m)\u001b[0m \u001b[1;32mas\u001b[0m \u001b[0mf\u001b[0m\u001b[1;33m:\u001b[0m\u001b[1;33m\u001b[0m\u001b[0m\n\u001b[0m\u001b[0;32m    112\u001b[0m             \u001b[0mpeek\u001b[0m \u001b[1;33m=\u001b[0m \u001b[0mf\u001b[0m\u001b[1;33m.\u001b[0m\u001b[0mread\u001b[0m\u001b[1;33m(\u001b[0m\u001b[0mpeeksz\u001b[0m\u001b[1;33m)\u001b[0m\u001b[1;33m\u001b[0m\u001b[0m\n\u001b[0;32m    113\u001b[0m     \u001b[1;32mif\u001b[0m \u001b[0mpeek\u001b[0m \u001b[1;33m==\u001b[0m \u001b[1;34mb\"PK\\x03\\x04\"\u001b[0m\u001b[1;33m:\u001b[0m \u001b[1;31m# a ZIP file\u001b[0m\u001b[1;33m\u001b[0m\u001b[0m\n",
      "\u001b[1;31mFileNotFoundError\u001b[0m: [Errno 2] No such file or directory: 'D:/Python/07 RFM建模实战/RFM/PYTHON-RFM实战数据.xlsx'"
     ]
    }
   ],
   "source": [
    "df = pd.read_excel('D:/Python/07 RFM建模实战/RFM/PYTHON-RFM实战数据.xlsx')\n",
    "df.head()"
   ]
  },
  {
   "cell_type": "code",
   "execution_count": 835,
   "metadata": {},
   "outputs": [
    {
     "output_type": "execute_result",
     "data": {
      "text/plain": [
       "array(['交易成功', '付款以后用户退款成功，交易自动关闭'], dtype=object)"
      ]
     },
     "metadata": {},
     "execution_count": 835
    }
   ],
   "source": [
    "df['订单状态'].unique()#发现只有两种订单状态"
   ]
  },
  {
   "cell_type": "code",
   "execution_count": 836,
   "metadata": {},
   "outputs": [
    {
     "output_type": "stream",
     "name": "stdout",
     "text": [
      "<class 'pandas.core.frame.DataFrame'>\nRangeIndex: 28833 entries, 0 to 28832\nData columns (total 9 columns):\n品牌名称    28833 non-null object\n买家昵称    28833 non-null object\n付款日期    28833 non-null datetime64[ns]\n订单状态    28833 non-null object\n实付金额    28833 non-null int64\n邮费      28833 non-null int64\n省份      28833 non-null object\n城市      28832 non-null object\n购买数量    28833 non-null int64\ndtypes: datetime64[ns](1), int64(3), object(5)\nmemory usage: 2.0+ MB\n"
     ]
    }
   ],
   "source": [
    "df.info()"
   ]
  },
  {
   "cell_type": "code",
   "execution_count": 837,
   "metadata": {},
   "outputs": [
    {
     "output_type": "stream",
     "name": "stdout",
     "text": [
      "<class 'pandas.core.frame.DataFrame'>\nInt64Index: 27793 entries, 0 to 28832\nData columns (total 9 columns):\n品牌名称    27793 non-null object\n买家昵称    27793 non-null object\n付款日期    27793 non-null datetime64[ns]\n订单状态    27793 non-null object\n实付金额    27793 non-null int64\n邮费      27793 non-null int64\n省份      27793 non-null object\n城市      27792 non-null object\n购买数量    27793 non-null int64\ndtypes: datetime64[ns](1), int64(3), object(5)\nmemory usage: 2.1+ MB\n"
     ]
    }
   ],
   "source": [
    "df = df.loc[df['订单状态']=='交易成功',:]\n",
    "df.info()"
   ]
  },
  {
   "source": [
    "RFM模型只需要时间，客户，金额这个三个字段"
   ],
   "cell_type": "markdown",
   "metadata": {}
  },
  {
   "cell_type": "code",
   "execution_count": 838,
   "metadata": {},
   "outputs": [
    {
     "output_type": "execute_result",
     "data": {
      "text/plain": [
       "          买家昵称                付款日期  实付金额\n",
       "0         叫我李2 2019-01-01 00:17:59   186\n",
       "1     0cyb1992 2019-01-01 00:59:54   145\n",
       "2         萝污萌莉 2019-01-01 07:48:48   194\n",
       "5          重碎叠 2019-01-01 10:00:07   197\n",
       "6     iho_jann 2019-01-01 10:00:08   168\n",
       "7      2jill27 2019-01-01 10:00:11   121\n",
       "8    yjessieni 2019-01-01 10:00:14   211\n",
       "9        4张洁85 2019-01-01 11:41:02   170\n",
       "10  8tb4249_11 2019-01-01 12:08:49   124\n",
       "11         一李一 2019-01-01 12:22:16   247"
      ],
      "text/html": "<div>\n<style scoped>\n    .dataframe tbody tr th:only-of-type {\n        vertical-align: middle;\n    }\n\n    .dataframe tbody tr th {\n        vertical-align: top;\n    }\n\n    .dataframe thead th {\n        text-align: right;\n    }\n</style>\n<table border=\"1\" class=\"dataframe\">\n  <thead>\n    <tr style=\"text-align: right;\">\n      <th></th>\n      <th>买家昵称</th>\n      <th>付款日期</th>\n      <th>实付金额</th>\n    </tr>\n  </thead>\n  <tbody>\n    <tr>\n      <th>0</th>\n      <td>叫我李2</td>\n      <td>2019-01-01 00:17:59</td>\n      <td>186</td>\n    </tr>\n    <tr>\n      <th>1</th>\n      <td>0cyb1992</td>\n      <td>2019-01-01 00:59:54</td>\n      <td>145</td>\n    </tr>\n    <tr>\n      <th>2</th>\n      <td>萝污萌莉</td>\n      <td>2019-01-01 07:48:48</td>\n      <td>194</td>\n    </tr>\n    <tr>\n      <th>5</th>\n      <td>重碎叠</td>\n      <td>2019-01-01 10:00:07</td>\n      <td>197</td>\n    </tr>\n    <tr>\n      <th>6</th>\n      <td>iho_jann</td>\n      <td>2019-01-01 10:00:08</td>\n      <td>168</td>\n    </tr>\n    <tr>\n      <th>7</th>\n      <td>2jill27</td>\n      <td>2019-01-01 10:00:11</td>\n      <td>121</td>\n    </tr>\n    <tr>\n      <th>8</th>\n      <td>yjessieni</td>\n      <td>2019-01-01 10:00:14</td>\n      <td>211</td>\n    </tr>\n    <tr>\n      <th>9</th>\n      <td>4张洁85</td>\n      <td>2019-01-01 11:41:02</td>\n      <td>170</td>\n    </tr>\n    <tr>\n      <th>10</th>\n      <td>8tb4249_11</td>\n      <td>2019-01-01 12:08:49</td>\n      <td>124</td>\n    </tr>\n    <tr>\n      <th>11</th>\n      <td>一李一</td>\n      <td>2019-01-01 12:22:16</td>\n      <td>247</td>\n    </tr>\n  </tbody>\n</table>\n</div>"
     },
     "metadata": {},
     "execution_count": 838
    }
   ],
   "source": [
    "df = df[['买家昵称','付款日期','实付金额']]\n",
    "df.head(10)"
   ]
  },
  {
   "cell_type": "code",
   "execution_count": 839,
   "metadata": {},
   "outputs": [
    {
     "output_type": "stream",
     "name": "stdout",
     "text": [
      "<class 'pandas.core.frame.DataFrame'>\nRangeIndex: 25420 entries, 0 to 25419\nData columns (total 2 columns):\n买家昵称    25420 non-null object\n付款日期    25420 non-null datetime64[ns]\ndtypes: datetime64[ns](1), object(1)\nmemory usage: 397.3+ KB\n"
     ]
    }
   ],
   "source": [
    "r = df.groupby('买家昵称')['付款日期'].max().reset_index()#要拿到所有用户最近一次付款时间，只需要按买家昵称分组，再选取付款日期的最大值,这里并没有统计每个用户一天的购物次数\n",
    "# len(r)\n",
    "r.info()"
   ]
  },
  {
   "cell_type": "code",
   "execution_count": 840,
   "metadata": {},
   "outputs": [
    {
     "output_type": "execute_result",
     "data": {
      "text/plain": [
       "True"
      ]
     },
     "metadata": {},
     "execution_count": 840
    }
   ],
   "source": [
    "pd.to_datetime('2019-9-9')>pd.to_datetime('2019-9-1')#要写成字符串哦，细心点"
   ]
  },
  {
   "cell_type": "code",
   "execution_count": 841,
   "metadata": {},
   "outputs": [
    {
     "output_type": "execute_result",
     "data": {
      "text/plain": [
       "         买家昵称    R\n",
       "0   .blue_ram  146\n",
       "1  .christiny  152\n",
       "2     .willn1  170\n",
       "3        .托托m  170\n",
       "4       0000妮    2"
      ],
      "text/html": "<div>\n<style scoped>\n    .dataframe tbody tr th:only-of-type {\n        vertical-align: middle;\n    }\n\n    .dataframe tbody tr th {\n        vertical-align: top;\n    }\n\n    .dataframe thead th {\n        text-align: right;\n    }\n</style>\n<table border=\"1\" class=\"dataframe\">\n  <thead>\n    <tr style=\"text-align: right;\">\n      <th></th>\n      <th>买家昵称</th>\n      <th>R</th>\n    </tr>\n  </thead>\n  <tbody>\n    <tr>\n      <th>0</th>\n      <td>.blue_ram</td>\n      <td>146</td>\n    </tr>\n    <tr>\n      <th>1</th>\n      <td>.christiny</td>\n      <td>152</td>\n    </tr>\n    <tr>\n      <th>2</th>\n      <td>.willn1</td>\n      <td>170</td>\n    </tr>\n    <tr>\n      <th>3</th>\n      <td>.托托m</td>\n      <td>170</td>\n    </tr>\n    <tr>\n      <th>4</th>\n      <td>0000妮</td>\n      <td>2</td>\n    </tr>\n  </tbody>\n</table>\n</div>"
     },
     "metadata": {},
     "execution_count": 841
    }
   ],
   "source": [
    "r['R'] = (pd.to_datetime('2019-7-1')-r['付款日期']).dt.days\n",
    "r = r[['买家昵称','R']]\n",
    "r.head()"
   ]
  },
  {
   "cell_type": "code",
   "execution_count": 5,
   "metadata": {},
   "outputs": [
    {
     "output_type": "error",
     "ename": "NameError",
     "evalue": "name 'df' is not defined",
     "traceback": [
      "\u001b[1;31m---------------------------------------------------------------------------\u001b[0m",
      "\u001b[1;31mNameError\u001b[0m                                 Traceback (most recent call last)",
      "\u001b[1;32m<ipython-input-5-d1c613d703ca>\u001b[0m in \u001b[0;36m<module>\u001b[1;34m()\u001b[0m\n\u001b[1;32m----> 1\u001b[1;33m \u001b[0mdf\u001b[0m\u001b[1;33m[\u001b[0m\u001b[1;34m'日期标签'\u001b[0m\u001b[1;33m]\u001b[0m \u001b[1;33m=\u001b[0m \u001b[0mdf\u001b[0m\u001b[1;33m[\u001b[0m\u001b[1;34m'付款日期'\u001b[0m\u001b[1;33m]\u001b[0m\u001b[1;33m.\u001b[0m\u001b[0mastype\u001b[0m\u001b[1;33m(\u001b[0m\u001b[0mstr\u001b[0m\u001b[1;33m)\u001b[0m\u001b[1;33m.\u001b[0m\u001b[0mstr\u001b[0m\u001b[1;33m[\u001b[0m\u001b[1;33m:\u001b[0m\u001b[1;36m10\u001b[0m\u001b[1;33m]\u001b[0m\u001b[1;33m\u001b[0m\u001b[0m\n\u001b[0m\u001b[0;32m      2\u001b[0m \u001b[0mdf\u001b[0m\u001b[1;33m\u001b[0m\u001b[0m\n",
      "\u001b[1;31mNameError\u001b[0m: name 'df' is not defined"
     ]
    }
   ],
   "source": [
    "df['日期标签'] = df['付款日期'].astype(str).str[:10]\n",
    "df"
   ]
  },
  {
   "cell_type": "code",
   "execution_count": 843,
   "metadata": {},
   "outputs": [
    {
     "output_type": "execute_result",
     "data": {
      "text/plain": [
       "         买家昵称  F\n",
       "0   .blue_ram  1\n",
       "1  .christiny  1\n",
       "2     .willn1  1\n",
       "3        .托托m  1\n",
       "4       0000妮  1"
      ],
      "text/html": "<div>\n<style scoped>\n    .dataframe tbody tr th:only-of-type {\n        vertical-align: middle;\n    }\n\n    .dataframe tbody tr th {\n        vertical-align: top;\n    }\n\n    .dataframe thead th {\n        text-align: right;\n    }\n</style>\n<table border=\"1\" class=\"dataframe\">\n  <thead>\n    <tr style=\"text-align: right;\">\n      <th></th>\n      <th>买家昵称</th>\n      <th>F</th>\n    </tr>\n  </thead>\n  <tbody>\n    <tr>\n      <th>0</th>\n      <td>.blue_ram</td>\n      <td>1</td>\n    </tr>\n    <tr>\n      <th>1</th>\n      <td>.christiny</td>\n      <td>1</td>\n    </tr>\n    <tr>\n      <th>2</th>\n      <td>.willn1</td>\n      <td>1</td>\n    </tr>\n    <tr>\n      <th>3</th>\n      <td>.托托m</td>\n      <td>1</td>\n    </tr>\n    <tr>\n      <th>4</th>\n      <td>0000妮</td>\n      <td>1</td>\n    </tr>\n  </tbody>\n</table>\n</div>"
     },
     "metadata": {},
     "execution_count": 843
    }
   ],
   "source": [
    "#需求：将同一天的同一买家的购买次数都算做整体上的一次\n",
    "dup_f = df.groupby(['日期标签','买家昵称'])['付款日期'].count().reset_index()#将同一天的同一买家的购买次数统计出来\n",
    "# dup_f\n",
    "f = dup_f.groupby('买家昵称')['付款日期'].count().reset_index()#使用同一天的同一买家昵称，实现将同一天的同一买家的购买次数无论多少都只算作1次\n",
    "f.columns = ['买家昵称','F']\n",
    "f.head()"
   ]
  },
  {
   "source": [
    "上一步计算出了每个用户购买频次，这里我们只需要得到每个用户总金额，再用总\n",
    "金额除以购买频次，就能拿到用户平均支付金额"
   ],
   "cell_type": "markdown",
   "metadata": {}
  },
  {
   "cell_type": "code",
   "execution_count": 844,
   "metadata": {},
   "outputs": [
    {
     "output_type": "execute_result",
     "data": {
      "text/plain": [
       "         买家昵称  总金额\n",
       "0   .blue_ram   49\n",
       "1  .christiny  183\n",
       "2     .willn1   34\n",
       "3        .托托m   37\n",
       "4       0000妮  164"
      ],
      "text/html": "<div>\n<style scoped>\n    .dataframe tbody tr th:only-of-type {\n        vertical-align: middle;\n    }\n\n    .dataframe tbody tr th {\n        vertical-align: top;\n    }\n\n    .dataframe thead th {\n        text-align: right;\n    }\n</style>\n<table border=\"1\" class=\"dataframe\">\n  <thead>\n    <tr style=\"text-align: right;\">\n      <th></th>\n      <th>买家昵称</th>\n      <th>总金额</th>\n    </tr>\n  </thead>\n  <tbody>\n    <tr>\n      <th>0</th>\n      <td>.blue_ram</td>\n      <td>49</td>\n    </tr>\n    <tr>\n      <th>1</th>\n      <td>.christiny</td>\n      <td>183</td>\n    </tr>\n    <tr>\n      <th>2</th>\n      <td>.willn1</td>\n      <td>34</td>\n    </tr>\n    <tr>\n      <th>3</th>\n      <td>.托托m</td>\n      <td>37</td>\n    </tr>\n    <tr>\n      <th>4</th>\n      <td>0000妮</td>\n      <td>164</td>\n    </tr>\n  </tbody>\n</table>\n</div>"
     },
     "metadata": {},
     "execution_count": 844
    }
   ],
   "source": [
    "sum_m = df.groupby('买家昵称')['实付金额'].sum().reset_index()\n",
    "sum_m.columns = ['买家昵称','总金额']\n",
    "sum_m.head()"
   ]
  },
  {
   "cell_type": "code",
   "execution_count": 845,
   "metadata": {},
   "outputs": [
    {
     "output_type": "execute_result",
     "data": {
      "text/plain": [
       "         买家昵称  总金额  F      M\n",
       "0   .blue_ram   49  1   49.0\n",
       "1  .christiny  183  1  183.0\n",
       "2     .willn1   34  1   34.0\n",
       "3        .托托m   37  1   37.0\n",
       "4       0000妮  164  1  164.0"
      ],
      "text/html": "<div>\n<style scoped>\n    .dataframe tbody tr th:only-of-type {\n        vertical-align: middle;\n    }\n\n    .dataframe tbody tr th {\n        vertical-align: top;\n    }\n\n    .dataframe thead th {\n        text-align: right;\n    }\n</style>\n<table border=\"1\" class=\"dataframe\">\n  <thead>\n    <tr style=\"text-align: right;\">\n      <th></th>\n      <th>买家昵称</th>\n      <th>总金额</th>\n      <th>F</th>\n      <th>M</th>\n    </tr>\n  </thead>\n  <tbody>\n    <tr>\n      <th>0</th>\n      <td>.blue_ram</td>\n      <td>49</td>\n      <td>1</td>\n      <td>49.0</td>\n    </tr>\n    <tr>\n      <th>1</th>\n      <td>.christiny</td>\n      <td>183</td>\n      <td>1</td>\n      <td>183.0</td>\n    </tr>\n    <tr>\n      <th>2</th>\n      <td>.willn1</td>\n      <td>34</td>\n      <td>1</td>\n      <td>34.0</td>\n    </tr>\n    <tr>\n      <th>3</th>\n      <td>.托托m</td>\n      <td>37</td>\n      <td>1</td>\n      <td>37.0</td>\n    </tr>\n    <tr>\n      <th>4</th>\n      <td>0000妮</td>\n      <td>164</td>\n      <td>1</td>\n      <td>164.0</td>\n    </tr>\n  </tbody>\n</table>\n</div>"
     },
     "metadata": {},
     "execution_count": 845
    }
   ],
   "source": [
    "com_m = pd.merge(sum_m,f,left_on='买家昵称',right_on='买家昵称',how='inner')\n",
    "com_m['M'] = com_m['总金额']/com_m['F']\n",
    "com_m.head()"
   ]
  },
  {
   "cell_type": "code",
   "execution_count": 846,
   "metadata": {},
   "outputs": [
    {
     "output_type": "execute_result",
     "data": {
      "text/plain": [
       "         买家昵称  F      M    R\n",
       "0   .blue_ram  1   49.0  146\n",
       "1  .christiny  1  183.0  152\n",
       "2     .willn1  1   34.0  170\n",
       "3        .托托m  1   37.0  170\n",
       "4       0000妮  1  164.0    2"
      ],
      "text/html": "<div>\n<style scoped>\n    .dataframe tbody tr th:only-of-type {\n        vertical-align: middle;\n    }\n\n    .dataframe tbody tr th {\n        vertical-align: top;\n    }\n\n    .dataframe thead th {\n        text-align: right;\n    }\n</style>\n<table border=\"1\" class=\"dataframe\">\n  <thead>\n    <tr style=\"text-align: right;\">\n      <th></th>\n      <th>买家昵称</th>\n      <th>F</th>\n      <th>M</th>\n      <th>R</th>\n    </tr>\n  </thead>\n  <tbody>\n    <tr>\n      <th>0</th>\n      <td>.blue_ram</td>\n      <td>1</td>\n      <td>49.0</td>\n      <td>146</td>\n    </tr>\n    <tr>\n      <th>1</th>\n      <td>.christiny</td>\n      <td>1</td>\n      <td>183.0</td>\n      <td>152</td>\n    </tr>\n    <tr>\n      <th>2</th>\n      <td>.willn1</td>\n      <td>1</td>\n      <td>34.0</td>\n      <td>170</td>\n    </tr>\n    <tr>\n      <th>3</th>\n      <td>.托托m</td>\n      <td>1</td>\n      <td>37.0</td>\n      <td>170</td>\n    </tr>\n    <tr>\n      <th>4</th>\n      <td>0000妮</td>\n      <td>1</td>\n      <td>164.0</td>\n      <td>2</td>\n    </tr>\n  </tbody>\n</table>\n</div>"
     },
     "metadata": {},
     "execution_count": 846
    }
   ],
   "source": [
    "rfm = pd.merge(com_m,r,left_on='买家昵称',right_on='买家昵称',how='inner')\n",
    "rfm = rfm.iloc[:,[0,2,3,4]]\n",
    "rfm.head()"
   ]
  },
  {
   "source": [
    "以 R 值为例，R 代表了用户有多少天没来下单，这个值越大，用户流失的可能性越\n",
    "大，我们当然不希望用户流失，所以 R 越大，分值越小。\n",
    "• F 值代表了用户购买频次，M 值则是用户平均支付金额，这两个指标是越大越好，\n",
    "即数值越大，得分越高。"
   ],
   "cell_type": "markdown",
   "metadata": {}
  },
  {
   "cell_type": "code",
   "execution_count": 847,
   "metadata": {},
   "outputs": [],
   "source": [
    "#确定了一个打分框架\n",
    "rfm['R-score'] = pd.cut(rfm['R'],bins=[0,30,60,90,120,100000],labels=[5,4,3,2,1],right=False).astype(float)"
   ]
  },
  {
   "cell_type": "code",
   "execution_count": 848,
   "metadata": {},
   "outputs": [],
   "source": [
    "rfm['F-score'] = pd.cut(rfm['F'],bins=[1,2,3,4,5,100000],labels=[1,2,3,4,5],right=False).astype(float)"
   ]
  },
  {
   "cell_type": "code",
   "execution_count": 849,
   "metadata": {},
   "outputs": [],
   "source": [
    "rfm['M-score'] = pd.cut(rfm['M'],bins=[0,50,100,150,200,100000],labels=[1,2,3,4,5],right=False).astype(float)"
   ]
  },
  {
   "cell_type": "code",
   "execution_count": 850,
   "metadata": {},
   "outputs": [
    {
     "output_type": "execute_result",
     "data": {
      "text/plain": [
       "         买家昵称  F      M    R  R-score  F-score  M-score\n",
       "0   .blue_ram  1   49.0  146      1.0      1.0      1.0\n",
       "1  .christiny  1  183.0  152      1.0      1.0      4.0\n",
       "2     .willn1  1   34.0  170      1.0      1.0      1.0\n",
       "3        .托托m  1   37.0  170      1.0      1.0      1.0\n",
       "4       0000妮  1  164.0    2      5.0      1.0      4.0"
      ],
      "text/html": "<div>\n<style scoped>\n    .dataframe tbody tr th:only-of-type {\n        vertical-align: middle;\n    }\n\n    .dataframe tbody tr th {\n        vertical-align: top;\n    }\n\n    .dataframe thead th {\n        text-align: right;\n    }\n</style>\n<table border=\"1\" class=\"dataframe\">\n  <thead>\n    <tr style=\"text-align: right;\">\n      <th></th>\n      <th>买家昵称</th>\n      <th>F</th>\n      <th>M</th>\n      <th>R</th>\n      <th>R-score</th>\n      <th>F-score</th>\n      <th>M-score</th>\n    </tr>\n  </thead>\n  <tbody>\n    <tr>\n      <th>0</th>\n      <td>.blue_ram</td>\n      <td>1</td>\n      <td>49.0</td>\n      <td>146</td>\n      <td>1.0</td>\n      <td>1.0</td>\n      <td>1.0</td>\n    </tr>\n    <tr>\n      <th>1</th>\n      <td>.christiny</td>\n      <td>1</td>\n      <td>183.0</td>\n      <td>152</td>\n      <td>1.0</td>\n      <td>1.0</td>\n      <td>4.0</td>\n    </tr>\n    <tr>\n      <th>2</th>\n      <td>.willn1</td>\n      <td>1</td>\n      <td>34.0</td>\n      <td>170</td>\n      <td>1.0</td>\n      <td>1.0</td>\n      <td>1.0</td>\n    </tr>\n    <tr>\n      <th>3</th>\n      <td>.托托m</td>\n      <td>1</td>\n      <td>37.0</td>\n      <td>170</td>\n      <td>1.0</td>\n      <td>1.0</td>\n      <td>1.0</td>\n    </tr>\n    <tr>\n      <th>4</th>\n      <td>0000妮</td>\n      <td>1</td>\n      <td>164.0</td>\n      <td>2</td>\n      <td>5.0</td>\n      <td>1.0</td>\n      <td>4.0</td>\n    </tr>\n  </tbody>\n</table>\n</div>"
     },
     "metadata": {},
     "execution_count": 850
    }
   ],
   "source": [
    "rfm.head()"
   ]
  },
  {
   "cell_type": "code",
   "execution_count": 851,
   "metadata": {},
   "outputs": [],
   "source": [
    "rfm['R是否大于均值'] = (rfm['R-score']>rfm['R-score'].mean())*1\n",
    "rfm['F是否大于均值'] = (rfm['F-score']>rfm['F-score'].mean())*1\n",
    "rfm['M是否大于均值'] = (rfm['M-score']>rfm['M-score'].mean())*1"
   ]
  },
  {
   "cell_type": "code",
   "execution_count": 852,
   "metadata": {},
   "outputs": [
    {
     "output_type": "execute_result",
     "data": {
      "text/plain": [
       "         买家昵称  F      M    R  R-score  F-score  M-score  R是否大于均值  F是否大于均值  \\\n",
       "0   .blue_ram  1   49.0  146      1.0      1.0      1.0        0        0   \n",
       "1  .christiny  1  183.0  152      1.0      1.0      4.0        0        0   \n",
       "2     .willn1  1   34.0  170      1.0      1.0      1.0        0        0   \n",
       "3        .托托m  1   37.0  170      1.0      1.0      1.0        0        0   \n",
       "4       0000妮  1  164.0    2      5.0      1.0      4.0        1        0   \n",
       "\n",
       "   M是否大于均值  \n",
       "0        0  \n",
       "1        1  \n",
       "2        0  \n",
       "3        0  \n",
       "4        1  "
      ],
      "text/html": "<div>\n<style scoped>\n    .dataframe tbody tr th:only-of-type {\n        vertical-align: middle;\n    }\n\n    .dataframe tbody tr th {\n        vertical-align: top;\n    }\n\n    .dataframe thead th {\n        text-align: right;\n    }\n</style>\n<table border=\"1\" class=\"dataframe\">\n  <thead>\n    <tr style=\"text-align: right;\">\n      <th></th>\n      <th>买家昵称</th>\n      <th>F</th>\n      <th>M</th>\n      <th>R</th>\n      <th>R-score</th>\n      <th>F-score</th>\n      <th>M-score</th>\n      <th>R是否大于均值</th>\n      <th>F是否大于均值</th>\n      <th>M是否大于均值</th>\n    </tr>\n  </thead>\n  <tbody>\n    <tr>\n      <th>0</th>\n      <td>.blue_ram</td>\n      <td>1</td>\n      <td>49.0</td>\n      <td>146</td>\n      <td>1.0</td>\n      <td>1.0</td>\n      <td>1.0</td>\n      <td>0</td>\n      <td>0</td>\n      <td>0</td>\n    </tr>\n    <tr>\n      <th>1</th>\n      <td>.christiny</td>\n      <td>1</td>\n      <td>183.0</td>\n      <td>152</td>\n      <td>1.0</td>\n      <td>1.0</td>\n      <td>4.0</td>\n      <td>0</td>\n      <td>0</td>\n      <td>1</td>\n    </tr>\n    <tr>\n      <th>2</th>\n      <td>.willn1</td>\n      <td>1</td>\n      <td>34.0</td>\n      <td>170</td>\n      <td>1.0</td>\n      <td>1.0</td>\n      <td>1.0</td>\n      <td>0</td>\n      <td>0</td>\n      <td>0</td>\n    </tr>\n    <tr>\n      <th>3</th>\n      <td>.托托m</td>\n      <td>1</td>\n      <td>37.0</td>\n      <td>170</td>\n      <td>1.0</td>\n      <td>1.0</td>\n      <td>1.0</td>\n      <td>0</td>\n      <td>0</td>\n      <td>0</td>\n    </tr>\n    <tr>\n      <th>4</th>\n      <td>0000妮</td>\n      <td>1</td>\n      <td>164.0</td>\n      <td>2</td>\n      <td>5.0</td>\n      <td>1.0</td>\n      <td>4.0</td>\n      <td>1</td>\n      <td>0</td>\n      <td>1</td>\n    </tr>\n  </tbody>\n</table>\n</div>"
     },
     "metadata": {},
     "execution_count": 852
    }
   ],
   "source": [
    "rfm.head()"
   ]
  },
  {
   "cell_type": "code",
   "execution_count": 853,
   "metadata": {},
   "outputs": [
    {
     "output_type": "execute_result",
     "data": {
      "text/plain": [
       "         买家昵称  F      M    R  R-score  F-score  M-score  R是否大于均值  F是否大于均值  \\\n",
       "0   .blue_ram  1   49.0  146      1.0      1.0      1.0        0        0   \n",
       "1  .christiny  1  183.0  152      1.0      1.0      4.0        0        0   \n",
       "2     .willn1  1   34.0  170      1.0      1.0      1.0        0        0   \n",
       "3        .托托m  1   37.0  170      1.0      1.0      1.0        0        0   \n",
       "4       0000妮  1  164.0    2      5.0      1.0      4.0        1        0   \n",
       "\n",
       "   M是否大于均值  人均数值  \n",
       "0        0     0  \n",
       "1        1     1  \n",
       "2        0     0  \n",
       "3        0     0  \n",
       "4        1   101  "
      ],
      "text/html": "<div>\n<style scoped>\n    .dataframe tbody tr th:only-of-type {\n        vertical-align: middle;\n    }\n\n    .dataframe tbody tr th {\n        vertical-align: top;\n    }\n\n    .dataframe thead th {\n        text-align: right;\n    }\n</style>\n<table border=\"1\" class=\"dataframe\">\n  <thead>\n    <tr style=\"text-align: right;\">\n      <th></th>\n      <th>买家昵称</th>\n      <th>F</th>\n      <th>M</th>\n      <th>R</th>\n      <th>R-score</th>\n      <th>F-score</th>\n      <th>M-score</th>\n      <th>R是否大于均值</th>\n      <th>F是否大于均值</th>\n      <th>M是否大于均值</th>\n      <th>人均数值</th>\n    </tr>\n  </thead>\n  <tbody>\n    <tr>\n      <th>0</th>\n      <td>.blue_ram</td>\n      <td>1</td>\n      <td>49.0</td>\n      <td>146</td>\n      <td>1.0</td>\n      <td>1.0</td>\n      <td>1.0</td>\n      <td>0</td>\n      <td>0</td>\n      <td>0</td>\n      <td>0</td>\n    </tr>\n    <tr>\n      <th>1</th>\n      <td>.christiny</td>\n      <td>1</td>\n      <td>183.0</td>\n      <td>152</td>\n      <td>1.0</td>\n      <td>1.0</td>\n      <td>4.0</td>\n      <td>0</td>\n      <td>0</td>\n      <td>1</td>\n      <td>1</td>\n    </tr>\n    <tr>\n      <th>2</th>\n      <td>.willn1</td>\n      <td>1</td>\n      <td>34.0</td>\n      <td>170</td>\n      <td>1.0</td>\n      <td>1.0</td>\n      <td>1.0</td>\n      <td>0</td>\n      <td>0</td>\n      <td>0</td>\n      <td>0</td>\n    </tr>\n    <tr>\n      <th>3</th>\n      <td>.托托m</td>\n      <td>1</td>\n      <td>37.0</td>\n      <td>170</td>\n      <td>1.0</td>\n      <td>1.0</td>\n      <td>1.0</td>\n      <td>0</td>\n      <td>0</td>\n      <td>0</td>\n      <td>0</td>\n    </tr>\n    <tr>\n      <th>4</th>\n      <td>0000妮</td>\n      <td>1</td>\n      <td>164.0</td>\n      <td>2</td>\n      <td>5.0</td>\n      <td>1.0</td>\n      <td>4.0</td>\n      <td>1</td>\n      <td>0</td>\n      <td>1</td>\n      <td>101</td>\n    </tr>\n  </tbody>\n</table>\n</div>"
     },
     "metadata": {},
     "execution_count": 853
    }
   ],
   "source": [
    "rfm['人均数值'] = (rfm['R是否大于均值']*100)+(rfm['F是否大于均值']*10)+(rfm['M是否大于均值']*1)\n",
    "rfm.head()"
   ]
  },
  {
   "cell_type": "code",
   "execution_count": 854,
   "metadata": {},
   "outputs": [
    {
     "output_type": "execute_result",
     "data": {
      "text/plain": [
       "         买家昵称  F      M    R  R-score  F-score  M-score  R是否大于均值  F是否大于均值  \\\n",
       "0   .blue_ram  1   49.0  146      1.0      1.0      1.0        0        0   \n",
       "1  .christiny  1  183.0  152      1.0      1.0      4.0        0        0   \n",
       "2     .willn1  1   34.0  170      1.0      1.0      1.0        0        0   \n",
       "3        .托托m  1   37.0  170      1.0      1.0      1.0        0        0   \n",
       "4       0000妮  1  164.0    2      5.0      1.0      4.0        1        0   \n",
       "\n",
       "   M是否大于均值  人均数值     用户类别  \n",
       "0        0     0     流失客户  \n",
       "1        1     1  高消费唤回用户  \n",
       "2        0     0     流失客户  \n",
       "3        0     0     流失客户  \n",
       "4        1   101   频次深耕用户  "
      ],
      "text/html": "<div>\n<style scoped>\n    .dataframe tbody tr th:only-of-type {\n        vertical-align: middle;\n    }\n\n    .dataframe tbody tr th {\n        vertical-align: top;\n    }\n\n    .dataframe thead th {\n        text-align: right;\n    }\n</style>\n<table border=\"1\" class=\"dataframe\">\n  <thead>\n    <tr style=\"text-align: right;\">\n      <th></th>\n      <th>买家昵称</th>\n      <th>F</th>\n      <th>M</th>\n      <th>R</th>\n      <th>R-score</th>\n      <th>F-score</th>\n      <th>M-score</th>\n      <th>R是否大于均值</th>\n      <th>F是否大于均值</th>\n      <th>M是否大于均值</th>\n      <th>人均数值</th>\n      <th>用户类别</th>\n    </tr>\n  </thead>\n  <tbody>\n    <tr>\n      <th>0</th>\n      <td>.blue_ram</td>\n      <td>1</td>\n      <td>49.0</td>\n      <td>146</td>\n      <td>1.0</td>\n      <td>1.0</td>\n      <td>1.0</td>\n      <td>0</td>\n      <td>0</td>\n      <td>0</td>\n      <td>0</td>\n      <td>流失客户</td>\n    </tr>\n    <tr>\n      <th>1</th>\n      <td>.christiny</td>\n      <td>1</td>\n      <td>183.0</td>\n      <td>152</td>\n      <td>1.0</td>\n      <td>1.0</td>\n      <td>4.0</td>\n      <td>0</td>\n      <td>0</td>\n      <td>1</td>\n      <td>1</td>\n      <td>高消费唤回用户</td>\n    </tr>\n    <tr>\n      <th>2</th>\n      <td>.willn1</td>\n      <td>1</td>\n      <td>34.0</td>\n      <td>170</td>\n      <td>1.0</td>\n      <td>1.0</td>\n      <td>1.0</td>\n      <td>0</td>\n      <td>0</td>\n      <td>0</td>\n      <td>0</td>\n      <td>流失客户</td>\n    </tr>\n    <tr>\n      <th>3</th>\n      <td>.托托m</td>\n      <td>1</td>\n      <td>37.0</td>\n      <td>170</td>\n      <td>1.0</td>\n      <td>1.0</td>\n      <td>1.0</td>\n      <td>0</td>\n      <td>0</td>\n      <td>0</td>\n      <td>0</td>\n      <td>流失客户</td>\n    </tr>\n    <tr>\n      <th>4</th>\n      <td>0000妮</td>\n      <td>1</td>\n      <td>164.0</td>\n      <td>2</td>\n      <td>5.0</td>\n      <td>1.0</td>\n      <td>4.0</td>\n      <td>1</td>\n      <td>0</td>\n      <td>1</td>\n      <td>101</td>\n      <td>频次深耕用户</td>\n    </tr>\n  </tbody>\n</table>\n</div>"
     },
     "metadata": {},
     "execution_count": 854
    }
   ],
   "source": [
    "def get_kehu(x):\n",
    "    if x == 111:\n",
    "        return '重要价值客户'\n",
    "    elif x == 110:\n",
    "        return '消费潜力用户'\n",
    "    elif x == 101:\n",
    "        return '频次深耕用户'\n",
    "    elif x == 100:\n",
    "        return '新客户'\n",
    "    elif x == 11:\n",
    "        return '重要价值流失预警用户'\n",
    "    elif x == 10:\n",
    "        return '一般用户'\n",
    "    elif x == 1:\n",
    "        return '高消费唤回用户'\n",
    "    elif x == 0:\n",
    "        return '流失客户'\n",
    "rfm['用户类别'] = rfm['人均数值'].apply(get_kehu)\n",
    "rfm.head()"
   ]
  },
  {
   "cell_type": "code",
   "execution_count": 855,
   "metadata": {},
   "outputs": [
    {
     "output_type": "execute_result",
     "data": {
      "text/plain": [
       "      客户类型    人数      人数占比\n",
       "0  高消费唤回用户  7338  0.288670\n",
       "1     流失客户  6680  0.262785\n",
       "2   频次深耕用户  5427  0.213493\n",
       "3      新客户  4224  0.166168\n",
       "4   重要价值客户   756  0.029740"
      ],
      "text/html": "<div>\n<style scoped>\n    .dataframe tbody tr th:only-of-type {\n        vertical-align: middle;\n    }\n\n    .dataframe tbody tr th {\n        vertical-align: top;\n    }\n\n    .dataframe thead th {\n        text-align: right;\n    }\n</style>\n<table border=\"1\" class=\"dataframe\">\n  <thead>\n    <tr style=\"text-align: right;\">\n      <th></th>\n      <th>客户类型</th>\n      <th>人数</th>\n      <th>人数占比</th>\n    </tr>\n  </thead>\n  <tbody>\n    <tr>\n      <th>0</th>\n      <td>高消费唤回用户</td>\n      <td>7338</td>\n      <td>0.288670</td>\n    </tr>\n    <tr>\n      <th>1</th>\n      <td>流失客户</td>\n      <td>6680</td>\n      <td>0.262785</td>\n    </tr>\n    <tr>\n      <th>2</th>\n      <td>频次深耕用户</td>\n      <td>5427</td>\n      <td>0.213493</td>\n    </tr>\n    <tr>\n      <th>3</th>\n      <td>新客户</td>\n      <td>4224</td>\n      <td>0.166168</td>\n    </tr>\n    <tr>\n      <th>4</th>\n      <td>重要价值客户</td>\n      <td>756</td>\n      <td>0.029740</td>\n    </tr>\n  </tbody>\n</table>\n</div>"
     },
     "metadata": {},
     "execution_count": 855
    }
   ],
   "source": [
    "count = rfm['用户类别'].value_counts().reset_index()\n",
    "count.columns = ['客户类型','人数']\n",
    "count['人数占比'] = count['人数']/count['人数'].sum()\n",
    "count.head()"
   ]
  },
  {
   "cell_type": "code",
   "execution_count": 856,
   "metadata": {},
   "outputs": [
    {
     "output_type": "execute_result",
     "data": {
      "text/plain": [
       "     客户类型      消费金额      金额占比\n",
       "0    一般用户   25803.0  0.007349\n",
       "1     新客户  270869.0  0.077142\n",
       "2    流失客户  444617.0  0.126624\n",
       "3  消费潜力用户   64075.0  0.018248\n",
       "4  重要价值客户  269230.0  0.076675"
      ],
      "text/html": "<div>\n<style scoped>\n    .dataframe tbody tr th:only-of-type {\n        vertical-align: middle;\n    }\n\n    .dataframe tbody tr th {\n        vertical-align: top;\n    }\n\n    .dataframe thead th {\n        text-align: right;\n    }\n</style>\n<table border=\"1\" class=\"dataframe\">\n  <thead>\n    <tr style=\"text-align: right;\">\n      <th></th>\n      <th>客户类型</th>\n      <th>消费金额</th>\n      <th>金额占比</th>\n    </tr>\n  </thead>\n  <tbody>\n    <tr>\n      <th>0</th>\n      <td>一般用户</td>\n      <td>25803.0</td>\n      <td>0.007349</td>\n    </tr>\n    <tr>\n      <th>1</th>\n      <td>新客户</td>\n      <td>270869.0</td>\n      <td>0.077142</td>\n    </tr>\n    <tr>\n      <th>2</th>\n      <td>流失客户</td>\n      <td>444617.0</td>\n      <td>0.126624</td>\n    </tr>\n    <tr>\n      <th>3</th>\n      <td>消费潜力用户</td>\n      <td>64075.0</td>\n      <td>0.018248</td>\n    </tr>\n    <tr>\n      <th>4</th>\n      <td>重要价值客户</td>\n      <td>269230.0</td>\n      <td>0.076675</td>\n    </tr>\n  </tbody>\n</table>\n</div>"
     },
     "metadata": {},
     "execution_count": 856
    }
   ],
   "source": [
    "rfm['总金额'] = rfm['F']*rfm['M']\n",
    "mon = rfm.groupby('用户类别')['总金额'].sum().reset_index()\n",
    "mon.columns = ['客户类型','消费金额']\n",
    "mon['金额占比'] = mon['消费金额']/mon['消费金额'].sum()\n",
    "mon.head()"
   ]
  },
  {
   "cell_type": "code",
   "execution_count": 857,
   "metadata": {},
   "outputs": [],
   "source": [
    "#图表自己画哦,今天感觉很是有点没思路，但是多看几遍掌握这种能力以后工作就基本有指望了"
   ]
  },
  {
   "source": [
    "# 同期群分析实战"
   ],
   "cell_type": "markdown",
   "metadata": {}
  },
  {
   "cell_type": "code",
   "execution_count": null,
   "metadata": {},
   "outputs": [],
   "source": []
  }
 ]
}