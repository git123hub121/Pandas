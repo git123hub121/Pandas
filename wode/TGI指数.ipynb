{
 "metadata": {
  "language_info": {
   "codemirror_mode": {
    "name": "ipython",
    "version": 3
   },
   "file_extension": ".py",
   "mimetype": "text/x-python",
   "name": "python",
   "nbconvert_exporter": "python",
   "pygments_lexer": "ipython3",
   "version": "3.7.0-final"
  },
  "orig_nbformat": 2,
  "kernelspec": {
   "name": "python3",
   "display_name": "Python 3",
   "language": "python"
  }
 },
 "nbformat": 4,
 "nbformat_minor": 2,
 "cells": [
  {
   "source": [
    "# TGI指数"
   ],
   "cell_type": "markdown",
   "metadata": {}
  },
  {
   "source": [
    "TGI指数= [目标群体中具有某一特征的群体所占比例/总体中具有相同特征的群体所占比例]*标准数100。\n",
    "例如，将某地区15-24岁的人作为目标群体，将去[电影网站A]看电影作为相同特征；若该地区15-24岁的人中，有8.9%的人去过[电影网站A]看电影，而在该地区总体人群中，有6.6%的人去过[电影网站A]看电影，则[电影网站A]在15-24岁人群中的TGI指数是134.9（8.9%/6.6%×100），其数额越大，就表明目标群体吻合度就越强势。"
   ],
   "cell_type": "markdown",
   "metadata": {}
  },
  {
   "source": [
    "案例：BOSS 抛来一份订单明细，“小 Z 啊，我们最近要推出一款客单比较高的产品，打\n",
    "算在一些城市先试销，你看看这个数据，哪些城市的人有高客单偏好，帮我筛选 5\n",
    "个吧”"
   ],
   "cell_type": "markdown",
   "metadata": {}
  },
  {
   "source": [
    "城市是目标群体，客单偏好是特征  总体"
   ],
   "cell_type": "markdown",
   "metadata": {}
  },
  {
   "cell_type": "code",
   "execution_count": 1,
   "metadata": {},
   "outputs": [],
   "source": [
    "import pandas as pd"
   ]
  },
  {
   "cell_type": "code",
   "execution_count": 2,
   "metadata": {},
   "outputs": [
    {
     "output_type": "execute_result",
     "data": {
      "text/plain": [
       "           品牌名称    买家昵称                付款日期  订单状态   实付金额  邮费   省份   城市  购买数量\n",
       "0  viva la vida    做快淘饭 2019-04-18 00:03:00  交易成功  22.32   0   北京  北京市     1\n",
       "1  viva la vida   作自有世祟 2019-02-17 00:03:51  交易成功  87.00   0   上海  上海市     1\n",
       "2  viva la vida    作雪白室 2019-04-18 00:01:43  交易成功  97.66   0  福建省  福州市     2\n",
       "3  viva la vida  作美女购物主 2019-01-11 23:35:01  交易成功  37.23   0  河南省  安阳市     3\n",
       "4  viva la vida  作美女购物主 2019-02-18 14:16:03  交易成功  29.50   0  河南省  安阳市     2"
      ],
      "text/html": "<div>\n<style scoped>\n    .dataframe tbody tr th:only-of-type {\n        vertical-align: middle;\n    }\n\n    .dataframe tbody tr th {\n        vertical-align: top;\n    }\n\n    .dataframe thead th {\n        text-align: right;\n    }\n</style>\n<table border=\"1\" class=\"dataframe\">\n  <thead>\n    <tr style=\"text-align: right;\">\n      <th></th>\n      <th>品牌名称</th>\n      <th>买家昵称</th>\n      <th>付款日期</th>\n      <th>订单状态</th>\n      <th>实付金额</th>\n      <th>邮费</th>\n      <th>省份</th>\n      <th>城市</th>\n      <th>购买数量</th>\n    </tr>\n  </thead>\n  <tbody>\n    <tr>\n      <th>0</th>\n      <td>viva la vida</td>\n      <td>做快淘饭</td>\n      <td>2019-04-18 00:03:00</td>\n      <td>交易成功</td>\n      <td>22.32</td>\n      <td>0</td>\n      <td>北京</td>\n      <td>北京市</td>\n      <td>1</td>\n    </tr>\n    <tr>\n      <th>1</th>\n      <td>viva la vida</td>\n      <td>作自有世祟</td>\n      <td>2019-02-17 00:03:51</td>\n      <td>交易成功</td>\n      <td>87.00</td>\n      <td>0</td>\n      <td>上海</td>\n      <td>上海市</td>\n      <td>1</td>\n    </tr>\n    <tr>\n      <th>2</th>\n      <td>viva la vida</td>\n      <td>作雪白室</td>\n      <td>2019-04-18 00:01:43</td>\n      <td>交易成功</td>\n      <td>97.66</td>\n      <td>0</td>\n      <td>福建省</td>\n      <td>福州市</td>\n      <td>2</td>\n    </tr>\n    <tr>\n      <th>3</th>\n      <td>viva la vida</td>\n      <td>作美女购物主</td>\n      <td>2019-01-11 23:35:01</td>\n      <td>交易成功</td>\n      <td>37.23</td>\n      <td>0</td>\n      <td>河南省</td>\n      <td>安阳市</td>\n      <td>3</td>\n    </tr>\n    <tr>\n      <th>4</th>\n      <td>viva la vida</td>\n      <td>作美女购物主</td>\n      <td>2019-02-18 14:16:03</td>\n      <td>交易成功</td>\n      <td>29.50</td>\n      <td>0</td>\n      <td>河南省</td>\n      <td>安阳市</td>\n      <td>2</td>\n    </tr>\n  </tbody>\n</table>\n</div>"
     },
     "metadata": {},
     "execution_count": 2
    }
   ],
   "source": [
    "df = pd.read_excel('D:/Python/Pandas/06 TGI指数分析实战/TGI/TGI指数案例数据.xlsx')\n",
    "df.head()"
   ]
  },
  {
   "cell_type": "code",
   "execution_count": 3,
   "metadata": {},
   "outputs": [
    {
     "output_type": "stream",
     "name": "stdout",
     "text": [
      "<class 'pandas.core.frame.DataFrame'>\nRangeIndex: 28832 entries, 0 to 28831\nData columns (total 9 columns):\n #   Column  Non-Null Count  Dtype         \n---  ------  --------------  -----         \n 0   品牌名称    28832 non-null  object        \n 1   买家昵称    28832 non-null  object        \n 2   付款日期    28832 non-null  datetime64[ns]\n 3   订单状态    28832 non-null  object        \n 4   实付金额    28832 non-null  float64       \n 5   邮费      28832 non-null  int64         \n 6   省份      28832 non-null  object        \n 7   城市      28832 non-null  object        \n 8   购买数量    28832 non-null  int64         \ndtypes: datetime64[ns](1), float64(1), int64(2), object(5)\nmemory usage: 2.0+ MB\n"
     ]
    }
   ],
   "source": [
    "df.info()#没有空值"
   ]
  },
  {
   "cell_type": "code",
   "execution_count": 4,
   "metadata": {},
   "outputs": [
    {
     "output_type": "execute_result",
     "data": {
      "text/plain": [
       "订单状态\n",
       "交易成功                 27792\n",
       "付款以后用户退款成功，交易自动关闭     1040\n",
       "dtype: int64"
      ]
     },
     "metadata": {},
     "execution_count": 4
    }
   ],
   "source": [
    "df.groupby('订单状态').size()"
   ]
  },
  {
   "cell_type": "code",
   "execution_count": 5,
   "metadata": {},
   "outputs": [
    {
     "output_type": "stream",
     "name": "stdout",
     "text": [
      "<class 'pandas.core.frame.DataFrame'>\nInt64Index: 27792 entries, 0 to 28831\nData columns (total 9 columns):\n #   Column  Non-Null Count  Dtype         \n---  ------  --------------  -----         \n 0   品牌名称    27792 non-null  object        \n 1   买家昵称    27792 non-null  object        \n 2   付款日期    27792 non-null  datetime64[ns]\n 3   订单状态    27792 non-null  object        \n 4   实付金额    27792 non-null  float64       \n 5   邮费      27792 non-null  int64         \n 6   省份      27792 non-null  object        \n 7   城市      27792 non-null  object        \n 8   购买数量    27792 non-null  int64         \ndtypes: datetime64[ns](1), float64(1), int64(2), object(5)\nmemory usage: 2.1+ MB\n"
     ]
    }
   ],
   "source": [
    "#根据订单状态，我们需要剔除交易失败的订单\n",
    "df = df.loc[df['订单状态']=='交易成功',:]\n",
    "df.info()"
   ]
  },
  {
   "cell_type": "code",
   "execution_count": 6,
   "metadata": {},
   "outputs": [
    {
     "output_type": "execute_result",
     "data": {
      "text/plain": [
       "           品牌名称      买家昵称                付款日期  订单状态    实付金额  邮费      省份  \\\n",
       "0  viva la vida      做快淘饭 2019-04-18 00:03:00  交易成功  22.320   0      北京   \n",
       "1  viva la vida     作自有世祟 2019-02-17 00:03:51  交易成功  87.000   0      上海   \n",
       "2  viva la vida      作雪白室 2019-04-18 00:01:43  交易成功  97.660   0     福建省   \n",
       "3  viva la vida    作美女购物主 2019-01-11 23:35:01  交易成功  37.230   0     河南省   \n",
       "4  viva la vida    作美女购物主 2019-02-18 14:16:03  交易成功  29.500   0     河南省   \n",
       "5  viva la vida    作卢阳口才室 2019-06-16 04:15:56  交易成功  42.500   0     浙江省   \n",
       "6  viva la vida      作饺子室 2019-06-16 19:35:06  交易成功  87.000   0     广东省   \n",
       "7  viva la vida  作韩式潮流服饰室 2019-01-11 16:56:37  交易成功   4.500   0  内蒙古自治区   \n",
       "8  viva la vida      作阿牛室 2019-01-11 06:29:28  交易成功  11.675   0      北京   \n",
       "9  viva la vida       佐o佐 2019-01-11 11:51:56  交易成功  59.500   0     广东省   \n",
       "\n",
       "      城市  购买数量  \n",
       "0    北京市     1  \n",
       "1    上海市     1  \n",
       "2    福州市     2  \n",
       "3    安阳市     3  \n",
       "4    安阳市     2  \n",
       "5    衢州市     3  \n",
       "6    广州市     1  \n",
       "7  呼伦贝尔市     1  \n",
       "8    北京市     1  \n",
       "9    广州市     1  "
      ],
      "text/html": "<div>\n<style scoped>\n    .dataframe tbody tr th:only-of-type {\n        vertical-align: middle;\n    }\n\n    .dataframe tbody tr th {\n        vertical-align: top;\n    }\n\n    .dataframe thead th {\n        text-align: right;\n    }\n</style>\n<table border=\"1\" class=\"dataframe\">\n  <thead>\n    <tr style=\"text-align: right;\">\n      <th></th>\n      <th>品牌名称</th>\n      <th>买家昵称</th>\n      <th>付款日期</th>\n      <th>订单状态</th>\n      <th>实付金额</th>\n      <th>邮费</th>\n      <th>省份</th>\n      <th>城市</th>\n      <th>购买数量</th>\n    </tr>\n  </thead>\n  <tbody>\n    <tr>\n      <th>0</th>\n      <td>viva la vida</td>\n      <td>做快淘饭</td>\n      <td>2019-04-18 00:03:00</td>\n      <td>交易成功</td>\n      <td>22.320</td>\n      <td>0</td>\n      <td>北京</td>\n      <td>北京市</td>\n      <td>1</td>\n    </tr>\n    <tr>\n      <th>1</th>\n      <td>viva la vida</td>\n      <td>作自有世祟</td>\n      <td>2019-02-17 00:03:51</td>\n      <td>交易成功</td>\n      <td>87.000</td>\n      <td>0</td>\n      <td>上海</td>\n      <td>上海市</td>\n      <td>1</td>\n    </tr>\n    <tr>\n      <th>2</th>\n      <td>viva la vida</td>\n      <td>作雪白室</td>\n      <td>2019-04-18 00:01:43</td>\n      <td>交易成功</td>\n      <td>97.660</td>\n      <td>0</td>\n      <td>福建省</td>\n      <td>福州市</td>\n      <td>2</td>\n    </tr>\n    <tr>\n      <th>3</th>\n      <td>viva la vida</td>\n      <td>作美女购物主</td>\n      <td>2019-01-11 23:35:01</td>\n      <td>交易成功</td>\n      <td>37.230</td>\n      <td>0</td>\n      <td>河南省</td>\n      <td>安阳市</td>\n      <td>3</td>\n    </tr>\n    <tr>\n      <th>4</th>\n      <td>viva la vida</td>\n      <td>作美女购物主</td>\n      <td>2019-02-18 14:16:03</td>\n      <td>交易成功</td>\n      <td>29.500</td>\n      <td>0</td>\n      <td>河南省</td>\n      <td>安阳市</td>\n      <td>2</td>\n    </tr>\n    <tr>\n      <th>5</th>\n      <td>viva la vida</td>\n      <td>作卢阳口才室</td>\n      <td>2019-06-16 04:15:56</td>\n      <td>交易成功</td>\n      <td>42.500</td>\n      <td>0</td>\n      <td>浙江省</td>\n      <td>衢州市</td>\n      <td>3</td>\n    </tr>\n    <tr>\n      <th>6</th>\n      <td>viva la vida</td>\n      <td>作饺子室</td>\n      <td>2019-06-16 19:35:06</td>\n      <td>交易成功</td>\n      <td>87.000</td>\n      <td>0</td>\n      <td>广东省</td>\n      <td>广州市</td>\n      <td>1</td>\n    </tr>\n    <tr>\n      <th>7</th>\n      <td>viva la vida</td>\n      <td>作韩式潮流服饰室</td>\n      <td>2019-01-11 16:56:37</td>\n      <td>交易成功</td>\n      <td>4.500</td>\n      <td>0</td>\n      <td>内蒙古自治区</td>\n      <td>呼伦贝尔市</td>\n      <td>1</td>\n    </tr>\n    <tr>\n      <th>8</th>\n      <td>viva la vida</td>\n      <td>作阿牛室</td>\n      <td>2019-01-11 06:29:28</td>\n      <td>交易成功</td>\n      <td>11.675</td>\n      <td>0</td>\n      <td>北京</td>\n      <td>北京市</td>\n      <td>1</td>\n    </tr>\n    <tr>\n      <th>9</th>\n      <td>viva la vida</td>\n      <td>佐o佐</td>\n      <td>2019-01-11 11:51:56</td>\n      <td>交易成功</td>\n      <td>59.500</td>\n      <td>0</td>\n      <td>广东省</td>\n      <td>广州市</td>\n      <td>1</td>\n    </tr>\n  </tbody>\n</table>\n</div>"
     },
     "metadata": {},
     "execution_count": 6
    }
   ],
   "source": [
    "df.head(10)"
   ]
  },
  {
   "source": [
    "买家昵称有重复的，我们需要统计买家昵称的实付总额#并且有些客户多次购买，所以要平均"
   ],
   "cell_type": "markdown",
   "metadata": {}
  },
  {
   "cell_type": "code",
   "execution_count": 7,
   "metadata": {},
   "outputs": [
    {
     "output_type": "execute_result",
     "data": {
      "text/plain": [
       "         买家昵称    实付金额\n",
       "0   .blue_ram  49.450\n",
       "1  .christiny  22.000\n",
       "2     .willn1  34.570\n",
       "3        .托托m  37.475\n",
       "4       0000妮  13.500"
      ],
      "text/html": "<div>\n<style scoped>\n    .dataframe tbody tr th:only-of-type {\n        vertical-align: middle;\n    }\n\n    .dataframe tbody tr th {\n        vertical-align: top;\n    }\n\n    .dataframe thead th {\n        text-align: right;\n    }\n</style>\n<table border=\"1\" class=\"dataframe\">\n  <thead>\n    <tr style=\"text-align: right;\">\n      <th></th>\n      <th>买家昵称</th>\n      <th>实付金额</th>\n    </tr>\n  </thead>\n  <tbody>\n    <tr>\n      <th>0</th>\n      <td>.blue_ram</td>\n      <td>49.450</td>\n    </tr>\n    <tr>\n      <th>1</th>\n      <td>.christiny</td>\n      <td>22.000</td>\n    </tr>\n    <tr>\n      <th>2</th>\n      <td>.willn1</td>\n      <td>34.570</td>\n    </tr>\n    <tr>\n      <th>3</th>\n      <td>.托托m</td>\n      <td>37.475</td>\n    </tr>\n    <tr>\n      <th>4</th>\n      <td>0000妮</td>\n      <td>13.500</td>\n    </tr>\n  </tbody>\n</table>\n</div>"
     },
     "metadata": {},
     "execution_count": 7
    }
   ],
   "source": [
    "df_m = df.groupby('买家昵称')['实付金额'].mean().reset_index()\n",
    "df_m.head()"
   ]
  },
  {
   "source": [
    "客单价标准是>50"
   ],
   "cell_type": "markdown",
   "metadata": {}
  },
  {
   "cell_type": "code",
   "execution_count": 8,
   "metadata": {},
   "outputs": [
    {
     "output_type": "execute_result",
     "data": {
      "text/plain": [
       "         买家昵称    实付金额 客单类别\n",
       "0   .blue_ram  49.450  低客单\n",
       "1  .christiny  22.000  低客单\n",
       "2     .willn1  34.570  低客单\n",
       "3        .托托m  37.475  低客单\n",
       "4       0000妮  13.500  低客单"
      ],
      "text/html": "<div>\n<style scoped>\n    .dataframe tbody tr th:only-of-type {\n        vertical-align: middle;\n    }\n\n    .dataframe tbody tr th {\n        vertical-align: top;\n    }\n\n    .dataframe thead th {\n        text-align: right;\n    }\n</style>\n<table border=\"1\" class=\"dataframe\">\n  <thead>\n    <tr style=\"text-align: right;\">\n      <th></th>\n      <th>买家昵称</th>\n      <th>实付金额</th>\n      <th>客单类别</th>\n    </tr>\n  </thead>\n  <tbody>\n    <tr>\n      <th>0</th>\n      <td>.blue_ram</td>\n      <td>49.450</td>\n      <td>低客单</td>\n    </tr>\n    <tr>\n      <th>1</th>\n      <td>.christiny</td>\n      <td>22.000</td>\n      <td>低客单</td>\n    </tr>\n    <tr>\n      <th>2</th>\n      <td>.willn1</td>\n      <td>34.570</td>\n      <td>低客单</td>\n    </tr>\n    <tr>\n      <th>3</th>\n      <td>.托托m</td>\n      <td>37.475</td>\n      <td>低客单</td>\n    </tr>\n    <tr>\n      <th>4</th>\n      <td>0000妮</td>\n      <td>13.500</td>\n      <td>低客单</td>\n    </tr>\n  </tbody>\n</table>\n</div>"
     },
     "metadata": {},
     "execution_count": 8
    }
   ],
   "source": [
    "df_m['客单类别'] = ['高客单' if i>50 else '低客单' for i in list(df_m['实付金额'])]\n",
    "df_m.head()"
   ]
  },
  {
   "cell_type": "code",
   "execution_count": 9,
   "metadata": {},
   "outputs": [
    {
     "output_type": "stream",
     "name": "stdout",
     "text": [
      "<class 'pandas.core.frame.DataFrame'>\nRangeIndex: 25419 entries, 0 to 25418\nData columns (total 3 columns):\n #   Column  Non-Null Count  Dtype  \n---  ------  --------------  -----  \n 0   买家昵称    25419 non-null  object \n 1   实付金额    25419 non-null  float64\n 2   客单类别    25419 non-null  object \ndtypes: float64(1), object(2)\nmemory usage: 595.9+ KB\n"
     ]
    }
   ],
   "source": [
    "df_m.info()"
   ]
  },
  {
   "source": [
    "第一步已解决，现在需要添加城市和省份"
   ],
   "cell_type": "markdown",
   "metadata": {}
  },
  {
   "cell_type": "code",
   "execution_count": 10,
   "metadata": {},
   "outputs": [
    {
     "output_type": "execute_result",
     "data": {
      "text/plain": [
       "           品牌名称    买家昵称                付款日期  订单状态   实付金额  邮费   省份   城市  购买数量\n",
       "0  viva la vida    做快淘饭 2019-04-18 00:03:00  交易成功  22.32   0   北京  北京市     1\n",
       "1  viva la vida   作自有世祟 2019-02-17 00:03:51  交易成功  87.00   0   上海  上海市     1\n",
       "2  viva la vida    作雪白室 2019-04-18 00:01:43  交易成功  97.66   0  福建省  福州市     2\n",
       "3  viva la vida  作美女购物主 2019-01-11 23:35:01  交易成功  37.23   0  河南省  安阳市     3\n",
       "5  viva la vida  作卢阳口才室 2019-06-16 04:15:56  交易成功  42.50   0  浙江省  衢州市     3"
      ],
      "text/html": "<div>\n<style scoped>\n    .dataframe tbody tr th:only-of-type {\n        vertical-align: middle;\n    }\n\n    .dataframe tbody tr th {\n        vertical-align: top;\n    }\n\n    .dataframe thead th {\n        text-align: right;\n    }\n</style>\n<table border=\"1\" class=\"dataframe\">\n  <thead>\n    <tr style=\"text-align: right;\">\n      <th></th>\n      <th>品牌名称</th>\n      <th>买家昵称</th>\n      <th>付款日期</th>\n      <th>订单状态</th>\n      <th>实付金额</th>\n      <th>邮费</th>\n      <th>省份</th>\n      <th>城市</th>\n      <th>购买数量</th>\n    </tr>\n  </thead>\n  <tbody>\n    <tr>\n      <th>0</th>\n      <td>viva la vida</td>\n      <td>做快淘饭</td>\n      <td>2019-04-18 00:03:00</td>\n      <td>交易成功</td>\n      <td>22.32</td>\n      <td>0</td>\n      <td>北京</td>\n      <td>北京市</td>\n      <td>1</td>\n    </tr>\n    <tr>\n      <th>1</th>\n      <td>viva la vida</td>\n      <td>作自有世祟</td>\n      <td>2019-02-17 00:03:51</td>\n      <td>交易成功</td>\n      <td>87.00</td>\n      <td>0</td>\n      <td>上海</td>\n      <td>上海市</td>\n      <td>1</td>\n    </tr>\n    <tr>\n      <th>2</th>\n      <td>viva la vida</td>\n      <td>作雪白室</td>\n      <td>2019-04-18 00:01:43</td>\n      <td>交易成功</td>\n      <td>97.66</td>\n      <td>0</td>\n      <td>福建省</td>\n      <td>福州市</td>\n      <td>2</td>\n    </tr>\n    <tr>\n      <th>3</th>\n      <td>viva la vida</td>\n      <td>作美女购物主</td>\n      <td>2019-01-11 23:35:01</td>\n      <td>交易成功</td>\n      <td>37.23</td>\n      <td>0</td>\n      <td>河南省</td>\n      <td>安阳市</td>\n      <td>3</td>\n    </tr>\n    <tr>\n      <th>5</th>\n      <td>viva la vida</td>\n      <td>作卢阳口才室</td>\n      <td>2019-06-16 04:15:56</td>\n      <td>交易成功</td>\n      <td>42.50</td>\n      <td>0</td>\n      <td>浙江省</td>\n      <td>衢州市</td>\n      <td>3</td>\n    </tr>\n  </tbody>\n</table>\n</div>"
     },
     "metadata": {},
     "execution_count": 10
    }
   ],
   "source": [
    "df_c = df.drop_duplicates(subset='买家昵称')#这里对于数据无所谓\n",
    "df_c.head()"
   ]
  },
  {
   "cell_type": "code",
   "execution_count": 11,
   "metadata": {},
   "outputs": [
    {
     "output_type": "stream",
     "name": "stdout",
     "text": [
      "<class 'pandas.core.frame.DataFrame'>\nInt64Index: 25419 entries, 0 to 28831\nData columns (total 9 columns):\n #   Column  Non-Null Count  Dtype         \n---  ------  --------------  -----         \n 0   品牌名称    25419 non-null  object        \n 1   买家昵称    25419 non-null  object        \n 2   付款日期    25419 non-null  datetime64[ns]\n 3   订单状态    25419 non-null  object        \n 4   实付金额    25419 non-null  float64       \n 5   邮费      25419 non-null  int64         \n 6   省份      25419 non-null  object        \n 7   城市      25419 non-null  object        \n 8   购买数量    25419 non-null  int64         \ndtypes: datetime64[ns](1), float64(1), int64(2), object(5)\nmemory usage: 1.9+ MB\n"
     ]
    }
   ],
   "source": [
    "df_c.info()"
   ]
  },
  {
   "cell_type": "code",
   "execution_count": 12,
   "metadata": {},
   "outputs": [
    {
     "output_type": "execute_result",
     "data": {
      "text/plain": [
       "     买家昵称   省份   城市\n",
       "0    做快淘饭   北京  北京市\n",
       "1   作自有世祟   上海  上海市\n",
       "2    作雪白室  福建省  福州市\n",
       "3  作美女购物主  河南省  安阳市\n",
       "5  作卢阳口才室  浙江省  衢州市"
      ],
      "text/html": "<div>\n<style scoped>\n    .dataframe tbody tr th:only-of-type {\n        vertical-align: middle;\n    }\n\n    .dataframe tbody tr th {\n        vertical-align: top;\n    }\n\n    .dataframe thead th {\n        text-align: right;\n    }\n</style>\n<table border=\"1\" class=\"dataframe\">\n  <thead>\n    <tr style=\"text-align: right;\">\n      <th></th>\n      <th>买家昵称</th>\n      <th>省份</th>\n      <th>城市</th>\n    </tr>\n  </thead>\n  <tbody>\n    <tr>\n      <th>0</th>\n      <td>做快淘饭</td>\n      <td>北京</td>\n      <td>北京市</td>\n    </tr>\n    <tr>\n      <th>1</th>\n      <td>作自有世祟</td>\n      <td>上海</td>\n      <td>上海市</td>\n    </tr>\n    <tr>\n      <th>2</th>\n      <td>作雪白室</td>\n      <td>福建省</td>\n      <td>福州市</td>\n    </tr>\n    <tr>\n      <th>3</th>\n      <td>作美女购物主</td>\n      <td>河南省</td>\n      <td>安阳市</td>\n    </tr>\n    <tr>\n      <th>5</th>\n      <td>作卢阳口才室</td>\n      <td>浙江省</td>\n      <td>衢州市</td>\n    </tr>\n  </tbody>\n</table>\n</div>"
     },
     "metadata": {},
     "execution_count": 12
    }
   ],
   "source": [
    "df_c = df_c[['买家昵称','省份','城市']]\n",
    "df_c.head()"
   ]
  },
  {
   "cell_type": "code",
   "execution_count": 13,
   "metadata": {},
   "outputs": [
    {
     "output_type": "stream",
     "name": "stdout",
     "text": [
      "<class 'pandas.core.frame.DataFrame'>\nInt64Index: 25419 entries, 0 to 25418\nData columns (total 5 columns):\n #   Column  Non-Null Count  Dtype  \n---  ------  --------------  -----  \n 0   买家昵称    25419 non-null  object \n 1   实付金额    25419 non-null  float64\n 2   客单类别    25419 non-null  object \n 3   省份      25419 non-null  object \n 4   城市      25419 non-null  object \ndtypes: float64(1), object(4)\nmemory usage: 1.2+ MB\n"
     ]
    }
   ],
   "source": [
    "df_mc = pd.merge(df_m,df_c,left_on='买家昵称',right_on='买家昵称',how='left')\n",
    "df_mc.info()"
   ]
  },
  {
   "cell_type": "code",
   "execution_count": 14,
   "metadata": {},
   "outputs": [
    {
     "output_type": "execute_result",
     "data": {
      "text/plain": [
       "         买家昵称    实付金额 客单类别   省份   城市\n",
       "0   .blue_ram  49.450  低客单   上海  上海市\n",
       "1  .christiny  22.000  低客单  江苏省  南京市\n",
       "2     .willn1  34.570  低客单  山东省  烟台市\n",
       "3        .托托m  37.475  低客单   上海  上海市\n",
       "4       0000妮  13.500  低客单  广东省  揭阳市"
      ],
      "text/html": "<div>\n<style scoped>\n    .dataframe tbody tr th:only-of-type {\n        vertical-align: middle;\n    }\n\n    .dataframe tbody tr th {\n        vertical-align: top;\n    }\n\n    .dataframe thead th {\n        text-align: right;\n    }\n</style>\n<table border=\"1\" class=\"dataframe\">\n  <thead>\n    <tr style=\"text-align: right;\">\n      <th></th>\n      <th>买家昵称</th>\n      <th>实付金额</th>\n      <th>客单类别</th>\n      <th>省份</th>\n      <th>城市</th>\n    </tr>\n  </thead>\n  <tbody>\n    <tr>\n      <th>0</th>\n      <td>.blue_ram</td>\n      <td>49.450</td>\n      <td>低客单</td>\n      <td>上海</td>\n      <td>上海市</td>\n    </tr>\n    <tr>\n      <th>1</th>\n      <td>.christiny</td>\n      <td>22.000</td>\n      <td>低客单</td>\n      <td>江苏省</td>\n      <td>南京市</td>\n    </tr>\n    <tr>\n      <th>2</th>\n      <td>.willn1</td>\n      <td>34.570</td>\n      <td>低客单</td>\n      <td>山东省</td>\n      <td>烟台市</td>\n    </tr>\n    <tr>\n      <th>3</th>\n      <td>.托托m</td>\n      <td>37.475</td>\n      <td>低客单</td>\n      <td>上海</td>\n      <td>上海市</td>\n    </tr>\n    <tr>\n      <th>4</th>\n      <td>0000妮</td>\n      <td>13.500</td>\n      <td>低客单</td>\n      <td>广东省</td>\n      <td>揭阳市</td>\n    </tr>\n  </tbody>\n</table>\n</div>"
     },
     "metadata": {},
     "execution_count": 14
    }
   ],
   "source": [
    "df_mc.head()"
   ]
  },
  {
   "cell_type": "code",
   "execution_count": 15,
   "metadata": {},
   "outputs": [],
   "source": [
    "df_mc = df_mc[['买家昵称','客单类别','省份','城市']]"
   ]
  },
  {
   "cell_type": "code",
   "execution_count": 16,
   "metadata": {},
   "outputs": [
    {
     "output_type": "execute_result",
     "data": {
      "text/plain": [
       "10477"
      ]
     },
     "metadata": {},
     "execution_count": 16
    }
   ],
   "source": [
    "dfg = df_mc.loc[df_mc['客单类别']=='高客单','客单类别'].count()\n",
    "dfg"
   ]
  },
  {
   "cell_type": "code",
   "execution_count": 17,
   "metadata": {},
   "outputs": [
    {
     "output_type": "execute_result",
     "data": {
      "text/plain": [
       "25419"
      ]
     },
     "metadata": {},
     "execution_count": 17
    }
   ],
   "source": [
    "dfp = df_mc['客单类别'].count()#每个城市的客单总数\n",
    "dfp"
   ]
  },
  {
   "cell_type": "code",
   "execution_count": 18,
   "metadata": {},
   "outputs": [],
   "source": [
    "#每个城市的高客单\n",
    "# df_mc.groupby(['城市','客单类别'])['客单类别'].count()\n",
    "# df_mc = df_mc.loc[df_mc['客单类别']=='高客单',:]\n",
    "# df_mc.head()"
   ]
  },
  {
   "cell_type": "code",
   "execution_count": 19,
   "metadata": {},
   "outputs": [],
   "source": [
    "# df_mc = df_mc.rename(columns={'客单类别':'高客单'})"
   ]
  },
  {
   "cell_type": "code",
   "execution_count": 20,
   "metadata": {},
   "outputs": [],
   "source": [
    "# df_mc.groupby('城市')['高客单'].count()"
   ]
  },
  {
   "cell_type": "code",
   "execution_count": 36,
   "metadata": {},
   "outputs": [
    {
     "output_type": "execute_result",
     "data": {
      "text/plain": [
       "客单类别            低客单     高客单\n",
       "省份  城市                     \n",
       "上海  上海市      2779.0  2324.0\n",
       "云南省 临沧市         3.0     2.0\n",
       "    丽江市         1.0     3.0\n",
       "    保山市         6.0     2.0\n",
       "    大理白族自治州     9.0     8.0"
      ],
      "text/html": "<div>\n<style scoped>\n    .dataframe tbody tr th:only-of-type {\n        vertical-align: middle;\n    }\n\n    .dataframe tbody tr th {\n        vertical-align: top;\n    }\n\n    .dataframe thead th {\n        text-align: right;\n    }\n</style>\n<table border=\"1\" class=\"dataframe\">\n  <thead>\n    <tr style=\"text-align: right;\">\n      <th></th>\n      <th>客单类别</th>\n      <th>低客单</th>\n      <th>高客单</th>\n    </tr>\n    <tr>\n      <th>省份</th>\n      <th>城市</th>\n      <th></th>\n      <th></th>\n    </tr>\n  </thead>\n  <tbody>\n    <tr>\n      <th>上海</th>\n      <th>上海市</th>\n      <td>2779.0</td>\n      <td>2324.0</td>\n    </tr>\n    <tr>\n      <th rowspan=\"4\" valign=\"top\">云南省</th>\n      <th>临沧市</th>\n      <td>3.0</td>\n      <td>2.0</td>\n    </tr>\n    <tr>\n      <th>丽江市</th>\n      <td>1.0</td>\n      <td>3.0</td>\n    </tr>\n    <tr>\n      <th>保山市</th>\n      <td>6.0</td>\n      <td>2.0</td>\n    </tr>\n    <tr>\n      <th>大理白族自治州</th>\n      <td>9.0</td>\n      <td>8.0</td>\n    </tr>\n  </tbody>\n</table>\n</div>"
     },
     "metadata": {},
     "execution_count": 36
    }
   ],
   "source": [
    "# import matplotlib.pyplot as plt\n",
    "df_mc.groupby(['省份','城市'])['客单类别'].value_counts().unstack().head()#.plot(kind='bar')#这一步也可以得到，终于知道了！\n",
    "# plt.show"
   ]
  },
  {
   "cell_type": "code",
   "execution_count": 22,
   "metadata": {},
   "outputs": [
    {
     "output_type": "execute_result",
     "data": {
      "text/plain": [
       "               买家昵称        \n",
       "客单类别            低客单     高客单\n",
       "省份  城市                     \n",
       "上海  上海市      2779.0  2324.0\n",
       "云南省 临沧市         3.0     2.0\n",
       "    丽江市         1.0     3.0\n",
       "    保山市         6.0     2.0\n",
       "    大理白族自治州     9.0     8.0"
      ],
      "text/html": "<div>\n<style scoped>\n    .dataframe tbody tr th:only-of-type {\n        vertical-align: middle;\n    }\n\n    .dataframe tbody tr th {\n        vertical-align: top;\n    }\n\n    .dataframe thead tr th {\n        text-align: left;\n    }\n\n    .dataframe thead tr:last-of-type th {\n        text-align: right;\n    }\n</style>\n<table border=\"1\" class=\"dataframe\">\n  <thead>\n    <tr>\n      <th></th>\n      <th></th>\n      <th colspan=\"2\" halign=\"left\">买家昵称</th>\n    </tr>\n    <tr>\n      <th></th>\n      <th>客单类别</th>\n      <th>低客单</th>\n      <th>高客单</th>\n    </tr>\n    <tr>\n      <th>省份</th>\n      <th>城市</th>\n      <th></th>\n      <th></th>\n    </tr>\n  </thead>\n  <tbody>\n    <tr>\n      <th>上海</th>\n      <th>上海市</th>\n      <td>2779.0</td>\n      <td>2324.0</td>\n    </tr>\n    <tr>\n      <th rowspan=\"4\" valign=\"top\">云南省</th>\n      <th>临沧市</th>\n      <td>3.0</td>\n      <td>2.0</td>\n    </tr>\n    <tr>\n      <th>丽江市</th>\n      <td>1.0</td>\n      <td>3.0</td>\n    </tr>\n    <tr>\n      <th>保山市</th>\n      <td>6.0</td>\n      <td>2.0</td>\n    </tr>\n    <tr>\n      <th>大理白族自治州</th>\n      <td>9.0</td>\n      <td>8.0</td>\n    </tr>\n  </tbody>\n</table>\n</div>"
     },
     "metadata": {},
     "execution_count": 22
    }
   ],
   "source": [
    "result = pd.pivot_table(df_mc,index=['省份','城市'],columns='客单类别',aggfunc='count')\n",
    "result.head()"
   ]
  },
  {
   "cell_type": "code",
   "execution_count": 23,
   "metadata": {},
   "outputs": [],
   "source": [
    "result['总人数'] = (result['买家昵称']['高客单']+result['买家昵称']['低客单'])"
   ]
  },
  {
   "cell_type": "code",
   "execution_count": 24,
   "metadata": {},
   "outputs": [],
   "source": [
    "result['高客单占比'] = result['买家昵称']['高客单']/result['总人数'] #每个城市的高客单占比"
   ]
  },
  {
   "cell_type": "code",
   "execution_count": 25,
   "metadata": {},
   "outputs": [
    {
     "output_type": "execute_result",
     "data": {
      "text/plain": [
       "               买家昵称             总人数     高客单占比\n",
       "客单类别            低客单     高客单                  \n",
       "省份  城市                                       \n",
       "上海  上海市      2779.0  2324.0  5103.0  0.455418\n",
       "云南省 临沧市         3.0     2.0     5.0  0.400000\n",
       "    丽江市         1.0     3.0     4.0  0.750000\n",
       "    保山市         6.0     2.0     8.0  0.250000\n",
       "    大理白族自治州     9.0     8.0    17.0  0.470588"
      ],
      "text/html": "<div>\n<style scoped>\n    .dataframe tbody tr th:only-of-type {\n        vertical-align: middle;\n    }\n\n    .dataframe tbody tr th {\n        vertical-align: top;\n    }\n\n    .dataframe thead tr th {\n        text-align: left;\n    }\n\n    .dataframe thead tr:last-of-type th {\n        text-align: right;\n    }\n</style>\n<table border=\"1\" class=\"dataframe\">\n  <thead>\n    <tr>\n      <th></th>\n      <th></th>\n      <th colspan=\"2\" halign=\"left\">买家昵称</th>\n      <th>总人数</th>\n      <th>高客单占比</th>\n    </tr>\n    <tr>\n      <th></th>\n      <th>客单类别</th>\n      <th>低客单</th>\n      <th>高客单</th>\n      <th></th>\n      <th></th>\n    </tr>\n    <tr>\n      <th>省份</th>\n      <th>城市</th>\n      <th></th>\n      <th></th>\n      <th></th>\n      <th></th>\n    </tr>\n  </thead>\n  <tbody>\n    <tr>\n      <th>上海</th>\n      <th>上海市</th>\n      <td>2779.0</td>\n      <td>2324.0</td>\n      <td>5103.0</td>\n      <td>0.455418</td>\n    </tr>\n    <tr>\n      <th rowspan=\"4\" valign=\"top\">云南省</th>\n      <th>临沧市</th>\n      <td>3.0</td>\n      <td>2.0</td>\n      <td>5.0</td>\n      <td>0.400000</td>\n    </tr>\n    <tr>\n      <th>丽江市</th>\n      <td>1.0</td>\n      <td>3.0</td>\n      <td>4.0</td>\n      <td>0.750000</td>\n    </tr>\n    <tr>\n      <th>保山市</th>\n      <td>6.0</td>\n      <td>2.0</td>\n      <td>8.0</td>\n      <td>0.250000</td>\n    </tr>\n    <tr>\n      <th>大理白族自治州</th>\n      <td>9.0</td>\n      <td>8.0</td>\n      <td>17.0</td>\n      <td>0.470588</td>\n    </tr>\n  </tbody>\n</table>\n</div>"
     },
     "metadata": {},
     "execution_count": 25
    }
   ],
   "source": [
    "result.head()"
   ]
  },
  {
   "cell_type": "code",
   "execution_count": 26,
   "metadata": {},
   "outputs": [],
   "source": [
    "result['总占比'] = dfg/dfp"
   ]
  },
  {
   "cell_type": "code",
   "execution_count": 27,
   "metadata": {},
   "outputs": [
    {
     "output_type": "execute_result",
     "data": {
      "text/plain": [
       "               买家昵称             总人数     高客单占比       总占比\n",
       "客单类别            低客单     高客单                            \n",
       "省份  城市                                                 \n",
       "上海  上海市      2779.0  2324.0  5103.0  0.455418  0.412172\n",
       "云南省 临沧市         3.0     2.0     5.0  0.400000  0.412172\n",
       "    丽江市         1.0     3.0     4.0  0.750000  0.412172\n",
       "    保山市         6.0     2.0     8.0  0.250000  0.412172\n",
       "    大理白族自治州     9.0     8.0    17.0  0.470588  0.412172"
      ],
      "text/html": "<div>\n<style scoped>\n    .dataframe tbody tr th:only-of-type {\n        vertical-align: middle;\n    }\n\n    .dataframe tbody tr th {\n        vertical-align: top;\n    }\n\n    .dataframe thead tr th {\n        text-align: left;\n    }\n\n    .dataframe thead tr:last-of-type th {\n        text-align: right;\n    }\n</style>\n<table border=\"1\" class=\"dataframe\">\n  <thead>\n    <tr>\n      <th></th>\n      <th></th>\n      <th colspan=\"2\" halign=\"left\">买家昵称</th>\n      <th>总人数</th>\n      <th>高客单占比</th>\n      <th>总占比</th>\n    </tr>\n    <tr>\n      <th></th>\n      <th>客单类别</th>\n      <th>低客单</th>\n      <th>高客单</th>\n      <th></th>\n      <th></th>\n      <th></th>\n    </tr>\n    <tr>\n      <th>省份</th>\n      <th>城市</th>\n      <th></th>\n      <th></th>\n      <th></th>\n      <th></th>\n      <th></th>\n    </tr>\n  </thead>\n  <tbody>\n    <tr>\n      <th>上海</th>\n      <th>上海市</th>\n      <td>2779.0</td>\n      <td>2324.0</td>\n      <td>5103.0</td>\n      <td>0.455418</td>\n      <td>0.412172</td>\n    </tr>\n    <tr>\n      <th rowspan=\"4\" valign=\"top\">云南省</th>\n      <th>临沧市</th>\n      <td>3.0</td>\n      <td>2.0</td>\n      <td>5.0</td>\n      <td>0.400000</td>\n      <td>0.412172</td>\n    </tr>\n    <tr>\n      <th>丽江市</th>\n      <td>1.0</td>\n      <td>3.0</td>\n      <td>4.0</td>\n      <td>0.750000</td>\n      <td>0.412172</td>\n    </tr>\n    <tr>\n      <th>保山市</th>\n      <td>6.0</td>\n      <td>2.0</td>\n      <td>8.0</td>\n      <td>0.250000</td>\n      <td>0.412172</td>\n    </tr>\n    <tr>\n      <th>大理白族自治州</th>\n      <td>9.0</td>\n      <td>8.0</td>\n      <td>17.0</td>\n      <td>0.470588</td>\n      <td>0.412172</td>\n    </tr>\n  </tbody>\n</table>\n</div>"
     },
     "metadata": {},
     "execution_count": 27
    }
   ],
   "source": [
    "result.head()"
   ]
  },
  {
   "cell_type": "code",
   "execution_count": 28,
   "metadata": {},
   "outputs": [
    {
     "output_type": "error",
     "ename": "NameError",
     "evalue": "name 'df5' is not defined",
     "traceback": [
      "\u001b[1;31m---------------------------------------------------------------------------\u001b[0m",
      "\u001b[1;31mNameError\u001b[0m                                 Traceback (most recent call last)",
      "\u001b[1;32m<ipython-input-28-7d40018b82e0>\u001b[0m in \u001b[0;36m<module>\u001b[1;34m()\u001b[0m\n\u001b[0;32m      1\u001b[0m \u001b[0mdf\u001b[0m \u001b[1;33m=\u001b[0m \u001b[0mresult\u001b[0m\u001b[1;33m[\u001b[0m\u001b[1;34m'买家昵称'\u001b[0m\u001b[1;33m]\u001b[0m\u001b[1;33m[\u001b[0m\u001b[1;34m'高客单'\u001b[0m\u001b[1;33m]\u001b[0m\u001b[1;33m.\u001b[0m\u001b[0msum\u001b[0m\u001b[1;33m(\u001b[0m\u001b[1;33m)\u001b[0m\u001b[1;33m/\u001b[0m\u001b[1;33m(\u001b[0m\u001b[0mresult\u001b[0m\u001b[1;33m[\u001b[0m\u001b[1;34m'买家昵称'\u001b[0m\u001b[1;33m]\u001b[0m\u001b[1;33m[\u001b[0m\u001b[1;34m'高客单'\u001b[0m\u001b[1;33m]\u001b[0m\u001b[1;33m.\u001b[0m\u001b[0msum\u001b[0m\u001b[1;33m(\u001b[0m\u001b[1;33m)\u001b[0m\u001b[1;33m+\u001b[0m\u001b[0mresult\u001b[0m\u001b[1;33m[\u001b[0m\u001b[1;34m'买家昵称'\u001b[0m\u001b[1;33m]\u001b[0m\u001b[1;33m[\u001b[0m\u001b[1;34m'低客单'\u001b[0m\u001b[1;33m]\u001b[0m\u001b[1;33m.\u001b[0m\u001b[0msum\u001b[0m\u001b[1;33m(\u001b[0m\u001b[1;33m)\u001b[0m\u001b[1;33m)\u001b[0m\u001b[1;33m\u001b[0m\u001b[0m\n\u001b[1;32m----> 2\u001b[1;33m \u001b[0mdf5\u001b[0m\u001b[1;33m\u001b[0m\u001b[0m\n\u001b[0m",
      "\u001b[1;31mNameError\u001b[0m: name 'df5' is not defined"
     ]
    }
   ],
   "source": [
    "df = result['买家昵称']['高客单'].sum()/(result['买家昵称']['高客单'].sum()+result['买家昵称']['低客单'].sum())\n",
    "df5"
   ]
  },
  {
   "cell_type": "code",
   "execution_count": 181,
   "metadata": {},
   "outputs": [
    {
     "output_type": "execute_result",
     "data": {
      "text/plain": [
       "                   买家昵称        总人数     高客单占比       总占比        最终占比\n",
       "客单类别                低客单  高客单                                      \n",
       "省份       城市                                                       \n",
       "新疆维吾尔自治区 巴音郭楞蒙古自治州  2.0  9.0  11.0  0.818182  0.412172  198.504950\n",
       "         哈密市        1.0  4.0   5.0  0.800000  0.412172  194.093729\n",
       "云南省      丽江市        1.0  3.0   4.0  0.750000  0.412172  181.962871\n",
       "甘肃省      白银市        1.0  3.0   4.0  0.750000  0.412172  181.962871\n",
       "四川省      资阳市        3.0  6.0   9.0  0.666667  0.412172  161.744774"
      ],
      "text/html": "<div>\n<style scoped>\n    .dataframe tbody tr th:only-of-type {\n        vertical-align: middle;\n    }\n\n    .dataframe tbody tr th {\n        vertical-align: top;\n    }\n\n    .dataframe thead tr th {\n        text-align: left;\n    }\n\n    .dataframe thead tr:last-of-type th {\n        text-align: right;\n    }\n</style>\n<table border=\"1\" class=\"dataframe\">\n  <thead>\n    <tr>\n      <th></th>\n      <th></th>\n      <th colspan=\"2\" halign=\"left\">买家昵称</th>\n      <th>总人数</th>\n      <th>高客单占比</th>\n      <th>总占比</th>\n      <th>最终占比</th>\n    </tr>\n    <tr>\n      <th></th>\n      <th>客单类别</th>\n      <th>低客单</th>\n      <th>高客单</th>\n      <th></th>\n      <th></th>\n      <th></th>\n      <th></th>\n    </tr>\n    <tr>\n      <th>省份</th>\n      <th>城市</th>\n      <th></th>\n      <th></th>\n      <th></th>\n      <th></th>\n      <th></th>\n      <th></th>\n    </tr>\n  </thead>\n  <tbody>\n    <tr>\n      <th rowspan=\"2\" valign=\"top\">新疆维吾尔自治区</th>\n      <th>巴音郭楞蒙古自治州</th>\n      <td>2.0</td>\n      <td>9.0</td>\n      <td>11.0</td>\n      <td>0.818182</td>\n      <td>0.412172</td>\n      <td>198.504950</td>\n    </tr>\n    <tr>\n      <th>哈密市</th>\n      <td>1.0</td>\n      <td>4.0</td>\n      <td>5.0</td>\n      <td>0.800000</td>\n      <td>0.412172</td>\n      <td>194.093729</td>\n    </tr>\n    <tr>\n      <th>云南省</th>\n      <th>丽江市</th>\n      <td>1.0</td>\n      <td>3.0</td>\n      <td>4.0</td>\n      <td>0.750000</td>\n      <td>0.412172</td>\n      <td>181.962871</td>\n    </tr>\n    <tr>\n      <th>甘肃省</th>\n      <th>白银市</th>\n      <td>1.0</td>\n      <td>3.0</td>\n      <td>4.0</td>\n      <td>0.750000</td>\n      <td>0.412172</td>\n      <td>181.962871</td>\n    </tr>\n    <tr>\n      <th>四川省</th>\n      <th>资阳市</th>\n      <td>3.0</td>\n      <td>6.0</td>\n      <td>9.0</td>\n      <td>0.666667</td>\n      <td>0.412172</td>\n      <td>161.744774</td>\n    </tr>\n  </tbody>\n</table>\n</div>"
     },
     "metadata": {},
     "execution_count": 181
    }
   ],
   "source": [
    "result['最终占比'] = result['高客单占比']/result['总占比']*100\n",
    "result = result.sort_values('最终占比',ascending=False)\n",
    "result.head()"
   ]
  },
  {
   "cell_type": "code",
   "execution_count": 182,
   "metadata": {},
   "outputs": [],
   "source": [
    "result = result.loc[(result['买家昵称']['高客单']>result['买家昵称']['高客单'].mean())&(result['总人数']>result['总人数'].mean()),:]"
   ]
  },
  {
   "cell_type": "code",
   "execution_count": 183,
   "metadata": {},
   "outputs": [
    {
     "output_type": "execute_result",
     "data": {
      "text/plain": [
       "           买家昵称             总人数     高客单占比       总占比        最终占比\n",
       "客单类别        低客单     高客单                                        \n",
       "省份  城市                                                         \n",
       "福建省 福州市   133.0   140.0   273.0  0.512821  0.412172  124.419057\n",
       "广东省 珠海市    52.0    48.0   100.0  0.480000  0.412172  116.456237\n",
       "北京  北京市  1280.0  1181.0  2461.0  0.479886  0.412172  116.428634\n",
       "福建省 厦门市   113.0   102.0   215.0  0.474419  0.412172  115.102095\n",
       "广东省 佛山市   133.0   115.0   248.0  0.463710  0.412172  112.503926"
      ],
      "text/html": "<div>\n<style scoped>\n    .dataframe tbody tr th:only-of-type {\n        vertical-align: middle;\n    }\n\n    .dataframe tbody tr th {\n        vertical-align: top;\n    }\n\n    .dataframe thead tr th {\n        text-align: left;\n    }\n\n    .dataframe thead tr:last-of-type th {\n        text-align: right;\n    }\n</style>\n<table border=\"1\" class=\"dataframe\">\n  <thead>\n    <tr>\n      <th></th>\n      <th></th>\n      <th colspan=\"2\" halign=\"left\">买家昵称</th>\n      <th>总人数</th>\n      <th>高客单占比</th>\n      <th>总占比</th>\n      <th>最终占比</th>\n    </tr>\n    <tr>\n      <th></th>\n      <th>客单类别</th>\n      <th>低客单</th>\n      <th>高客单</th>\n      <th></th>\n      <th></th>\n      <th></th>\n      <th></th>\n    </tr>\n    <tr>\n      <th>省份</th>\n      <th>城市</th>\n      <th></th>\n      <th></th>\n      <th></th>\n      <th></th>\n      <th></th>\n      <th></th>\n    </tr>\n  </thead>\n  <tbody>\n    <tr>\n      <th>福建省</th>\n      <th>福州市</th>\n      <td>133.0</td>\n      <td>140.0</td>\n      <td>273.0</td>\n      <td>0.512821</td>\n      <td>0.412172</td>\n      <td>124.419057</td>\n    </tr>\n    <tr>\n      <th>广东省</th>\n      <th>珠海市</th>\n      <td>52.0</td>\n      <td>48.0</td>\n      <td>100.0</td>\n      <td>0.480000</td>\n      <td>0.412172</td>\n      <td>116.456237</td>\n    </tr>\n    <tr>\n      <th>北京</th>\n      <th>北京市</th>\n      <td>1280.0</td>\n      <td>1181.0</td>\n      <td>2461.0</td>\n      <td>0.479886</td>\n      <td>0.412172</td>\n      <td>116.428634</td>\n    </tr>\n    <tr>\n      <th>福建省</th>\n      <th>厦门市</th>\n      <td>113.0</td>\n      <td>102.0</td>\n      <td>215.0</td>\n      <td>0.474419</td>\n      <td>0.412172</td>\n      <td>115.102095</td>\n    </tr>\n    <tr>\n      <th>广东省</th>\n      <th>佛山市</th>\n      <td>133.0</td>\n      <td>115.0</td>\n      <td>248.0</td>\n      <td>0.463710</td>\n      <td>0.412172</td>\n      <td>112.503926</td>\n    </tr>\n  </tbody>\n</table>\n</div>"
     },
     "metadata": {},
     "execution_count": 183
    }
   ],
   "source": [
    "result.head()"
   ]
  },
  {
   "cell_type": "code",
   "execution_count": 184,
   "metadata": {},
   "outputs": [
    {
     "output_type": "stream",
     "name": "stdout",
     "text": [
      "<class 'pandas.core.frame.DataFrame'>\nMultiIndex: 44 entries, (福建省, 福州市) to (广东省, 东莞市)\nData columns (total 6 columns):\n(买家昵称, 低客单)    44 non-null float64\n(买家昵称, 高客单)    44 non-null float64\n(总人数, )        44 non-null float64\n(高客单占比, )      44 non-null float64\n(总占比, )        44 non-null float64\n(最终占比, )       44 non-null float64\ndtypes: float64(6)\nmemory usage: 5.3+ KB\n"
     ]
    }
   ],
   "source": [
    "result.info()"
   ]
  },
  {
   "cell_type": "code",
   "execution_count": 185,
   "metadata": {},
   "outputs": [],
   "source": [
    "#result.describe()"
   ]
  },
  {
   "source": [
    "# 看来必须学会透视表，要不然处理这种分组数据，脑袋都炸了！"
   ],
   "cell_type": "markdown",
   "metadata": {}
  },
  {
   "source": [
    "result = pd.pivot_table(df_mc,index=['省份','城市'],columns='客单类别',aggfunc='count')"
   ],
   "cell_type": "code",
   "metadata": {},
   "execution_count": 186,
   "outputs": []
  },
  {
   "cell_type": "code",
   "execution_count": 187,
   "metadata": {},
   "outputs": [
    {
     "output_type": "execute_result",
     "data": {
      "text/plain": [
       "    省份       城市     高客单     低客单\n",
       "0   上海      上海市  2324.0  2779.0\n",
       "1  云南省      临沧市     2.0     3.0\n",
       "2  云南省      丽江市     3.0     1.0\n",
       "3  云南省      保山市     2.0     6.0\n",
       "4  云南省  大理白族自治州     8.0     9.0"
      ],
      "text/html": "<div>\n<style scoped>\n    .dataframe tbody tr th:only-of-type {\n        vertical-align: middle;\n    }\n\n    .dataframe tbody tr th {\n        vertical-align: top;\n    }\n\n    .dataframe thead th {\n        text-align: right;\n    }\n</style>\n<table border=\"1\" class=\"dataframe\">\n  <thead>\n    <tr style=\"text-align: right;\">\n      <th></th>\n      <th>省份</th>\n      <th>城市</th>\n      <th>高客单</th>\n      <th>低客单</th>\n    </tr>\n  </thead>\n  <tbody>\n    <tr>\n      <th>0</th>\n      <td>上海</td>\n      <td>上海市</td>\n      <td>2324.0</td>\n      <td>2779.0</td>\n    </tr>\n    <tr>\n      <th>1</th>\n      <td>云南省</td>\n      <td>临沧市</td>\n      <td>2.0</td>\n      <td>3.0</td>\n    </tr>\n    <tr>\n      <th>2</th>\n      <td>云南省</td>\n      <td>丽江市</td>\n      <td>3.0</td>\n      <td>1.0</td>\n    </tr>\n    <tr>\n      <th>3</th>\n      <td>云南省</td>\n      <td>保山市</td>\n      <td>2.0</td>\n      <td>6.0</td>\n    </tr>\n    <tr>\n      <th>4</th>\n      <td>云南省</td>\n      <td>大理白族自治州</td>\n      <td>8.0</td>\n      <td>9.0</td>\n    </tr>\n  </tbody>\n</table>\n</div>"
     },
     "metadata": {},
     "execution_count": 187
    }
   ],
   "source": [
    "tgi = pd.merge(result['买家昵称']['高客单'].reset_index(),result['买家昵称']['低客单'].reset_index(),left_on=['省份','城市'],right_on=['省份','城市'],how='inner')\n",
    "tgi.head()"
   ]
  },
  {
   "cell_type": "code",
   "execution_count": 188,
   "metadata": {},
   "outputs": [
    {
     "output_type": "execute_result",
     "data": {
      "text/plain": [
       "               高客单          低客单\n",
       "count   328.000000   328.000000\n",
       "mean     31.942073    45.554878\n",
       "std     151.794786   181.226243\n",
       "min       1.000000     1.000000\n",
       "25%       3.000000     6.000000\n",
       "50%       6.000000    12.000000\n",
       "75%      13.000000    23.250000\n",
       "max    2324.000000  2779.000000"
      ],
      "text/html": "<div>\n<style scoped>\n    .dataframe tbody tr th:only-of-type {\n        vertical-align: middle;\n    }\n\n    .dataframe tbody tr th {\n        vertical-align: top;\n    }\n\n    .dataframe thead th {\n        text-align: right;\n    }\n</style>\n<table border=\"1\" class=\"dataframe\">\n  <thead>\n    <tr style=\"text-align: right;\">\n      <th></th>\n      <th>高客单</th>\n      <th>低客单</th>\n    </tr>\n  </thead>\n  <tbody>\n    <tr>\n      <th>count</th>\n      <td>328.000000</td>\n      <td>328.000000</td>\n    </tr>\n    <tr>\n      <th>mean</th>\n      <td>31.942073</td>\n      <td>45.554878</td>\n    </tr>\n    <tr>\n      <th>std</th>\n      <td>151.794786</td>\n      <td>181.226243</td>\n    </tr>\n    <tr>\n      <th>min</th>\n      <td>1.000000</td>\n      <td>1.000000</td>\n    </tr>\n    <tr>\n      <th>25%</th>\n      <td>3.000000</td>\n      <td>6.000000</td>\n    </tr>\n    <tr>\n      <th>50%</th>\n      <td>6.000000</td>\n      <td>12.000000</td>\n    </tr>\n    <tr>\n      <th>75%</th>\n      <td>13.000000</td>\n      <td>23.250000</td>\n    </tr>\n    <tr>\n      <th>max</th>\n      <td>2324.000000</td>\n      <td>2779.000000</td>\n    </tr>\n  </tbody>\n</table>\n</div>"
     },
     "metadata": {},
     "execution_count": 188
    }
   ],
   "source": [
    "tgi.describe()"
   ]
  },
  {
   "source": [
    "# 总结"
   ],
   "cell_type": "markdown",
   "metadata": {}
  },
  {
   "source": [
    "1.明确需求和指标    指标是TGI指数，也就是 某一群体的特征占比/总人数中的特征占比（总人数由所有群体构成） 需求：特征、群体、总人数\n",
    "2.这里的特征就是高客单 ，实付金额>50就算是高客单；群体：各城市；总人数，所有客单总数，也就是所有有效数据总行数\n",
    "3.现需要对数据进行清洗：删除无效数据：在这里是交易失败的数据；分组：每个顾客有多次购买，且每次下单的金额也不一样，这里最优选择是选择取平均值\n",
    "4.对高客单进行定类，新增 客单类别列；给定判断条件：>50属于高客单，否则为低客单\n",
    "5.根据买家昵称进行分组去重，保证买家昵称的唯一性，方便数据合并\n",
    "6.添加城市和省份，进行合并 得到由 买家昵称、客单类别、省份、城市四个列构成的新表\n",
    "7.现在我们需要得到某一城市中高客单与总客单数的占比，而总客单数=高客单数+低客单数；所有城市高客单数可以直接筛选统计，总人数合计直接统计客单类别列\n",
    "8.但是我们很难得到某一城市中的高客单数，或者说达不到自己要的效果\n",
    "9.联想excel，对此我们需要用到透视表    省份、城市为行；客单类别为列，方式为统计\n",
    "10.也就是说 某一城市中高客单与总客单数的占比是对行操作；总人数中的特征占比是列操作\n",
    "11.分析：每个城市都有高客单和低客单（客单类别），每个省份有多个城市，客单类别分为高客单和低客单；客单类别又是由买家昵称所确定的\n",
    "12.数据透视表是一种交互式的du表，可以进行某zhi些计算，如求和与计数等。所进行的计算与数据在数据透视表中的排列有关\n",
    "13.用于快速汇总、分析大量数据中字段与字段之间的关联关系。使用数据透视表可以按照数据表格的不同字段从多个角度进行透视，并建立交叉表格，用以查看数据表格不同层面的汇总信息、分析结果以及摘要数据\n"
   ],
   "cell_type": "code",
   "metadata": {},
   "execution_count": null,
   "outputs": []
  }
 ]
}