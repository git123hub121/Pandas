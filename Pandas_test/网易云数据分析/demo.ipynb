{
 "metadata": {
  "language_info": {
   "codemirror_mode": {
    "name": "ipython",
    "version": 3
   },
   "file_extension": ".py",
   "mimetype": "text/x-python",
   "name": "python",
   "nbconvert_exporter": "python",
   "pygments_lexer": "ipython3",
   "version": "3.7.0-final"
  },
  "orig_nbformat": 2,
  "kernelspec": {
   "name": "python3",
   "display_name": "Python 3",
   "language": "python"
  }
 },
 "nbformat": 4,
 "nbformat_minor": 2,
 "cells": [
  {
   "cell_type": "code",
   "execution_count": 1,
   "metadata": {},
   "outputs": [],
   "source": [
    "import pandas as pd\n",
    "import numpy as np\n",
    "import re"
   ]
  },
  {
   "cell_type": "code",
   "execution_count": 2,
   "metadata": {},
   "outputs": [
    {
     "output_type": "execute_result",
     "data": {
      "text/plain": [
       "         name\n",
       "0        FLOW\n",
       "1         月牙湾\n",
       "2  大天蓬 (弹唱片段)\n",
       "3          凉城\n",
       "4      思念是一种病"
      ],
      "text/html": "<div>\n<style scoped>\n    .dataframe tbody tr th:only-of-type {\n        vertical-align: middle;\n    }\n\n    .dataframe tbody tr th {\n        vertical-align: top;\n    }\n\n    .dataframe thead th {\n        text-align: right;\n    }\n</style>\n<table border=\"1\" class=\"dataframe\">\n  <thead>\n    <tr style=\"text-align: right;\">\n      <th></th>\n      <th>name</th>\n    </tr>\n  </thead>\n  <tbody>\n    <tr>\n      <th>0</th>\n      <td>FLOW</td>\n    </tr>\n    <tr>\n      <th>1</th>\n      <td>月牙湾</td>\n    </tr>\n    <tr>\n      <th>2</th>\n      <td>大天蓬 (弹唱片段)</td>\n    </tr>\n    <tr>\n      <th>3</th>\n      <td>凉城</td>\n    </tr>\n    <tr>\n      <th>4</th>\n      <td>思念是一种病</td>\n    </tr>\n  </tbody>\n</table>\n</div>"
     },
     "metadata": {},
     "execution_count": 2
    }
   ],
   "source": [
    "df =pd.read_csv('D:\\Pandas\\music_name.csv',header=0,names=['name'],sep='\\n')\n",
    "df.head()"
   ]
  },
  {
   "cell_type": "code",
   "execution_count": 3,
   "metadata": {},
   "outputs": [
    {
     "output_type": "stream",
     "name": "stdout",
     "text": [
      "<class 'pandas.core.frame.DataFrame'>\nRangeIndex: 17752 entries, 0 to 17751\nData columns (total 1 columns):\n #   Column  Non-Null Count  Dtype \n---  ------  --------------  ----- \n 0   name    17752 non-null  object\ndtypes: object(1)\nmemory usage: 138.8+ KB\n"
     ]
    }
   ],
   "source": [
    "df.info()"
   ]
  },
  {
   "cell_type": "code",
   "execution_count": 4,
   "metadata": {},
   "outputs": [
    {
     "output_type": "execute_result",
     "data": {
      "text/plain": [
       "       name\n",
       "9      微信登录\n",
       "23     微信登录\n",
       "37     微信登录\n",
       "49     微信登录\n",
       "63     微信登录\n",
       "...     ...\n",
       "17692  微信登录\n",
       "17706  微信登录\n",
       "17720  微信登录\n",
       "17734  微信登录\n",
       "17748  微信登录\n",
       "\n",
       "[1269 rows x 1 columns]"
      ],
      "text/html": "<div>\n<style scoped>\n    .dataframe tbody tr th:only-of-type {\n        vertical-align: middle;\n    }\n\n    .dataframe tbody tr th {\n        vertical-align: top;\n    }\n\n    .dataframe thead th {\n        text-align: right;\n    }\n</style>\n<table border=\"1\" class=\"dataframe\">\n  <thead>\n    <tr style=\"text-align: right;\">\n      <th></th>\n      <th>name</th>\n    </tr>\n  </thead>\n  <tbody>\n    <tr>\n      <th>9</th>\n      <td>微信登录</td>\n    </tr>\n    <tr>\n      <th>23</th>\n      <td>微信登录</td>\n    </tr>\n    <tr>\n      <th>37</th>\n      <td>微信登录</td>\n    </tr>\n    <tr>\n      <th>49</th>\n      <td>微信登录</td>\n    </tr>\n    <tr>\n      <th>63</th>\n      <td>微信登录</td>\n    </tr>\n    <tr>\n      <th>...</th>\n      <td>...</td>\n    </tr>\n    <tr>\n      <th>17692</th>\n      <td>微信登录</td>\n    </tr>\n    <tr>\n      <th>17706</th>\n      <td>微信登录</td>\n    </tr>\n    <tr>\n      <th>17720</th>\n      <td>微信登录</td>\n    </tr>\n    <tr>\n      <th>17734</th>\n      <td>微信登录</td>\n    </tr>\n    <tr>\n      <th>17748</th>\n      <td>微信登录</td>\n    </tr>\n  </tbody>\n</table>\n<p>1269 rows × 1 columns</p>\n</div>"
     },
     "metadata": {},
     "execution_count": 4
    }
   ],
   "source": [
    "df.loc[df['name']=='微信登录']"
   ]
  },
  {
   "cell_type": "code",
   "execution_count": 5,
   "metadata": {},
   "outputs": [
    {
     "output_type": "execute_result",
     "data": {
      "text/plain": [
       "(12675, 1)"
      ]
     },
     "metadata": {},
     "execution_count": 5
    }
   ],
   "source": [
    "#去重\n",
    "df = df.loc[df['name'].str.contains('微信登录|QQ登录|微博登录|网易邮箱帐号登录')==0,:]\n",
    "df.shape"
   ]
  },
  {
   "cell_type": "code",
   "execution_count": 6,
   "metadata": {},
   "outputs": [],
   "source": [
    "#处理数据\n",
    "# df['name'] = df['name'].str.replace('[,]',' ')#strip()对中间空格没有用，记住哦"
   ]
  },
  {
   "cell_type": "code",
   "execution_count": 7,
   "metadata": {},
   "outputs": [
    {
     "output_type": "execute_result",
     "data": {
      "text/plain": [
       "             name\n",
       "0            FLOW\n",
       "1             月牙湾\n",
       "2      大天蓬 (弹唱片段)\n",
       "3              凉城\n",
       "4          思念是一种病\n",
       "...           ...\n",
       "17743          偏爱\n",
       "17744       慢慢喜欢你\n",
       "17745          说谎\n",
       "17746         起风了\n",
       "17747         水星记\n",
       "\n",
       "[12675 rows x 1 columns]"
      ],
      "text/html": "<div>\n<style scoped>\n    .dataframe tbody tr th:only-of-type {\n        vertical-align: middle;\n    }\n\n    .dataframe tbody tr th {\n        vertical-align: top;\n    }\n\n    .dataframe thead th {\n        text-align: right;\n    }\n</style>\n<table border=\"1\" class=\"dataframe\">\n  <thead>\n    <tr style=\"text-align: right;\">\n      <th></th>\n      <th>name</th>\n    </tr>\n  </thead>\n  <tbody>\n    <tr>\n      <th>0</th>\n      <td>FLOW</td>\n    </tr>\n    <tr>\n      <th>1</th>\n      <td>月牙湾</td>\n    </tr>\n    <tr>\n      <th>2</th>\n      <td>大天蓬 (弹唱片段)</td>\n    </tr>\n    <tr>\n      <th>3</th>\n      <td>凉城</td>\n    </tr>\n    <tr>\n      <th>4</th>\n      <td>思念是一种病</td>\n    </tr>\n    <tr>\n      <th>...</th>\n      <td>...</td>\n    </tr>\n    <tr>\n      <th>17743</th>\n      <td>偏爱</td>\n    </tr>\n    <tr>\n      <th>17744</th>\n      <td>慢慢喜欢你</td>\n    </tr>\n    <tr>\n      <th>17745</th>\n      <td>说谎</td>\n    </tr>\n    <tr>\n      <th>17746</th>\n      <td>起风了</td>\n    </tr>\n    <tr>\n      <th>17747</th>\n      <td>水星记</td>\n    </tr>\n  </tbody>\n</table>\n<p>12675 rows × 1 columns</p>\n</div>"
     },
     "metadata": {},
     "execution_count": 7
    }
   ],
   "source": [
    "df"
   ]
  },
  {
   "cell_type": "code",
   "execution_count": 8,
   "metadata": {},
   "outputs": [],
   "source": [
    "df['name'] = [i if len(i)>1 else None for i in df['name']]"
   ]
  },
  {
   "cell_type": "code",
   "execution_count": 9,
   "metadata": {},
   "outputs": [],
   "source": [
    "df.dropna(inplace=True)"
   ]
  },
  {
   "cell_type": "code",
   "execution_count": 10,
   "metadata": {},
   "outputs": [],
   "source": [
    "# df.drop_duplicates(inplace=True)"
   ]
  },
  {
   "cell_type": "code",
   "execution_count": 11,
   "metadata": {},
   "outputs": [
    {
     "output_type": "execute_result",
     "data": {
      "text/plain": [
       "(12307, 1)"
      ]
     },
     "metadata": {},
     "execution_count": 11
    }
   ],
   "source": [
    "df.shape"
   ]
  },
  {
   "cell_type": "code",
   "execution_count": 12,
   "metadata": {},
   "outputs": [],
   "source": [
    "df.to_csv('music_name_pandas.csv',index=False)"
   ]
  },
  {
   "cell_type": "code",
   "execution_count": 13,
   "metadata": {},
   "outputs": [],
   "source": [
    "# df['a'] = re.findall('[\\u4e00-\\u9fa5]', df['name'])#df.loc[df['name'].str.contains('i hate u')==1,:]"
   ]
  },
  {
   "cell_type": "code",
   "execution_count": 14,
   "metadata": {},
   "outputs": [],
   "source": [
    "# df1 = df.loc[df['name'].str.contains('[\\u4e00-\\u9fa5]')==1,:]\n",
    "# df1.shape\n",
    "# df1"
   ]
  },
  {
   "source": [
    "这个作者默认是英文歌，我服了。"
   ],
   "cell_type": "markdown",
   "metadata": {}
  },
  {
   "cell_type": "code",
   "execution_count": null,
   "metadata": {},
   "outputs": [],
   "source": []
  }
 ]
}