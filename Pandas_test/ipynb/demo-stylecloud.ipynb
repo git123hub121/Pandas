{
 "metadata": {
  "language_info": {
   "codemirror_mode": {
    "name": "ipython",
    "version": 3
   },
   "file_extension": ".py",
   "mimetype": "text/x-python",
   "name": "python",
   "nbconvert_exporter": "python",
   "pygments_lexer": "ipython3",
   "version": "3.7.0-final"
  },
  "orig_nbformat": 2,
  "kernelspec": {
   "name": "python3",
   "display_name": "Python 3",
   "language": "python"
  }
 },
 "nbformat": 4,
 "nbformat_minor": 2,
 "cells": [
  {
   "cell_type": "code",
   "execution_count": 2,
   "metadata": {},
   "outputs": [],
   "source": [
    "import stylecloud\n",
    "import pandas as pd\n",
    "from IPython.display import Image\n",
    "df = pd.read_table('wuliu.txt',sep='\\n')\n",
    "# df.head()\n",
    "stylecloud.gen_stylecloud(text=' '.join(list(df.name)), collocations=False,\n",
    "                          #palette='cartocolors.qualitative.Pastel_5',\n",
    "                          font_path=r'‪C:/Windows/Fonts/msyh.ttc',\n",
    "                          #icon_name='fas fa-dragon',\n",
    "                          icon_name='fas fa-dog',\n",
    "                          #icon_name='fas fa-cat',\n",
    "                          #icon_name='fas fa-dove',\n",
    "                          size=400,\n",
    "                          output_name='物流-词云.png')\n",
    "#已生成词云图片，这里展示一下\n",
    "#Image(filename='物流-词云.png')"
   ]
  },
  {
   "cell_type": "code",
   "execution_count": null,
   "metadata": {},
   "outputs": [],
   "source": [
    "list(df.name)"
   ]
  },
  {
   "cell_type": "code",
   "execution_count": null,
   "metadata": {},
   "outputs": [],
   "source": []
  }
 ]
}