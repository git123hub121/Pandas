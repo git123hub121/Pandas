{
 "cells": [
  {
   "cell_type": "code",
   "execution_count": 1,
   "metadata": {
    "collapsed": true
   },
   "outputs": [],
   "source": [
    "import pandas as pd\n",
    "import gopup as gp"
   ]
  },
  {
   "cell_type": "code",
   "execution_count": 2,
   "metadata": {
    "pycharm": {
     "name": "#%%\n"
    }
   },
   "outputs": [],
   "source": [
    "# dic = {\n",
    "#     'timu':['你最喜欢: A.Python B.JAVA','你最了解: A.Python123B.JAVA']\n",
    "# }\n",
    "# df = pd.DataFrame(dic)\n",
    "# df\n",
    "# #expand参数控制了是否将列拆开,expand=True必须写\n",
    "# df['A'] = df.timu.str.split('.',expand=True)[1].str.replace('B','')\n",
    "# df['B'] = df.timu.str.split('.',expand=True)[2].str.replace('B','')\n",
    "# df"
   ]
  },
  {
   "cell_type": "code",
   "execution_count": 3,
   "outputs": [],
   "source": [
    "df = gp.university()\n",
    "df.head()\n",
    "df.to_excel('全国普通高等院校.xlsx',index=False)"
   ],
   "metadata": {
    "collapsed": false,
    "pycharm": {
     "name": "#%%\n"
    }
   }
  },
  {
   "cell_type": "code",
   "execution_count": 4,
   "metadata": {},
   "outputs": [
    {
     "output_type": "stream",
     "name": "stdout",
     "text": [
      "<class 'pandas.core.frame.DataFrame'>\nRangeIndex: 2631 entries, 0 to 2630\nData columns (total 8 columns):\n #   Column  Non-Null Count  Dtype \n---  ------  --------------  ----- \n 0   序号      2631 non-null   object\n 1   学校名称    2631 non-null   object\n 2   学校标识码   2631 non-null   object\n 3   主管部门    2631 non-null   object\n 4   所在省市    2631 non-null   object\n 5   所在地     2631 non-null   object\n 6   办学层次    2631 non-null   object\n 7   备注      2631 non-null   object\ndtypes: object(8)\nmemory usage: 164.6+ KB\n"
     ]
    }
   ],
   "source": [
    "df.info()"
   ]
  },
  {
   "cell_type": "code",
   "execution_count": 5,
   "metadata": {},
   "outputs": [
    {
     "output_type": "execute_result",
     "data": {
      "text/plain": [
       "        序号  学校名称       学校标识码 主管部门 所在省市         所在地 办学层次 备注\n",
       "1716  1717  吉首大学  4143010531  湖南省  湖南省  湘西土家族苗族自治州   本科   "
      ],
      "text/html": "<div>\n<style scoped>\n    .dataframe tbody tr th:only-of-type {\n        vertical-align: middle;\n    }\n\n    .dataframe tbody tr th {\n        vertical-align: top;\n    }\n\n    .dataframe thead th {\n        text-align: right;\n    }\n</style>\n<table border=\"1\" class=\"dataframe\">\n  <thead>\n    <tr style=\"text-align: right;\">\n      <th></th>\n      <th>序号</th>\n      <th>学校名称</th>\n      <th>学校标识码</th>\n      <th>主管部门</th>\n      <th>所在省市</th>\n      <th>所在地</th>\n      <th>办学层次</th>\n      <th>备注</th>\n    </tr>\n  </thead>\n  <tbody>\n    <tr>\n      <th>1716</th>\n      <td>1717</td>\n      <td>吉首大学</td>\n      <td>4143010531</td>\n      <td>湖南省</td>\n      <td>湖南省</td>\n      <td>湘西土家族苗族自治州</td>\n      <td>本科</td>\n      <td></td>\n    </tr>\n  </tbody>\n</table>\n</div>"
     },
     "metadata": {},
     "execution_count": 5
    }
   ],
   "source": [
    "df.loc[df['学校名称']=='吉首大学']"
   ]
  },
  {
   "cell_type": "code",
   "execution_count": 6,
   "metadata": {},
   "outputs": [
    {
     "output_type": "error",
     "ename": "NameError",
     "evalue": "name 'df1' is not defined",
     "traceback": [
      "\u001b[1;31m---------------------------------------------------------------------------\u001b[0m",
      "\u001b[1;31mNameError\u001b[0m                                 Traceback (most recent call last)",
      "\u001b[1;32m<ipython-input-6-b4b841682dbc>\u001b[0m in \u001b[0;36m<module>\u001b[1;34m()\u001b[0m\n\u001b[0;32m      1\u001b[0m \u001b[0mdf\u001b[0m\u001b[1;33m[\u001b[0m\u001b[1;34m'备注'\u001b[0m\u001b[1;33m]\u001b[0m \u001b[1;33m=\u001b[0m \u001b[1;33m[\u001b[0m\u001b[1;34m'民办'\u001b[0m \u001b[1;32mif\u001b[0m \u001b[1;34m'民办'\u001b[0m \u001b[1;32min\u001b[0m \u001b[0mx\u001b[0m \u001b[1;32melse\u001b[0m \u001b[1;34m'官办'\u001b[0m \u001b[1;32mfor\u001b[0m \u001b[0mx\u001b[0m \u001b[1;32min\u001b[0m \u001b[0mdf\u001b[0m\u001b[1;33m[\u001b[0m\u001b[1;34m'备注'\u001b[0m\u001b[1;33m]\u001b[0m\u001b[1;33m]\u001b[0m\u001b[1;33m\u001b[0m\u001b[0m\n\u001b[0;32m      2\u001b[0m \u001b[0mdf\u001b[0m\u001b[1;33m.\u001b[0m\u001b[0mloc\u001b[0m\u001b[1;33m[\u001b[0m\u001b[0mdf\u001b[0m\u001b[1;33m[\u001b[0m\u001b[1;34m'备注'\u001b[0m\u001b[1;33m]\u001b[0m\u001b[1;33m==\u001b[0m\u001b[1;34m'民办'\u001b[0m\u001b[1;33m]\u001b[0m\u001b[1;33m\u001b[0m\u001b[0m\n\u001b[1;32m----> 3\u001b[1;33m \u001b[0mdf1\u001b[0m\u001b[1;33m[\u001b[0m\u001b[1;33m:\u001b[0m\u001b[1;36m5\u001b[0m\u001b[1;33m]\u001b[0m\u001b[1;33m\u001b[0m\u001b[0m\n\u001b[0m\u001b[0;32m      4\u001b[0m \u001b[1;31m# df1.shape\u001b[0m\u001b[1;33m\u001b[0m\u001b[1;33m\u001b[0m\u001b[0m\n\u001b[0;32m      5\u001b[0m \u001b[1;31m# df.loc[df['备注']=='官办']\u001b[0m\u001b[1;33m\u001b[0m\u001b[1;33m\u001b[0m\u001b[0m\n",
      "\u001b[1;31mNameError\u001b[0m: name 'df1' is not defined"
     ]
    }
   ],
   "source": [
    "df['备注'] = ['民办' if '民办' in x else '官办' for x in df['备注']]\n",
    "df.loc[df['备注']=='民办']\n",
    "df1[:5]\n",
    "# df1.shape\n",
    "# df.loc[df['备注']=='官办']"
   ]
  },
  {
   "cell_type": "code",
   "execution_count": 37,
   "metadata": {},
   "outputs": [
    {
     "output_type": "execute_result",
     "data": {
      "text/plain": [
       "     所在省市  count\n",
       "0     上海市     64\n",
       "1     云南省     77\n",
       "2  内蒙古自治区     53\n",
       "3     北京市     92\n",
       "4     吉林省     62"
      ],
      "text/html": "<div>\n<style scoped>\n    .dataframe tbody tr th:only-of-type {\n        vertical-align: middle;\n    }\n\n    .dataframe tbody tr th {\n        vertical-align: top;\n    }\n\n    .dataframe thead th {\n        text-align: right;\n    }\n</style>\n<table border=\"1\" class=\"dataframe\">\n  <thead>\n    <tr style=\"text-align: right;\">\n      <th></th>\n      <th>所在省市</th>\n      <th>count</th>\n    </tr>\n  </thead>\n  <tbody>\n    <tr>\n      <th>0</th>\n      <td>上海市</td>\n      <td>64</td>\n    </tr>\n    <tr>\n      <th>1</th>\n      <td>云南省</td>\n      <td>77</td>\n    </tr>\n    <tr>\n      <th>2</th>\n      <td>内蒙古自治区</td>\n      <td>53</td>\n    </tr>\n    <tr>\n      <th>3</th>\n      <td>北京市</td>\n      <td>92</td>\n    </tr>\n    <tr>\n      <th>4</th>\n      <td>吉林省</td>\n      <td>62</td>\n    </tr>\n  </tbody>\n</table>\n</div>"
     },
     "metadata": {},
     "execution_count": 37
    }
   ],
   "source": [
    "df2 = df.groupby('所在省市')['所在省市'].agg(['count']).reset_index()\n",
    "df2[:5]"
   ]
  },
  {
   "cell_type": "code",
   "execution_count": 38,
   "metadata": {},
   "outputs": [
    {
     "output_type": "execute_result",
     "data": {
      "text/plain": [
       "  办学层次  count\n",
       "0   专科   1388\n",
       "1   本科   1243"
      ],
      "text/html": "<div>\n<style scoped>\n    .dataframe tbody tr th:only-of-type {\n        vertical-align: middle;\n    }\n\n    .dataframe tbody tr th {\n        vertical-align: top;\n    }\n\n    .dataframe thead th {\n        text-align: right;\n    }\n</style>\n<table border=\"1\" class=\"dataframe\">\n  <thead>\n    <tr style=\"text-align: right;\">\n      <th></th>\n      <th>办学层次</th>\n      <th>count</th>\n    </tr>\n  </thead>\n  <tbody>\n    <tr>\n      <th>0</th>\n      <td>专科</td>\n      <td>1388</td>\n    </tr>\n    <tr>\n      <th>1</th>\n      <td>本科</td>\n      <td>1243</td>\n    </tr>\n  </tbody>\n</table>\n</div>"
     },
     "metadata": {},
     "execution_count": 38
    }
   ],
   "source": [
    "df3 = df.groupby('办学层次')['办学层次'].agg(['count']).reset_index().sort_values('count',ascending=False)\n",
    "df3"
   ]
  },
  {
   "cell_type": "code",
   "execution_count": 40,
   "metadata": {},
   "outputs": [
    {
     "output_type": "execute_result",
     "data": {
      "text/plain": [
       "                办学层次\n",
       "所在省市 所在地            \n",
       "上海市  上海市          64\n",
       "云南省  临沧市           1\n",
       "     丽江市           2\n",
       "     保山市           2\n",
       "     大理白族\\n自治州     3"
      ],
      "text/html": "<div>\n<style scoped>\n    .dataframe tbody tr th:only-of-type {\n        vertical-align: middle;\n    }\n\n    .dataframe tbody tr th {\n        vertical-align: top;\n    }\n\n    .dataframe thead th {\n        text-align: right;\n    }\n</style>\n<table border=\"1\" class=\"dataframe\">\n  <thead>\n    <tr style=\"text-align: right;\">\n      <th></th>\n      <th></th>\n      <th>办学层次</th>\n    </tr>\n    <tr>\n      <th>所在省市</th>\n      <th>所在地</th>\n      <th></th>\n    </tr>\n  </thead>\n  <tbody>\n    <tr>\n      <th>上海市</th>\n      <th>上海市</th>\n      <td>64</td>\n    </tr>\n    <tr>\n      <th rowspan=\"4\" valign=\"top\">云南省</th>\n      <th>临沧市</th>\n      <td>1</td>\n    </tr>\n    <tr>\n      <th>丽江市</th>\n      <td>2</td>\n    </tr>\n    <tr>\n      <th>保山市</th>\n      <td>2</td>\n    </tr>\n    <tr>\n      <th>大理白族\\n自治州</th>\n      <td>3</td>\n    </tr>\n  </tbody>\n</table>\n</div>"
     },
     "metadata": {},
     "execution_count": 40
    }
   ],
   "source": [
    "df4 = df.iloc[:,4:8]#需要多加一列\n",
    "df6 = df4.pivot_table(index=['所在省市','所在地'],values='办学层次',aggfunc='count')\n",
    "df6.head()"
   ]
  },
  {
   "cell_type": "code",
   "execution_count": 46,
   "metadata": {},
   "outputs": [
    {
     "output_type": "execute_result",
     "data": {
      "text/plain": [
       "                  备注      \n",
       "办学层次              专科    本科\n",
       "所在省市 所在地                  \n",
       "上海市  上海市        26.0  38.0\n",
       "云南省  临沧市         NaN   1.0\n",
       "     丽江市         1.0   1.0\n",
       "     保山市         1.0   1.0\n",
       "     大理白族\\n自治州   1.0   2.0"
      ],
      "text/html": "<div>\n<style scoped>\n    .dataframe tbody tr th:only-of-type {\n        vertical-align: middle;\n    }\n\n    .dataframe tbody tr th {\n        vertical-align: top;\n    }\n\n    .dataframe thead tr th {\n        text-align: left;\n    }\n\n    .dataframe thead tr:last-of-type th {\n        text-align: right;\n    }\n</style>\n<table border=\"1\" class=\"dataframe\">\n  <thead>\n    <tr>\n      <th></th>\n      <th></th>\n      <th colspan=\"2\" halign=\"left\">备注</th>\n    </tr>\n    <tr>\n      <th></th>\n      <th>办学层次</th>\n      <th>专科</th>\n      <th>本科</th>\n    </tr>\n    <tr>\n      <th>所在省市</th>\n      <th>所在地</th>\n      <th></th>\n      <th></th>\n    </tr>\n  </thead>\n  <tbody>\n    <tr>\n      <th>上海市</th>\n      <th>上海市</th>\n      <td>26.0</td>\n      <td>38.0</td>\n    </tr>\n    <tr>\n      <th rowspan=\"4\" valign=\"top\">云南省</th>\n      <th>临沧市</th>\n      <td>NaN</td>\n      <td>1.0</td>\n    </tr>\n    <tr>\n      <th>丽江市</th>\n      <td>1.0</td>\n      <td>1.0</td>\n    </tr>\n    <tr>\n      <th>保山市</th>\n      <td>1.0</td>\n      <td>1.0</td>\n    </tr>\n    <tr>\n      <th>大理白族\\n自治州</th>\n      <td>1.0</td>\n      <td>2.0</td>\n    </tr>\n  </tbody>\n</table>\n</div>"
     },
     "metadata": {},
     "execution_count": 46
    }
   ],
   "source": [
    "df5 = df4.pivot_table(index=['所在省市','所在地'],columns='办学层次',aggfunc='count')\n",
    "df5.head()"
   ]
  },
  {
   "cell_type": "code",
   "execution_count": 50,
   "metadata": {},
   "outputs": [
    {
     "output_type": "execute_result",
     "data": {
      "text/plain": [
       "    所在省市  所在地    专科    本科\n",
       "113  广东省  广州市  47.0  36.0\n",
       "306  重庆市  重庆市  40.0  25.0\n",
       "234  湖北省  武汉市  38.0  46.0\n",
       "67   安徽省  合肥市  36.0  18.0\n",
       "256  湖南省  长沙市  34.0  23.0"
      ],
      "text/html": "<div>\n<style scoped>\n    .dataframe tbody tr th:only-of-type {\n        vertical-align: middle;\n    }\n\n    .dataframe tbody tr th {\n        vertical-align: top;\n    }\n\n    .dataframe thead th {\n        text-align: right;\n    }\n</style>\n<table border=\"1\" class=\"dataframe\">\n  <thead>\n    <tr style=\"text-align: right;\">\n      <th></th>\n      <th>所在省市</th>\n      <th>所在地</th>\n      <th>专科</th>\n      <th>本科</th>\n    </tr>\n  </thead>\n  <tbody>\n    <tr>\n      <th>113</th>\n      <td>广东省</td>\n      <td>广州市</td>\n      <td>47.0</td>\n      <td>36.0</td>\n    </tr>\n    <tr>\n      <th>306</th>\n      <td>重庆市</td>\n      <td>重庆市</td>\n      <td>40.0</td>\n      <td>25.0</td>\n    </tr>\n    <tr>\n      <th>234</th>\n      <td>湖北省</td>\n      <td>武汉市</td>\n      <td>38.0</td>\n      <td>46.0</td>\n    </tr>\n    <tr>\n      <th>67</th>\n      <td>安徽省</td>\n      <td>合肥市</td>\n      <td>36.0</td>\n      <td>18.0</td>\n    </tr>\n    <tr>\n      <th>256</th>\n      <td>湖南省</td>\n      <td>长沙市</td>\n      <td>34.0</td>\n      <td>23.0</td>\n    </tr>\n  </tbody>\n</table>\n</div>"
     },
     "metadata": {},
     "execution_count": 50
    }
   ],
   "source": [
    "df7 = pd.merge(df5['备注']['专科'].reset_index(),df5['备注']['本科'].reset_index(),on=['所在省市','所在地'],how='inner')\n",
    "df7.sort_values(['专科','本科'],ascending=False).head()"
   ]
  },
  {
   "cell_type": "code",
   "execution_count": null,
   "metadata": {},
   "outputs": [],
   "source": []
  }
 ],
 "metadata": {
  "kernelspec": {
   "display_name": "Python 3",
   "language": "python",
   "name": "python3"
  },
  "language_info": {
   "codemirror_mode": {
    "name": "ipython",
    "version": 2
   },
   "file_extension": ".py",
   "mimetype": "text/x-python",
   "name": "python",
   "nbconvert_exporter": "python",
   "pygments_lexer": "ipython2",
   "version": "3.7.0-final"
  }
 },
 "nbformat": 4,
 "nbformat_minor": 1
}